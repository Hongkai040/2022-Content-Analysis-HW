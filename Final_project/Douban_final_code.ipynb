{
 "cells": [
  {
   "cell_type": "markdown",
   "metadata": {
    "id": "CFqQ9NwCb5QM"
   },
   "source": [
    "# Evidence of Sentiment Polarization and Gender Biases from over One Million Movie Comments\n",
    "\n",
    "\n",
    "In this project, we'll try to answer two questions:\n",
    "\n",
    "1. Do movie comments become sentimentally polarized overtime? \n",
    "\n",
    "2. Does this trend hold true for gender-related comments and there’s a disparity between male-related comments and female-related comments? \n",
    "\n",
    "To answer these two questions, we'll first fine-tune bert model to find the yearly change of sentiments of movie comments and use Word2Vex for cross-validation. Then we'll extract gender-related comments to see if this trend is also true for those comments. Then we would use dynamic topic modelling to find if there're stereotypes toward gender embedded in movie comments over time. "
   ]
  },
  {
   "cell_type": "code",
   "execution_count": 1,
   "metadata": {
    "colab": {
     "base_uri": "https://localhost:8080/"
    },
    "executionInfo": {
     "elapsed": 7916,
     "status": "ok",
     "timestamp": 1647251715732,
     "user": {
      "displayName": "Shiba Mao",
      "photoUrl": "https://lh3.googleusercontent.com/a/default-user=s64",
      "userId": "16549320756357564965"
     },
     "user_tz": 300
    },
    "id": "mikuwnutb517",
    "outputId": "7c4c616b-474a-40f8-841d-8a1af464b2ba"
   },
   "outputs": [
    {
     "name": "stdout",
     "output_type": "stream",
     "text": [
      "Drive already mounted at /content/drive; to attempt to forcibly remount, call drive.mount(\"/content/drive\", force_remount=True).\n"
     ]
    }
   ],
   "source": [
    "from google.colab import drive\n",
    "drive.mount('/content/drive')"
   ]
  },
  {
   "cell_type": "code",
   "execution_count": 1,
   "metadata": {
    "colab": {
     "base_uri": "https://localhost:8080/"
    },
    "executionInfo": {
     "elapsed": 67142,
     "status": "ok",
     "timestamp": 1647251782872,
     "user": {
      "displayName": "Shiba Mao",
      "photoUrl": "https://lh3.googleusercontent.com/a/default-user=s64",
      "userId": "16549320756357564965"
     },
     "user_tz": 300
    },
    "id": "DRKNqvBBD4Bv",
    "outputId": "8c4ddfdd-5896-489c-c324-abbceba4a076"
   },
   "outputs": [
    {
     "name": "stdout",
     "output_type": "stream",
     "text": [
      "Collecting git+git://github.com/UChicago-Computational-Content-Analysis/lucem_illud.git\n",
      "  Cloning git://github.com/UChicago-Computational-Content-Analysis/lucem_illud.git to /private/var/folders/c3/t518_j_930s_7b9x8rb4jr3w0000gn/T/pip-req-build-1yufxg3a\n",
      "  Running command git clone -q git://github.com/UChicago-Computational-Content-Analysis/lucem_illud.git /private/var/folders/c3/t518_j_930s_7b9x8rb4jr3w0000gn/T/pip-req-build-1yufxg3a\n",
      "  Resolved git://github.com/UChicago-Computational-Content-Analysis/lucem_illud.git to commit 9fa6f1abdc19d159d587b4017ee6897fe7a18d4d\n",
      "Requirement already satisfied: numpy in /Users/mao_shiba/opt/anaconda3/lib/python3.8/site-packages (from lucem-illud==8.0.1) (1.21.2)\n",
      "Requirement already satisfied: requests in /Users/mao_shiba/opt/anaconda3/lib/python3.8/site-packages (from lucem-illud==8.0.1) (2.24.0)\n",
      "Requirement already satisfied: pandas in /Users/mao_shiba/opt/anaconda3/lib/python3.8/site-packages (from lucem-illud==8.0.1) (1.3.5)\n",
      "Requirement already satisfied: python-docx in /Users/mao_shiba/opt/anaconda3/lib/python3.8/site-packages (from lucem-illud==8.0.1) (0.8.11)\n",
      "Requirement already satisfied: pillow in /Users/mao_shiba/opt/anaconda3/lib/python3.8/site-packages (from lucem-illud==8.0.1) (8.4.0)\n",
      "Requirement already satisfied: pdfminer2 in /Users/mao_shiba/opt/anaconda3/lib/python3.8/site-packages (from lucem-illud==8.0.1) (20151206)\n",
      "Requirement already satisfied: GitPython in /Users/mao_shiba/opt/anaconda3/lib/python3.8/site-packages (from lucem-illud==8.0.1) (3.1.24)\n",
      "Requirement already satisfied: wordcloud in /Users/mao_shiba/opt/anaconda3/lib/python3.8/site-packages (from lucem-illud==8.0.1) (1.8.1)\n",
      "Requirement already satisfied: scipy in /Users/mao_shiba/opt/anaconda3/lib/python3.8/site-packages (from lucem-illud==8.0.1) (1.7.3)\n",
      "Requirement already satisfied: seaborn in /Users/mao_shiba/opt/anaconda3/lib/python3.8/site-packages (from lucem-illud==8.0.1) (0.11.2)\n",
      "Requirement already satisfied: scikit-learn in /Users/mao_shiba/opt/anaconda3/lib/python3.8/site-packages (from lucem-illud==8.0.1) (1.0.2)\n",
      "Requirement already satisfied: nltk in /Users/mao_shiba/opt/anaconda3/lib/python3.8/site-packages (from lucem-illud==8.0.1) (3.6.5)\n",
      "Requirement already satisfied: gensim in /Users/mao_shiba/opt/anaconda3/lib/python3.8/site-packages (from lucem-illud==8.0.1) (4.1.2)\n",
      "Requirement already satisfied: matplotlib in /Users/mao_shiba/opt/anaconda3/lib/python3.8/site-packages (from lucem-illud==8.0.1) (3.3.2)\n",
      "Requirement already satisfied: pyanno3 in /Users/mao_shiba/opt/anaconda3/lib/python3.8/site-packages (from lucem-illud==8.0.1) (2.0.2)\n",
      "Requirement already satisfied: beautifulsoup4 in /Users/mao_shiba/opt/anaconda3/lib/python3.8/site-packages (from lucem-illud==8.0.1) (4.10.0)\n",
      "Requirement already satisfied: graphviz in /Users/mao_shiba/opt/anaconda3/lib/python3.8/site-packages (from lucem-illud==8.0.1) (0.17)\n",
      "Requirement already satisfied: boto3 in /Users/mao_shiba/opt/anaconda3/lib/python3.8/site-packages (from lucem-illud==8.0.1) (1.19.0)\n",
      "Requirement already satisfied: networkx in /Users/mao_shiba/opt/anaconda3/lib/python3.8/site-packages (from lucem-illud==8.0.1) (2.6.3)\n",
      "Requirement already satisfied: pydub in /Users/mao_shiba/opt/anaconda3/lib/python3.8/site-packages (from lucem-illud==8.0.1) (0.25.1)\n",
      "Requirement already satisfied: speechrecognition in /Users/mao_shiba/opt/anaconda3/lib/python3.8/site-packages (from lucem-illud==8.0.1) (3.8.1)\n",
      "Requirement already satisfied: pysoundfile in /Users/mao_shiba/opt/anaconda3/lib/python3.8/site-packages (from lucem-illud==8.0.1) (0.9.0.post1)\n",
      "Requirement already satisfied: scikit-image in /Users/mao_shiba/opt/anaconda3/lib/python3.8/site-packages (from lucem-illud==8.0.1) (0.18.3)\n",
      "Requirement already satisfied: IPython in /Users/mao_shiba/opt/anaconda3/lib/python3.8/site-packages (from lucem-illud==8.0.1) (7.29.0)\n",
      "Requirement already satisfied: spacy in /Users/mao_shiba/opt/anaconda3/lib/python3.8/site-packages (from lucem-illud==8.0.1) (3.1.3)\n",
      "Requirement already satisfied: soupsieve>1.2 in /Users/mao_shiba/opt/anaconda3/lib/python3.8/site-packages (from beautifulsoup4->lucem-illud==8.0.1) (2.3.1)\n",
      "Requirement already satisfied: s3transfer<0.6.0,>=0.5.0 in /Users/mao_shiba/opt/anaconda3/lib/python3.8/site-packages (from boto3->lucem-illud==8.0.1) (0.5.0)\n",
      "Requirement already satisfied: botocore<1.23.0,>=1.22.0 in /Users/mao_shiba/opt/anaconda3/lib/python3.8/site-packages (from boto3->lucem-illud==8.0.1) (1.22.0)\n",
      "Requirement already satisfied: jmespath<1.0.0,>=0.7.1 in /Users/mao_shiba/opt/anaconda3/lib/python3.8/site-packages (from boto3->lucem-illud==8.0.1) (0.10.0)\n",
      "Requirement already satisfied: urllib3<1.27,>=1.25.4 in /Users/mao_shiba/opt/anaconda3/lib/python3.8/site-packages (from botocore<1.23.0,>=1.22.0->boto3->lucem-illud==8.0.1) (1.25.11)\n",
      "Requirement already satisfied: python-dateutil<3.0.0,>=2.1 in /Users/mao_shiba/opt/anaconda3/lib/python3.8/site-packages (from botocore<1.23.0,>=1.22.0->boto3->lucem-illud==8.0.1) (2.8.2)\n",
      "Requirement already satisfied: six>=1.5 in /Users/mao_shiba/opt/anaconda3/lib/python3.8/site-packages (from python-dateutil<3.0.0,>=2.1->botocore<1.23.0,>=1.22.0->boto3->lucem-illud==8.0.1) (1.16.0)\n",
      "Requirement already satisfied: smart-open>=1.8.1 in /Users/mao_shiba/opt/anaconda3/lib/python3.8/site-packages (from gensim->lucem-illud==8.0.1) (5.2.1)\n",
      "Requirement already satisfied: gitdb<5,>=4.0.1 in /Users/mao_shiba/opt/anaconda3/lib/python3.8/site-packages (from GitPython->lucem-illud==8.0.1) (4.0.7)\n",
      "Requirement already satisfied: typing-extensions>=3.7.4.3 in /Users/mao_shiba/opt/anaconda3/lib/python3.8/site-packages (from GitPython->lucem-illud==8.0.1) (3.10.0.2)\n",
      "Requirement already satisfied: smmap<5,>=3.0.1 in /Users/mao_shiba/opt/anaconda3/lib/python3.8/site-packages (from gitdb<5,>=4.0.1->GitPython->lucem-illud==8.0.1) (4.0.0)\n",
      "Requirement already satisfied: backcall in /Users/mao_shiba/opt/anaconda3/lib/python3.8/site-packages (from IPython->lucem-illud==8.0.1) (0.2.0)\n",
      "Requirement already satisfied: matplotlib-inline in /Users/mao_shiba/opt/anaconda3/lib/python3.8/site-packages (from IPython->lucem-illud==8.0.1) (0.1.2)\n",
      "Requirement already satisfied: appnope in /Users/mao_shiba/opt/anaconda3/lib/python3.8/site-packages (from IPython->lucem-illud==8.0.1) (0.1.2)\n",
      "Requirement already satisfied: decorator in /Users/mao_shiba/opt/anaconda3/lib/python3.8/site-packages (from IPython->lucem-illud==8.0.1) (5.1.1)\n",
      "Requirement already satisfied: traitlets>=4.2 in /Users/mao_shiba/opt/anaconda3/lib/python3.8/site-packages (from IPython->lucem-illud==8.0.1) (5.1.1)\n",
      "Requirement already satisfied: prompt-toolkit!=3.0.0,!=3.0.1,<3.1.0,>=2.0.0 in /Users/mao_shiba/opt/anaconda3/lib/python3.8/site-packages (from IPython->lucem-illud==8.0.1) (3.0.20)\n",
      "Requirement already satisfied: pexpect>4.3 in /Users/mao_shiba/opt/anaconda3/lib/python3.8/site-packages (from IPython->lucem-illud==8.0.1) (4.8.0)\n",
      "Requirement already satisfied: pygments in /Users/mao_shiba/opt/anaconda3/lib/python3.8/site-packages (from IPython->lucem-illud==8.0.1) (2.10.0)\n",
      "Requirement already satisfied: pickleshare in /Users/mao_shiba/opt/anaconda3/lib/python3.8/site-packages (from IPython->lucem-illud==8.0.1) (0.7.5)\n",
      "Requirement already satisfied: setuptools>=18.5 in /Users/mao_shiba/opt/anaconda3/lib/python3.8/site-packages (from IPython->lucem-illud==8.0.1) (58.0.4)\n",
      "Requirement already satisfied: jedi>=0.16 in /Users/mao_shiba/opt/anaconda3/lib/python3.8/site-packages (from IPython->lucem-illud==8.0.1) (0.18.1)\n",
      "Requirement already satisfied: parso<0.9.0,>=0.8.0 in /Users/mao_shiba/opt/anaconda3/lib/python3.8/site-packages (from jedi>=0.16->IPython->lucem-illud==8.0.1) (0.8.3)\n",
      "Requirement already satisfied: ptyprocess>=0.5 in /Users/mao_shiba/opt/anaconda3/lib/python3.8/site-packages (from pexpect>4.3->IPython->lucem-illud==8.0.1) (0.7.0)\n",
      "Requirement already satisfied: wcwidth in /Users/mao_shiba/opt/anaconda3/lib/python3.8/site-packages (from prompt-toolkit!=3.0.0,!=3.0.1,<3.1.0,>=2.0.0->IPython->lucem-illud==8.0.1) (0.2.5)\n",
      "Requirement already satisfied: pyparsing!=2.0.4,!=2.1.2,!=2.1.6,>=2.0.3 in /Users/mao_shiba/opt/anaconda3/lib/python3.8/site-packages (from matplotlib->lucem-illud==8.0.1) (3.0.4)\n",
      "Requirement already satisfied: certifi>=2020.06.20 in /Users/mao_shiba/opt/anaconda3/lib/python3.8/site-packages (from matplotlib->lucem-illud==8.0.1) (2021.10.8)\n",
      "Requirement already satisfied: kiwisolver>=1.0.1 in /Users/mao_shiba/opt/anaconda3/lib/python3.8/site-packages (from matplotlib->lucem-illud==8.0.1) (1.3.1)\n",
      "Requirement already satisfied: cycler>=0.10 in /Users/mao_shiba/opt/anaconda3/lib/python3.8/site-packages (from matplotlib->lucem-illud==8.0.1) (0.11.0)\n"
     ]
    },
    {
     "name": "stdout",
     "output_type": "stream",
     "text": [
      "Requirement already satisfied: click in /Users/mao_shiba/opt/anaconda3/lib/python3.8/site-packages (from nltk->lucem-illud==8.0.1) (8.0.3)\n",
      "Requirement already satisfied: joblib in /Users/mao_shiba/opt/anaconda3/lib/python3.8/site-packages (from nltk->lucem-illud==8.0.1) (1.1.0)\n",
      "Requirement already satisfied: regex>=2021.8.3 in /Users/mao_shiba/opt/anaconda3/lib/python3.8/site-packages (from nltk->lucem-illud==8.0.1) (2021.11.2)\n",
      "Requirement already satisfied: tqdm in /Users/mao_shiba/opt/anaconda3/lib/python3.8/site-packages (from nltk->lucem-illud==8.0.1) (4.62.3)\n",
      "Requirement already satisfied: pytz>=2017.3 in /Users/mao_shiba/opt/anaconda3/lib/python3.8/site-packages (from pandas->lucem-illud==8.0.1) (2021.3)\n",
      "Requirement already satisfied: traits in /Users/mao_shiba/opt/anaconda3/lib/python3.8/site-packages (from pyanno3->lucem-illud==8.0.1) (6.3.1)\n",
      "Requirement already satisfied: cffi>=0.6 in /Users/mao_shiba/opt/anaconda3/lib/python3.8/site-packages (from pysoundfile->lucem-illud==8.0.1) (1.15.0)\n",
      "Requirement already satisfied: pycparser in /Users/mao_shiba/opt/anaconda3/lib/python3.8/site-packages (from cffi>=0.6->pysoundfile->lucem-illud==8.0.1) (2.21)\n",
      "Requirement already satisfied: lxml>=2.3.2 in /Users/mao_shiba/opt/anaconda3/lib/python3.8/site-packages (from python-docx->lucem-illud==8.0.1) (4.6.3)\n",
      "Requirement already satisfied: idna<3,>=2.5 in /Users/mao_shiba/opt/anaconda3/lib/python3.8/site-packages (from requests->lucem-illud==8.0.1) (2.10)\n",
      "Requirement already satisfied: chardet<4,>=3.0.2 in /Users/mao_shiba/opt/anaconda3/lib/python3.8/site-packages (from requests->lucem-illud==8.0.1) (3.0.4)\n",
      "Requirement already satisfied: imageio>=2.3.0 in /Users/mao_shiba/opt/anaconda3/lib/python3.8/site-packages (from scikit-image->lucem-illud==8.0.1) (2.9.0)\n",
      "Requirement already satisfied: tifffile>=2019.7.26 in /Users/mao_shiba/opt/anaconda3/lib/python3.8/site-packages (from scikit-image->lucem-illud==8.0.1) (2021.7.2)\n",
      "Requirement already satisfied: PyWavelets>=1.1.1 in /Users/mao_shiba/opt/anaconda3/lib/python3.8/site-packages (from scikit-image->lucem-illud==8.0.1) (1.1.1)\n",
      "Requirement already satisfied: threadpoolctl>=2.0.0 in /Users/mao_shiba/opt/anaconda3/lib/python3.8/site-packages (from scikit-learn->lucem-illud==8.0.1) (2.2.0)\n",
      "Requirement already satisfied: blis<0.8.0,>=0.4.0 in /Users/mao_shiba/opt/anaconda3/lib/python3.8/site-packages (from spacy->lucem-illud==8.0.1) (0.7.4)\n",
      "Requirement already satisfied: catalogue<2.1.0,>=2.0.6 in /Users/mao_shiba/opt/anaconda3/lib/python3.8/site-packages (from spacy->lucem-illud==8.0.1) (2.0.6)\n",
      "Requirement already satisfied: wasabi<1.1.0,>=0.8.1 in /Users/mao_shiba/opt/anaconda3/lib/python3.8/site-packages (from spacy->lucem-illud==8.0.1) (0.8.2)\n",
      "Requirement already satisfied: jinja2 in /Users/mao_shiba/opt/anaconda3/lib/python3.8/site-packages (from spacy->lucem-illud==8.0.1) (2.11.3)\n",
      "Requirement already satisfied: packaging>=20.0 in /Users/mao_shiba/opt/anaconda3/lib/python3.8/site-packages (from spacy->lucem-illud==8.0.1) (21.3)\n",
      "Requirement already satisfied: spacy-legacy<3.1.0,>=3.0.8 in /Users/mao_shiba/opt/anaconda3/lib/python3.8/site-packages (from spacy->lucem-illud==8.0.1) (3.0.8)\n",
      "Requirement already satisfied: pathy>=0.3.5 in /Users/mao_shiba/opt/anaconda3/lib/python3.8/site-packages (from spacy->lucem-illud==8.0.1) (0.6.0)\n",
      "Requirement already satisfied: thinc<8.1.0,>=8.0.9 in /Users/mao_shiba/opt/anaconda3/lib/python3.8/site-packages (from spacy->lucem-illud==8.0.1) (8.0.11)\n",
      "Requirement already satisfied: typer<0.5.0,>=0.3.0 in /Users/mao_shiba/opt/anaconda3/lib/python3.8/site-packages (from spacy->lucem-illud==8.0.1) (0.4.0)\n",
      "Requirement already satisfied: murmurhash<1.1.0,>=0.28.0 in /Users/mao_shiba/opt/anaconda3/lib/python3.8/site-packages (from spacy->lucem-illud==8.0.1) (1.0.5)\n",
      "Requirement already satisfied: preshed<3.1.0,>=3.0.2 in /Users/mao_shiba/opt/anaconda3/lib/python3.8/site-packages (from spacy->lucem-illud==8.0.1) (3.0.5)\n",
      "Requirement already satisfied: cymem<2.1.0,>=2.0.2 in /Users/mao_shiba/opt/anaconda3/lib/python3.8/site-packages (from spacy->lucem-illud==8.0.1) (2.0.5)\n",
      "Requirement already satisfied: srsly<3.0.0,>=2.4.1 in /Users/mao_shiba/opt/anaconda3/lib/python3.8/site-packages (from spacy->lucem-illud==8.0.1) (2.4.1)\n",
      "Requirement already satisfied: pydantic!=1.8,!=1.8.1,<1.9.0,>=1.7.4 in /Users/mao_shiba/opt/anaconda3/lib/python3.8/site-packages (from spacy->lucem-illud==8.0.1) (1.8.2)\n",
      "Requirement already satisfied: MarkupSafe>=0.23 in /Users/mao_shiba/opt/anaconda3/lib/python3.8/site-packages (from jinja2->spacy->lucem-illud==8.0.1) (1.1.1)\n",
      "Requirement already satisfied: transformers in /Users/mao_shiba/opt/anaconda3/lib/python3.8/site-packages (4.16.2)\n",
      "Requirement already satisfied: pyyaml>=5.1 in /Users/mao_shiba/opt/anaconda3/lib/python3.8/site-packages (from transformers) (6.0)\n",
      "Requirement already satisfied: sacremoses in /Users/mao_shiba/opt/anaconda3/lib/python3.8/site-packages (from transformers) (0.0.47)\n",
      "Requirement already satisfied: tokenizers!=0.11.3,>=0.10.1 in /Users/mao_shiba/opt/anaconda3/lib/python3.8/site-packages (from transformers) (0.11.5)\n",
      "Requirement already satisfied: packaging>=20.0 in /Users/mao_shiba/opt/anaconda3/lib/python3.8/site-packages (from transformers) (21.3)\n",
      "Requirement already satisfied: huggingface-hub<1.0,>=0.1.0 in /Users/mao_shiba/opt/anaconda3/lib/python3.8/site-packages (from transformers) (0.4.0)\n",
      "Requirement already satisfied: requests in /Users/mao_shiba/opt/anaconda3/lib/python3.8/site-packages (from transformers) (2.24.0)\n",
      "Requirement already satisfied: tqdm>=4.27 in /Users/mao_shiba/opt/anaconda3/lib/python3.8/site-packages (from transformers) (4.62.3)\n",
      "Requirement already satisfied: regex!=2019.12.17 in /Users/mao_shiba/opt/anaconda3/lib/python3.8/site-packages (from transformers) (2021.11.2)\n",
      "Requirement already satisfied: numpy>=1.17 in /Users/mao_shiba/opt/anaconda3/lib/python3.8/site-packages (from transformers) (1.21.2)\n",
      "Requirement already satisfied: filelock in /Users/mao_shiba/opt/anaconda3/lib/python3.8/site-packages (from transformers) (3.4.2)\n",
      "Requirement already satisfied: typing-extensions>=3.7.4.3 in /Users/mao_shiba/opt/anaconda3/lib/python3.8/site-packages (from huggingface-hub<1.0,>=0.1.0->transformers) (3.10.0.2)\n",
      "Requirement already satisfied: pyparsing!=3.0.5,>=2.0.2 in /Users/mao_shiba/opt/anaconda3/lib/python3.8/site-packages (from packaging>=20.0->transformers) (3.0.4)\n",
      "Requirement already satisfied: certifi>=2017.4.17 in /Users/mao_shiba/opt/anaconda3/lib/python3.8/site-packages (from requests->transformers) (2021.10.8)\n",
      "Requirement already satisfied: urllib3!=1.25.0,!=1.25.1,<1.26,>=1.21.1 in /Users/mao_shiba/opt/anaconda3/lib/python3.8/site-packages (from requests->transformers) (1.25.11)\n",
      "Requirement already satisfied: chardet<4,>=3.0.2 in /Users/mao_shiba/opt/anaconda3/lib/python3.8/site-packages (from requests->transformers) (3.0.4)\n",
      "Requirement already satisfied: idna<3,>=2.5 in /Users/mao_shiba/opt/anaconda3/lib/python3.8/site-packages (from requests->transformers) (2.10)\n",
      "Requirement already satisfied: six in /Users/mao_shiba/opt/anaconda3/lib/python3.8/site-packages (from sacremoses->transformers) (1.16.0)\n",
      "Requirement already satisfied: click in /Users/mao_shiba/opt/anaconda3/lib/python3.8/site-packages (from sacremoses->transformers) (8.0.3)\n",
      "Requirement already satisfied: joblib in /Users/mao_shiba/opt/anaconda3/lib/python3.8/site-packages (from sacremoses->transformers) (1.1.0)\n",
      "Requirement already satisfied: datasets in /Users/mao_shiba/opt/anaconda3/lib/python3.8/site-packages (1.18.3)\n",
      "Requirement already satisfied: packaging in /Users/mao_shiba/opt/anaconda3/lib/python3.8/site-packages (from datasets) (21.3)\n",
      "Requirement already satisfied: requests>=2.19.0 in /Users/mao_shiba/opt/anaconda3/lib/python3.8/site-packages (from datasets) (2.24.0)\n",
      "Requirement already satisfied: numpy>=1.17 in /Users/mao_shiba/opt/anaconda3/lib/python3.8/site-packages (from datasets) (1.21.2)\n",
      "Requirement already satisfied: pyarrow!=4.0.0,>=3.0.0 in /Users/mao_shiba/opt/anaconda3/lib/python3.8/site-packages (from datasets) (7.0.0)\n",
      "Requirement already satisfied: dill in /Users/mao_shiba/opt/anaconda3/lib/python3.8/site-packages (from datasets) (0.3.4)\n",
      "Requirement already satisfied: tqdm>=4.62.1 in /Users/mao_shiba/opt/anaconda3/lib/python3.8/site-packages (from datasets) (4.62.3)\n",
      "Requirement already satisfied: aiohttp in /Users/mao_shiba/opt/anaconda3/lib/python3.8/site-packages (from datasets) (3.8.1)\n",
      "Requirement already satisfied: multiprocess in /Users/mao_shiba/opt/anaconda3/lib/python3.8/site-packages (from datasets) (0.70.12.2)\n",
      "Requirement already satisfied: fsspec[http]>=2021.05.0 in /Users/mao_shiba/opt/anaconda3/lib/python3.8/site-packages (from datasets) (2022.1.0)\n",
      "Requirement already satisfied: huggingface-hub<1.0.0,>=0.1.0 in /Users/mao_shiba/opt/anaconda3/lib/python3.8/site-packages (from datasets) (0.4.0)\n",
      "Requirement already satisfied: pandas in /Users/mao_shiba/opt/anaconda3/lib/python3.8/site-packages (from datasets) (1.3.5)\n",
      "Requirement already satisfied: xxhash in /Users/mao_shiba/opt/anaconda3/lib/python3.8/site-packages (from datasets) (3.0.0)\n"
     ]
    },
    {
     "name": "stdout",
     "output_type": "stream",
     "text": [
      "Requirement already satisfied: filelock in /Users/mao_shiba/opt/anaconda3/lib/python3.8/site-packages (from huggingface-hub<1.0.0,>=0.1.0->datasets) (3.4.2)\n",
      "Requirement already satisfied: typing-extensions>=3.7.4.3 in /Users/mao_shiba/opt/anaconda3/lib/python3.8/site-packages (from huggingface-hub<1.0.0,>=0.1.0->datasets) (3.10.0.2)\n",
      "Requirement already satisfied: pyyaml in /Users/mao_shiba/opt/anaconda3/lib/python3.8/site-packages (from huggingface-hub<1.0.0,>=0.1.0->datasets) (6.0)\n",
      "Requirement already satisfied: pyparsing!=3.0.5,>=2.0.2 in /Users/mao_shiba/opt/anaconda3/lib/python3.8/site-packages (from packaging->datasets) (3.0.4)\n",
      "Requirement already satisfied: certifi>=2017.4.17 in /Users/mao_shiba/opt/anaconda3/lib/python3.8/site-packages (from requests>=2.19.0->datasets) (2021.10.8)\n",
      "Requirement already satisfied: idna<3,>=2.5 in /Users/mao_shiba/opt/anaconda3/lib/python3.8/site-packages (from requests>=2.19.0->datasets) (2.10)\n",
      "Requirement already satisfied: chardet<4,>=3.0.2 in /Users/mao_shiba/opt/anaconda3/lib/python3.8/site-packages (from requests>=2.19.0->datasets) (3.0.4)\n",
      "Requirement already satisfied: urllib3!=1.25.0,!=1.25.1,<1.26,>=1.21.1 in /Users/mao_shiba/opt/anaconda3/lib/python3.8/site-packages (from requests>=2.19.0->datasets) (1.25.11)\n",
      "Requirement already satisfied: yarl<2.0,>=1.0 in /Users/mao_shiba/opt/anaconda3/lib/python3.8/site-packages (from aiohttp->datasets) (1.7.2)\n",
      "Requirement already satisfied: aiosignal>=1.1.2 in /Users/mao_shiba/opt/anaconda3/lib/python3.8/site-packages (from aiohttp->datasets) (1.2.0)\n",
      "Requirement already satisfied: charset-normalizer<3.0,>=2.0 in /Users/mao_shiba/opt/anaconda3/lib/python3.8/site-packages (from aiohttp->datasets) (2.0.4)\n",
      "Requirement already satisfied: async-timeout<5.0,>=4.0.0a3 in /Users/mao_shiba/opt/anaconda3/lib/python3.8/site-packages (from aiohttp->datasets) (4.0.2)\n",
      "Requirement already satisfied: frozenlist>=1.1.1 in /Users/mao_shiba/opt/anaconda3/lib/python3.8/site-packages (from aiohttp->datasets) (1.3.0)\n",
      "Requirement already satisfied: attrs>=17.3.0 in /Users/mao_shiba/opt/anaconda3/lib/python3.8/site-packages (from aiohttp->datasets) (21.4.0)\n",
      "Requirement already satisfied: multidict<7.0,>=4.5 in /Users/mao_shiba/opt/anaconda3/lib/python3.8/site-packages (from aiohttp->datasets) (6.0.2)\n",
      "Requirement already satisfied: python-dateutil>=2.7.3 in /Users/mao_shiba/opt/anaconda3/lib/python3.8/site-packages (from pandas->datasets) (2.8.2)\n",
      "Requirement already satisfied: pytz>=2017.3 in /Users/mao_shiba/opt/anaconda3/lib/python3.8/site-packages (from pandas->datasets) (2021.3)\n",
      "Requirement already satisfied: six>=1.5 in /Users/mao_shiba/opt/anaconda3/lib/python3.8/site-packages (from python-dateutil>=2.7.3->pandas->datasets) (1.16.0)\n",
      "Requirement already satisfied: pyLDAvis in /Users/mao_shiba/opt/anaconda3/lib/python3.8/site-packages (3.3.1)\n",
      "Requirement already satisfied: scikit-learn in /Users/mao_shiba/opt/anaconda3/lib/python3.8/site-packages (from pyLDAvis) (1.0.2)\n",
      "Requirement already satisfied: sklearn in /Users/mao_shiba/opt/anaconda3/lib/python3.8/site-packages (from pyLDAvis) (0.0)\n",
      "Requirement already satisfied: pandas>=1.2.0 in /Users/mao_shiba/opt/anaconda3/lib/python3.8/site-packages (from pyLDAvis) (1.3.5)\n",
      "Requirement already satisfied: numpy>=1.20.0 in /Users/mao_shiba/opt/anaconda3/lib/python3.8/site-packages (from pyLDAvis) (1.21.2)\n",
      "Requirement already satisfied: numexpr in /Users/mao_shiba/opt/anaconda3/lib/python3.8/site-packages (from pyLDAvis) (2.8.1)\n",
      "Requirement already satisfied: joblib in /Users/mao_shiba/opt/anaconda3/lib/python3.8/site-packages (from pyLDAvis) (1.1.0)\n",
      "Requirement already satisfied: gensim in /Users/mao_shiba/opt/anaconda3/lib/python3.8/site-packages (from pyLDAvis) (4.1.2)\n",
      "Requirement already satisfied: setuptools in /Users/mao_shiba/opt/anaconda3/lib/python3.8/site-packages (from pyLDAvis) (58.0.4)\n",
      "Requirement already satisfied: jinja2 in /Users/mao_shiba/opt/anaconda3/lib/python3.8/site-packages (from pyLDAvis) (2.11.3)\n",
      "Requirement already satisfied: funcy in /Users/mao_shiba/opt/anaconda3/lib/python3.8/site-packages (from pyLDAvis) (1.16)\n",
      "Requirement already satisfied: scipy in /Users/mao_shiba/opt/anaconda3/lib/python3.8/site-packages (from pyLDAvis) (1.7.3)\n",
      "Requirement already satisfied: future in /Users/mao_shiba/opt/anaconda3/lib/python3.8/site-packages (from pyLDAvis) (0.18.2)\n",
      "Requirement already satisfied: python-dateutil>=2.7.3 in /Users/mao_shiba/opt/anaconda3/lib/python3.8/site-packages (from pandas>=1.2.0->pyLDAvis) (2.8.2)\n",
      "Requirement already satisfied: pytz>=2017.3 in /Users/mao_shiba/opt/anaconda3/lib/python3.8/site-packages (from pandas>=1.2.0->pyLDAvis) (2021.3)\n",
      "Requirement already satisfied: six>=1.5 in /Users/mao_shiba/opt/anaconda3/lib/python3.8/site-packages (from python-dateutil>=2.7.3->pandas>=1.2.0->pyLDAvis) (1.16.0)\n",
      "Requirement already satisfied: smart-open>=1.8.1 in /Users/mao_shiba/opt/anaconda3/lib/python3.8/site-packages (from gensim->pyLDAvis) (5.2.1)\n",
      "Requirement already satisfied: MarkupSafe>=0.23 in /Users/mao_shiba/opt/anaconda3/lib/python3.8/site-packages (from jinja2->pyLDAvis) (1.1.1)\n",
      "Requirement already satisfied: packaging in /Users/mao_shiba/opt/anaconda3/lib/python3.8/site-packages (from numexpr->pyLDAvis) (21.3)\n",
      "Requirement already satisfied: pyparsing!=3.0.5,>=2.0.2 in /Users/mao_shiba/opt/anaconda3/lib/python3.8/site-packages (from packaging->numexpr->pyLDAvis) (3.0.4)\n",
      "Requirement already satisfied: threadpoolctl>=2.0.0 in /Users/mao_shiba/opt/anaconda3/lib/python3.8/site-packages (from scikit-learn->pyLDAvis) (2.2.0)\n"
     ]
    }
   ],
   "source": [
    "import pandas as pd \n",
    "import numpy as np \n",
    "import jieba # for cutting Chinese words\n",
    "# sklearn machine learning and measurements packages\n",
    "import sklearn\n",
    "from sklearn.naive_bayes import GaussianNB\n",
    "from sklearn.svm import SVC\n",
    "from sklearn.model_selection import train_test_split, GridSearchCV\n",
    "from sklearn.metrics import matthews_corrcoef, confusion_matrix, plot_roc_curve\n",
    "\n",
    "# get lucem_illud\n",
    "!pip install -U git+git://github.com/UChicago-Computational-Content-Analysis/lucem_illud.git\n",
    "import lucem_illud \n",
    "\n",
    "# deep learning packages for bert\n",
    "import torch\n",
    "!pip install transformers\n",
    "from transformers import AutoTokenizer, AutoModelForSequenceClassification\n",
    "from transformers import BertModel, TrainingArguments, Trainer, pipeline\n",
    "!pip install datasets\n",
    "from datasets import load_metric, load_dataset\n",
    "\n",
    "# for word2vec and dynamic topic modelling\n",
    "import gensim\n",
    "from gensim.models import LdaSeqModel\n",
    "from gensim.models.coherencemodel import CoherenceModel\n",
    "from ipywidgets import interact # for generating interactive visualization\n",
    "\n",
    "# visualization and standard library packages\n",
    "import matplotlib.pyplot as plt\n",
    "import seaborn as sns\n",
    "!pip install pyLDAvis\n",
    "import pyLDAvis # LDA visualization\n",
    "import csv\n",
    "from tqdm import tqdm\n",
    "from collections import Counter\n",
    "\n",
    "%matplotlib inline\n",
    "\n",
    "# to avoid data leakage from testing set into the training set\n",
    "RANDOM_STATE = 42\n",
    "TEST_SIZE = 0.3"
   ]
  },
  {
   "cell_type": "code",
   "execution_count": 3,
   "metadata": {
    "colab": {
     "base_uri": "https://localhost:8080/"
    },
    "executionInfo": {
     "elapsed": 23,
     "status": "ok",
     "timestamp": 1647251782873,
     "user": {
      "displayName": "Shiba Mao",
      "photoUrl": "https://lh3.googleusercontent.com/a/default-user=s64",
      "userId": "16549320756357564965"
     },
     "user_tz": 300
    },
    "id": "2yUwZcCQJYQp",
    "outputId": "eb5c3eb0-8c05-4be1-cf10-10a9537758f3"
   },
   "outputs": [
    {
     "data": {
      "text/plain": [
       "device(type='cuda')"
      ]
     },
     "execution_count": 3,
     "metadata": {},
     "output_type": "execute_result"
    }
   ],
   "source": [
    "# check if cuda is available\n",
    "device = torch.device(\"cuda\") if torch.cuda.is_available() else torch.device(\"cpu\")\n",
    "device"
   ]
  },
  {
   "cell_type": "markdown",
   "metadata": {
    "id": "dVTcpd3-J0-Y"
   },
   "source": [
    "## Test Sentiment Polarization Trend"
   ]
  },
  {
   "cell_type": "markdown",
   "metadata": {
    "id": "6eSkD8kyJ7rC"
   },
   "source": [
    "### Load Dataset & Exploration\n",
    "\n",
    "We used a dataset of over 4 million comments from a Chinese movie rating website: movie.douban.com. \n",
    "\n",
    "This dataset is too big for colab to deal with. So we use 25% of it for analysis. "
   ]
  },
  {
   "cell_type": "code",
   "execution_count": 2,
   "metadata": {
    "colab": {
     "base_uri": "https://localhost:8080/",
     "height": 423
    },
    "executionInfo": {
     "elapsed": 20140,
     "status": "ok",
     "timestamp": 1647251803002,
     "user": {
      "displayName": "Shiba Mao",
      "photoUrl": "https://lh3.googleusercontent.com/a/default-user=s64",
      "userId": "16549320756357564965"
     },
     "user_tz": 300
    },
    "id": "hmt933ujJ6CG",
    "outputId": "94cb0dec-1e28-4c05-80d5-8588ab0698b9"
   },
   "outputs": [
    {
     "data": {
      "text/html": [
       "<div>\n",
       "<style scoped>\n",
       "    .dataframe tbody tr th:only-of-type {\n",
       "        vertical-align: middle;\n",
       "    }\n",
       "\n",
       "    .dataframe tbody tr th {\n",
       "        vertical-align: top;\n",
       "    }\n",
       "\n",
       "    .dataframe thead th {\n",
       "        text-align: right;\n",
       "    }\n",
       "</style>\n",
       "<table border=\"1\" class=\"dataframe\">\n",
       "  <thead>\n",
       "    <tr style=\"text-align: right;\">\n",
       "      <th></th>\n",
       "      <th>comment_time</th>\n",
       "      <th>movie_id</th>\n",
       "      <th>rating</th>\n",
       "      <th>content</th>\n",
       "    </tr>\n",
       "  </thead>\n",
       "  <tbody>\n",
       "    <tr>\n",
       "      <th>0</th>\n",
       "      <td>2018-09-05 19:42:07</td>\n",
       "      <td>5113101</td>\n",
       "      <td>2.0</td>\n",
       "      <td>480p，画质不高，黑白，y</td>\n",
       "    </tr>\n",
       "    <tr>\n",
       "      <th>1</th>\n",
       "      <td>2019-07-09 14:52:07</td>\n",
       "      <td>5113101</td>\n",
       "      <td>1.0</td>\n",
       "      <td>毫无看点，黑白画质，一个男人孤独的心理情景历程，疯疯癫癫，没有任何恐怖的成分，这应该是剧情片吧.</td>\n",
       "    </tr>\n",
       "    <tr>\n",
       "      <th>2</th>\n",
       "      <td>2010-11-05 22:15:44</td>\n",
       "      <td>3718526</td>\n",
       "      <td>3.0</td>\n",
       "      <td>上吊那裡超好笑，可惜最後報告近況的旁白大扣分</td>\n",
       "    </tr>\n",
       "    <tr>\n",
       "      <th>3</th>\n",
       "      <td>2010-06-20 02:12:50</td>\n",
       "      <td>3718526</td>\n",
       "      <td>NaN</td>\n",
       "      <td>上海国际电影节观摩片</td>\n",
       "    </tr>\n",
       "    <tr>\n",
       "      <th>4</th>\n",
       "      <td>2011-04-09 22:10:13</td>\n",
       "      <td>3718526</td>\n",
       "      <td>NaN</td>\n",
       "      <td>！</td>\n",
       "    </tr>\n",
       "    <tr>\n",
       "      <th>...</th>\n",
       "      <td>...</td>\n",
       "      <td>...</td>\n",
       "      <td>...</td>\n",
       "      <td>...</td>\n",
       "    </tr>\n",
       "    <tr>\n",
       "      <th>4428470</th>\n",
       "      <td>2018-07-08 17:48:09</td>\n",
       "      <td>26914297</td>\n",
       "      <td>5.0</td>\n",
       "      <td>歌舞精良，但是故事情节看的真是闹心。在时代的大背景下，谁都无法独善其身。</td>\n",
       "    </tr>\n",
       "    <tr>\n",
       "      <th>4428471</th>\n",
       "      <td>2017-01-03 17:55:35</td>\n",
       "      <td>26914297</td>\n",
       "      <td>4.0</td>\n",
       "      <td>麦金托什的25周年全部是视觉路线</td>\n",
       "    </tr>\n",
       "    <tr>\n",
       "      <th>4428472</th>\n",
       "      <td>2018-12-10 20:09:20</td>\n",
       "      <td>26914297</td>\n",
       "      <td>3.0</td>\n",
       "      <td>记不住里面任何一首歌，就觉得胖女孩的胳膊记忆犹新</td>\n",
       "    </tr>\n",
       "    <tr>\n",
       "      <th>4428473</th>\n",
       "      <td>2019-08-03 14:39:02</td>\n",
       "      <td>26914297</td>\n",
       "      <td>4.0</td>\n",
       "      <td>故事不喜欢，但是场景精致，唱段好听。</td>\n",
       "    </tr>\n",
       "    <tr>\n",
       "      <th>4428474</th>\n",
       "      <td>2017-03-22 18:13:16</td>\n",
       "      <td>26914297</td>\n",
       "      <td>3.0</td>\n",
       "      <td>画质更高的25周年，终于看清了直升飞机，演员也给力。但是，这憋屈的剧情，这部算四大音乐剧之一...</td>\n",
       "    </tr>\n",
       "  </tbody>\n",
       "</table>\n",
       "<p>4428475 rows × 4 columns</p>\n",
       "</div>"
      ],
      "text/plain": [
       "                comment_time  movie_id  rating  \\\n",
       "0        2018-09-05 19:42:07   5113101     2.0   \n",
       "1        2019-07-09 14:52:07   5113101     1.0   \n",
       "2        2010-11-05 22:15:44   3718526     3.0   \n",
       "3        2010-06-20 02:12:50   3718526     NaN   \n",
       "4        2011-04-09 22:10:13   3718526     NaN   \n",
       "...                      ...       ...     ...   \n",
       "4428470  2018-07-08 17:48:09  26914297     5.0   \n",
       "4428471  2017-01-03 17:55:35  26914297     4.0   \n",
       "4428472  2018-12-10 20:09:20  26914297     3.0   \n",
       "4428473  2019-08-03 14:39:02  26914297     4.0   \n",
       "4428474  2017-03-22 18:13:16  26914297     3.0   \n",
       "\n",
       "                                                   content  \n",
       "0                                           480p，画质不高，黑白，y  \n",
       "1         毫无看点，黑白画质，一个男人孤独的心理情景历程，疯疯癫癫，没有任何恐怖的成分，这应该是剧情片吧.  \n",
       "2                                   上吊那裡超好笑，可惜最後報告近況的旁白大扣分  \n",
       "3                                               上海国际电影节观摩片  \n",
       "4                                                        ！  \n",
       "...                                                    ...  \n",
       "4428470               歌舞精良，但是故事情节看的真是闹心。在时代的大背景下，谁都无法独善其身。  \n",
       "4428471                                   麦金托什的25周年全部是视觉路线  \n",
       "4428472                           记不住里面任何一首歌，就觉得胖女孩的胳膊记忆犹新  \n",
       "4428473                                 故事不喜欢，但是场景精致，唱段好听。  \n",
       "4428474  画质更高的25周年，终于看清了直升飞机，演员也给力。但是，这憋屈的剧情，这部算四大音乐剧之一...  \n",
       "\n",
       "[4428475 rows x 4 columns]"
      ]
     },
     "execution_count": 2,
     "metadata": {},
     "output_type": "execute_result"
    }
   ],
   "source": [
    "# comments = pd.read_csv('/content/drive/MyDrive/Dataset/moviedata-10m/comments.csv')\n",
    "comments_dir = \"/Users/mao_shiba/Desktop/2021-Content-Analysis/Movie_Comments/moviedata-10m/moviedata-10m/comments.csv\"\n",
    "comments = pd.read_csv(comments_dir)\n",
    "comments = comments.loc[:, ['COMMENT_TIME','MOVIE_ID', 'RATING', 'CONTENT']]\n",
    "comments = comments.rename(columns={'COMMENT_TIME':'comment_time',\n",
    "                                    'MOVIE_ID':'movie_id',\n",
    "                                    'RATING':'rating',\n",
    "                                    'CONTENT':'content'})\n",
    "comments"
   ]
  },
  {
   "cell_type": "code",
   "execution_count": 3,
   "metadata": {
    "colab": {
     "base_uri": "https://localhost:8080/",
     "height": 423
    },
    "executionInfo": {
     "elapsed": 847,
     "status": "ok",
     "timestamp": 1647251803845,
     "user": {
      "displayName": "Shiba Mao",
      "photoUrl": "https://lh3.googleusercontent.com/a/default-user=s64",
      "userId": "16549320756357564965"
     },
     "user_tz": 300
    },
    "id": "O7ywlMYO0HLj",
    "outputId": "f3996547-4856-459f-cc80-7bc1061a0e38"
   },
   "outputs": [],
   "source": [
    "_, selected_idx = train_test_split(comments.index, \n",
    "                                   test_size=0.25, \n",
    "                                   random_state=RANDOM_STATE)\n",
    "comments = comments.iloc[selected_idx, :]"
   ]
  },
  {
   "cell_type": "code",
   "execution_count": 4,
   "metadata": {
    "colab": {
     "base_uri": "https://localhost:8080/",
     "height": 423
    },
    "executionInfo": {
     "elapsed": 195,
     "status": "ok",
     "timestamp": 1647251804037,
     "user": {
      "displayName": "Shiba Mao",
      "photoUrl": "https://lh3.googleusercontent.com/a/default-user=s64",
      "userId": "16549320756357564965"
     },
     "user_tz": 300
    },
    "id": "Zy61V9-p1LXe",
    "outputId": "5ee895cb-ba7e-4f68-ca1c-9e64b1bf3c65"
   },
   "outputs": [
    {
     "data": {
      "text/html": [
       "<div>\n",
       "<style scoped>\n",
       "    .dataframe tbody tr th:only-of-type {\n",
       "        vertical-align: middle;\n",
       "    }\n",
       "\n",
       "    .dataframe tbody tr th {\n",
       "        vertical-align: top;\n",
       "    }\n",
       "\n",
       "    .dataframe thead th {\n",
       "        text-align: right;\n",
       "    }\n",
       "</style>\n",
       "<table border=\"1\" class=\"dataframe\">\n",
       "  <thead>\n",
       "    <tr style=\"text-align: right;\">\n",
       "      <th></th>\n",
       "      <th>comment_time</th>\n",
       "      <th>movie_id</th>\n",
       "      <th>rating</th>\n",
       "      <th>content</th>\n",
       "    </tr>\n",
       "  </thead>\n",
       "  <tbody>\n",
       "    <tr>\n",
       "      <th>0</th>\n",
       "      <td>2010-01-12 22:37:02</td>\n",
       "      <td>2071447</td>\n",
       "      <td>3.0</td>\n",
       "      <td>逻辑...结构...不想HC的同学就需要辛苦地寻找，想HC就轻松多了，一景一衫，甚是光鲜，嗯...</td>\n",
       "    </tr>\n",
       "    <tr>\n",
       "      <th>1</th>\n",
       "      <td>2013-10-16 23:27:11</td>\n",
       "      <td>21350570</td>\n",
       "      <td>3.0</td>\n",
       "      <td>本来要四星的，细想了一下，故事不算上等。</td>\n",
       "    </tr>\n",
       "    <tr>\n",
       "      <th>2</th>\n",
       "      <td>2018-04-15 10:40:42</td>\n",
       "      <td>27621666</td>\n",
       "      <td>3.0</td>\n",
       "      <td>有些不知所云，短短八十几分钟竟然多次感到坐立难安……</td>\n",
       "    </tr>\n",
       "    <tr>\n",
       "      <th>3</th>\n",
       "      <td>2008-07-03 13:10:34</td>\n",
       "      <td>1308050</td>\n",
       "      <td>4.0</td>\n",
       "      <td>继续申恩庆..也</td>\n",
       "    </tr>\n",
       "    <tr>\n",
       "      <th>4</th>\n",
       "      <td>2011-10-31 18:12:47</td>\n",
       "      <td>1428178</td>\n",
       "      <td>4.0</td>\n",
       "      <td>搞笑的动画皮</td>\n",
       "    </tr>\n",
       "    <tr>\n",
       "      <th>...</th>\n",
       "      <td>...</td>\n",
       "      <td>...</td>\n",
       "      <td>...</td>\n",
       "      <td>...</td>\n",
       "    </tr>\n",
       "    <tr>\n",
       "      <th>1107114</th>\n",
       "      <td>2019-08-15 16:20:31</td>\n",
       "      <td>26808466</td>\n",
       "      <td>3.0</td>\n",
       "      <td>只能说，再接再厉！</td>\n",
       "    </tr>\n",
       "    <tr>\n",
       "      <th>1107115</th>\n",
       "      <td>2017-09-07 22:11:51</td>\n",
       "      <td>6710798</td>\n",
       "      <td>5.0</td>\n",
       "      <td>很喜欢这部。替爷爷难过半小时。躺在百度云里好久没看。我觉得银娇其实只是很高兴得到了爷爷的疼爱...</td>\n",
       "    </tr>\n",
       "    <tr>\n",
       "      <th>1107116</th>\n",
       "      <td>2016-01-16 14:19:04</td>\n",
       "      <td>26677940</td>\n",
       "      <td>1.0</td>\n",
       "      <td>接我一星</td>\n",
       "    </tr>\n",
       "    <tr>\n",
       "      <th>1107117</th>\n",
       "      <td>2013-11-09 13:14:37</td>\n",
       "      <td>1309136</td>\n",
       "      <td>4.0</td>\n",
       "      <td>《惊情四百年》的另一种解读，表里城设计参考了《恶魔城 白夜协奏曲》，《上古卷轴》般的画风。总...</td>\n",
       "    </tr>\n",
       "    <tr>\n",
       "      <th>1107118</th>\n",
       "      <td>2016-05-04 19:32:49</td>\n",
       "      <td>1293050</td>\n",
       "      <td>4.0</td>\n",
       "      <td>你的脊椎值多少钱？把它乘以100，就是我要的赔偿！</td>\n",
       "    </tr>\n",
       "  </tbody>\n",
       "</table>\n",
       "<p>1107119 rows × 4 columns</p>\n",
       "</div>"
      ],
      "text/plain": [
       "                comment_time  movie_id  rating  \\\n",
       "0        2010-01-12 22:37:02   2071447     3.0   \n",
       "1        2013-10-16 23:27:11  21350570     3.0   \n",
       "2        2018-04-15 10:40:42  27621666     3.0   \n",
       "3        2008-07-03 13:10:34   1308050     4.0   \n",
       "4        2011-10-31 18:12:47   1428178     4.0   \n",
       "...                      ...       ...     ...   \n",
       "1107114  2019-08-15 16:20:31  26808466     3.0   \n",
       "1107115  2017-09-07 22:11:51   6710798     5.0   \n",
       "1107116  2016-01-16 14:19:04  26677940     1.0   \n",
       "1107117  2013-11-09 13:14:37   1309136     4.0   \n",
       "1107118  2016-05-04 19:32:49   1293050     4.0   \n",
       "\n",
       "                                                   content  \n",
       "0        逻辑...结构...不想HC的同学就需要辛苦地寻找，想HC就轻松多了，一景一衫，甚是光鲜，嗯...  \n",
       "1                                     本来要四星的，细想了一下，故事不算上等。  \n",
       "2                               有些不知所云，短短八十几分钟竟然多次感到坐立难安……  \n",
       "3                                                 继续申恩庆..也  \n",
       "4                                                   搞笑的动画皮  \n",
       "...                                                    ...  \n",
       "1107114                                          只能说，再接再厉！  \n",
       "1107115  很喜欢这部。替爷爷难过半小时。躺在百度云里好久没看。我觉得银娇其实只是很高兴得到了爷爷的疼爱...  \n",
       "1107116                                               接我一星  \n",
       "1107117  《惊情四百年》的另一种解读，表里城设计参考了《恶魔城 白夜协奏曲》，《上古卷轴》般的画风。总...  \n",
       "1107118                          你的脊椎值多少钱？把它乘以100，就是我要的赔偿！  \n",
       "\n",
       "[1107119 rows x 4 columns]"
      ]
     },
     "execution_count": 4,
     "metadata": {},
     "output_type": "execute_result"
    }
   ],
   "source": [
    "comments = comments.reset_index(drop=True)\n",
    "comments"
   ]
  },
  {
   "cell_type": "code",
   "execution_count": 5,
   "metadata": {
    "colab": {
     "base_uri": "https://localhost:8080/"
    },
    "executionInfo": {
     "elapsed": 82420,
     "status": "ok",
     "timestamp": 1647251886453,
     "user": {
      "displayName": "Shiba Mao",
      "photoUrl": "https://lh3.googleusercontent.com/a/default-user=s64",
      "userId": "16549320756357564965"
     },
     "user_tz": 300
    },
    "id": "FfiUL6RyRIlh",
    "outputId": "02b9695e-c318-404c-a7be-7a1336e6a639"
   },
   "outputs": [
    {
     "name": "stderr",
     "output_type": "stream",
     "text": [
      "1107119it [00:40, 27499.63it/s]\n"
     ]
    },
    {
     "data": {
      "text/plain": [
       "[145529, 416948, 489246, 1042435]"
      ]
     },
     "execution_count": 5,
     "metadata": {},
     "output_type": "execute_result"
    }
   ],
   "source": [
    "# check empty content\n",
    "empty_lst = []\n",
    "error_lst = []\n",
    "for index, row in tqdm(comments.iterrows()):\n",
    "  try:\n",
    "    if not row['content'].strip():\n",
    "        empty_lst.append(index)\n",
    "  except AttributeError:\n",
    "    error_lst.append(index)\n",
    "empty_lst"
   ]
  },
  {
   "cell_type": "code",
   "execution_count": 6,
   "metadata": {
    "colab": {
     "base_uri": "https://localhost:8080/"
    },
    "executionInfo": {
     "elapsed": 15,
     "status": "ok",
     "timestamp": 1647251886454,
     "user": {
      "displayName": "Shiba Mao",
      "photoUrl": "https://lh3.googleusercontent.com/a/default-user=s64",
      "userId": "16549320756357564965"
     },
     "user_tz": 300
    },
    "id": "UHrfscFKSWey",
    "outputId": "142d9047-4152-4129-d57a-07d6b11d3743"
   },
   "outputs": [
    {
     "data": {
      "text/plain": [
       "[61633]"
      ]
     },
     "execution_count": 6,
     "metadata": {},
     "output_type": "execute_result"
    }
   ],
   "source": [
    "error_lst"
   ]
  },
  {
   "cell_type": "code",
   "execution_count": 7,
   "metadata": {
    "colab": {
     "base_uri": "https://localhost:8080/",
     "height": 423
    },
    "executionInfo": {
     "elapsed": 346,
     "status": "ok",
     "timestamp": 1647251886789,
     "user": {
      "displayName": "Shiba Mao",
      "photoUrl": "https://lh3.googleusercontent.com/a/default-user=s64",
      "userId": "16549320756357564965"
     },
     "user_tz": 300
    },
    "id": "KaLd7kzdRX4K",
    "outputId": "89342f8c-fe7e-4958-ea3a-549b07a03533"
   },
   "outputs": [
    {
     "data": {
      "text/html": [
       "<div>\n",
       "<style scoped>\n",
       "    .dataframe tbody tr th:only-of-type {\n",
       "        vertical-align: middle;\n",
       "    }\n",
       "\n",
       "    .dataframe tbody tr th {\n",
       "        vertical-align: top;\n",
       "    }\n",
       "\n",
       "    .dataframe thead th {\n",
       "        text-align: right;\n",
       "    }\n",
       "</style>\n",
       "<table border=\"1\" class=\"dataframe\">\n",
       "  <thead>\n",
       "    <tr style=\"text-align: right;\">\n",
       "      <th></th>\n",
       "      <th>comment_time</th>\n",
       "      <th>movie_id</th>\n",
       "      <th>rating</th>\n",
       "      <th>content</th>\n",
       "    </tr>\n",
       "  </thead>\n",
       "  <tbody>\n",
       "    <tr>\n",
       "      <th>0</th>\n",
       "      <td>2010-01-12 22:37:02</td>\n",
       "      <td>2071447</td>\n",
       "      <td>3.0</td>\n",
       "      <td>逻辑...结构...不想HC的同学就需要辛苦地寻找，想HC就轻松多了，一景一衫，甚是光鲜，嗯...</td>\n",
       "    </tr>\n",
       "    <tr>\n",
       "      <th>1</th>\n",
       "      <td>2013-10-16 23:27:11</td>\n",
       "      <td>21350570</td>\n",
       "      <td>3.0</td>\n",
       "      <td>本来要四星的，细想了一下，故事不算上等。</td>\n",
       "    </tr>\n",
       "    <tr>\n",
       "      <th>2</th>\n",
       "      <td>2018-04-15 10:40:42</td>\n",
       "      <td>27621666</td>\n",
       "      <td>3.0</td>\n",
       "      <td>有些不知所云，短短八十几分钟竟然多次感到坐立难安……</td>\n",
       "    </tr>\n",
       "    <tr>\n",
       "      <th>3</th>\n",
       "      <td>2008-07-03 13:10:34</td>\n",
       "      <td>1308050</td>\n",
       "      <td>4.0</td>\n",
       "      <td>继续申恩庆..也</td>\n",
       "    </tr>\n",
       "    <tr>\n",
       "      <th>4</th>\n",
       "      <td>2011-10-31 18:12:47</td>\n",
       "      <td>1428178</td>\n",
       "      <td>4.0</td>\n",
       "      <td>搞笑的动画皮</td>\n",
       "    </tr>\n",
       "    <tr>\n",
       "      <th>...</th>\n",
       "      <td>...</td>\n",
       "      <td>...</td>\n",
       "      <td>...</td>\n",
       "      <td>...</td>\n",
       "    </tr>\n",
       "    <tr>\n",
       "      <th>1107109</th>\n",
       "      <td>2019-08-15 16:20:31</td>\n",
       "      <td>26808466</td>\n",
       "      <td>3.0</td>\n",
       "      <td>只能说，再接再厉！</td>\n",
       "    </tr>\n",
       "    <tr>\n",
       "      <th>1107110</th>\n",
       "      <td>2017-09-07 22:11:51</td>\n",
       "      <td>6710798</td>\n",
       "      <td>5.0</td>\n",
       "      <td>很喜欢这部。替爷爷难过半小时。躺在百度云里好久没看。我觉得银娇其实只是很高兴得到了爷爷的疼爱...</td>\n",
       "    </tr>\n",
       "    <tr>\n",
       "      <th>1107111</th>\n",
       "      <td>2016-01-16 14:19:04</td>\n",
       "      <td>26677940</td>\n",
       "      <td>1.0</td>\n",
       "      <td>接我一星</td>\n",
       "    </tr>\n",
       "    <tr>\n",
       "      <th>1107112</th>\n",
       "      <td>2013-11-09 13:14:37</td>\n",
       "      <td>1309136</td>\n",
       "      <td>4.0</td>\n",
       "      <td>《惊情四百年》的另一种解读，表里城设计参考了《恶魔城 白夜协奏曲》，《上古卷轴》般的画风。总...</td>\n",
       "    </tr>\n",
       "    <tr>\n",
       "      <th>1107113</th>\n",
       "      <td>2016-05-04 19:32:49</td>\n",
       "      <td>1293050</td>\n",
       "      <td>4.0</td>\n",
       "      <td>你的脊椎值多少钱？把它乘以100，就是我要的赔偿！</td>\n",
       "    </tr>\n",
       "  </tbody>\n",
       "</table>\n",
       "<p>1107114 rows × 4 columns</p>\n",
       "</div>"
      ],
      "text/plain": [
       "                comment_time  movie_id  rating  \\\n",
       "0        2010-01-12 22:37:02   2071447     3.0   \n",
       "1        2013-10-16 23:27:11  21350570     3.0   \n",
       "2        2018-04-15 10:40:42  27621666     3.0   \n",
       "3        2008-07-03 13:10:34   1308050     4.0   \n",
       "4        2011-10-31 18:12:47   1428178     4.0   \n",
       "...                      ...       ...     ...   \n",
       "1107109  2019-08-15 16:20:31  26808466     3.0   \n",
       "1107110  2017-09-07 22:11:51   6710798     5.0   \n",
       "1107111  2016-01-16 14:19:04  26677940     1.0   \n",
       "1107112  2013-11-09 13:14:37   1309136     4.0   \n",
       "1107113  2016-05-04 19:32:49   1293050     4.0   \n",
       "\n",
       "                                                   content  \n",
       "0        逻辑...结构...不想HC的同学就需要辛苦地寻找，想HC就轻松多了，一景一衫，甚是光鲜，嗯...  \n",
       "1                                     本来要四星的，细想了一下，故事不算上等。  \n",
       "2                               有些不知所云，短短八十几分钟竟然多次感到坐立难安……  \n",
       "3                                                 继续申恩庆..也  \n",
       "4                                                   搞笑的动画皮  \n",
       "...                                                    ...  \n",
       "1107109                                          只能说，再接再厉！  \n",
       "1107110  很喜欢这部。替爷爷难过半小时。躺在百度云里好久没看。我觉得银娇其实只是很高兴得到了爷爷的疼爱...  \n",
       "1107111                                               接我一星  \n",
       "1107112  《惊情四百年》的另一种解读，表里城设计参考了《恶魔城 白夜协奏曲》，《上古卷轴》般的画风。总...  \n",
       "1107113                          你的脊椎值多少钱？把它乘以100，就是我要的赔偿！  \n",
       "\n",
       "[1107114 rows x 4 columns]"
      ]
     },
     "execution_count": 7,
     "metadata": {},
     "output_type": "execute_result"
    }
   ],
   "source": [
    "comments.drop(empty_lst + error_lst, axis=0, inplace=True)\n",
    "comments = comments.reset_index(drop=True)\n",
    "comments"
   ]
  },
  {
   "cell_type": "code",
   "execution_count": 8,
   "metadata": {
    "executionInfo": {
     "elapsed": 520,
     "status": "ok",
     "timestamp": 1647251887757,
     "user": {
      "displayName": "Shiba Mao",
      "photoUrl": "https://lh3.googleusercontent.com/a/default-user=s64",
      "userId": "16549320756357564965"
     },
     "user_tz": 300
    },
    "id": "h-CAyD3ibx_D"
   },
   "outputs": [],
   "source": [
    "comments['comment_time'] = pd.to_datetime(comments['comment_time'])\n",
    "comments = comments.set_index('comment_time').sort_index()"
   ]
  },
  {
   "cell_type": "code",
   "execution_count": 9,
   "metadata": {
    "colab": {
     "base_uri": "https://localhost:8080/",
     "height": 455
    },
    "executionInfo": {
     "elapsed": 6,
     "status": "ok",
     "timestamp": 1647251887757,
     "user": {
      "displayName": "Shiba Mao",
      "photoUrl": "https://lh3.googleusercontent.com/a/default-user=s64",
      "userId": "16549320756357564965"
     },
     "user_tz": 300
    },
    "id": "JB9vl32txGgb",
    "outputId": "de5bb1f2-7f95-4a68-dc85-5cabd045f92e"
   },
   "outputs": [
    {
     "data": {
      "text/html": [
       "<div>\n",
       "<style scoped>\n",
       "    .dataframe tbody tr th:only-of-type {\n",
       "        vertical-align: middle;\n",
       "    }\n",
       "\n",
       "    .dataframe tbody tr th {\n",
       "        vertical-align: top;\n",
       "    }\n",
       "\n",
       "    .dataframe thead th {\n",
       "        text-align: right;\n",
       "    }\n",
       "</style>\n",
       "<table border=\"1\" class=\"dataframe\">\n",
       "  <thead>\n",
       "    <tr style=\"text-align: right;\">\n",
       "      <th></th>\n",
       "      <th>movie_id</th>\n",
       "      <th>rating</th>\n",
       "      <th>content</th>\n",
       "    </tr>\n",
       "    <tr>\n",
       "      <th>comment_time</th>\n",
       "      <th></th>\n",
       "      <th></th>\n",
       "      <th></th>\n",
       "    </tr>\n",
       "  </thead>\n",
       "  <tbody>\n",
       "    <tr>\n",
       "      <th>2005-06-12 02:22:09</th>\n",
       "      <td>1292210</td>\n",
       "      <td>4.0</td>\n",
       "      <td>重看依然很喜欢很喜欢</td>\n",
       "    </tr>\n",
       "    <tr>\n",
       "      <th>2005-06-12 02:22:32</th>\n",
       "      <td>1297598</td>\n",
       "      <td>5.0</td>\n",
       "      <td>唯一的一部看完后马上重看一遍的电影</td>\n",
       "    </tr>\n",
       "    <tr>\n",
       "      <th>2005-06-16 10:46:09</th>\n",
       "      <td>1308858</td>\n",
       "      <td>3.0</td>\n",
       "      <td>看不懂啊……</td>\n",
       "    </tr>\n",
       "    <tr>\n",
       "      <th>2005-06-17 15:23:55</th>\n",
       "      <td>1299539</td>\n",
       "      <td>5.0</td>\n",
       "      <td>诗一般的气息</td>\n",
       "    </tr>\n",
       "    <tr>\n",
       "      <th>2005-06-23 16:49:32</th>\n",
       "      <td>1292061</td>\n",
       "      <td>5.0</td>\n",
       "      <td>过瘾</td>\n",
       "    </tr>\n",
       "    <tr>\n",
       "      <th>...</th>\n",
       "      <td>...</td>\n",
       "      <td>...</td>\n",
       "      <td>...</td>\n",
       "    </tr>\n",
       "    <tr>\n",
       "      <th>2019-09-07 15:37:40</th>\n",
       "      <td>1291869</td>\n",
       "      <td>3.0</td>\n",
       "      <td>很黄很暴力，可是好没意思啊。</td>\n",
       "    </tr>\n",
       "    <tr>\n",
       "      <th>2019-09-07 15:41:38</th>\n",
       "      <td>4176542</td>\n",
       "      <td>4.0</td>\n",
       "      <td>值得被多重阐释的作品，就是好的作品。异类从古至今都是被诟病和排斥的。绝大多数就是对的吗？只不...</td>\n",
       "    </tr>\n",
       "    <tr>\n",
       "      <th>2019-09-07 15:46:44</th>\n",
       "      <td>1301173</td>\n",
       "      <td>3.0</td>\n",
       "      <td>不太喜欢女主的长相吧。</td>\n",
       "    </tr>\n",
       "    <tr>\n",
       "      <th>2019-09-07 15:54:04</th>\n",
       "      <td>3771562</td>\n",
       "      <td>2.0</td>\n",
       "      <td>哈？好恶心哦！</td>\n",
       "    </tr>\n",
       "    <tr>\n",
       "      <th>2019-09-07 15:56:05</th>\n",
       "      <td>3011997</td>\n",
       "      <td>3.0</td>\n",
       "      <td>压抑至极 难受至极 不想花时间找难受的劝你还是别看为好</td>\n",
       "    </tr>\n",
       "  </tbody>\n",
       "</table>\n",
       "<p>1107114 rows × 3 columns</p>\n",
       "</div>"
      ],
      "text/plain": [
       "                     movie_id  rating  \\\n",
       "comment_time                            \n",
       "2005-06-12 02:22:09   1292210     4.0   \n",
       "2005-06-12 02:22:32   1297598     5.0   \n",
       "2005-06-16 10:46:09   1308858     3.0   \n",
       "2005-06-17 15:23:55   1299539     5.0   \n",
       "2005-06-23 16:49:32   1292061     5.0   \n",
       "...                       ...     ...   \n",
       "2019-09-07 15:37:40   1291869     3.0   \n",
       "2019-09-07 15:41:38   4176542     4.0   \n",
       "2019-09-07 15:46:44   1301173     3.0   \n",
       "2019-09-07 15:54:04   3771562     2.0   \n",
       "2019-09-07 15:56:05   3011997     3.0   \n",
       "\n",
       "                                                               content  \n",
       "comment_time                                                            \n",
       "2005-06-12 02:22:09                                         重看依然很喜欢很喜欢  \n",
       "2005-06-12 02:22:32                                  唯一的一部看完后马上重看一遍的电影  \n",
       "2005-06-16 10:46:09                                             看不懂啊……  \n",
       "2005-06-17 15:23:55                                             诗一般的气息  \n",
       "2005-06-23 16:49:32                                                 过瘾  \n",
       "...                                                                ...  \n",
       "2019-09-07 15:37:40                                     很黄很暴力，可是好没意思啊。  \n",
       "2019-09-07 15:41:38  值得被多重阐释的作品，就是好的作品。异类从古至今都是被诟病和排斥的。绝大多数就是对的吗？只不...  \n",
       "2019-09-07 15:46:44                                        不太喜欢女主的长相吧。  \n",
       "2019-09-07 15:54:04                                            哈？好恶心哦！  \n",
       "2019-09-07 15:56:05                        压抑至极 难受至极 不想花时间找难受的劝你还是别看为好  \n",
       "\n",
       "[1107114 rows x 3 columns]"
      ]
     },
     "execution_count": 9,
     "metadata": {},
     "output_type": "execute_result"
    }
   ],
   "source": [
    "comments"
   ]
  },
  {
   "cell_type": "code",
   "execution_count": 12,
   "metadata": {
    "colab": {
     "base_uri": "https://localhost:8080/",
     "height": 551
    },
    "executionInfo": {
     "elapsed": 870,
     "status": "ok",
     "timestamp": 1647251888623,
     "user": {
      "displayName": "Shiba Mao",
      "photoUrl": "https://lh3.googleusercontent.com/a/default-user=s64",
      "userId": "16549320756357564965"
     },
     "user_tz": 300
    },
    "id": "GXXJg237bzkF",
    "outputId": "766c1d0c-4ec7-4601-ff54-ffc3eda2dd48"
   },
   "outputs": [
    {
     "data": {
      "text/html": [
       "\n",
       "  <div id=\"df-6e980c46-d3b5-45f5-92cd-b8274f617ec4\">\n",
       "    <div class=\"colab-df-container\">\n",
       "      <div>\n",
       "<style scoped>\n",
       "    .dataframe tbody tr th:only-of-type {\n",
       "        vertical-align: middle;\n",
       "    }\n",
       "\n",
       "    .dataframe tbody tr th {\n",
       "        vertical-align: top;\n",
       "    }\n",
       "\n",
       "    .dataframe thead th {\n",
       "        text-align: right;\n",
       "    }\n",
       "</style>\n",
       "<table border=\"1\" class=\"dataframe\">\n",
       "  <thead>\n",
       "    <tr style=\"text-align: right;\">\n",
       "      <th></th>\n",
       "      <th>content</th>\n",
       "    </tr>\n",
       "    <tr>\n",
       "      <th>comment_time</th>\n",
       "      <th></th>\n",
       "    </tr>\n",
       "  </thead>\n",
       "  <tbody>\n",
       "    <tr>\n",
       "      <th>2005</th>\n",
       "      <td>401</td>\n",
       "    </tr>\n",
       "    <tr>\n",
       "      <th>2006</th>\n",
       "      <td>3317</td>\n",
       "    </tr>\n",
       "    <tr>\n",
       "      <th>2007</th>\n",
       "      <td>8551</td>\n",
       "    </tr>\n",
       "    <tr>\n",
       "      <th>2008</th>\n",
       "      <td>23358</td>\n",
       "    </tr>\n",
       "    <tr>\n",
       "      <th>2009</th>\n",
       "      <td>35809</td>\n",
       "    </tr>\n",
       "    <tr>\n",
       "      <th>2010</th>\n",
       "      <td>65345</td>\n",
       "    </tr>\n",
       "    <tr>\n",
       "      <th>2011</th>\n",
       "      <td>89136</td>\n",
       "    </tr>\n",
       "    <tr>\n",
       "      <th>2012</th>\n",
       "      <td>94358</td>\n",
       "    </tr>\n",
       "    <tr>\n",
       "      <th>2013</th>\n",
       "      <td>78033</td>\n",
       "    </tr>\n",
       "    <tr>\n",
       "      <th>2014</th>\n",
       "      <td>67594</td>\n",
       "    </tr>\n",
       "    <tr>\n",
       "      <th>2015</th>\n",
       "      <td>67253</td>\n",
       "    </tr>\n",
       "    <tr>\n",
       "      <th>2016</th>\n",
       "      <td>85883</td>\n",
       "    </tr>\n",
       "    <tr>\n",
       "      <th>2017</th>\n",
       "      <td>113603</td>\n",
       "    </tr>\n",
       "    <tr>\n",
       "      <th>2018</th>\n",
       "      <td>140589</td>\n",
       "    </tr>\n",
       "    <tr>\n",
       "      <th>2019</th>\n",
       "      <td>233884</td>\n",
       "    </tr>\n",
       "  </tbody>\n",
       "</table>\n",
       "</div>\n",
       "      <button class=\"colab-df-convert\" onclick=\"convertToInteractive('df-6e980c46-d3b5-45f5-92cd-b8274f617ec4')\"\n",
       "              title=\"Convert this dataframe to an interactive table.\"\n",
       "              style=\"display:none;\">\n",
       "        \n",
       "  <svg xmlns=\"http://www.w3.org/2000/svg\" height=\"24px\"viewBox=\"0 0 24 24\"\n",
       "       width=\"24px\">\n",
       "    <path d=\"M0 0h24v24H0V0z\" fill=\"none\"/>\n",
       "    <path d=\"M18.56 5.44l.94 2.06.94-2.06 2.06-.94-2.06-.94-.94-2.06-.94 2.06-2.06.94zm-11 1L8.5 8.5l.94-2.06 2.06-.94-2.06-.94L8.5 2.5l-.94 2.06-2.06.94zm10 10l.94 2.06.94-2.06 2.06-.94-2.06-.94-.94-2.06-.94 2.06-2.06.94z\"/><path d=\"M17.41 7.96l-1.37-1.37c-.4-.4-.92-.59-1.43-.59-.52 0-1.04.2-1.43.59L10.3 9.45l-7.72 7.72c-.78.78-.78 2.05 0 2.83L4 21.41c.39.39.9.59 1.41.59.51 0 1.02-.2 1.41-.59l7.78-7.78 2.81-2.81c.8-.78.8-2.07 0-2.86zM5.41 20L4 18.59l7.72-7.72 1.47 1.35L5.41 20z\"/>\n",
       "  </svg>\n",
       "      </button>\n",
       "      \n",
       "  <style>\n",
       "    .colab-df-container {\n",
       "      display:flex;\n",
       "      flex-wrap:wrap;\n",
       "      gap: 12px;\n",
       "    }\n",
       "\n",
       "    .colab-df-convert {\n",
       "      background-color: #E8F0FE;\n",
       "      border: none;\n",
       "      border-radius: 50%;\n",
       "      cursor: pointer;\n",
       "      display: none;\n",
       "      fill: #1967D2;\n",
       "      height: 32px;\n",
       "      padding: 0 0 0 0;\n",
       "      width: 32px;\n",
       "    }\n",
       "\n",
       "    .colab-df-convert:hover {\n",
       "      background-color: #E2EBFA;\n",
       "      box-shadow: 0px 1px 2px rgba(60, 64, 67, 0.3), 0px 1px 3px 1px rgba(60, 64, 67, 0.15);\n",
       "      fill: #174EA6;\n",
       "    }\n",
       "\n",
       "    [theme=dark] .colab-df-convert {\n",
       "      background-color: #3B4455;\n",
       "      fill: #D2E3FC;\n",
       "    }\n",
       "\n",
       "    [theme=dark] .colab-df-convert:hover {\n",
       "      background-color: #434B5C;\n",
       "      box-shadow: 0px 1px 3px 1px rgba(0, 0, 0, 0.15);\n",
       "      filter: drop-shadow(0px 1px 2px rgba(0, 0, 0, 0.3));\n",
       "      fill: #FFFFFF;\n",
       "    }\n",
       "  </style>\n",
       "\n",
       "      <script>\n",
       "        const buttonEl =\n",
       "          document.querySelector('#df-6e980c46-d3b5-45f5-92cd-b8274f617ec4 button.colab-df-convert');\n",
       "        buttonEl.style.display =\n",
       "          google.colab.kernel.accessAllowed ? 'block' : 'none';\n",
       "\n",
       "        async function convertToInteractive(key) {\n",
       "          const element = document.querySelector('#df-6e980c46-d3b5-45f5-92cd-b8274f617ec4');\n",
       "          const dataTable =\n",
       "            await google.colab.kernel.invokeFunction('convertToInteractive',\n",
       "                                                     [key], {});\n",
       "          if (!dataTable) return;\n",
       "\n",
       "          const docLinkHtml = 'Like what you see? Visit the ' +\n",
       "            '<a target=\"_blank\" href=https://colab.research.google.com/notebooks/data_table.ipynb>data table notebook</a>'\n",
       "            + ' to learn more about interactive tables.';\n",
       "          element.innerHTML = '';\n",
       "          dataTable['output_type'] = 'display_data';\n",
       "          await google.colab.output.renderOutput(dataTable, element);\n",
       "          const docLink = document.createElement('div');\n",
       "          docLink.innerHTML = docLinkHtml;\n",
       "          element.appendChild(docLink);\n",
       "        }\n",
       "      </script>\n",
       "    </div>\n",
       "  </div>\n",
       "  "
      ],
      "text/plain": [
       "              content\n",
       "comment_time         \n",
       "2005              401\n",
       "2006             3317\n",
       "2007             8551\n",
       "2008            23358\n",
       "2009            35809\n",
       "2010            65345\n",
       "2011            89136\n",
       "2012            94358\n",
       "2013            78033\n",
       "2014            67594\n",
       "2015            67253\n",
       "2016            85883\n",
       "2017           113603\n",
       "2018           140589\n",
       "2019           233884"
      ]
     },
     "execution_count": 12,
     "metadata": {},
     "output_type": "execute_result"
    }
   ],
   "source": [
    "comments_count = pd.DataFrame(comments['content'].groupby(comments.index.year).count(), columns=['content'])                     \n",
    "comments_count"
   ]
  },
  {
   "cell_type": "code",
   "execution_count": 13,
   "metadata": {
    "colab": {
     "base_uri": "https://localhost:8080/",
     "height": 585
    },
    "executionInfo": {
     "elapsed": 1238,
     "status": "ok",
     "timestamp": 1647251889857,
     "user": {
      "displayName": "Shiba Mao",
      "photoUrl": "https://lh3.googleusercontent.com/a/default-user=s64",
      "userId": "16549320756357564965"
     },
     "user_tz": 300
    },
    "id": "yBpoxaCOcXcw",
    "outputId": "d353e4da-26a2-450b-fc03-037f7ba68fde"
   },
   "outputs": [
    {
     "data": {
      "image/png": "[encoded data removed]",
      "text/plain": [
       "<Figure size 864x648 with 1 Axes>"
      ]
     },
     "metadata": {
      "needs_background": "light"
     },
     "output_type": "display_data"
    }
   ],
   "source": [
    "# plot number of comments by year\n",
    "fig, ax = plt.subplots()\n",
    "fig.set_size_inches(12, 9)\n",
    "sns.barplot(data = comments_count,\n",
    "            x = comments_count.index,\n",
    "            y = 'content',\n",
    "            ax=ax,\n",
    "            label='Number of Comments'\n",
    "            ).set_title(\"Number of Comments(2005-2019)\")\n",
    "plt.xticks(rotation=60)\n",
    "plt.ylabel('Number of Comments')\n",
    "plt.legend(loc = 'upper left');\n",
    "fig.savefig('/content/drive/MyDrive/Colab Notebooks/Content_analysis_final/vis/number of comments(2005-2019).png')"
   ]
  },
  {
   "cell_type": "markdown",
   "metadata": {
    "id": "fu1qXeEYdXqp"
   },
   "source": [
    "#### Get labels\n",
    "\n",
    "We need to get labels before we fine-tune a bert model for sentiment analysis. The goal is to find movies that users may like, and movies they may dislike. It is not a must-do thing to predict the accurate socres users may rate. Here we define user likes a movie if they rate 4.0 or 5.0, dislikes a movie if they rate 1.0, 2.0, or 3.0. We use 1 to denote they like a movie and 0 if dislike. Hence we labelled movie comments.\n",
    "\n",
    "But there're some users didn’t rate the movie when they giving comments. Their ratings are NaN. Their comments could be grouped into the predicting set. These comments wouldn't be used for training and testing. "
   ]
  },
  {
   "cell_type": "code",
   "execution_count": 14,
   "metadata": {
    "colab": {
     "base_uri": "https://localhost:8080/",
     "height": 255
    },
    "executionInfo": {
     "elapsed": 1359,
     "status": "ok",
     "timestamp": 1647251891209,
     "user": {
      "displayName": "Shiba Mao",
      "photoUrl": "https://lh3.googleusercontent.com/a/default-user=s64",
      "userId": "16549320756357564965"
     },
     "user_tz": 300
    },
    "id": "xuxfmK8uellt",
    "outputId": "e26b7915-b9a4-44f6-9eac-ff8de568db02"
   },
   "outputs": [
    {
     "name": "stderr",
     "output_type": "stream",
     "text": [
      "100%|██████████| 1107114/1107114 [00:01<00:00, 1092216.51it/s]\n"
     ]
    },
    {
     "data": {
      "text/html": [
       "\n",
       "  <div id=\"df-149bfd46-168c-4b35-b696-91b0c59a056c\">\n",
       "    <div class=\"colab-df-container\">\n",
       "      <div>\n",
       "<style scoped>\n",
       "    .dataframe tbody tr th:only-of-type {\n",
       "        vertical-align: middle;\n",
       "    }\n",
       "\n",
       "    .dataframe tbody tr th {\n",
       "        vertical-align: top;\n",
       "    }\n",
       "\n",
       "    .dataframe thead th {\n",
       "        text-align: right;\n",
       "    }\n",
       "</style>\n",
       "<table border=\"1\" class=\"dataframe\">\n",
       "  <thead>\n",
       "    <tr style=\"text-align: right;\">\n",
       "      <th></th>\n",
       "      <th>movie_id</th>\n",
       "      <th>rating</th>\n",
       "      <th>content</th>\n",
       "      <th>label</th>\n",
       "    </tr>\n",
       "    <tr>\n",
       "      <th>comment_time</th>\n",
       "      <th></th>\n",
       "      <th></th>\n",
       "      <th></th>\n",
       "      <th></th>\n",
       "    </tr>\n",
       "  </thead>\n",
       "  <tbody>\n",
       "    <tr>\n",
       "      <th>2005-06-12 02:22:09</th>\n",
       "      <td>1292210</td>\n",
       "      <td>4.0</td>\n",
       "      <td>重看依然很喜欢很喜欢</td>\n",
       "      <td>1</td>\n",
       "    </tr>\n",
       "    <tr>\n",
       "      <th>2005-06-12 02:22:32</th>\n",
       "      <td>1297598</td>\n",
       "      <td>5.0</td>\n",
       "      <td>唯一的一部看完后马上重看一遍的电影</td>\n",
       "      <td>1</td>\n",
       "    </tr>\n",
       "    <tr>\n",
       "      <th>2005-06-16 10:46:09</th>\n",
       "      <td>1308858</td>\n",
       "      <td>3.0</td>\n",
       "      <td>看不懂啊……</td>\n",
       "      <td>0</td>\n",
       "    </tr>\n",
       "    <tr>\n",
       "      <th>2005-06-17 15:23:55</th>\n",
       "      <td>1299539</td>\n",
       "      <td>5.0</td>\n",
       "      <td>诗一般的气息</td>\n",
       "      <td>1</td>\n",
       "    </tr>\n",
       "    <tr>\n",
       "      <th>2005-06-23 16:49:32</th>\n",
       "      <td>1292061</td>\n",
       "      <td>5.0</td>\n",
       "      <td>过瘾</td>\n",
       "      <td>1</td>\n",
       "    </tr>\n",
       "  </tbody>\n",
       "</table>\n",
       "</div>\n",
       "      <button class=\"colab-df-convert\" onclick=\"convertToInteractive('df-149bfd46-168c-4b35-b696-91b0c59a056c')\"\n",
       "              title=\"Convert this dataframe to an interactive table.\"\n",
       "              style=\"display:none;\">\n",
       "        \n",
       "  <svg xmlns=\"http://www.w3.org/2000/svg\" height=\"24px\"viewBox=\"0 0 24 24\"\n",
       "       width=\"24px\">\n",
       "    <path d=\"M0 0h24v24H0V0z\" fill=\"none\"/>\n",
       "    <path d=\"M18.56 5.44l.94 2.06.94-2.06 2.06-.94-2.06-.94-.94-2.06-.94 2.06-2.06.94zm-11 1L8.5 8.5l.94-2.06 2.06-.94-2.06-.94L8.5 2.5l-.94 2.06-2.06.94zm10 10l.94 2.06.94-2.06 2.06-.94-2.06-.94-.94-2.06-.94 2.06-2.06.94z\"/><path d=\"M17.41 7.96l-1.37-1.37c-.4-.4-.92-.59-1.43-.59-.52 0-1.04.2-1.43.59L10.3 9.45l-7.72 7.72c-.78.78-.78 2.05 0 2.83L4 21.41c.39.39.9.59 1.41.59.51 0 1.02-.2 1.41-.59l7.78-7.78 2.81-2.81c.8-.78.8-2.07 0-2.86zM5.41 20L4 18.59l7.72-7.72 1.47 1.35L5.41 20z\"/>\n",
       "  </svg>\n",
       "      </button>\n",
       "      \n",
       "  <style>\n",
       "    .colab-df-container {\n",
       "      display:flex;\n",
       "      flex-wrap:wrap;\n",
       "      gap: 12px;\n",
       "    }\n",
       "\n",
       "    .colab-df-convert {\n",
       "      background-color: #E8F0FE;\n",
       "      border: none;\n",
       "      border-radius: 50%;\n",
       "      cursor: pointer;\n",
       "      display: none;\n",
       "      fill: #1967D2;\n",
       "      height: 32px;\n",
       "      padding: 0 0 0 0;\n",
       "      width: 32px;\n",
       "    }\n",
       "\n",
       "    .colab-df-convert:hover {\n",
       "      background-color: #E2EBFA;\n",
       "      box-shadow: 0px 1px 2px rgba(60, 64, 67, 0.3), 0px 1px 3px 1px rgba(60, 64, 67, 0.15);\n",
       "      fill: #174EA6;\n",
       "    }\n",
       "\n",
       "    [theme=dark] .colab-df-convert {\n",
       "      background-color: #3B4455;\n",
       "      fill: #D2E3FC;\n",
       "    }\n",
       "\n",
       "    [theme=dark] .colab-df-convert:hover {\n",
       "      background-color: #434B5C;\n",
       "      box-shadow: 0px 1px 3px 1px rgba(0, 0, 0, 0.15);\n",
       "      filter: drop-shadow(0px 1px 2px rgba(0, 0, 0, 0.3));\n",
       "      fill: #FFFFFF;\n",
       "    }\n",
       "  </style>\n",
       "\n",
       "      <script>\n",
       "        const buttonEl =\n",
       "          document.querySelector('#df-149bfd46-168c-4b35-b696-91b0c59a056c button.colab-df-convert');\n",
       "        buttonEl.style.display =\n",
       "          google.colab.kernel.accessAllowed ? 'block' : 'none';\n",
       "\n",
       "        async function convertToInteractive(key) {\n",
       "          const element = document.querySelector('#df-149bfd46-168c-4b35-b696-91b0c59a056c');\n",
       "          const dataTable =\n",
       "            await google.colab.kernel.invokeFunction('convertToInteractive',\n",
       "                                                     [key], {});\n",
       "          if (!dataTable) return;\n",
       "\n",
       "          const docLinkHtml = 'Like what you see? Visit the ' +\n",
       "            '<a target=\"_blank\" href=https://colab.research.google.com/notebooks/data_table.ipynb>data table notebook</a>'\n",
       "            + ' to learn more about interactive tables.';\n",
       "          element.innerHTML = '';\n",
       "          dataTable['output_type'] = 'display_data';\n",
       "          await google.colab.output.renderOutput(dataTable, element);\n",
       "          const docLink = document.createElement('div');\n",
       "          docLink.innerHTML = docLinkHtml;\n",
       "          element.appendChild(docLink);\n",
       "        }\n",
       "      </script>\n",
       "    </div>\n",
       "  </div>\n",
       "  "
      ],
      "text/plain": [
       "                     movie_id  rating            content  label\n",
       "comment_time                                                   \n",
       "2005-06-12 02:22:09   1292210     4.0         重看依然很喜欢很喜欢      1\n",
       "2005-06-12 02:22:32   1297598     5.0  唯一的一部看完后马上重看一遍的电影      1\n",
       "2005-06-16 10:46:09   1308858     3.0             看不懂啊……      0\n",
       "2005-06-17 15:23:55   1299539     5.0             诗一般的气息      1\n",
       "2005-06-23 16:49:32   1292061     5.0                 过瘾      1"
      ]
     },
     "execution_count": 14,
     "metadata": {},
     "output_type": "execute_result"
    }
   ],
   "source": [
    "def get_labels(comments):\n",
    "  '''\n",
    "  get labels for all comments.\n",
    "  '''\n",
    "  labels = []\n",
    "  for x in tqdm(comments['rating']):\n",
    "    if x in set((1.0, 2.0, 3.0)):\n",
    "      labels.append(0)\n",
    "    elif x in set((4.0, 5.0)):\n",
    "      labels.append(1)\n",
    "    else:\n",
    "      labels.append(-1)\n",
    "  return labels\n",
    "\n",
    "comments['label'] = get_labels(comments)\n",
    "comments.head()"
   ]
  },
  {
   "cell_type": "code",
   "execution_count": 15,
   "metadata": {
    "colab": {
     "base_uri": "https://localhost:8080/"
    },
    "executionInfo": {
     "elapsed": 7,
     "status": "ok",
     "timestamp": 1647251891391,
     "user": {
      "displayName": "Shiba Mao",
      "photoUrl": "https://lh3.googleusercontent.com/a/default-user=s64",
      "userId": "16549320756357564965"
     },
     "user_tz": 300
    },
    "id": "BtLkrmGYeloR",
    "outputId": "bf0302a3-e5b3-4f15-9e18-c4f86907ca76"
   },
   "outputs": [
    {
     "data": {
      "text/plain": [
       "Counter({-1: 64852, 0: 562759, 1: 479503})"
      ]
     },
     "execution_count": 15,
     "metadata": {},
     "output_type": "execute_result"
    }
   ],
   "source": [
    "Counter(comments['label'])"
   ]
  },
  {
   "cell_type": "code",
   "execution_count": 16,
   "metadata": {
    "executionInfo": {
     "elapsed": 3,
     "status": "ok",
     "timestamp": 1647251891392,
     "user": {
      "displayName": "Shiba Mao",
      "photoUrl": "https://lh3.googleusercontent.com/a/default-user=s64",
      "userId": "16549320756357564965"
     },
     "user_tz": 300
    },
    "id": "bbSIRyGeyX8q"
   },
   "outputs": [],
   "source": [
    "comments = comments.reset_index()"
   ]
  },
  {
   "cell_type": "code",
   "execution_count": 73,
   "metadata": {
    "executionInfo": {
     "elapsed": 172,
     "status": "ok",
     "timestamp": 1647299095250,
     "user": {
      "displayName": "Shiba Mao",
      "photoUrl": "https://lh3.googleusercontent.com/a/default-user=s64",
      "userId": "16549320756357564965"
     },
     "user_tz": 300
    },
    "id": "7wss-01jrKBG"
   },
   "outputs": [],
   "source": [
    "# we don't use to_csv() here is because simply use to_csv() would yield \n",
    "# wrongly formatted csv files.\n",
    "def write_csv(example_df, file_dir):\n",
    "  '''\n",
    "  write example DataFrame into the given file directory \n",
    "  '''\n",
    "  with open(file_dir, 'w') as f:\n",
    "    writer = csv.writer(f, delimiter=',')\n",
    "    # write column names \n",
    "    writer.writerow(('index',\n",
    "                     'comment_time',\n",
    "                     'movie_id',\n",
    "                     'rating',\n",
    "                     'content',\n",
    "                     'label'))\n",
    "    for idx, row in tqdm(example_df.iterrows()):\n",
    "            writer.writerow((idx,\n",
    "                             row['comment_time'],\n",
    "                             row['movie_id'],\n",
    "                             row['rating'],\n",
    "                             row['content'],\n",
    "                             row['label'],))\n"
   ]
  },
  {
   "cell_type": "code",
   "execution_count": 17,
   "metadata": {
    "colab": {
     "base_uri": "https://localhost:8080/"
    },
    "executionInfo": {
     "elapsed": 9253,
     "status": "ok",
     "timestamp": 1647251900642,
     "user": {
      "displayName": "Shiba Mao",
      "photoUrl": "https://lh3.googleusercontent.com/a/default-user=s64",
      "userId": "16549320756357564965"
     },
     "user_tz": 300
    },
    "id": "6dVR-Xd_elqW",
    "outputId": "48e26e3f-85d4-49c3-a4ca-2a88ed3e8dce"
   },
   "outputs": [
    {
     "name": "stderr",
     "output_type": "stream",
     "text": [
      "64852it [00:07, 8212.96it/s]\n"
     ]
    }
   ],
   "source": [
    "# comments that don't have ratings. This dataset could be used for prediction. \n",
    "comments_pred = comments[comments['label'] == -1].reset_index(drop=True)   \n",
    "\n",
    "file_pred = '/content/drive/MyDrive/Colab Notebooks/Content_analysis_final/prediction_data.csv'\n",
    "\n",
    "write_csv(comments_pred, file_pred)"
   ]
  },
  {
   "cell_type": "markdown",
   "metadata": {
    "id": "nkFi3Bn4RL8n"
   },
   "source": [
    "#### Split Test, Evaluation, and Test set. "
   ]
  },
  {
   "cell_type": "code",
   "execution_count": 18,
   "metadata": {
    "executionInfo": {
     "elapsed": 190,
     "status": "ok",
     "timestamp": 1647251900821,
     "user": {
      "displayName": "Shiba Mao",
      "photoUrl": "https://lh3.googleusercontent.com/a/default-user=s64",
      "userId": "16549320756357564965"
     },
     "user_tz": 300
    },
    "id": "fMsaC5Mgfrg0"
   },
   "outputs": [],
   "source": [
    "# split the rest into train set and test set\n",
    "train_test_comments = comments[comments['label'] != -1].reset_index(drop=True)\n",
    "train_idx, test_idx = train_test_split(train_test_comments.index, \n",
    "                                       test_size=TEST_SIZE, \n",
    "                                       random_state=RANDOM_STATE)"
   ]
  },
  {
   "cell_type": "code",
   "execution_count": 19,
   "metadata": {
    "colab": {
     "base_uri": "https://localhost:8080/"
    },
    "executionInfo": {
     "elapsed": 493,
     "status": "ok",
     "timestamp": 1647251901312,
     "user": {
      "displayName": "Shiba Mao",
      "photoUrl": "https://lh3.googleusercontent.com/a/default-user=s64",
      "userId": "16549320756357564965"
     },
     "user_tz": 300
    },
    "id": "QBXeR2-wS1kS",
    "outputId": "1f024c8d-e65f-4761-ac5c-40e4b42357ec"
   },
   "outputs": [
    {
     "data": {
      "text/plain": [
       "Counter({0: 394089, 1: 335494})"
      ]
     },
     "execution_count": 19,
     "metadata": {},
     "output_type": "execute_result"
    }
   ],
   "source": [
    "train_comments = train_test_comments.iloc[train_idx, :]\n",
    "Counter(train_comments['label'])"
   ]
  },
  {
   "cell_type": "code",
   "execution_count": 20,
   "metadata": {
    "colab": {
     "base_uri": "https://localhost:8080/"
    },
    "executionInfo": {
     "elapsed": 3,
     "status": "ok",
     "timestamp": 1647251901312,
     "user": {
      "displayName": "Shiba Mao",
      "photoUrl": "https://lh3.googleusercontent.com/a/default-user=s64",
      "userId": "16549320756357564965"
     },
     "user_tz": 300
    },
    "id": "33kXjkkbS22k",
    "outputId": "97edce62-9873-4051-86f9-5f45451a2eba"
   },
   "outputs": [
    {
     "data": {
      "text/plain": [
       "Counter({0: 168670, 1: 144009})"
      ]
     },
     "execution_count": 20,
     "metadata": {},
     "output_type": "execute_result"
    }
   ],
   "source": [
    "test_comments = train_test_comments.iloc[test_idx, :]\n",
    "Counter(test_comments['label'])"
   ]
  },
  {
   "cell_type": "code",
   "execution_count": 21,
   "metadata": {
    "colab": {
     "base_uri": "https://localhost:8080/"
    },
    "executionInfo": {
     "elapsed": 133841,
     "status": "ok",
     "timestamp": 1647252035151,
     "user": {
      "displayName": "Shiba Mao",
      "photoUrl": "https://lh3.googleusercontent.com/a/default-user=s64",
      "userId": "16549320756357564965"
     },
     "user_tz": 300
    },
    "id": "mlI-gh6rS7zn",
    "outputId": "ab75ab5d-d769-4105-fdd7-d42277488dbe"
   },
   "outputs": [
    {
     "name": "stderr",
     "output_type": "stream",
     "text": [
      "729583it [01:28, 8207.82it/s]\n",
      "312679it [00:38, 8130.16it/s]\n"
     ]
    }
   ],
   "source": [
    "train_comments = train_comments.reset_index(drop=True)\n",
    "test_comments = test_comments.reset_index(drop=True)\n",
    "\n",
    "file_train = '/content/drive/MyDrive/Colab Notebooks/Content_analysis_final/train_data.csv'\n",
    "file_test = '/content/drive/MyDrive/Colab Notebooks/Content_analysis_final/test_data.csv'\n",
    "\n",
    "write_csv(train_comments, file_train)\n",
    "write_csv(test_comments, file_test)"
   ]
  },
  {
   "cell_type": "code",
   "execution_count": 22,
   "metadata": {
    "executionInfo": {
     "elapsed": 3,
     "status": "ok",
     "timestamp": 1647252035151,
     "user": {
      "displayName": "Shiba Mao",
      "photoUrl": "https://lh3.googleusercontent.com/a/default-user=s64",
      "userId": "16549320756357564965"
     },
     "user_tz": 300
    },
    "id": "iC9zr4QZTFvk"
   },
   "outputs": [],
   "source": [
    "train_bert_idx, eval_bert_idx = train_test_split(train_comments.index, \n",
    "                                                 test_size=TEST_SIZE, \n",
    "                                                 random_state=RANDOM_STATE)"
   ]
  },
  {
   "cell_type": "code",
   "execution_count": 23,
   "metadata": {
    "colab": {
     "base_uri": "https://localhost:8080/"
    },
    "executionInfo": {
     "elapsed": 378,
     "status": "ok",
     "timestamp": 1647252035527,
     "user": {
      "displayName": "Shiba Mao",
      "photoUrl": "https://lh3.googleusercontent.com/a/default-user=s64",
      "userId": "16549320756357564965"
     },
     "user_tz": 300
    },
    "id": "0evvcShxTF4K",
    "outputId": "d7875a04-b0d4-4252-de26-c1f631782fcc"
   },
   "outputs": [
    {
     "data": {
      "text/plain": [
       "Counter({0: 275855, 1: 234853})"
      ]
     },
     "execution_count": 23,
     "metadata": {},
     "output_type": "execute_result"
    }
   ],
   "source": [
    "train_comments_bert = train_comments.iloc[train_bert_idx, :]\n",
    "Counter(train_comments_bert['label'])"
   ]
  },
  {
   "cell_type": "code",
   "execution_count": 24,
   "metadata": {
    "colab": {
     "base_uri": "https://localhost:8080/"
    },
    "executionInfo": {
     "elapsed": 5,
     "status": "ok",
     "timestamp": 1647252035528,
     "user": {
      "displayName": "Shiba Mao",
      "photoUrl": "https://lh3.googleusercontent.com/a/default-user=s64",
      "userId": "16549320756357564965"
     },
     "user_tz": 300
    },
    "id": "JKkpVdraTUGG",
    "outputId": "7ec975ef-e6b4-4efc-fd91-2312d0b435cd"
   },
   "outputs": [
    {
     "data": {
      "text/plain": [
       "Counter({0: 118234, 1: 100641})"
      ]
     },
     "execution_count": 24,
     "metadata": {},
     "output_type": "execute_result"
    }
   ],
   "source": [
    "eval_comments_bert = train_comments.iloc[eval_bert_idx, :]\n",
    "Counter(eval_comments_bert['label'])"
   ]
  },
  {
   "cell_type": "code",
   "execution_count": 25,
   "metadata": {
    "colab": {
     "base_uri": "https://localhost:8080/"
    },
    "executionInfo": {
     "elapsed": 95429,
     "status": "ok",
     "timestamp": 1647252130954,
     "user": {
      "displayName": "Shiba Mao",
      "photoUrl": "https://lh3.googleusercontent.com/a/default-user=s64",
      "userId": "16549320756357564965"
     },
     "user_tz": 300
    },
    "id": "C3haFBHCTUIb",
    "outputId": "7d4d372f-5e83-4e85-ad9c-8f8a51b0d52b"
   },
   "outputs": [
    {
     "name": "stderr",
     "output_type": "stream",
     "text": [
      "510708it [01:02, 8218.29it/s]\n",
      "218875it [00:27, 8094.46it/s]\n"
     ]
    }
   ],
   "source": [
    "train_comments_bert = train_comments_bert.reset_index(drop=True)\n",
    "eval_comments_bert = eval_comments_bert.reset_index(drop=True)\n",
    "\n",
    "file_train_bert = '/content/drive/MyDrive/Colab Notebooks/Content_analysis_final/train_data_bert.csv'\n",
    "file_eval_bert = '/content/drive/MyDrive/Colab Notebooks/Content_analysis_final/eval_data_bert.csv'\n",
    "\n",
    "write_csv(train_comments_bert, file_train_bert)\n",
    "write_csv(eval_comments_bert, file_eval_bert)"
   ]
  },
  {
   "cell_type": "markdown",
   "metadata": {
    "id": "iMetahoGUT3u"
   },
   "source": [
    "### Train Bert Model\n",
    "\n",
    "Here we won't spend much time on hyperparamer tuning(which could be done in future development). The first priority is combining bert and other methods to cross-validate the sentiment polarization trend. \n",
    "\n",
    "In this section, I'll first train a Bert model on the whole training set, and conduct sentiment analysis on the test set. Mean and variance of sentiment scores will be calculated to see if the sentiment scores are becoming polarized overtime. Second, borrowing ideas from perpexity, Word2Vec will be used to help test this trend. We'll train two word2vec models using comments from two time periods. For both word2vec model and 2 time periods, we will use comments from the other time period and the word2vec model trained on this time period to see which comments are farthest to all the movie comments from the current time period. After identifying those most distinctive comments, I'll use the fine-tuned bert model to see if there's a disparity of sentiment between this two set of commments. \n",
    "\n",
    "The training code is from huggingface's official [Transformers tutorial](https://huggingface.co/docs/transformers/training#finetune-with-trainer)."
   ]
  },
  {
   "cell_type": "markdown",
   "metadata": {
    "id": "KAJi41ltYInq"
   },
   "source": [
    "#### Fine-tuning"
   ]
  },
  {
   "cell_type": "code",
   "execution_count": 26,
   "metadata": {
    "colab": {
     "base_uri": "https://localhost:8080/",
     "height": 286,
     "referenced_widgets": [
      "827604d6854b4564ae1f2ead042a5aa2",
      "ce27371c75ae4e3d9f0468e83fc695fb",
      "9cd451cd462d48bfad7346296f094e02",
      "4a9d0e71d2b54672ad9ed0a6d771c18f",
      "ee2030b716444cfbba435f5db8e23484",
      "a933c1a4a37b4c679f6c5d869a206ff4",
      "150c9c9a26a046adac191365e483c56c",
      "b8d470f0576d405b9bb9e5b8ed780f5e",
      "1103c4c13d044d42ba5dabbdbc62d904",
      "1178870423474f6cbbb77244c11d914b",
      "b09ec28ec195463db78c3073a8605725",
      "f1c1f4d0f0714b1c84ffdb8155f82328",
      "af510048212945c580ef361cb0eff110",
      "36704fa3b8b740e8a0f3612836d1424f",
      "9c4ef5f282c84ae8bdc0a9eb50556437",
      "1793a4d56acf4b41adfc61d4e9511358",
      "adf91316e76f4afe8857a24c01068a53",
      "8b416aa7356344e6be9846b390316421",
      "e56f5e4db0c045cf892e3c59244780d1",
      "262d31e650ea439cab4a6832b0f169fd",
      "813ca6065c1c4c67a5bf243afce85c41",
      "a50f3e5ae8254abead297ca8807b21ae",
      "59ff505b235c4c2f9cb5c8d3aa78dca3",
      "daf1a62df7464fcc9721f717141b9afb",
      "8ae99b17088a4140b18bff4078ffa3eb",
      "3298a51b62f54d1ea5545e94c34e10cd",
      "92f27ba462e24f6ea398a1be287dfb0d",
      "c5928044b2f3495bb2c2b747a618be82",
      "4db9cda1850d4df2a92f74f1c21e52de",
      "b3afad30ab2b46a898d4526fa3e5d36e",
      "ec032b2ede3b4d6db5269d9495a769ef",
      "5ff14393857e48559bafc230c91f006a",
      "bc8786905100487f8387bc1d7b7ac084",
      "4a3c8506b5b74e03a65a4719bb72a15b",
      "28fcfcf32d1642aa8c46d5acacc2b79b",
      "c9d9cf41b46c4ed9988aab11522cec61",
      "3cbbd3a6dc0346f691791eea5090bbe6",
      "0255df710cc048408a73d76dc8095872",
      "8b21bf0dc15f4553a653debd6de2c67b",
      "887bb6ef9a4e46a29985eb9eaf88f5b0",
      "5acb63f82a954c8b8969d6e56b8d8a5b",
      "3a09d485f38a44049bcaf96c8554ac0c",
      "385b5b7ad9d645feb591a851094dc781",
      "75c3063bd2684269a3e23ca3810e9bed",
      "58d7b20657954b44a55c679bbd290621",
      "901320252d0540f8a404254d23ffae35",
      "292648bd7cb14399a005574b2de6a917",
      "6da927e8916c48b28bc103bae9565d98",
      "1512f29e2cf0480ca609650c22c89017",
      "a8df7982b53b4f31a85ae5beb1f48e6a",
      "a70ae78cf00c464eb75cf6b64aeab0b3",
      "23656327af3c41d3a3a2f76ed4f5abb2",
      "82f656781b464b759d3655b16340a232",
      "4384f62d76984272b600a1bbc2d7ec0e",
      "f03775335a694a78b630f1e700aa4d3e"
     ]
    },
    "executionInfo": {
     "elapsed": 17894,
     "status": "ok",
     "timestamp": 1647252148836,
     "user": {
      "displayName": "Shiba Mao",
      "photoUrl": "https://lh3.googleusercontent.com/a/default-user=s64",
      "userId": "16549320756357564965"
     },
     "user_tz": 300
    },
    "id": "0gNXBFO3UXZX",
    "outputId": "00f383bc-ae9d-4737-bfe6-f27f110cc20a"
   },
   "outputs": [
    {
     "data": {
      "application/vnd.jupyter.widget-view+json": {
       "model_id": "827604d6854b4564ae1f2ead042a5aa2",
       "version_major": 2,
       "version_minor": 0
      },
      "text/plain": [
       "Downloading:   0%|          | 0.00/29.0 [00:00<?, ?B/s]"
      ]
     },
     "metadata": {},
     "output_type": "display_data"
    },
    {
     "data": {
      "application/vnd.jupyter.widget-view+json": {
       "model_id": "f1c1f4d0f0714b1c84ffdb8155f82328",
       "version_major": 2,
       "version_minor": 0
      },
      "text/plain": [
       "Downloading:   0%|          | 0.00/624 [00:00<?, ?B/s]"
      ]
     },
     "metadata": {},
     "output_type": "display_data"
    },
    {
     "data": {
      "application/vnd.jupyter.widget-view+json": {
       "model_id": "59ff505b235c4c2f9cb5c8d3aa78dca3",
       "version_major": 2,
       "version_minor": 0
      },
      "text/plain": [
       "Downloading:   0%|          | 0.00/107k [00:00<?, ?B/s]"
      ]
     },
     "metadata": {},
     "output_type": "display_data"
    },
    {
     "data": {
      "application/vnd.jupyter.widget-view+json": {
       "model_id": "4a3c8506b5b74e03a65a4719bb72a15b",
       "version_major": 2,
       "version_minor": 0
      },
      "text/plain": [
       "Downloading:   0%|          | 0.00/263k [00:00<?, ?B/s]"
      ]
     },
     "metadata": {},
     "output_type": "display_data"
    },
    {
     "data": {
      "application/vnd.jupyter.widget-view+json": {
       "model_id": "58d7b20657954b44a55c679bbd290621",
       "version_major": 2,
       "version_minor": 0
      },
      "text/plain": [
       "Downloading:   0%|          | 0.00/393M [00:00<?, ?B/s]"
      ]
     },
     "metadata": {},
     "output_type": "display_data"
    },
    {
     "name": "stderr",
     "output_type": "stream",
     "text": [
      "Some weights of the model checkpoint at bert-base-chinese were not used when initializing BertForSequenceClassification: ['cls.predictions.decoder.weight', 'cls.predictions.transform.LayerNorm.bias', 'cls.predictions.transform.LayerNorm.weight', 'cls.predictions.transform.dense.weight', 'cls.predictions.transform.dense.bias', 'cls.predictions.bias', 'cls.seq_relationship.weight', 'cls.seq_relationship.bias']\n",
      "- This IS expected if you are initializing BertForSequenceClassification from the checkpoint of a model trained on another task or with another architecture (e.g. initializing a BertForSequenceClassification model from a BertForPreTraining model).\n",
      "- This IS NOT expected if you are initializing BertForSequenceClassification from the checkpoint of a model that you expect to be exactly identical (initializing a BertForSequenceClassification model from a BertForSequenceClassification model).\n",
      "Some weights of BertForSequenceClassification were not initialized from the model checkpoint at bert-base-chinese and are newly initialized: ['classifier.bias', 'classifier.weight']\n",
      "You should probably TRAIN this model on a down-stream task to be able to use it for predictions and inference.\n"
     ]
    }
   ],
   "source": [
    "tokenizer = AutoTokenizer.from_pretrained(\"bert-base-chinese\")\n",
    "model = AutoModelForSequenceClassification.from_pretrained(\"bert-base-chinese\", num_labels=2)"
   ]
  },
  {
   "cell_type": "code",
   "execution_count": 27,
   "metadata": {
    "executionInfo": {
     "elapsed": 10,
     "status": "ok",
     "timestamp": 1647252148836,
     "user": {
      "displayName": "Shiba Mao",
      "photoUrl": "https://lh3.googleusercontent.com/a/default-user=s64",
      "userId": "16549320756357564965"
     },
     "user_tz": 300
    },
    "id": "IcSrT9ePYQKO"
   },
   "outputs": [],
   "source": [
    "# we don't have enough cuda memory to train a model with max_lenght of 512.\n",
    "def tokenize_function(examples):\n",
    "    return tokenizer(examples[\"text\"], padding=\"max_length\", max_length=128, truncation=True)"
   ]
  },
  {
   "cell_type": "code",
   "execution_count": 28,
   "metadata": {
    "colab": {
     "base_uri": "https://localhost:8080/",
     "height": 365,
     "referenced_widgets": [
      "a76c68b3a52d4652ba7005f89bdd70d0",
      "b6c4452dfe8d4690a06460932fc27dc0",
      "bb75d8e331cc45c3b47a01ba055fff77",
      "86b2e1d2a51e42308156c5552454f01b",
      "c68abbaa2cc0419eb88efdb1218d2df3",
      "970bf792487e425db927afac8070f128",
      "9dac458c5dbd4af7a93136e15edc7e86",
      "775def5085d74ba6957715475815149b",
      "c84ad3e2865c44de8bab7b4b34dc0565",
      "f221403c50ef47d4951b54169b74e957",
      "9969f8b9d7a048919bb0789789155cd3",
      "9c6e8711c7214bbb88ff5f7291755fc8",
      "67232f219c2a45718706d43104f6daf5",
      "913a64b834cc4ae0ae571a95c6db5aaa",
      "827d3317a7e8405a950f5175688a5bbd",
      "ebb8d74ecdd84bdf9ee38ce0103f18fa",
      "ba82d61d2a9d4efb90004091c58f6fd8",
      "86a0229f37b44d77adec63dc3c7a8e61",
      "8e056d0d2fb94db3ad2f99eb384455d6",
      "0f9b84071a404127b344dd1365046155",
      "517c3c4bd1734a199292abca4b127839",
      "ca0350e41abf442986304635902e67c4",
      "ec88a0d6b1df4f6d8a5fdb37e7cb4247",
      "a4af9726992e4062b376d16a7ee82d06",
      "18db1e6551654388ac7ac91a15fa1aa7",
      "944ff5d5fbf84186baedeffd29a76d33",
      "4891bd604be547628e18d230e5c34771",
      "385fc34c21064029b92fc33e252e6277",
      "95307834740342afbd2e2f92d9d35135",
      "3489cfbd8bce491d8ebab40d1ab26448",
      "759329296a854d1e93b7ff71d46e2c3b",
      "0b863bba773649f29b656aa913251286",
      "a69655e1c2cf49a9b363637cdd37fa0a"
     ]
    },
    "executionInfo": {
     "elapsed": 4214,
     "status": "ok",
     "timestamp": 1647252153041,
     "user": {
      "displayName": "Shiba Mao",
      "photoUrl": "https://lh3.googleusercontent.com/a/default-user=s64",
      "userId": "16549320756357564965"
     },
     "user_tz": 300
    },
    "id": "7vN3Pj8MYQSB",
    "outputId": "8138b0b6-8114-4469-86d4-d0f937ffab48"
   },
   "outputs": [
    {
     "name": "stderr",
     "output_type": "stream",
     "text": [
      "Using custom data configuration default-95590d82345bca1a\n"
     ]
    },
    {
     "name": "stdout",
     "output_type": "stream",
     "text": [
      "Downloading and preparing dataset csv/default to /root/.cache/huggingface/datasets/csv/default-95590d82345bca1a/0.0.0/433e0ccc46f9880962cc2b12065189766fbb2bee57a221866138fb9203c83519...\n"
     ]
    },
    {
     "data": {
      "application/vnd.jupyter.widget-view+json": {
       "model_id": "a76c68b3a52d4652ba7005f89bdd70d0",
       "version_major": 2,
       "version_minor": 0
      },
      "text/plain": [
       "  0%|          | 0/2 [00:00<?, ?it/s]"
      ]
     },
     "metadata": {},
     "output_type": "display_data"
    },
    {
     "data": {
      "application/vnd.jupyter.widget-view+json": {
       "model_id": "9c6e8711c7214bbb88ff5f7291755fc8",
       "version_major": 2,
       "version_minor": 0
      },
      "text/plain": [
       "  0%|          | 0/2 [00:00<?, ?it/s]"
      ]
     },
     "metadata": {},
     "output_type": "display_data"
    },
    {
     "name": "stdout",
     "output_type": "stream",
     "text": [
      "Dataset csv downloaded and prepared to /root/.cache/huggingface/datasets/csv/default-95590d82345bca1a/0.0.0/433e0ccc46f9880962cc2b12065189766fbb2bee57a221866138fb9203c83519. Subsequent calls will reuse this data.\n"
     ]
    },
    {
     "data": {
      "application/vnd.jupyter.widget-view+json": {
       "model_id": "ec88a0d6b1df4f6d8a5fdb37e7cb4247",
       "version_major": 2,
       "version_minor": 0
      },
      "text/plain": [
       "  0%|          | 0/2 [00:00<?, ?it/s]"
      ]
     },
     "metadata": {},
     "output_type": "display_data"
    },
    {
     "data": {
      "text/plain": [
       "DatasetDict({\n",
       "    train: Dataset({\n",
       "        features: ['text', 'label'],\n",
       "        num_rows: 510708\n",
       "    })\n",
       "    test: Dataset({\n",
       "        features: ['text', 'label'],\n",
       "        num_rows: 218875\n",
       "    })\n",
       "})"
      ]
     },
     "execution_count": 28,
     "metadata": {},
     "output_type": "execute_result"
    }
   ],
   "source": [
    "dataset = load_dataset('csv', data_files={'train': '/content/drive/MyDrive/Colab Notebooks/Content_analysis_final/train_data_bert.csv',\n",
    "                                          'test': '/content/drive/MyDrive/Colab Notebooks/Content_analysis_final/eval_data_bert.csv'})\n",
    "dataset = dataset.rename_column(\"content\", \"text\")\n",
    "dataset = dataset.remove_columns(['index', 'comment_time','movie_id', 'rating'])\n",
    "dataset"
   ]
  },
  {
   "cell_type": "code",
   "execution_count": 29,
   "metadata": {
    "colab": {
     "base_uri": "https://localhost:8080/",
     "height": 81,
     "referenced_widgets": [
      "1b39da323b4e4ec9b8346405057bdde3",
      "b3b705a2e5334209b49399223cc2ab1b",
      "9cea07c2d7bc46248eae3606a9ebad3a",
      "92c55393ba724d1d99f8e1b1fb710dc9",
      "b87ba0a893da4f2199f82c363dccba54",
      "90d104f68da8422e9640c4c98165149a",
      "1b784fcd4d6340d4bcdd4996c1ee81e6",
      "0e855a5afa00477293e388462bca30b6",
      "f3bdf0bac92e46409de706128ac62533",
      "88d0a9cc27a04fd88afd5aafc872e306",
      "ef69d502d140433db3deb1604dabd49a",
      "2b7e2e9872c04667ad8750df1b6f5a25",
      "f053b87067b84ef39ddeb489666ad38e",
      "05889318bd12464e8c73ba32579bc309",
      "82a48d53edf444f0911e4122d2576ac0",
      "a519bf7694f747d98bbb9dc690df8be0",
      "a6838fd0ee444732a94b4bcdc2dae52a",
      "d189bd9b0464403f900b0ab223d0251b",
      "04e1c69bf46b48b0bbc342c8e383ee2f",
      "2270111ab3cb4c11a853b2417ae3f80d",
      "c3f96c2752624a7180641a29d4ce2d8c",
      "bf6fc07689e5442b9eb63c285f69a120"
     ]
    },
    "executionInfo": {
     "elapsed": 62812,
     "status": "ok",
     "timestamp": 1647252215851,
     "user": {
      "displayName": "Shiba Mao",
      "photoUrl": "https://lh3.googleusercontent.com/a/default-user=s64",
      "userId": "16549320756357564965"
     },
     "user_tz": 300
    },
    "id": "Xc-1rl3YYpus",
    "outputId": "619c6e16-0bfa-490d-9b0c-d87910cfb784"
   },
   "outputs": [
    {
     "data": {
      "application/vnd.jupyter.widget-view+json": {
       "model_id": "1b39da323b4e4ec9b8346405057bdde3",
       "version_major": 2,
       "version_minor": 0
      },
      "text/plain": [
       "  0%|          | 0/511 [00:00<?, ?ba/s]"
      ]
     },
     "metadata": {},
     "output_type": "display_data"
    },
    {
     "data": {
      "application/vnd.jupyter.widget-view+json": {
       "model_id": "2b7e2e9872c04667ad8750df1b6f5a25",
       "version_major": 2,
       "version_minor": 0
      },
      "text/plain": [
       "  0%|          | 0/219 [00:00<?, ?ba/s]"
      ]
     },
     "metadata": {},
     "output_type": "display_data"
    }
   ],
   "source": [
    "tokenized_datasets = dataset.map(tokenize_function, batched=True)"
   ]
  },
  {
   "cell_type": "code",
   "execution_count": 30,
   "metadata": {
    "executionInfo": {
     "elapsed": 4,
     "status": "ok",
     "timestamp": 1647252215851,
     "user": {
      "displayName": "Shiba Mao",
      "photoUrl": "https://lh3.googleusercontent.com/a/default-user=s64",
      "userId": "16549320756357564965"
     },
     "user_tz": 300
    },
    "id": "NJmo0aUxYpxD"
   },
   "outputs": [],
   "source": [
    "train_dataset = tokenized_datasets[\"train\"].shuffle(seed=RANDOM_STATE)\n",
    "eval_dataset = tokenized_datasets[\"test\"].shuffle(seed=RANDOM_STATE)"
   ]
  },
  {
   "cell_type": "code",
   "execution_count": 31,
   "metadata": {
    "colab": {
     "base_uri": "https://localhost:8080/",
     "height": 49,
     "referenced_widgets": [
      "48762b2b2cce4526bff81578c0d52ec3",
      "8c2a989e923a4cb78f73b3e324d8dfab",
      "765a1fecbfbf42aea0951bb0e6f915b4",
      "4d397a8e23e54437957624aa3fb99993",
      "9f6a55327e2246069e694fe52ecf64d5",
      "d0768fb3bad7457ba8f12496c869bcbd",
      "233ac6c9206e44498c3d50e125ef53a6",
      "e7e151c939d04089ab86d364a48360de",
      "bd1e44865b0c4826875f1f1a533a29a4",
      "56fa00e26729470aa6fb6dd620d39439",
      "0783ec9a6766454fb90e5b1bc58bf841"
     ]
    },
    "executionInfo": {
     "elapsed": 809,
     "status": "ok",
     "timestamp": 1647252216657,
     "user": {
      "displayName": "Shiba Mao",
      "photoUrl": "https://lh3.googleusercontent.com/a/default-user=s64",
      "userId": "16549320756357564965"
     },
     "user_tz": 300
    },
    "id": "xHFzJ5xpYpzJ",
    "outputId": "494be546-911c-48c9-a063-ccb8c9bf79a0"
   },
   "outputs": [
    {
     "data": {
      "application/vnd.jupyter.widget-view+json": {
       "model_id": "48762b2b2cce4526bff81578c0d52ec3",
       "version_major": 2,
       "version_minor": 0
      },
      "text/plain": [
       "Downloading:   0%|          | 0.00/2.06k [00:00<?, ?B/s]"
      ]
     },
     "metadata": {},
     "output_type": "display_data"
    }
   ],
   "source": [
    "# here we set batch_size=32 cause we have 24 hours time limit on Colab\n",
    "# otherwise we need to resume from checkpoints many times!\n",
    "training_args = TrainingArguments(output_dir=\"/content/drive/MyDrive/Colab Notebooks/Content_analysis_final/output_bert\", \n",
    "                                  num_train_epochs=2,\n",
    "                                  per_device_train_batch_size=32,\n",
    "                                  per_device_eval_batch_size=64,\n",
    "                                  # save_strategy = \"steps\"\n",
    "                                  # save_steps = 10000\n",
    "                                  evaluation_strategy=\"epoch\")\n",
    "metric = load_metric(\"f1\")"
   ]
  },
  {
   "cell_type": "code",
   "execution_count": 32,
   "metadata": {
    "executionInfo": {
     "elapsed": 3,
     "status": "ok",
     "timestamp": 1647252216657,
     "user": {
      "displayName": "Shiba Mao",
      "photoUrl": "https://lh3.googleusercontent.com/a/default-user=s64",
      "userId": "16549320756357564965"
     },
     "user_tz": 300
    },
    "id": "zIHTSHSbYp1h"
   },
   "outputs": [],
   "source": [
    "def compute_metrics(eval_pred):\n",
    "    logits, labels = eval_pred\n",
    "    predictions = np.argmax(logits, axis=-1)\n",
    "    return metric.compute(predictions=predictions, references=labels)"
   ]
  },
  {
   "cell_type": "code",
   "execution_count": 33,
   "metadata": {
    "colab": {
     "base_uri": "https://localhost:8080/",
     "height": 1000
    },
    "executionInfo": {
     "elapsed": 15305369,
     "status": "ok",
     "timestamp": 1647267522023,
     "user": {
      "displayName": "Shiba Mao",
      "photoUrl": "https://lh3.googleusercontent.com/a/default-user=s64",
      "userId": "16549320756357564965"
     },
     "user_tz": 300
    },
    "id": "67j6rWn0Yp3z",
    "outputId": "3f65ee69-081a-42f4-f5ce-74608bd85618"
   },
   "outputs": [
    {
     "name": "stderr",
     "output_type": "stream",
     "text": [
      "***** Running training *****\n",
      "  Num examples = 510708\n",
      "  Num Epochs = 2\n",
      "  Instantaneous batch size per device = 32\n",
      "  Total train batch size (w. parallel, distributed & accumulation) = 32\n",
      "  Gradient Accumulation steps = 1\n",
      "  Total optimization steps = 31920\n"
     ]
    },
    {
     "data": {
      "text/html": [
       "\n",
       "    <div>\n",
       "      \n",
       "      <progress value='31920' max='31920' style='width:300px; height:20px; vertical-align: middle;'></progress>\n",
       "      [31920/31920 4:14:52, Epoch 2/2]\n",
       "    </div>\n",
       "    <table border=\"1\" class=\"dataframe\">\n",
       "  <thead>\n",
       " <tr style=\"text-align: left;\">\n",
       "      <th>Epoch</th>\n",
       "      <th>Training Loss</th>\n",
       "      <th>Validation Loss</th>\n",
       "      <th>F1</th>\n",
       "    </tr>\n",
       "  </thead>\n",
       "  <tbody>\n",
       "    <tr>\n",
       "      <td>1</td>\n",
       "      <td>0.535600</td>\n",
       "      <td>0.530979</td>\n",
       "      <td>0.705905</td>\n",
       "    </tr>\n",
       "    <tr>\n",
       "      <td>2</td>\n",
       "      <td>0.483400</td>\n",
       "      <td>0.499687</td>\n",
       "      <td>0.730732</td>\n",
       "    </tr>\n",
       "  </tbody>\n",
       "</table><p>"
      ],
      "text/plain": [
       "<IPython.core.display.HTML object>"
      ]
     },
     "metadata": {},
     "output_type": "display_data"
    },
    {
     "name": "stderr",
     "output_type": "stream",
     "text": [
      "Saving model checkpoint to /content/drive/MyDrive/Colab Notebooks/Content_analysis_final/output_bert/checkpoint-500\n",
      "Configuration saved in /content/drive/MyDrive/Colab Notebooks/Content_analysis_final/output_bert/checkpoint-500/config.json\n",
      "Model weights saved in /content/drive/MyDrive/Colab Notebooks/Content_analysis_final/output_bert/checkpoint-500/pytorch_model.bin\n",
      "Saving model checkpoint to /content/drive/MyDrive/Colab Notebooks/Content_analysis_final/output_bert/checkpoint-1000\n",
      "Configuration saved in /content/drive/MyDrive/Colab Notebooks/Content_analysis_final/output_bert/checkpoint-1000/config.json\n",
      "Model weights saved in /content/drive/MyDrive/Colab Notebooks/Content_analysis_final/output_bert/checkpoint-1000/pytorch_model.bin\n",
      "Saving model checkpoint to /content/drive/MyDrive/Colab Notebooks/Content_analysis_final/output_bert/checkpoint-1500\n",
      "Configuration saved in /content/drive/MyDrive/Colab Notebooks/Content_analysis_final/output_bert/checkpoint-1500/config.json\n",
      "Model weights saved in /content/drive/MyDrive/Colab Notebooks/Content_analysis_final/output_bert/checkpoint-1500/pytorch_model.bin\n",
      "Saving model checkpoint to /content/drive/MyDrive/Colab Notebooks/Content_analysis_final/output_bert/checkpoint-2000\n",
      "Configuration saved in /content/drive/MyDrive/Colab Notebooks/Content_analysis_final/output_bert/checkpoint-2000/config.json\n",
      "Model weights saved in /content/drive/MyDrive/Colab Notebooks/Content_analysis_final/output_bert/checkpoint-2000/pytorch_model.bin\n",
      "Saving model checkpoint to /content/drive/MyDrive/Colab Notebooks/Content_analysis_final/output_bert/checkpoint-2500\n",
      "Configuration saved in /content/drive/MyDrive/Colab Notebooks/Content_analysis_final/output_bert/checkpoint-2500/config.json\n",
      "Model weights saved in /content/drive/MyDrive/Colab Notebooks/Content_analysis_final/output_bert/checkpoint-2500/pytorch_model.bin\n",
      "Saving model checkpoint to /content/drive/MyDrive/Colab Notebooks/Content_analysis_final/output_bert/checkpoint-3000\n",
      "Configuration saved in /content/drive/MyDrive/Colab Notebooks/Content_analysis_final/output_bert/checkpoint-3000/config.json\n",
      "Model weights saved in /content/drive/MyDrive/Colab Notebooks/Content_analysis_final/output_bert/checkpoint-3000/pytorch_model.bin\n",
      "Saving model checkpoint to /content/drive/MyDrive/Colab Notebooks/Content_analysis_final/output_bert/checkpoint-3500\n",
      "Configuration saved in /content/drive/MyDrive/Colab Notebooks/Content_analysis_final/output_bert/checkpoint-3500/config.json\n",
      "Model weights saved in /content/drive/MyDrive/Colab Notebooks/Content_analysis_final/output_bert/checkpoint-3500/pytorch_model.bin\n",
      "Saving model checkpoint to /content/drive/MyDrive/Colab Notebooks/Content_analysis_final/output_bert/checkpoint-4000\n",
      "Configuration saved in /content/drive/MyDrive/Colab Notebooks/Content_analysis_final/output_bert/checkpoint-4000/config.json\n",
      "Model weights saved in /content/drive/MyDrive/Colab Notebooks/Content_analysis_final/output_bert/checkpoint-4000/pytorch_model.bin\n",
      "Saving model checkpoint to /content/drive/MyDrive/Colab Notebooks/Content_analysis_final/output_bert/checkpoint-4500\n",
      "Configuration saved in /content/drive/MyDrive/Colab Notebooks/Content_analysis_final/output_bert/checkpoint-4500/config.json\n",
      "Model weights saved in /content/drive/MyDrive/Colab Notebooks/Content_analysis_final/output_bert/checkpoint-4500/pytorch_model.bin\n",
      "Saving model checkpoint to /content/drive/MyDrive/Colab Notebooks/Content_analysis_final/output_bert/checkpoint-5000\n",
      "Configuration saved in /content/drive/MyDrive/Colab Notebooks/Content_analysis_final/output_bert/checkpoint-5000/config.json\n",
      "Model weights saved in /content/drive/MyDrive/Colab Notebooks/Content_analysis_final/output_bert/checkpoint-5000/pytorch_model.bin\n",
      "Saving model checkpoint to /content/drive/MyDrive/Colab Notebooks/Content_analysis_final/output_bert/checkpoint-5500\n",
      "Configuration saved in /content/drive/MyDrive/Colab Notebooks/Content_analysis_final/output_bert/checkpoint-5500/config.json\n",
      "Model weights saved in /content/drive/MyDrive/Colab Notebooks/Content_analysis_final/output_bert/checkpoint-5500/pytorch_model.bin\n",
      "Saving model checkpoint to /content/drive/MyDrive/Colab Notebooks/Content_analysis_final/output_bert/checkpoint-6000\n",
      "Configuration saved in /content/drive/MyDrive/Colab Notebooks/Content_analysis_final/output_bert/checkpoint-6000/config.json\n",
      "Model weights saved in /content/drive/MyDrive/Colab Notebooks/Content_analysis_final/output_bert/checkpoint-6000/pytorch_model.bin\n",
      "Saving model checkpoint to /content/drive/MyDrive/Colab Notebooks/Content_analysis_final/output_bert/checkpoint-6500\n",
      "Configuration saved in /content/drive/MyDrive/Colab Notebooks/Content_analysis_final/output_bert/checkpoint-6500/config.json\n",
      "Model weights saved in /content/drive/MyDrive/Colab Notebooks/Content_analysis_final/output_bert/checkpoint-6500/pytorch_model.bin\n",
      "Saving model checkpoint to /content/drive/MyDrive/Colab Notebooks/Content_analysis_final/output_bert/checkpoint-7000\n",
      "Configuration saved in /content/drive/MyDrive/Colab Notebooks/Content_analysis_final/output_bert/checkpoint-7000/config.json\n",
      "Model weights saved in /content/drive/MyDrive/Colab Notebooks/Content_analysis_final/output_bert/checkpoint-7000/pytorch_model.bin\n",
      "Saving model checkpoint to /content/drive/MyDrive/Colab Notebooks/Content_analysis_final/output_bert/checkpoint-7500\n",
      "Configuration saved in /content/drive/MyDrive/Colab Notebooks/Content_analysis_final/output_bert/checkpoint-7500/config.json\n",
      "Model weights saved in /content/drive/MyDrive/Colab Notebooks/Content_analysis_final/output_bert/checkpoint-7500/pytorch_model.bin\n",
      "Saving model checkpoint to /content/drive/MyDrive/Colab Notebooks/Content_analysis_final/output_bert/checkpoint-8000\n",
      "Configuration saved in /content/drive/MyDrive/Colab Notebooks/Content_analysis_final/output_bert/checkpoint-8000/config.json\n",
      "Model weights saved in /content/drive/MyDrive/Colab Notebooks/Content_analysis_final/output_bert/checkpoint-8000/pytorch_model.bin\n",
      "Saving model checkpoint to /content/drive/MyDrive/Colab Notebooks/Content_analysis_final/output_bert/checkpoint-8500\n",
      "Configuration saved in /content/drive/MyDrive/Colab Notebooks/Content_analysis_final/output_bert/checkpoint-8500/config.json\n",
      "Model weights saved in /content/drive/MyDrive/Colab Notebooks/Content_analysis_final/output_bert/checkpoint-8500/pytorch_model.bin\n",
      "Saving model checkpoint to /content/drive/MyDrive/Colab Notebooks/Content_analysis_final/output_bert/checkpoint-9000\n",
      "Configuration saved in /content/drive/MyDrive/Colab Notebooks/Content_analysis_final/output_bert/checkpoint-9000/config.json\n",
      "Model weights saved in /content/drive/MyDrive/Colab Notebooks/Content_analysis_final/output_bert/checkpoint-9000/pytorch_model.bin\n",
      "Saving model checkpoint to /content/drive/MyDrive/Colab Notebooks/Content_analysis_final/output_bert/checkpoint-9500\n",
      "Configuration saved in /content/drive/MyDrive/Colab Notebooks/Content_analysis_final/output_bert/checkpoint-9500/config.json\n",
      "Model weights saved in /content/drive/MyDrive/Colab Notebooks/Content_analysis_final/output_bert/checkpoint-9500/pytorch_model.bin\n",
      "Saving model checkpoint to /content/drive/MyDrive/Colab Notebooks/Content_analysis_final/output_bert/checkpoint-10000\n",
      "Configuration saved in /content/drive/MyDrive/Colab Notebooks/Content_analysis_final/output_bert/checkpoint-10000/config.json\n",
      "Model weights saved in /content/drive/MyDrive/Colab Notebooks/Content_analysis_final/output_bert/checkpoint-10000/pytorch_model.bin\n",
      "Saving model checkpoint to /content/drive/MyDrive/Colab Notebooks/Content_analysis_final/output_bert/checkpoint-10500\n",
      "Configuration saved in /content/drive/MyDrive/Colab Notebooks/Content_analysis_final/output_bert/checkpoint-10500/config.json\n",
      "Model weights saved in /content/drive/MyDrive/Colab Notebooks/Content_analysis_final/output_bert/checkpoint-10500/pytorch_model.bin\n",
      "Saving model checkpoint to /content/drive/MyDrive/Colab Notebooks/Content_analysis_final/output_bert/checkpoint-11000\n",
      "Configuration saved in /content/drive/MyDrive/Colab Notebooks/Content_analysis_final/output_bert/checkpoint-11000/config.json\n",
      "Model weights saved in /content/drive/MyDrive/Colab Notebooks/Content_analysis_final/output_bert/checkpoint-11000/pytorch_model.bin\n",
      "Saving model checkpoint to /content/drive/MyDrive/Colab Notebooks/Content_analysis_final/output_bert/checkpoint-11500\n",
      "Configuration saved in /content/drive/MyDrive/Colab Notebooks/Content_analysis_final/output_bert/checkpoint-11500/config.json\n",
      "Model weights saved in /content/drive/MyDrive/Colab Notebooks/Content_analysis_final/output_bert/checkpoint-11500/pytorch_model.bin\n",
      "Saving model checkpoint to /content/drive/MyDrive/Colab Notebooks/Content_analysis_final/output_bert/checkpoint-12000\n",
      "Configuration saved in /content/drive/MyDrive/Colab Notebooks/Content_analysis_final/output_bert/checkpoint-12000/config.json\n",
      "Model weights saved in /content/drive/MyDrive/Colab Notebooks/Content_analysis_final/output_bert/checkpoint-12000/pytorch_model.bin\n",
      "Saving model checkpoint to /content/drive/MyDrive/Colab Notebooks/Content_analysis_final/output_bert/checkpoint-12500\n",
      "Configuration saved in /content/drive/MyDrive/Colab Notebooks/Content_analysis_final/output_bert/checkpoint-12500/config.json\n",
      "Model weights saved in /content/drive/MyDrive/Colab Notebooks/Content_analysis_final/output_bert/checkpoint-12500/pytorch_model.bin\n",
      "Saving model checkpoint to /content/drive/MyDrive/Colab Notebooks/Content_analysis_final/output_bert/checkpoint-13000\n",
      "Configuration saved in /content/drive/MyDrive/Colab Notebooks/Content_analysis_final/output_bert/checkpoint-13000/config.json\n",
      "Model weights saved in /content/drive/MyDrive/Colab Notebooks/Content_analysis_final/output_bert/checkpoint-13000/pytorch_model.bin\n",
      "Saving model checkpoint to /content/drive/MyDrive/Colab Notebooks/Content_analysis_final/output_bert/checkpoint-13500\n",
      "Configuration saved in /content/drive/MyDrive/Colab Notebooks/Content_analysis_final/output_bert/checkpoint-13500/config.json\n",
      "Model weights saved in /content/drive/MyDrive/Colab Notebooks/Content_analysis_final/output_bert/checkpoint-13500/pytorch_model.bin\n",
      "Saving model checkpoint to /content/drive/MyDrive/Colab Notebooks/Content_analysis_final/output_bert/checkpoint-14000\n",
      "Configuration saved in /content/drive/MyDrive/Colab Notebooks/Content_analysis_final/output_bert/checkpoint-14000/config.json\n",
      "Model weights saved in /content/drive/MyDrive/Colab Notebooks/Content_analysis_final/output_bert/checkpoint-14000/pytorch_model.bin\n",
      "Saving model checkpoint to /content/drive/MyDrive/Colab Notebooks/Content_analysis_final/output_bert/checkpoint-14500\n",
      "Configuration saved in /content/drive/MyDrive/Colab Notebooks/Content_analysis_final/output_bert/checkpoint-14500/config.json\n",
      "Model weights saved in /content/drive/MyDrive/Colab Notebooks/Content_analysis_final/output_bert/checkpoint-14500/pytorch_model.bin\n",
      "Saving model checkpoint to /content/drive/MyDrive/Colab Notebooks/Content_analysis_final/output_bert/checkpoint-15000\n",
      "Configuration saved in /content/drive/MyDrive/Colab Notebooks/Content_analysis_final/output_bert/checkpoint-15000/config.json\n",
      "Model weights saved in /content/drive/MyDrive/Colab Notebooks/Content_analysis_final/output_bert/checkpoint-15000/pytorch_model.bin\n",
      "Saving model checkpoint to /content/drive/MyDrive/Colab Notebooks/Content_analysis_final/output_bert/checkpoint-15500\n",
      "Configuration saved in /content/drive/MyDrive/Colab Notebooks/Content_analysis_final/output_bert/checkpoint-15500/config.json\n",
      "Model weights saved in /content/drive/MyDrive/Colab Notebooks/Content_analysis_final/output_bert/checkpoint-15500/pytorch_model.bin\n",
      "***** Running Evaluation *****\n",
      "  Num examples = 218875\n",
      "  Batch size = 64\n",
      "Saving model checkpoint to /content/drive/MyDrive/Colab Notebooks/Content_analysis_final/output_bert/checkpoint-16000\n",
      "Configuration saved in /content/drive/MyDrive/Colab Notebooks/Content_analysis_final/output_bert/checkpoint-16000/config.json\n",
      "Model weights saved in /content/drive/MyDrive/Colab Notebooks/Content_analysis_final/output_bert/checkpoint-16000/pytorch_model.bin\n",
      "Saving model checkpoint to /content/drive/MyDrive/Colab Notebooks/Content_analysis_final/output_bert/checkpoint-16500\n",
      "Configuration saved in /content/drive/MyDrive/Colab Notebooks/Content_analysis_final/output_bert/checkpoint-16500/config.json\n",
      "Model weights saved in /content/drive/MyDrive/Colab Notebooks/Content_analysis_final/output_bert/checkpoint-16500/pytorch_model.bin\n",
      "Saving model checkpoint to /content/drive/MyDrive/Colab Notebooks/Content_analysis_final/output_bert/checkpoint-17000\n",
      "Configuration saved in /content/drive/MyDrive/Colab Notebooks/Content_analysis_final/output_bert/checkpoint-17000/config.json\n",
      "Model weights saved in /content/drive/MyDrive/Colab Notebooks/Content_analysis_final/output_bert/checkpoint-17000/pytorch_model.bin\n",
      "Saving model checkpoint to /content/drive/MyDrive/Colab Notebooks/Content_analysis_final/output_bert/checkpoint-17500\n",
      "Configuration saved in /content/drive/MyDrive/Colab Notebooks/Content_analysis_final/output_bert/checkpoint-17500/config.json\n",
      "Model weights saved in /content/drive/MyDrive/Colab Notebooks/Content_analysis_final/output_bert/checkpoint-17500/pytorch_model.bin\n",
      "Saving model checkpoint to /content/drive/MyDrive/Colab Notebooks/Content_analysis_final/output_bert/checkpoint-18000\n",
      "Configuration saved in /content/drive/MyDrive/Colab Notebooks/Content_analysis_final/output_bert/checkpoint-18000/config.json\n",
      "Model weights saved in /content/drive/MyDrive/Colab Notebooks/Content_analysis_final/output_bert/checkpoint-18000/pytorch_model.bin\n",
      "Saving model checkpoint to /content/drive/MyDrive/Colab Notebooks/Content_analysis_final/output_bert/checkpoint-18500\n",
      "Configuration saved in /content/drive/MyDrive/Colab Notebooks/Content_analysis_final/output_bert/checkpoint-18500/config.json\n",
      "Model weights saved in /content/drive/MyDrive/Colab Notebooks/Content_analysis_final/output_bert/checkpoint-18500/pytorch_model.bin\n",
      "Saving model checkpoint to /content/drive/MyDrive/Colab Notebooks/Content_analysis_final/output_bert/checkpoint-19000\n",
      "Configuration saved in /content/drive/MyDrive/Colab Notebooks/Content_analysis_final/output_bert/checkpoint-19000/config.json\n",
      "Model weights saved in /content/drive/MyDrive/Colab Notebooks/Content_analysis_final/output_bert/checkpoint-19000/pytorch_model.bin\n",
      "Saving model checkpoint to /content/drive/MyDrive/Colab Notebooks/Content_analysis_final/output_bert/checkpoint-19500\n",
      "Configuration saved in /content/drive/MyDrive/Colab Notebooks/Content_analysis_final/output_bert/checkpoint-19500/config.json\n",
      "Model weights saved in /content/drive/MyDrive/Colab Notebooks/Content_analysis_final/output_bert/checkpoint-19500/pytorch_model.bin\n",
      "Saving model checkpoint to /content/drive/MyDrive/Colab Notebooks/Content_analysis_final/output_bert/checkpoint-20000\n",
      "Configuration saved in /content/drive/MyDrive/Colab Notebooks/Content_analysis_final/output_bert/checkpoint-20000/config.json\n",
      "Model weights saved in /content/drive/MyDrive/Colab Notebooks/Content_analysis_final/output_bert/checkpoint-20000/pytorch_model.bin\n",
      "Saving model checkpoint to /content/drive/MyDrive/Colab Notebooks/Content_analysis_final/output_bert/checkpoint-20500\n",
      "Configuration saved in /content/drive/MyDrive/Colab Notebooks/Content_analysis_final/output_bert/checkpoint-20500/config.json\n",
      "Model weights saved in /content/drive/MyDrive/Colab Notebooks/Content_analysis_final/output_bert/checkpoint-20500/pytorch_model.bin\n",
      "Saving model checkpoint to /content/drive/MyDrive/Colab Notebooks/Content_analysis_final/output_bert/checkpoint-21000\n",
      "Configuration saved in /content/drive/MyDrive/Colab Notebooks/Content_analysis_final/output_bert/checkpoint-21000/config.json\n",
      "Model weights saved in /content/drive/MyDrive/Colab Notebooks/Content_analysis_final/output_bert/checkpoint-21000/pytorch_model.bin\n",
      "Saving model checkpoint to /content/drive/MyDrive/Colab Notebooks/Content_analysis_final/output_bert/checkpoint-21500\n",
      "Configuration saved in /content/drive/MyDrive/Colab Notebooks/Content_analysis_final/output_bert/checkpoint-21500/config.json\n",
      "Model weights saved in /content/drive/MyDrive/Colab Notebooks/Content_analysis_final/output_bert/checkpoint-21500/pytorch_model.bin\n",
      "Saving model checkpoint to /content/drive/MyDrive/Colab Notebooks/Content_analysis_final/output_bert/checkpoint-22000\n",
      "Configuration saved in /content/drive/MyDrive/Colab Notebooks/Content_analysis_final/output_bert/checkpoint-22000/config.json\n",
      "Model weights saved in /content/drive/MyDrive/Colab Notebooks/Content_analysis_final/output_bert/checkpoint-22000/pytorch_model.bin\n",
      "Saving model checkpoint to /content/drive/MyDrive/Colab Notebooks/Content_analysis_final/output_bert/checkpoint-22500\n",
      "Configuration saved in /content/drive/MyDrive/Colab Notebooks/Content_analysis_final/output_bert/checkpoint-22500/config.json\n",
      "Model weights saved in /content/drive/MyDrive/Colab Notebooks/Content_analysis_final/output_bert/checkpoint-22500/pytorch_model.bin\n",
      "Saving model checkpoint to /content/drive/MyDrive/Colab Notebooks/Content_analysis_final/output_bert/checkpoint-23000\n",
      "Configuration saved in /content/drive/MyDrive/Colab Notebooks/Content_analysis_final/output_bert/checkpoint-23000/config.json\n",
      "Model weights saved in /content/drive/MyDrive/Colab Notebooks/Content_analysis_final/output_bert/checkpoint-23000/pytorch_model.bin\n",
      "Saving model checkpoint to /content/drive/MyDrive/Colab Notebooks/Content_analysis_final/output_bert/checkpoint-23500\n",
      "Configuration saved in /content/drive/MyDrive/Colab Notebooks/Content_analysis_final/output_bert/checkpoint-23500/config.json\n",
      "Model weights saved in /content/drive/MyDrive/Colab Notebooks/Content_analysis_final/output_bert/checkpoint-23500/pytorch_model.bin\n",
      "Saving model checkpoint to /content/drive/MyDrive/Colab Notebooks/Content_analysis_final/output_bert/checkpoint-24000\n",
      "Configuration saved in /content/drive/MyDrive/Colab Notebooks/Content_analysis_final/output_bert/checkpoint-24000/config.json\n",
      "Model weights saved in /content/drive/MyDrive/Colab Notebooks/Content_analysis_final/output_bert/checkpoint-24000/pytorch_model.bin\n",
      "Saving model checkpoint to /content/drive/MyDrive/Colab Notebooks/Content_analysis_final/output_bert/checkpoint-24500\n",
      "Configuration saved in /content/drive/MyDrive/Colab Notebooks/Content_analysis_final/output_bert/checkpoint-24500/config.json\n",
      "Model weights saved in /content/drive/MyDrive/Colab Notebooks/Content_analysis_final/output_bert/checkpoint-24500/pytorch_model.bin\n",
      "Saving model checkpoint to /content/drive/MyDrive/Colab Notebooks/Content_analysis_final/output_bert/checkpoint-25000\n",
      "Configuration saved in /content/drive/MyDrive/Colab Notebooks/Content_analysis_final/output_bert/checkpoint-25000/config.json\n",
      "Model weights saved in /content/drive/MyDrive/Colab Notebooks/Content_analysis_final/output_bert/checkpoint-25000/pytorch_model.bin\n",
      "Saving model checkpoint to /content/drive/MyDrive/Colab Notebooks/Content_analysis_final/output_bert/checkpoint-25500\n",
      "Configuration saved in /content/drive/MyDrive/Colab Notebooks/Content_analysis_final/output_bert/checkpoint-25500/config.json\n",
      "Model weights saved in /content/drive/MyDrive/Colab Notebooks/Content_analysis_final/output_bert/checkpoint-25500/pytorch_model.bin\n",
      "Saving model checkpoint to /content/drive/MyDrive/Colab Notebooks/Content_analysis_final/output_bert/checkpoint-26000\n",
      "Configuration saved in /content/drive/MyDrive/Colab Notebooks/Content_analysis_final/output_bert/checkpoint-26000/config.json\n",
      "Model weights saved in /content/drive/MyDrive/Colab Notebooks/Content_analysis_final/output_bert/checkpoint-26000/pytorch_model.bin\n",
      "Saving model checkpoint to /content/drive/MyDrive/Colab Notebooks/Content_analysis_final/output_bert/checkpoint-26500\n",
      "Configuration saved in /content/drive/MyDrive/Colab Notebooks/Content_analysis_final/output_bert/checkpoint-26500/config.json\n",
      "Model weights saved in /content/drive/MyDrive/Colab Notebooks/Content_analysis_final/output_bert/checkpoint-26500/pytorch_model.bin\n",
      "Saving model checkpoint to /content/drive/MyDrive/Colab Notebooks/Content_analysis_final/output_bert/checkpoint-27000\n",
      "Configuration saved in /content/drive/MyDrive/Colab Notebooks/Content_analysis_final/output_bert/checkpoint-27000/config.json\n",
      "Model weights saved in /content/drive/MyDrive/Colab Notebooks/Content_analysis_final/output_bert/checkpoint-27000/pytorch_model.bin\n",
      "Saving model checkpoint to /content/drive/MyDrive/Colab Notebooks/Content_analysis_final/output_bert/checkpoint-27500\n",
      "Configuration saved in /content/drive/MyDrive/Colab Notebooks/Content_analysis_final/output_bert/checkpoint-27500/config.json\n",
      "Model weights saved in /content/drive/MyDrive/Colab Notebooks/Content_analysis_final/output_bert/checkpoint-27500/pytorch_model.bin\n",
      "Saving model checkpoint to /content/drive/MyDrive/Colab Notebooks/Content_analysis_final/output_bert/checkpoint-28000\n",
      "Configuration saved in /content/drive/MyDrive/Colab Notebooks/Content_analysis_final/output_bert/checkpoint-28000/config.json\n",
      "Model weights saved in /content/drive/MyDrive/Colab Notebooks/Content_analysis_final/output_bert/checkpoint-28000/pytorch_model.bin\n",
      "Saving model checkpoint to /content/drive/MyDrive/Colab Notebooks/Content_analysis_final/output_bert/checkpoint-28500\n",
      "Configuration saved in /content/drive/MyDrive/Colab Notebooks/Content_analysis_final/output_bert/checkpoint-28500/config.json\n",
      "Model weights saved in /content/drive/MyDrive/Colab Notebooks/Content_analysis_final/output_bert/checkpoint-28500/pytorch_model.bin\n",
      "Saving model checkpoint to /content/drive/MyDrive/Colab Notebooks/Content_analysis_final/output_bert/checkpoint-29000\n",
      "Configuration saved in /content/drive/MyDrive/Colab Notebooks/Content_analysis_final/output_bert/checkpoint-29000/config.json\n",
      "Model weights saved in /content/drive/MyDrive/Colab Notebooks/Content_analysis_final/output_bert/checkpoint-29000/pytorch_model.bin\n",
      "Saving model checkpoint to /content/drive/MyDrive/Colab Notebooks/Content_analysis_final/output_bert/checkpoint-29500\n",
      "Configuration saved in /content/drive/MyDrive/Colab Notebooks/Content_analysis_final/output_bert/checkpoint-29500/config.json\n",
      "Model weights saved in /content/drive/MyDrive/Colab Notebooks/Content_analysis_final/output_bert/checkpoint-29500/pytorch_model.bin\n",
      "Saving model checkpoint to /content/drive/MyDrive/Colab Notebooks/Content_analysis_final/output_bert/checkpoint-30000\n",
      "Configuration saved in /content/drive/MyDrive/Colab Notebooks/Content_analysis_final/output_bert/checkpoint-30000/config.json\n",
      "Model weights saved in /content/drive/MyDrive/Colab Notebooks/Content_analysis_final/output_bert/checkpoint-30000/pytorch_model.bin\n",
      "Saving model checkpoint to /content/drive/MyDrive/Colab Notebooks/Content_analysis_final/output_bert/checkpoint-30500\n",
      "Configuration saved in /content/drive/MyDrive/Colab Notebooks/Content_analysis_final/output_bert/checkpoint-30500/config.json\n",
      "Model weights saved in /content/drive/MyDrive/Colab Notebooks/Content_analysis_final/output_bert/checkpoint-30500/pytorch_model.bin\n",
      "Saving model checkpoint to /content/drive/MyDrive/Colab Notebooks/Content_analysis_final/output_bert/checkpoint-31000\n",
      "Configuration saved in /content/drive/MyDrive/Colab Notebooks/Content_analysis_final/output_bert/checkpoint-31000/config.json\n",
      "Model weights saved in /content/drive/MyDrive/Colab Notebooks/Content_analysis_final/output_bert/checkpoint-31000/pytorch_model.bin\n",
      "Saving model checkpoint to /content/drive/MyDrive/Colab Notebooks/Content_analysis_final/output_bert/checkpoint-31500\n",
      "Configuration saved in /content/drive/MyDrive/Colab Notebooks/Content_analysis_final/output_bert/checkpoint-31500/config.json\n",
      "Model weights saved in /content/drive/MyDrive/Colab Notebooks/Content_analysis_final/output_bert/checkpoint-31500/pytorch_model.bin\n",
      "***** Running Evaluation *****\n",
      "  Num examples = 218875\n",
      "  Batch size = 64\n",
      "\n",
      "\n",
      "Training completed. Do not forget to share your model on huggingface.co/models =)\n",
      "\n",
      "\n"
     ]
    },
    {
     "data": {
      "text/plain": [
       "TrainOutput(global_step=31920, training_loss=0.5281240142975236, metrics={'train_runtime': 15293.0283, 'train_samples_per_second': 66.79, 'train_steps_per_second': 2.087, 'total_flos': 6.718646043039744e+16, 'train_loss': 0.5281240142975236, 'epoch': 2.0})"
      ]
     },
     "execution_count": 33,
     "metadata": {},
     "output_type": "execute_result"
    }
   ],
   "source": [
    "trainer = Trainer(\n",
    "    model=model,\n",
    "    args=training_args,\n",
    "    train_dataset=train_dataset,\n",
    "    eval_dataset=eval_dataset,\n",
    "    compute_metrics=compute_metrics,\n",
    ")\n",
    "\n",
    "trainer.train()"
   ]
  },
  {
   "cell_type": "code",
   "execution_count": 34,
   "metadata": {
    "executionInfo": {
     "elapsed": 13,
     "status": "ok",
     "timestamp": 1647267522023,
     "user": {
      "displayName": "Shiba Mao",
      "photoUrl": "https://lh3.googleusercontent.com/a/default-user=s64",
      "userId": "16549320756357564965"
     },
     "user_tz": 300
    },
    "id": "fEewF0sFbW3L"
   },
   "outputs": [],
   "source": [
    "# del model\n",
    "# del trainer\n",
    "# torch.cuda.empty_cache()"
   ]
  },
  {
   "cell_type": "code",
   "execution_count": 44,
   "metadata": {
    "colab": {
     "base_uri": "https://localhost:8080/"
    },
    "executionInfo": {
     "elapsed": 1538,
     "status": "ok",
     "timestamp": 1647277181291,
     "user": {
      "displayName": "Shiba Mao",
      "photoUrl": "https://lh3.googleusercontent.com/a/default-user=s64",
      "userId": "16549320756357564965"
     },
     "user_tz": 300
    },
    "id": "R_EKmc2WZC91",
    "outputId": "85044427-bd45-4f26-a51e-d3211c52337d"
   },
   "outputs": [
    {
     "name": "stderr",
     "output_type": "stream",
     "text": [
      "Configuration saved in /content/drive/MyDrive/Colab Notebooks/Content_analysis_final/output_bert/config.json\n",
      "Model weights saved in /content/drive/MyDrive/Colab Notebooks/Content_analysis_final/output_bert/pytorch_model.bin\n"
     ]
    }
   ],
   "source": [
    "model_dir = \"/content/drive/MyDrive/Colab Notebooks/Content_analysis_final/output_bert\"\n",
    "model.save_pretrained(model_dir)"
   ]
  },
  {
   "cell_type": "code",
   "execution_count": 45,
   "metadata": {
    "colab": {
     "base_uri": "https://localhost:8080/"
    },
    "executionInfo": {
     "elapsed": 2687,
     "status": "ok",
     "timestamp": 1647277189588,
     "user": {
      "displayName": "Shiba Mao",
      "photoUrl": "https://lh3.googleusercontent.com/a/default-user=s64",
      "userId": "16549320756357564965"
     },
     "user_tz": 300
    },
    "id": "wcdQ_CBCZm0I",
    "outputId": "970dbb23-4696-409c-98c6-144be0124b07"
   },
   "outputs": [
    {
     "name": "stderr",
     "output_type": "stream",
     "text": [
      "loading configuration file /content/drive/MyDrive/Colab Notebooks/Content_analysis_final/output_bert/config.json\n",
      "Model config BertConfig {\n",
      "  \"_name_or_path\": \"/content/drive/MyDrive/Colab Notebooks/Content_analysis_final/output_bert\",\n",
      "  \"architectures\": [\n",
      "    \"BertForSequenceClassification\"\n",
      "  ],\n",
      "  \"attention_probs_dropout_prob\": 0.1,\n",
      "  \"classifier_dropout\": null,\n",
      "  \"directionality\": \"bidi\",\n",
      "  \"hidden_act\": \"gelu\",\n",
      "  \"hidden_dropout_prob\": 0.1,\n",
      "  \"hidden_size\": 768,\n",
      "  \"initializer_range\": 0.02,\n",
      "  \"intermediate_size\": 3072,\n",
      "  \"layer_norm_eps\": 1e-12,\n",
      "  \"max_position_embeddings\": 512,\n",
      "  \"model_type\": \"bert\",\n",
      "  \"num_attention_heads\": 12,\n",
      "  \"num_hidden_layers\": 12,\n",
      "  \"pad_token_id\": 0,\n",
      "  \"pooler_fc_size\": 768,\n",
      "  \"pooler_num_attention_heads\": 12,\n",
      "  \"pooler_num_fc_layers\": 3,\n",
      "  \"pooler_size_per_head\": 128,\n",
      "  \"pooler_type\": \"first_token_transform\",\n",
      "  \"position_embedding_type\": \"absolute\",\n",
      "  \"problem_type\": \"single_label_classification\",\n",
      "  \"torch_dtype\": \"float32\",\n",
      "  \"transformers_version\": \"4.17.0\",\n",
      "  \"type_vocab_size\": 2,\n",
      "  \"use_cache\": true,\n",
      "  \"vocab_size\": 21128\n",
      "}\n",
      "\n",
      "loading weights file /content/drive/MyDrive/Colab Notebooks/Content_analysis_final/output_bert/pytorch_model.bin\n",
      "All model checkpoint weights were used when initializing BertForSequenceClassification.\n",
      "\n",
      "All the weights of BertForSequenceClassification were initialized from the model checkpoint at /content/drive/MyDrive/Colab Notebooks/Content_analysis_final/output_bert.\n",
      "If your task is similar to the task the model of the checkpoint was trained on, you can already use BertForSequenceClassification for predictions without further training.\n"
     ]
    }
   ],
   "source": [
    "model = AutoModelForSequenceClassification.from_pretrained(model_dir, num_labels=2)"
   ]
  },
  {
   "cell_type": "markdown",
   "metadata": {
    "id": "ID2ounQ6ZFIH"
   },
   "source": [
    "#### Sentiment Analysis on the Test Set\n"
   ]
  },
  {
   "cell_type": "code",
   "execution_count": 37,
   "metadata": {
    "executionInfo": {
     "elapsed": 837,
     "status": "ok",
     "timestamp": 1647267532654,
     "user": {
      "displayName": "Shiba Mao",
      "photoUrl": "https://lh3.googleusercontent.com/a/default-user=s64",
      "userId": "16549320756357564965"
     },
     "user_tz": 300
    },
    "id": "cZJiHWN22yFB"
   },
   "outputs": [],
   "source": [
    "test_comments['comment_time'] = pd.to_datetime(test_comments['comment_time'])\n",
    "test_comments = test_comments.set_index('comment_time').sort_index()"
   ]
  },
  {
   "cell_type": "code",
   "execution_count": 38,
   "metadata": {
    "colab": {
     "base_uri": "https://localhost:8080/",
     "height": 455
    },
    "executionInfo": {
     "elapsed": 5,
     "status": "ok",
     "timestamp": 1647267532654,
     "user": {
      "displayName": "Shiba Mao",
      "photoUrl": "https://lh3.googleusercontent.com/a/default-user=s64",
      "userId": "16549320756357564965"
     },
     "user_tz": 300
    },
    "id": "hYt-ZfW02_2D",
    "outputId": "69ace6c5-6cbc-4848-8a6a-7c309ef664c2"
   },
   "outputs": [
    {
     "data": {
      "text/html": [
       "\n",
       "  <div id=\"df-670ff2ff-ada1-41b2-a232-bc0a46b77765\">\n",
       "    <div class=\"colab-df-container\">\n",
       "      <div>\n",
       "<style scoped>\n",
       "    .dataframe tbody tr th:only-of-type {\n",
       "        vertical-align: middle;\n",
       "    }\n",
       "\n",
       "    .dataframe tbody tr th {\n",
       "        vertical-align: top;\n",
       "    }\n",
       "\n",
       "    .dataframe thead th {\n",
       "        text-align: right;\n",
       "    }\n",
       "</style>\n",
       "<table border=\"1\" class=\"dataframe\">\n",
       "  <thead>\n",
       "    <tr style=\"text-align: right;\">\n",
       "      <th></th>\n",
       "      <th>movie_id</th>\n",
       "      <th>rating</th>\n",
       "      <th>content</th>\n",
       "      <th>label</th>\n",
       "    </tr>\n",
       "    <tr>\n",
       "      <th>comment_time</th>\n",
       "      <th></th>\n",
       "      <th></th>\n",
       "      <th></th>\n",
       "      <th></th>\n",
       "    </tr>\n",
       "  </thead>\n",
       "  <tbody>\n",
       "    <tr>\n",
       "      <th>2005-06-12 02:22:09</th>\n",
       "      <td>1292210</td>\n",
       "      <td>4.0</td>\n",
       "      <td>重看依然很喜欢很喜欢</td>\n",
       "      <td>1</td>\n",
       "    </tr>\n",
       "    <tr>\n",
       "      <th>2005-07-03 05:45:10</th>\n",
       "      <td>1297046</td>\n",
       "      <td>3.0</td>\n",
       "      <td>（長片#04）\\n另一齣早期黑白片。研究巴爾扎克的大學教授。嘉芙蓮丹露早夭的姊姊（抑或妹妹）...</td>\n",
       "      <td>0</td>\n",
       "    </tr>\n",
       "    <tr>\n",
       "      <th>2005-07-03 15:12:26</th>\n",
       "      <td>1306448</td>\n",
       "      <td>4.0</td>\n",
       "      <td>2006/10/23_14:10 @ UA ST\\n某年英國電影節\\n</td>\n",
       "      <td>1</td>\n",
       "    </tr>\n",
       "    <tr>\n",
       "      <th>2005-07-03 20:41:00</th>\n",
       "      <td>1305713</td>\n",
       "      <td>1.0</td>\n",
       "      <td>如果唔係林海峰...</td>\n",
       "      <td>0</td>\n",
       "    </tr>\n",
       "    <tr>\n",
       "      <th>2005-07-03 21:34:40</th>\n",
       "      <td>1308987</td>\n",
       "      <td>2.0</td>\n",
       "      <td>笑下囉</td>\n",
       "      <td>0</td>\n",
       "    </tr>\n",
       "    <tr>\n",
       "      <th>...</th>\n",
       "      <td>...</td>\n",
       "      <td>...</td>\n",
       "      <td>...</td>\n",
       "      <td>...</td>\n",
       "    </tr>\n",
       "    <tr>\n",
       "      <th>2019-09-07 15:18:52</th>\n",
       "      <td>27073057</td>\n",
       "      <td>1.0</td>\n",
       "      <td>束焕反鲜肉联盟急先锋，光说不练嘴把式，新时代影评人管杀不管埋</td>\n",
       "      <td>0</td>\n",
       "    </tr>\n",
       "    <tr>\n",
       "      <th>2019-09-07 15:19:20</th>\n",
       "      <td>26277182</td>\n",
       "      <td>4.0</td>\n",
       "      <td>女儿真是太暖心了</td>\n",
       "      <td>1</td>\n",
       "    </tr>\n",
       "    <tr>\n",
       "      <th>2019-09-07 15:25:46</th>\n",
       "      <td>30163509</td>\n",
       "      <td>5.0</td>\n",
       "      <td>笑中带泪的片子，为了梦想奉献一切</td>\n",
       "      <td>1</td>\n",
       "    </tr>\n",
       "    <tr>\n",
       "      <th>2019-09-07 15:46:44</th>\n",
       "      <td>1301173</td>\n",
       "      <td>3.0</td>\n",
       "      <td>不太喜欢女主的长相吧。</td>\n",
       "      <td>0</td>\n",
       "    </tr>\n",
       "    <tr>\n",
       "      <th>2019-09-07 15:54:04</th>\n",
       "      <td>3771562</td>\n",
       "      <td>2.0</td>\n",
       "      <td>哈？好恶心哦！</td>\n",
       "      <td>0</td>\n",
       "    </tr>\n",
       "  </tbody>\n",
       "</table>\n",
       "<p>312679 rows × 4 columns</p>\n",
       "</div>\n",
       "      <button class=\"colab-df-convert\" onclick=\"convertToInteractive('df-670ff2ff-ada1-41b2-a232-bc0a46b77765')\"\n",
       "              title=\"Convert this dataframe to an interactive table.\"\n",
       "              style=\"display:none;\">\n",
       "        \n",
       "  <svg xmlns=\"http://www.w3.org/2000/svg\" height=\"24px\"viewBox=\"0 0 24 24\"\n",
       "       width=\"24px\">\n",
       "    <path d=\"M0 0h24v24H0V0z\" fill=\"none\"/>\n",
       "    <path d=\"M18.56 5.44l.94 2.06.94-2.06 2.06-.94-2.06-.94-.94-2.06-.94 2.06-2.06.94zm-11 1L8.5 8.5l.94-2.06 2.06-.94-2.06-.94L8.5 2.5l-.94 2.06-2.06.94zm10 10l.94 2.06.94-2.06 2.06-.94-2.06-.94-.94-2.06-.94 2.06-2.06.94z\"/><path d=\"M17.41 7.96l-1.37-1.37c-.4-.4-.92-.59-1.43-.59-.52 0-1.04.2-1.43.59L10.3 9.45l-7.72 7.72c-.78.78-.78 2.05 0 2.83L4 21.41c.39.39.9.59 1.41.59.51 0 1.02-.2 1.41-.59l7.78-7.78 2.81-2.81c.8-.78.8-2.07 0-2.86zM5.41 20L4 18.59l7.72-7.72 1.47 1.35L5.41 20z\"/>\n",
       "  </svg>\n",
       "      </button>\n",
       "      \n",
       "  <style>\n",
       "    .colab-df-container {\n",
       "      display:flex;\n",
       "      flex-wrap:wrap;\n",
       "      gap: 12px;\n",
       "    }\n",
       "\n",
       "    .colab-df-convert {\n",
       "      background-color: #E8F0FE;\n",
       "      border: none;\n",
       "      border-radius: 50%;\n",
       "      cursor: pointer;\n",
       "      display: none;\n",
       "      fill: #1967D2;\n",
       "      height: 32px;\n",
       "      padding: 0 0 0 0;\n",
       "      width: 32px;\n",
       "    }\n",
       "\n",
       "    .colab-df-convert:hover {\n",
       "      background-color: #E2EBFA;\n",
       "      box-shadow: 0px 1px 2px rgba(60, 64, 67, 0.3), 0px 1px 3px 1px rgba(60, 64, 67, 0.15);\n",
       "      fill: #174EA6;\n",
       "    }\n",
       "\n",
       "    [theme=dark] .colab-df-convert {\n",
       "      background-color: #3B4455;\n",
       "      fill: #D2E3FC;\n",
       "    }\n",
       "\n",
       "    [theme=dark] .colab-df-convert:hover {\n",
       "      background-color: #434B5C;\n",
       "      box-shadow: 0px 1px 3px 1px rgba(0, 0, 0, 0.15);\n",
       "      filter: drop-shadow(0px 1px 2px rgba(0, 0, 0, 0.3));\n",
       "      fill: #FFFFFF;\n",
       "    }\n",
       "  </style>\n",
       "\n",
       "      <script>\n",
       "        const buttonEl =\n",
       "          document.querySelector('#df-670ff2ff-ada1-41b2-a232-bc0a46b77765 button.colab-df-convert');\n",
       "        buttonEl.style.display =\n",
       "          google.colab.kernel.accessAllowed ? 'block' : 'none';\n",
       "\n",
       "        async function convertToInteractive(key) {\n",
       "          const element = document.querySelector('#df-670ff2ff-ada1-41b2-a232-bc0a46b77765');\n",
       "          const dataTable =\n",
       "            await google.colab.kernel.invokeFunction('convertToInteractive',\n",
       "                                                     [key], {});\n",
       "          if (!dataTable) return;\n",
       "\n",
       "          const docLinkHtml = 'Like what you see? Visit the ' +\n",
       "            '<a target=\"_blank\" href=https://colab.research.google.com/notebooks/data_table.ipynb>data table notebook</a>'\n",
       "            + ' to learn more about interactive tables.';\n",
       "          element.innerHTML = '';\n",
       "          dataTable['output_type'] = 'display_data';\n",
       "          await google.colab.output.renderOutput(dataTable, element);\n",
       "          const docLink = document.createElement('div');\n",
       "          docLink.innerHTML = docLinkHtml;\n",
       "          element.appendChild(docLink);\n",
       "        }\n",
       "      </script>\n",
       "    </div>\n",
       "  </div>\n",
       "  "
      ],
      "text/plain": [
       "                     movie_id  rating  \\\n",
       "comment_time                            \n",
       "2005-06-12 02:22:09   1292210     4.0   \n",
       "2005-07-03 05:45:10   1297046     3.0   \n",
       "2005-07-03 15:12:26   1306448     4.0   \n",
       "2005-07-03 20:41:00   1305713     1.0   \n",
       "2005-07-03 21:34:40   1308987     2.0   \n",
       "...                       ...     ...   \n",
       "2019-09-07 15:18:52  27073057     1.0   \n",
       "2019-09-07 15:19:20  26277182     4.0   \n",
       "2019-09-07 15:25:46  30163509     5.0   \n",
       "2019-09-07 15:46:44   1301173     3.0   \n",
       "2019-09-07 15:54:04   3771562     2.0   \n",
       "\n",
       "                                                               content  label  \n",
       "comment_time                                                                   \n",
       "2005-06-12 02:22:09                                         重看依然很喜欢很喜欢      1  \n",
       "2005-07-03 05:45:10  （長片#04）\\n另一齣早期黑白片。研究巴爾扎克的大學教授。嘉芙蓮丹露早夭的姊姊（抑或妹妹）...      0  \n",
       "2005-07-03 15:12:26                2006/10/23_14:10 @ UA ST\\n某年英國電影節\\n      1  \n",
       "2005-07-03 20:41:00                                         如果唔係林海峰...      0  \n",
       "2005-07-03 21:34:40                                                笑下囉      0  \n",
       "...                                                                ...    ...  \n",
       "2019-09-07 15:18:52                     束焕反鲜肉联盟急先锋，光说不练嘴把式，新时代影评人管杀不管埋      0  \n",
       "2019-09-07 15:19:20                                           女儿真是太暖心了      1  \n",
       "2019-09-07 15:25:46                                   笑中带泪的片子，为了梦想奉献一切      1  \n",
       "2019-09-07 15:46:44                                        不太喜欢女主的长相吧。      0  \n",
       "2019-09-07 15:54:04                                            哈？好恶心哦！      0  \n",
       "\n",
       "[312679 rows x 4 columns]"
      ]
     },
     "execution_count": 38,
     "metadata": {},
     "output_type": "execute_result"
    }
   ],
   "source": [
    "test_comments"
   ]
  },
  {
   "cell_type": "code",
   "execution_count": 39,
   "metadata": {
    "colab": {
     "base_uri": "https://localhost:8080/"
    },
    "executionInfo": {
     "elapsed": 188,
     "status": "ok",
     "timestamp": 1647267532839,
     "user": {
      "displayName": "Shiba Mao",
      "photoUrl": "https://lh3.googleusercontent.com/a/default-user=s64",
      "userId": "16549320756357564965"
     },
     "user_tz": 300
    },
    "id": "FHDC7HeDbOd1",
    "outputId": "ea558d2c-ef46-45ca-a3bb-4c9a52877520"
   },
   "outputs": [
    {
     "data": {
      "text/plain": [
       "comment_time\n",
       "2005      106\n",
       "2006      893\n",
       "2007     2269\n",
       "2008     6338\n",
       "2009     9841\n",
       "2010    18140\n",
       "2011    25346\n",
       "2012    26365\n",
       "2013    21671\n",
       "2014    19170\n",
       "2015    18525\n",
       "2016    24139\n",
       "2017    32370\n",
       "2018    39838\n",
       "2019    67668\n",
       "Name: content, dtype: int64"
      ]
     },
     "execution_count": 39,
     "metadata": {},
     "output_type": "execute_result"
    }
   ],
   "source": [
    "# check number of test comments by year. \n",
    "comments_count = test_comments['content'].groupby(test_comments.index.year)\\\n",
    "                                             .count()\n",
    "comments_count"
   ]
  },
  {
   "cell_type": "code",
   "execution_count": 40,
   "metadata": {
    "executionInfo": {
     "elapsed": 184,
     "status": "ok",
     "timestamp": 1647267533021,
     "user": {
      "displayName": "Shiba Mao",
      "photoUrl": "https://lh3.googleusercontent.com/a/default-user=s64",
      "userId": "16549320756357564965"
     },
     "user_tz": 300
    },
    "id": "pL--C2J5ZTSH"
   },
   "outputs": [],
   "source": [
    "#set the model to cpu mode for evaluation\n",
    "model = model.cpu()\n",
    "text_classification = pipeline('sentiment-analysis', model=model, tokenizer=tokenizer)"
   ]
  },
  {
   "cell_type": "code",
   "execution_count": 97,
   "metadata": {
    "executionInfo": {
     "elapsed": 203,
     "status": "ok",
     "timestamp": 1647300718625,
     "user": {
      "displayName": "Shiba Mao",
      "photoUrl": "https://lh3.googleusercontent.com/a/default-user=s64",
      "userId": "16549320756357564965"
     },
     "user_tz": 300
    },
    "id": "oe1QxJdYZaH4"
   },
   "outputs": [],
   "source": [
    "def sentiment_analysis(example_df):\n",
    "  '''\n",
    "  Using fine-tuned bert  model to get \n",
    "  the sentiment label\n",
    "\n",
    "  Inputs:\n",
    "    test_comments:DataFrame\n",
    "\n",
    "  Outputs:\n",
    "    sentiment_label: list of sentiment labels\n",
    "  '''\n",
    "  sentiment_label = []\n",
    "  scores = []\n",
    "  # This operation would take a very long time, \n",
    "  # so we use tqdm to reduce our anxiery :)\n",
    "  for comment in tqdm(example_df['content']):\n",
    "      sent = text_classification(comment)[0]\n",
    "      if sent['label'] == 'LABEL_0':\n",
    "        sentiment_label.append(0)\n",
    "      else:\n",
    "        sentiment_label.append(1)\n",
    "      scores.append(sent['score'])\n",
    "  return sentiment_label, scores"
   ]
  },
  {
   "cell_type": "code",
   "execution_count": 46,
   "metadata": {
    "colab": {
     "base_uri": "https://localhost:8080/"
    },
    "executionInfo": {
     "elapsed": 21102232,
     "status": "ok",
     "timestamp": 1647298304144,
     "user": {
      "displayName": "Shiba Mao",
      "photoUrl": "https://lh3.googleusercontent.com/a/default-user=s64",
      "userId": "16549320756357564965"
     },
     "user_tz": 300
    },
    "id": "kmOc2u9zZfHa",
    "outputId": "1a1aab05-8950-4b2e-f030-aa745cc76595"
   },
   "outputs": [
    {
     "name": "stderr",
     "output_type": "stream",
     "text": [
      "100%|██████████| 312679/312679 [5:51:41<00:00, 14.82it/s]\n"
     ]
    }
   ],
   "source": [
    "y_label, scores = sentiment_analysis(test_comments)"
   ]
  },
  {
   "cell_type": "code",
   "execution_count": 174,
   "metadata": {
    "colab": {
     "base_uri": "https://localhost:8080/",
     "height": 295
    },
    "executionInfo": {
     "elapsed": 619,
     "status": "ok",
     "timestamp": 1647312070234,
     "user": {
      "displayName": "Shiba Mao",
      "photoUrl": "https://lh3.googleusercontent.com/a/default-user=s64",
      "userId": "16549320756357564965"
     },
     "user_tz": 300
    },
    "id": "AR7zOunNZhGg",
    "outputId": "cc22db83-47dd-43b9-b5a2-4103f2faa9c4"
   },
   "outputs": [
    {
     "data": {
      "image/png": "[encoded data removed]",
      "text/plain": [
       "<Figure size 432x288 with 2 Axes>"
      ]
     },
     "metadata": {
      "needs_background": "light"
     },
     "output_type": "display_data"
    }
   ],
   "source": [
    "con_matrix_bert = confusion_matrix(test_comments['label'], y_label)\n",
    "fig, ax = plt.subplots()\n",
    "sns.heatmap(con_matrix_bert, annot=True, fmt='d',\n",
    "            xticklabels=['negative', 'positive'], \n",
    "            yticklabels=['negative', 'positive'])\n",
    "plt.xlabel('predicted label')\n",
    "plt.ylabel('true label')\n",
    "plt.title(\"Fine-tuned BERT Confusion Matrix\")\n",
    "fig.savefig('/content/drive/MyDrive/Colab Notebooks/Content_analysis_final/vis/confusion_matrix.png')"
   ]
  },
  {
   "cell_type": "markdown",
   "metadata": {
    "id": "sqQobQLN5siH"
   },
   "source": [
    "**Matthews correlation**\n",
    "\n",
    "According to [sklearn's introduction](https://scikit-learn.org/stable/modules/generated/sklearn.metrics.matthews_corrcoef.html), Matthews correlation coefficient could be used as a measure of the quality of classification even if the dataset is unbalanced. It ranges from -1 to 1, where 1 means perfect prediction.\n",
    "\n",
    "Equation: \n",
    "$$ \n",
    "    MCC = \\frac{TP*TN -FP*FN}{\\sqrt{(TP + FP)(TP + FN)(TN + FP)(TN + FN)}}\n",
    "$$"
   ]
  },
  {
   "cell_type": "code",
   "execution_count": 49,
   "metadata": {
    "colab": {
     "base_uri": "https://localhost:8080/"
    },
    "executionInfo": {
     "elapsed": 840,
     "status": "ok",
     "timestamp": 1647298337528,
     "user": {
      "displayName": "Shiba Mao",
      "photoUrl": "https://lh3.googleusercontent.com/a/default-user=s64",
      "userId": "16549320756357564965"
     },
     "user_tz": 300
    },
    "id": "BsDumhWX5cPL",
    "outputId": "535612dd-6daf-4328-e43a-d749b9d4091d"
   },
   "outputs": [
    {
     "data": {
      "text/plain": [
       "0.49889243703093944"
      ]
     },
     "execution_count": 49,
     "metadata": {},
     "output_type": "execute_result"
    }
   ],
   "source": [
    "matthews_corrcoef(test_comments['label'], y_label)"
   ]
  },
  {
   "cell_type": "markdown",
   "metadata": {
    "id": "atnUtubVofMd"
   },
   "source": [
    "This matthews correlation score is not bad considering the fact that we used a large batch size, only two epochs, and a max-length of 128. In general, a well fine-tuned bert model from published papers can achieve a matthews correlation score of 0.5~0.6.)"
   ]
  },
  {
   "cell_type": "markdown",
   "metadata": {
    "id": "jGIOTXO9533X"
   },
   "source": [
    "**Get ststistics**"
   ]
  },
  {
   "cell_type": "code",
   "execution_count": 50,
   "metadata": {
    "executionInfo": {
     "elapsed": 188,
     "status": "ok",
     "timestamp": 1647298474887,
     "user": {
      "displayName": "Shiba Mao",
      "photoUrl": "https://lh3.googleusercontent.com/a/default-user=s64",
      "userId": "16549320756357564965"
     },
     "user_tz": 300
    },
    "id": "G3d5VQITaa0k"
   },
   "outputs": [],
   "source": [
    "def get_year_statistics(y_label, scores, cur, year_num):\n",
    "    '''\n",
    "    get number of positive comments, negative comments, ratio of \n",
    "    positve comments, average positive score, average negative score,\n",
    "    standard variance of postive score, standard vairance of negative \n",
    "    score by year.\n",
    "    '''\n",
    "    label_arr = y_label[cur: cur+year_num]\n",
    "    score_arr = scores[cur: cur+year_num]\n",
    "    pos_lst = []\n",
    "    neg_lst = []\n",
    "\n",
    "    for label, score in tqdm(zip(label_arr, score_arr)):\n",
    "        if label == 1:\n",
    "            pos_lst.append(score)\n",
    "        else:\n",
    "            neg_lst.append(score)\n",
    "    \n",
    "    pos_count = len(pos_lst)\n",
    "    neg_count = len(neg_lst)\n",
    "    pos_ratio = pos_count/(pos_count + neg_count)\n",
    "    \n",
    "    pos_avg = np.mean(np.array(pos_lst))\n",
    "    neg_avg = np.mean(np.array(neg_lst))\n",
    "    \n",
    "    pos_std = np.std(np.array(pos_lst))\n",
    "    neg_std = np.std(np.array(neg_lst))\n",
    "\n",
    "    return [pos_count, neg_count, pos_ratio, pos_avg, neg_avg, pos_std, neg_std]"
   ]
  },
  {
   "cell_type": "code",
   "execution_count": 51,
   "metadata": {
    "colab": {
     "base_uri": "https://localhost:8080/"
    },
    "executionInfo": {
     "elapsed": 575,
     "status": "ok",
     "timestamp": 1647298478306,
     "user": {
      "displayName": "Shiba Mao",
      "photoUrl": "https://lh3.googleusercontent.com/a/default-user=s64",
      "userId": "16549320756357564965"
     },
     "user_tz": 300
    },
    "id": "5c5JnIvBhQKn",
    "outputId": "04af78be-c6e7-4e96-ac73-65c0efca3ed7"
   },
   "outputs": [
    {
     "name": "stderr",
     "output_type": "stream",
     "text": [
      "106it [00:00, 870051.32it/s]\n",
      "893it [00:00, 1212925.35it/s]\n",
      "2269it [00:00, 2072039.14it/s]\n",
      "6338it [00:00, 2102127.06it/s]\n",
      "9841it [00:00, 2142768.29it/s]\n",
      "18140it [00:00, 2175215.12it/s]\n",
      "25346it [00:00, 2038246.62it/s]\n",
      "26365it [00:00, 1688390.51it/s]\n",
      "21671it [00:00, 2244813.96it/s]\n",
      "19170it [00:00, 1902712.09it/s]\n",
      "18525it [00:00, 2159818.81it/s]\n",
      "24139it [00:00, 1940588.13it/s]\n",
      "32370it [00:00, 1938707.44it/s]\n",
      "39838it [00:00, 2093814.55it/s]\n",
      "67668it [00:00, 2201760.69it/s]\n"
     ]
    }
   ],
   "source": [
    "test_comments_count = test_comments['content'].groupby(test_comments.index.year)\\\n",
    "                                              .count().to_list()\n",
    "# start\n",
    "cur = 0\n",
    "year = 2005\n",
    "# year = 2006\n",
    "dic = {}\n",
    "for year_num in test_comments_count:\n",
    "    dic[year] = get_year_statistics(y_label, scores, cur, year_num)\n",
    "    year += 1\n",
    "    cur += year_num"
   ]
  },
  {
   "cell_type": "code",
   "execution_count": 52,
   "metadata": {
    "executionInfo": {
     "elapsed": 168,
     "status": "ok",
     "timestamp": 1647298484556,
     "user": {
      "displayName": "Shiba Mao",
      "photoUrl": "https://lh3.googleusercontent.com/a/default-user=s64",
      "userId": "16549320756357564965"
     },
     "user_tz": 300
    },
    "id": "QaxADpN0hug1"
   },
   "outputs": [],
   "source": [
    "df = pd.DataFrame(dic)\n",
    "trend = df.stack().unstack(0)"
   ]
  },
  {
   "cell_type": "code",
   "execution_count": 53,
   "metadata": {
    "colab": {
     "base_uri": "https://localhost:8080/",
     "height": 520
    },
    "executionInfo": {
     "elapsed": 557,
     "status": "ok",
     "timestamp": 1647298487522,
     "user": {
      "displayName": "Shiba Mao",
      "photoUrl": "https://lh3.googleusercontent.com/a/default-user=s64",
      "userId": "16549320756357564965"
     },
     "user_tz": 300
    },
    "id": "JyJ1zX6Qhwhw",
    "outputId": "e50080ee-d5cb-4d4a-c0b7-b9eb199f119a"
   },
   "outputs": [
    {
     "data": {
      "text/html": [
       "\n",
       "  <div id=\"df-1ea9ce36-eef6-4b26-9a1b-43793cafbe39\">\n",
       "    <div class=\"colab-df-container\">\n",
       "      <div>\n",
       "<style scoped>\n",
       "    .dataframe tbody tr th:only-of-type {\n",
       "        vertical-align: middle;\n",
       "    }\n",
       "\n",
       "    .dataframe tbody tr th {\n",
       "        vertical-align: top;\n",
       "    }\n",
       "\n",
       "    .dataframe thead th {\n",
       "        text-align: right;\n",
       "    }\n",
       "</style>\n",
       "<table border=\"1\" class=\"dataframe\">\n",
       "  <thead>\n",
       "    <tr style=\"text-align: right;\">\n",
       "      <th></th>\n",
       "      <th>positive_count</th>\n",
       "      <th>negative_count</th>\n",
       "      <th>positive_ratio</th>\n",
       "      <th>positive_avg_score</th>\n",
       "      <th>negative_avg_score</th>\n",
       "      <th>positive_std</th>\n",
       "      <th>negative_std</th>\n",
       "    </tr>\n",
       "  </thead>\n",
       "  <tbody>\n",
       "    <tr>\n",
       "      <th>2005</th>\n",
       "      <td>68.0</td>\n",
       "      <td>38.0</td>\n",
       "      <td>0.641509</td>\n",
       "      <td>0.750158</td>\n",
       "      <td>0.720211</td>\n",
       "      <td>0.135222</td>\n",
       "      <td>0.168508</td>\n",
       "    </tr>\n",
       "    <tr>\n",
       "      <th>2006</th>\n",
       "      <td>499.0</td>\n",
       "      <td>394.0</td>\n",
       "      <td>0.558791</td>\n",
       "      <td>0.738871</td>\n",
       "      <td>0.747674</td>\n",
       "      <td>0.145022</td>\n",
       "      <td>0.169934</td>\n",
       "    </tr>\n",
       "    <tr>\n",
       "      <th>2007</th>\n",
       "      <td>1266.0</td>\n",
       "      <td>1003.0</td>\n",
       "      <td>0.557955</td>\n",
       "      <td>0.736472</td>\n",
       "      <td>0.761949</td>\n",
       "      <td>0.140230</td>\n",
       "      <td>0.165964</td>\n",
       "    </tr>\n",
       "    <tr>\n",
       "      <th>2008</th>\n",
       "      <td>3306.0</td>\n",
       "      <td>3032.0</td>\n",
       "      <td>0.521616</td>\n",
       "      <td>0.731468</td>\n",
       "      <td>0.775891</td>\n",
       "      <td>0.138926</td>\n",
       "      <td>0.165694</td>\n",
       "    </tr>\n",
       "    <tr>\n",
       "      <th>2009</th>\n",
       "      <td>4951.0</td>\n",
       "      <td>4890.0</td>\n",
       "      <td>0.503099</td>\n",
       "      <td>0.732653</td>\n",
       "      <td>0.780539</td>\n",
       "      <td>0.142157</td>\n",
       "      <td>0.165884</td>\n",
       "    </tr>\n",
       "    <tr>\n",
       "      <th>2010</th>\n",
       "      <td>8956.0</td>\n",
       "      <td>9184.0</td>\n",
       "      <td>0.493716</td>\n",
       "      <td>0.734883</td>\n",
       "      <td>0.787194</td>\n",
       "      <td>0.140926</td>\n",
       "      <td>0.163988</td>\n",
       "    </tr>\n",
       "    <tr>\n",
       "      <th>2011</th>\n",
       "      <td>12351.0</td>\n",
       "      <td>12995.0</td>\n",
       "      <td>0.487296</td>\n",
       "      <td>0.739421</td>\n",
       "      <td>0.797326</td>\n",
       "      <td>0.142663</td>\n",
       "      <td>0.162106</td>\n",
       "    </tr>\n",
       "    <tr>\n",
       "      <th>2012</th>\n",
       "      <td>12540.0</td>\n",
       "      <td>13825.0</td>\n",
       "      <td>0.475631</td>\n",
       "      <td>0.739102</td>\n",
       "      <td>0.801101</td>\n",
       "      <td>0.142663</td>\n",
       "      <td>0.161156</td>\n",
       "    </tr>\n",
       "    <tr>\n",
       "      <th>2013</th>\n",
       "      <td>9861.0</td>\n",
       "      <td>11810.0</td>\n",
       "      <td>0.455032</td>\n",
       "      <td>0.740318</td>\n",
       "      <td>0.806965</td>\n",
       "      <td>0.143837</td>\n",
       "      <td>0.161291</td>\n",
       "    </tr>\n",
       "    <tr>\n",
       "      <th>2014</th>\n",
       "      <td>8458.0</td>\n",
       "      <td>10712.0</td>\n",
       "      <td>0.441210</td>\n",
       "      <td>0.740101</td>\n",
       "      <td>0.809517</td>\n",
       "      <td>0.143289</td>\n",
       "      <td>0.162311</td>\n",
       "    </tr>\n",
       "    <tr>\n",
       "      <th>2015</th>\n",
       "      <td>7972.0</td>\n",
       "      <td>10553.0</td>\n",
       "      <td>0.430337</td>\n",
       "      <td>0.741346</td>\n",
       "      <td>0.809740</td>\n",
       "      <td>0.145423</td>\n",
       "      <td>0.162509</td>\n",
       "    </tr>\n",
       "    <tr>\n",
       "      <th>2016</th>\n",
       "      <td>10804.0</td>\n",
       "      <td>13335.0</td>\n",
       "      <td>0.447574</td>\n",
       "      <td>0.739876</td>\n",
       "      <td>0.814395</td>\n",
       "      <td>0.145883</td>\n",
       "      <td>0.162103</td>\n",
       "    </tr>\n",
       "    <tr>\n",
       "      <th>2017</th>\n",
       "      <td>14835.0</td>\n",
       "      <td>17535.0</td>\n",
       "      <td>0.458295</td>\n",
       "      <td>0.744484</td>\n",
       "      <td>0.811960</td>\n",
       "      <td>0.144375</td>\n",
       "      <td>0.163575</td>\n",
       "    </tr>\n",
       "    <tr>\n",
       "      <th>2018</th>\n",
       "      <td>18264.0</td>\n",
       "      <td>21574.0</td>\n",
       "      <td>0.458457</td>\n",
       "      <td>0.743627</td>\n",
       "      <td>0.808018</td>\n",
       "      <td>0.144700</td>\n",
       "      <td>0.163915</td>\n",
       "    </tr>\n",
       "    <tr>\n",
       "      <th>2019</th>\n",
       "      <td>34638.0</td>\n",
       "      <td>33030.0</td>\n",
       "      <td>0.511882</td>\n",
       "      <td>0.747230</td>\n",
       "      <td>0.792462</td>\n",
       "      <td>0.143235</td>\n",
       "      <td>0.165832</td>\n",
       "    </tr>\n",
       "  </tbody>\n",
       "</table>\n",
       "</div>\n",
       "      <button class=\"colab-df-convert\" onclick=\"convertToInteractive('df-1ea9ce36-eef6-4b26-9a1b-43793cafbe39')\"\n",
       "              title=\"Convert this dataframe to an interactive table.\"\n",
       "              style=\"display:none;\">\n",
       "        \n",
       "  <svg xmlns=\"http://www.w3.org/2000/svg\" height=\"24px\"viewBox=\"0 0 24 24\"\n",
       "       width=\"24px\">\n",
       "    <path d=\"M0 0h24v24H0V0z\" fill=\"none\"/>\n",
       "    <path d=\"M18.56 5.44l.94 2.06.94-2.06 2.06-.94-2.06-.94-.94-2.06-.94 2.06-2.06.94zm-11 1L8.5 8.5l.94-2.06 2.06-.94-2.06-.94L8.5 2.5l-.94 2.06-2.06.94zm10 10l.94 2.06.94-2.06 2.06-.94-2.06-.94-.94-2.06-.94 2.06-2.06.94z\"/><path d=\"M17.41 7.96l-1.37-1.37c-.4-.4-.92-.59-1.43-.59-.52 0-1.04.2-1.43.59L10.3 9.45l-7.72 7.72c-.78.78-.78 2.05 0 2.83L4 21.41c.39.39.9.59 1.41.59.51 0 1.02-.2 1.41-.59l7.78-7.78 2.81-2.81c.8-.78.8-2.07 0-2.86zM5.41 20L4 18.59l7.72-7.72 1.47 1.35L5.41 20z\"/>\n",
       "  </svg>\n",
       "      </button>\n",
       "      \n",
       "  <style>\n",
       "    .colab-df-container {\n",
       "      display:flex;\n",
       "      flex-wrap:wrap;\n",
       "      gap: 12px;\n",
       "    }\n",
       "\n",
       "    .colab-df-convert {\n",
       "      background-color: #E8F0FE;\n",
       "      border: none;\n",
       "      border-radius: 50%;\n",
       "      cursor: pointer;\n",
       "      display: none;\n",
       "      fill: #1967D2;\n",
       "      height: 32px;\n",
       "      padding: 0 0 0 0;\n",
       "      width: 32px;\n",
       "    }\n",
       "\n",
       "    .colab-df-convert:hover {\n",
       "      background-color: #E2EBFA;\n",
       "      box-shadow: 0px 1px 2px rgba(60, 64, 67, 0.3), 0px 1px 3px 1px rgba(60, 64, 67, 0.15);\n",
       "      fill: #174EA6;\n",
       "    }\n",
       "\n",
       "    [theme=dark] .colab-df-convert {\n",
       "      background-color: #3B4455;\n",
       "      fill: #D2E3FC;\n",
       "    }\n",
       "\n",
       "    [theme=dark] .colab-df-convert:hover {\n",
       "      background-color: #434B5C;\n",
       "      box-shadow: 0px 1px 3px 1px rgba(0, 0, 0, 0.15);\n",
       "      filter: drop-shadow(0px 1px 2px rgba(0, 0, 0, 0.3));\n",
       "      fill: #FFFFFF;\n",
       "    }\n",
       "  </style>\n",
       "\n",
       "      <script>\n",
       "        const buttonEl =\n",
       "          document.querySelector('#df-1ea9ce36-eef6-4b26-9a1b-43793cafbe39 button.colab-df-convert');\n",
       "        buttonEl.style.display =\n",
       "          google.colab.kernel.accessAllowed ? 'block' : 'none';\n",
       "\n",
       "        async function convertToInteractive(key) {\n",
       "          const element = document.querySelector('#df-1ea9ce36-eef6-4b26-9a1b-43793cafbe39');\n",
       "          const dataTable =\n",
       "            await google.colab.kernel.invokeFunction('convertToInteractive',\n",
       "                                                     [key], {});\n",
       "          if (!dataTable) return;\n",
       "\n",
       "          const docLinkHtml = 'Like what you see? Visit the ' +\n",
       "            '<a target=\"_blank\" href=https://colab.research.google.com/notebooks/data_table.ipynb>data table notebook</a>'\n",
       "            + ' to learn more about interactive tables.';\n",
       "          element.innerHTML = '';\n",
       "          dataTable['output_type'] = 'display_data';\n",
       "          await google.colab.output.renderOutput(dataTable, element);\n",
       "          const docLink = document.createElement('div');\n",
       "          docLink.innerHTML = docLinkHtml;\n",
       "          element.appendChild(docLink);\n",
       "        }\n",
       "      </script>\n",
       "    </div>\n",
       "  </div>\n",
       "  "
      ],
      "text/plain": [
       "      positive_count  negative_count  positive_ratio  positive_avg_score  \\\n",
       "2005            68.0            38.0        0.641509            0.750158   \n",
       "2006           499.0           394.0        0.558791            0.738871   \n",
       "2007          1266.0          1003.0        0.557955            0.736472   \n",
       "2008          3306.0          3032.0        0.521616            0.731468   \n",
       "2009          4951.0          4890.0        0.503099            0.732653   \n",
       "2010          8956.0          9184.0        0.493716            0.734883   \n",
       "2011         12351.0         12995.0        0.487296            0.739421   \n",
       "2012         12540.0         13825.0        0.475631            0.739102   \n",
       "2013          9861.0         11810.0        0.455032            0.740318   \n",
       "2014          8458.0         10712.0        0.441210            0.740101   \n",
       "2015          7972.0         10553.0        0.430337            0.741346   \n",
       "2016         10804.0         13335.0        0.447574            0.739876   \n",
       "2017         14835.0         17535.0        0.458295            0.744484   \n",
       "2018         18264.0         21574.0        0.458457            0.743627   \n",
       "2019         34638.0         33030.0        0.511882            0.747230   \n",
       "\n",
       "      negative_avg_score  positive_std  negative_std  \n",
       "2005            0.720211      0.135222      0.168508  \n",
       "2006            0.747674      0.145022      0.169934  \n",
       "2007            0.761949      0.140230      0.165964  \n",
       "2008            0.775891      0.138926      0.165694  \n",
       "2009            0.780539      0.142157      0.165884  \n",
       "2010            0.787194      0.140926      0.163988  \n",
       "2011            0.797326      0.142663      0.162106  \n",
       "2012            0.801101      0.142663      0.161156  \n",
       "2013            0.806965      0.143837      0.161291  \n",
       "2014            0.809517      0.143289      0.162311  \n",
       "2015            0.809740      0.145423      0.162509  \n",
       "2016            0.814395      0.145883      0.162103  \n",
       "2017            0.811960      0.144375      0.163575  \n",
       "2018            0.808018      0.144700      0.163915  \n",
       "2019            0.792462      0.143235      0.165832  "
      ]
     },
     "execution_count": 53,
     "metadata": {},
     "output_type": "execute_result"
    }
   ],
   "source": [
    "trend.columns = ['positive_count', 'negative_count', 'positive_ratio', \n",
    "                 'positive_avg_score', 'negative_avg_score',\n",
    "                 'positive_std', 'negative_std']\n",
    "trend"
   ]
  },
  {
   "cell_type": "code",
   "execution_count": 187,
   "metadata": {
    "executionInfo": {
     "elapsed": 175,
     "status": "ok",
     "timestamp": 1647312868013,
     "user": {
      "displayName": "Shiba Mao",
      "photoUrl": "https://lh3.googleusercontent.com/a/default-user=s64",
      "userId": "16549320756357564965"
     },
     "user_tz": 300
    },
    "id": "GpvEwOhDf4cU"
   },
   "outputs": [],
   "source": [
    "def plot_pos_ratio(example_trend, title_name):\n",
    "  '''\n",
    "  polt mean and standard variance of scores of positive comments by year. \n",
    "  '''\n",
    "  years = example_trend.index\n",
    "  ratio = example_trend['positive_ratio']\n",
    "  sns.relplot(x = years, y = ratio, kind = 'line');\n",
    "  plt.title(title_name)\n",
    "  plt.show()\n",
    "\n",
    "# reference: https://stackoverflow.com/questions/56203420/how-to-use-custom-error-bar-in-seaborn-lineplot\n",
    "# Matplotlib plot with custom error band\n",
    "\n",
    "def plot_positive_avg_std(example_trend, title_name, store_name):\n",
    "  '''\n",
    "  polt mean and standard variance of scores of positive comments by year. \n",
    "  '''\n",
    "  # Define variables to plot\n",
    "  y_pos_mean = example_trend.positive_avg_score\n",
    "\n",
    "  # Compute upper and lower bounds using chosen uncertainty measure: here\n",
    "  # it is a fraction of the standard deviation of measurements at each\n",
    "  # time point based on the unbiased sample variance\n",
    "  pos_error = example_trend.positive_std\n",
    "  pos_lower = y_pos_mean - pos_error\n",
    "  pos_upper = y_pos_mean + pos_error\n",
    "\n",
    "  # Draw plot with error band and extra formatting to match seaborn style\n",
    "  fig, ax = plt.subplots(figsize=(9,5))\n",
    "  ax.plot(example_trend.index, y_pos_mean, color='tab:red')\n",
    "  ax.plot(example_trend.index, pos_lower, color='tab:red', alpha=0.1)\n",
    "  ax.plot(example_trend.index, pos_upper, color='tab:red', alpha=0.1)\n",
    "  ax.fill_between(example_trend.index, pos_lower, pos_upper, color='tab:red', alpha=0.2)\n",
    "  ax.set_xlabel('Year')\n",
    "  ax.set_ylabel('Positive Score')\n",
    "  ax.spines['top'].set_visible(False)\n",
    "  ax.spines['right'].set_visible(False)\n",
    "  plt.title(title_name)\n",
    "  plt.show()\n",
    "  fig.savefig(store_name)\n",
    "\n",
    "\n",
    "def plot_negative_avg_std(example_trend, title_name, store_name):\n",
    "  '''\n",
    "    polt mean and standard variance of scores of negative comments by year.\n",
    "  '''\n",
    "  # Define variables to plot\n",
    "  y_neg_mean = example_trend.negative_avg_score\n",
    "\n",
    "  # Compute upper and lower bounds using chosen uncertainty measure: here\n",
    "  # it is a fraction of the standard deviation of measurements at each\n",
    "  # time point based on the unbiased sample variance\n",
    "  neg_error = example_trend.negative_std\n",
    "  neg_lower = y_neg_mean - neg_error\n",
    "  neg_upper = y_neg_mean + neg_error\n",
    "\n",
    "  # Draw plot with error band and extra formatting to match seaborn style\n",
    "  fig, ax = plt.subplots(figsize=(9,5))\n",
    "  ax.plot(example_trend.index, y_neg_mean)\n",
    "  ax.plot(example_trend.index, neg_lower, color='tab:blue', alpha=0.1)\n",
    "  ax.plot(example_trend.index, neg_upper, color='tab:blue', alpha=0.1)\n",
    "  ax.fill_between(example_trend.index, neg_lower, neg_upper, alpha=0.2)\n",
    "  ax.set_xlabel('Year')\n",
    "  ax.set_ylabel('Negtive Score')\n",
    "  ax.spines['top'].set_visible(False)\n",
    "  ax.spines['right'].set_visible(False)\n",
    "  plt.title(title_name)\n",
    "  plt.show()\n",
    "  fig.savefig(store_name)"
   ]
  },
  {
   "cell_type": "code",
   "execution_count": 179,
   "metadata": {
    "colab": {
     "base_uri": "https://localhost:8080/",
     "height": 384
    },
    "executionInfo": {
     "elapsed": 1117,
     "status": "ok",
     "timestamp": 1647312320785,
     "user": {
      "displayName": "Shiba Mao",
      "photoUrl": "https://lh3.googleusercontent.com/a/default-user=s64",
      "userId": "16549320756357564965"
     },
     "user_tz": 300
    },
    "id": "T7fCHJ4H5Bug",
    "outputId": "c94a1834-8acd-444b-a6b6-04b38abc26a6"
   },
   "outputs": [
    {
     "data": {
      "image/png": "[encoded data removed]",
      "text/plain": [
       "<Figure size 360x360 with 1 Axes>"
      ]
     },
     "metadata": {
      "needs_background": "light"
     },
     "output_type": "display_data"
    }
   ],
   "source": [
    "title_name = \"Positive Contents Proportion(2005-2019)\"\n",
    "plot_pos_ratio(trend, title_name)"
   ]
  },
  {
   "cell_type": "code",
   "execution_count": 189,
   "metadata": {
    "colab": {
     "base_uri": "https://localhost:8080/",
     "height": 350
    },
    "executionInfo": {
     "elapsed": 481,
     "status": "ok",
     "timestamp": 1647313084370,
     "user": {
      "displayName": "Shiba Mao",
      "photoUrl": "https://lh3.googleusercontent.com/a/default-user=s64",
      "userId": "16549320756357564965"
     },
     "user_tz": 300
    },
    "id": "EGl0sNfcl6-m",
    "outputId": "b5119164-7c1f-4667-ebb7-1ed934bff701"
   },
   "outputs": [
    {
     "data": {
      "image/png": "[encoded data removed]",
      "text/plain": [
       "<Figure size 648x360 with 1 Axes>"
      ]
     },
     "metadata": {
      "needs_background": "light"
     },
     "output_type": "display_data"
    }
   ],
   "source": [
    "title_name = \"Mean and Variance of Positive Score (2005-2019)\"\n",
    "store_name = \"/content/drive/MyDrive/Colab Notebooks/Content_analysis_final/vis/positive_avg_std.png\"\n",
    "plot_positive_avg_std(trend, title_name, store_name)"
   ]
  },
  {
   "cell_type": "code",
   "execution_count": 192,
   "metadata": {
    "colab": {
     "base_uri": "https://localhost:8080/",
     "height": 350
    },
    "executionInfo": {
     "elapsed": 785,
     "status": "ok",
     "timestamp": 1647313185304,
     "user": {
      "displayName": "Shiba Mao",
      "photoUrl": "https://lh3.googleusercontent.com/a/default-user=s64",
      "userId": "16549320756357564965"
     },
     "user_tz": 300
    },
    "id": "1fNy9KA661Ie",
    "outputId": "6d345f47-9902-439d-96ff-726fb83207f1"
   },
   "outputs": [
    {
     "data": {
      "image/png": "[encoded data removed]",
      "text/plain": [
       "<Figure size 648x360 with 1 Axes>"
      ]
     },
     "metadata": {
      "needs_background": "light"
     },
     "output_type": "display_data"
    }
   ],
   "source": [
    "title_name = \"Mean and Variance of Negative Score (2005-2019)\"\n",
    "store_name = \"/content/drive/MyDrive/Colab Notebooks/Content_analysis_final/vis/negative_avg_std.png\"\n",
    "plot_negative_avg_std(trend, title_name, store_name)"
   ]
  },
  {
   "cell_type": "markdown",
   "metadata": {
    "id": "032rqcYfsbYH"
   },
   "source": [
    "### Train Word2Vec Model for Cross-Validation"
   ]
  },
  {
   "cell_type": "markdown",
   "metadata": {
    "id": "g9pn6LhFsugx"
   },
   "source": [
    "#### Split Dataset into Two Time Periods\n",
    "\n",
    "Fist let's check the number of comments by year then decide how many years should be covered in time periods. "
   ]
  },
  {
   "cell_type": "code",
   "execution_count": 65,
   "metadata": {
    "executionInfo": {
     "elapsed": 829,
     "status": "ok",
     "timestamp": 1647298865875,
     "user": {
      "displayName": "Shiba Mao",
      "photoUrl": "https://lh3.googleusercontent.com/a/default-user=s64",
      "userId": "16549320756357564965"
     },
     "user_tz": 300
    },
    "id": "12SgrCDtslo6"
   },
   "outputs": [],
   "source": [
    "train_comments = train_comments.set_index('comment_time').sort_index()\n",
    "test_comments = test_comments.set_index('comment_time').sort_index()"
   ]
  },
  {
   "cell_type": "code",
   "execution_count": 66,
   "metadata": {
    "colab": {
     "base_uri": "https://localhost:8080/",
     "height": 551
    },
    "executionInfo": {
     "elapsed": 515,
     "status": "ok",
     "timestamp": 1647298876320,
     "user": {
      "displayName": "Shiba Mao",
      "photoUrl": "https://lh3.googleusercontent.com/a/default-user=s64",
      "userId": "16549320756357564965"
     },
     "user_tz": 300
    },
    "id": "0tZ5_AjrvZ32",
    "outputId": "263bc310-331b-452e-d7b8-2c32add157f5"
   },
   "outputs": [
    {
     "data": {
      "text/html": [
       "\n",
       "  <div id=\"df-5d95153a-3fac-4f8a-b040-bbb32588aa9f\">\n",
       "    <div class=\"colab-df-container\">\n",
       "      <div>\n",
       "<style scoped>\n",
       "    .dataframe tbody tr th:only-of-type {\n",
       "        vertical-align: middle;\n",
       "    }\n",
       "\n",
       "    .dataframe tbody tr th {\n",
       "        vertical-align: top;\n",
       "    }\n",
       "\n",
       "    .dataframe thead th {\n",
       "        text-align: right;\n",
       "    }\n",
       "</style>\n",
       "<table border=\"1\" class=\"dataframe\">\n",
       "  <thead>\n",
       "    <tr style=\"text-align: right;\">\n",
       "      <th></th>\n",
       "      <th>content</th>\n",
       "    </tr>\n",
       "    <tr>\n",
       "      <th>comment_time</th>\n",
       "      <th></th>\n",
       "    </tr>\n",
       "  </thead>\n",
       "  <tbody>\n",
       "    <tr>\n",
       "      <th>2005</th>\n",
       "      <td>253</td>\n",
       "    </tr>\n",
       "    <tr>\n",
       "      <th>2006</th>\n",
       "      <td>2108</td>\n",
       "    </tr>\n",
       "    <tr>\n",
       "      <th>2007</th>\n",
       "      <td>5306</td>\n",
       "    </tr>\n",
       "    <tr>\n",
       "      <th>2008</th>\n",
       "      <td>14938</td>\n",
       "    </tr>\n",
       "    <tr>\n",
       "      <th>2009</th>\n",
       "      <td>23246</td>\n",
       "    </tr>\n",
       "    <tr>\n",
       "      <th>2010</th>\n",
       "      <td>42794</td>\n",
       "    </tr>\n",
       "    <tr>\n",
       "      <th>2011</th>\n",
       "      <td>58134</td>\n",
       "    </tr>\n",
       "    <tr>\n",
       "      <th>2012</th>\n",
       "      <td>61524</td>\n",
       "    </tr>\n",
       "    <tr>\n",
       "      <th>2013</th>\n",
       "      <td>50889</td>\n",
       "    </tr>\n",
       "    <tr>\n",
       "      <th>2014</th>\n",
       "      <td>43901</td>\n",
       "    </tr>\n",
       "    <tr>\n",
       "      <th>2015</th>\n",
       "      <td>44406</td>\n",
       "    </tr>\n",
       "    <tr>\n",
       "      <th>2016</th>\n",
       "      <td>56796</td>\n",
       "    </tr>\n",
       "    <tr>\n",
       "      <th>2017</th>\n",
       "      <td>75106</td>\n",
       "    </tr>\n",
       "    <tr>\n",
       "      <th>2018</th>\n",
       "      <td>92985</td>\n",
       "    </tr>\n",
       "    <tr>\n",
       "      <th>2019</th>\n",
       "      <td>157197</td>\n",
       "    </tr>\n",
       "  </tbody>\n",
       "</table>\n",
       "</div>\n",
       "      <button class=\"colab-df-convert\" onclick=\"convertToInteractive('df-5d95153a-3fac-4f8a-b040-bbb32588aa9f')\"\n",
       "              title=\"Convert this dataframe to an interactive table.\"\n",
       "              style=\"display:none;\">\n",
       "        \n",
       "  <svg xmlns=\"http://www.w3.org/2000/svg\" height=\"24px\"viewBox=\"0 0 24 24\"\n",
       "       width=\"24px\">\n",
       "    <path d=\"M0 0h24v24H0V0z\" fill=\"none\"/>\n",
       "    <path d=\"M18.56 5.44l.94 2.06.94-2.06 2.06-.94-2.06-.94-.94-2.06-.94 2.06-2.06.94zm-11 1L8.5 8.5l.94-2.06 2.06-.94-2.06-.94L8.5 2.5l-.94 2.06-2.06.94zm10 10l.94 2.06.94-2.06 2.06-.94-2.06-.94-.94-2.06-.94 2.06-2.06.94z\"/><path d=\"M17.41 7.96l-1.37-1.37c-.4-.4-.92-.59-1.43-.59-.52 0-1.04.2-1.43.59L10.3 9.45l-7.72 7.72c-.78.78-.78 2.05 0 2.83L4 21.41c.39.39.9.59 1.41.59.51 0 1.02-.2 1.41-.59l7.78-7.78 2.81-2.81c.8-.78.8-2.07 0-2.86zM5.41 20L4 18.59l7.72-7.72 1.47 1.35L5.41 20z\"/>\n",
       "  </svg>\n",
       "      </button>\n",
       "      \n",
       "  <style>\n",
       "    .colab-df-container {\n",
       "      display:flex;\n",
       "      flex-wrap:wrap;\n",
       "      gap: 12px;\n",
       "    }\n",
       "\n",
       "    .colab-df-convert {\n",
       "      background-color: #E8F0FE;\n",
       "      border: none;\n",
       "      border-radius: 50%;\n",
       "      cursor: pointer;\n",
       "      display: none;\n",
       "      fill: #1967D2;\n",
       "      height: 32px;\n",
       "      padding: 0 0 0 0;\n",
       "      width: 32px;\n",
       "    }\n",
       "\n",
       "    .colab-df-convert:hover {\n",
       "      background-color: #E2EBFA;\n",
       "      box-shadow: 0px 1px 2px rgba(60, 64, 67, 0.3), 0px 1px 3px 1px rgba(60, 64, 67, 0.15);\n",
       "      fill: #174EA6;\n",
       "    }\n",
       "\n",
       "    [theme=dark] .colab-df-convert {\n",
       "      background-color: #3B4455;\n",
       "      fill: #D2E3FC;\n",
       "    }\n",
       "\n",
       "    [theme=dark] .colab-df-convert:hover {\n",
       "      background-color: #434B5C;\n",
       "      box-shadow: 0px 1px 3px 1px rgba(0, 0, 0, 0.15);\n",
       "      filter: drop-shadow(0px 1px 2px rgba(0, 0, 0, 0.3));\n",
       "      fill: #FFFFFF;\n",
       "    }\n",
       "  </style>\n",
       "\n",
       "      <script>\n",
       "        const buttonEl =\n",
       "          document.querySelector('#df-5d95153a-3fac-4f8a-b040-bbb32588aa9f button.colab-df-convert');\n",
       "        buttonEl.style.display =\n",
       "          google.colab.kernel.accessAllowed ? 'block' : 'none';\n",
       "\n",
       "        async function convertToInteractive(key) {\n",
       "          const element = document.querySelector('#df-5d95153a-3fac-4f8a-b040-bbb32588aa9f');\n",
       "          const dataTable =\n",
       "            await google.colab.kernel.invokeFunction('convertToInteractive',\n",
       "                                                     [key], {});\n",
       "          if (!dataTable) return;\n",
       "\n",
       "          const docLinkHtml = 'Like what you see? Visit the ' +\n",
       "            '<a target=\"_blank\" href=https://colab.research.google.com/notebooks/data_table.ipynb>data table notebook</a>'\n",
       "            + ' to learn more about interactive tables.';\n",
       "          element.innerHTML = '';\n",
       "          dataTable['output_type'] = 'display_data';\n",
       "          await google.colab.output.renderOutput(dataTable, element);\n",
       "          const docLink = document.createElement('div');\n",
       "          docLink.innerHTML = docLinkHtml;\n",
       "          element.appendChild(docLink);\n",
       "        }\n",
       "      </script>\n",
       "    </div>\n",
       "  </div>\n",
       "  "
      ],
      "text/plain": [
       "              content\n",
       "comment_time         \n",
       "2005              253\n",
       "2006             2108\n",
       "2007             5306\n",
       "2008            14938\n",
       "2009            23246\n",
       "2010            42794\n",
       "2011            58134\n",
       "2012            61524\n",
       "2013            50889\n",
       "2014            43901\n",
       "2015            44406\n",
       "2016            56796\n",
       "2017            75106\n",
       "2018            92985\n",
       "2019           157197"
      ]
     },
     "execution_count": 66,
     "metadata": {},
     "output_type": "execute_result"
    }
   ],
   "source": [
    "train_comments_count = pd.DataFrame(train_comments['content'].groupby(train_comments.index.year).count(), columns=['content'])                     \n",
    "train_comments_count"
   ]
  },
  {
   "cell_type": "code",
   "execution_count": 67,
   "metadata": {
    "colab": {
     "base_uri": "https://localhost:8080/",
     "height": 585
    },
    "executionInfo": {
     "elapsed": 927,
     "status": "ok",
     "timestamp": 1647298883295,
     "user": {
      "displayName": "Shiba Mao",
      "photoUrl": "https://lh3.googleusercontent.com/a/default-user=s64",
      "userId": "16549320756357564965"
     },
     "user_tz": 300
    },
    "id": "Xu3aZMrMv_ot",
    "outputId": "95589b06-0066-497e-97c2-c11c72207642"
   },
   "outputs": [
    {
     "data": {
      "image/png": "[encoded data removed]",
      "text/plain": [
       "<Figure size 864x648 with 1 Axes>"
      ]
     },
     "metadata": {
      "needs_background": "light"
     },
     "output_type": "display_data"
    }
   ],
   "source": [
    "# plot number of comments by year\n",
    "fig, ax = plt.subplots()\n",
    "fig.set_size_inches(12, 9)\n",
    "sns.barplot(data = train_comments_count,\n",
    "            x = train_comments_count.index,\n",
    "            y = 'content',\n",
    "            ax=ax,\n",
    "            label='Number of Comments'\n",
    "            ).set_title(\"Number of Comments(2005-2019) in Train Set\")\n",
    "plt.xticks(rotation=60)\n",
    "plt.ylabel('Number of Comments')\n",
    "plt.legend(loc = 'upper left');\n",
    "fig.savefig('/content/drive/MyDrive/Colab Notebooks/Content_analysis_final/vis/number of comments(2005-2019) in train set.png')"
   ]
  },
  {
   "cell_type": "code",
   "execution_count": 68,
   "metadata": {
    "colab": {
     "base_uri": "https://localhost:8080/",
     "height": 551
    },
    "executionInfo": {
     "elapsed": 528,
     "status": "ok",
     "timestamp": 1647298886763,
     "user": {
      "displayName": "Shiba Mao",
      "photoUrl": "https://lh3.googleusercontent.com/a/default-user=s64",
      "userId": "16549320756357564965"
     },
     "user_tz": 300
    },
    "id": "gzeC_g1xvpR8",
    "outputId": "3c4861d3-07a2-438f-8925-5c2fd261a323"
   },
   "outputs": [
    {
     "data": {
      "text/html": [
       "\n",
       "  <div id=\"df-fdebc806-c820-4ef8-94ea-ea9270052334\">\n",
       "    <div class=\"colab-df-container\">\n",
       "      <div>\n",
       "<style scoped>\n",
       "    .dataframe tbody tr th:only-of-type {\n",
       "        vertical-align: middle;\n",
       "    }\n",
       "\n",
       "    .dataframe tbody tr th {\n",
       "        vertical-align: top;\n",
       "    }\n",
       "\n",
       "    .dataframe thead th {\n",
       "        text-align: right;\n",
       "    }\n",
       "</style>\n",
       "<table border=\"1\" class=\"dataframe\">\n",
       "  <thead>\n",
       "    <tr style=\"text-align: right;\">\n",
       "      <th></th>\n",
       "      <th>content</th>\n",
       "    </tr>\n",
       "    <tr>\n",
       "      <th>comment_time</th>\n",
       "      <th></th>\n",
       "    </tr>\n",
       "  </thead>\n",
       "  <tbody>\n",
       "    <tr>\n",
       "      <th>2005</th>\n",
       "      <td>106</td>\n",
       "    </tr>\n",
       "    <tr>\n",
       "      <th>2006</th>\n",
       "      <td>893</td>\n",
       "    </tr>\n",
       "    <tr>\n",
       "      <th>2007</th>\n",
       "      <td>2269</td>\n",
       "    </tr>\n",
       "    <tr>\n",
       "      <th>2008</th>\n",
       "      <td>6338</td>\n",
       "    </tr>\n",
       "    <tr>\n",
       "      <th>2009</th>\n",
       "      <td>9841</td>\n",
       "    </tr>\n",
       "    <tr>\n",
       "      <th>2010</th>\n",
       "      <td>18140</td>\n",
       "    </tr>\n",
       "    <tr>\n",
       "      <th>2011</th>\n",
       "      <td>25346</td>\n",
       "    </tr>\n",
       "    <tr>\n",
       "      <th>2012</th>\n",
       "      <td>26365</td>\n",
       "    </tr>\n",
       "    <tr>\n",
       "      <th>2013</th>\n",
       "      <td>21671</td>\n",
       "    </tr>\n",
       "    <tr>\n",
       "      <th>2014</th>\n",
       "      <td>19170</td>\n",
       "    </tr>\n",
       "    <tr>\n",
       "      <th>2015</th>\n",
       "      <td>18525</td>\n",
       "    </tr>\n",
       "    <tr>\n",
       "      <th>2016</th>\n",
       "      <td>24139</td>\n",
       "    </tr>\n",
       "    <tr>\n",
       "      <th>2017</th>\n",
       "      <td>32370</td>\n",
       "    </tr>\n",
       "    <tr>\n",
       "      <th>2018</th>\n",
       "      <td>39838</td>\n",
       "    </tr>\n",
       "    <tr>\n",
       "      <th>2019</th>\n",
       "      <td>67668</td>\n",
       "    </tr>\n",
       "  </tbody>\n",
       "</table>\n",
       "</div>\n",
       "      <button class=\"colab-df-convert\" onclick=\"convertToInteractive('df-fdebc806-c820-4ef8-94ea-ea9270052334')\"\n",
       "              title=\"Convert this dataframe to an interactive table.\"\n",
       "              style=\"display:none;\">\n",
       "        \n",
       "  <svg xmlns=\"http://www.w3.org/2000/svg\" height=\"24px\"viewBox=\"0 0 24 24\"\n",
       "       width=\"24px\">\n",
       "    <path d=\"M0 0h24v24H0V0z\" fill=\"none\"/>\n",
       "    <path d=\"M18.56 5.44l.94 2.06.94-2.06 2.06-.94-2.06-.94-.94-2.06-.94 2.06-2.06.94zm-11 1L8.5 8.5l.94-2.06 2.06-.94-2.06-.94L8.5 2.5l-.94 2.06-2.06.94zm10 10l.94 2.06.94-2.06 2.06-.94-2.06-.94-.94-2.06-.94 2.06-2.06.94z\"/><path d=\"M17.41 7.96l-1.37-1.37c-.4-.4-.92-.59-1.43-.59-.52 0-1.04.2-1.43.59L10.3 9.45l-7.72 7.72c-.78.78-.78 2.05 0 2.83L4 21.41c.39.39.9.59 1.41.59.51 0 1.02-.2 1.41-.59l7.78-7.78 2.81-2.81c.8-.78.8-2.07 0-2.86zM5.41 20L4 18.59l7.72-7.72 1.47 1.35L5.41 20z\"/>\n",
       "  </svg>\n",
       "      </button>\n",
       "      \n",
       "  <style>\n",
       "    .colab-df-container {\n",
       "      display:flex;\n",
       "      flex-wrap:wrap;\n",
       "      gap: 12px;\n",
       "    }\n",
       "\n",
       "    .colab-df-convert {\n",
       "      background-color: #E8F0FE;\n",
       "      border: none;\n",
       "      border-radius: 50%;\n",
       "      cursor: pointer;\n",
       "      display: none;\n",
       "      fill: #1967D2;\n",
       "      height: 32px;\n",
       "      padding: 0 0 0 0;\n",
       "      width: 32px;\n",
       "    }\n",
       "\n",
       "    .colab-df-convert:hover {\n",
       "      background-color: #E2EBFA;\n",
       "      box-shadow: 0px 1px 2px rgba(60, 64, 67, 0.3), 0px 1px 3px 1px rgba(60, 64, 67, 0.15);\n",
       "      fill: #174EA6;\n",
       "    }\n",
       "\n",
       "    [theme=dark] .colab-df-convert {\n",
       "      background-color: #3B4455;\n",
       "      fill: #D2E3FC;\n",
       "    }\n",
       "\n",
       "    [theme=dark] .colab-df-convert:hover {\n",
       "      background-color: #434B5C;\n",
       "      box-shadow: 0px 1px 3px 1px rgba(0, 0, 0, 0.15);\n",
       "      filter: drop-shadow(0px 1px 2px rgba(0, 0, 0, 0.3));\n",
       "      fill: #FFFFFF;\n",
       "    }\n",
       "  </style>\n",
       "\n",
       "      <script>\n",
       "        const buttonEl =\n",
       "          document.querySelector('#df-fdebc806-c820-4ef8-94ea-ea9270052334 button.colab-df-convert');\n",
       "        buttonEl.style.display =\n",
       "          google.colab.kernel.accessAllowed ? 'block' : 'none';\n",
       "\n",
       "        async function convertToInteractive(key) {\n",
       "          const element = document.querySelector('#df-fdebc806-c820-4ef8-94ea-ea9270052334');\n",
       "          const dataTable =\n",
       "            await google.colab.kernel.invokeFunction('convertToInteractive',\n",
       "                                                     [key], {});\n",
       "          if (!dataTable) return;\n",
       "\n",
       "          const docLinkHtml = 'Like what you see? Visit the ' +\n",
       "            '<a target=\"_blank\" href=https://colab.research.google.com/notebooks/data_table.ipynb>data table notebook</a>'\n",
       "            + ' to learn more about interactive tables.';\n",
       "          element.innerHTML = '';\n",
       "          dataTable['output_type'] = 'display_data';\n",
       "          await google.colab.output.renderOutput(dataTable, element);\n",
       "          const docLink = document.createElement('div');\n",
       "          docLink.innerHTML = docLinkHtml;\n",
       "          element.appendChild(docLink);\n",
       "        }\n",
       "      </script>\n",
       "    </div>\n",
       "  </div>\n",
       "  "
      ],
      "text/plain": [
       "              content\n",
       "comment_time         \n",
       "2005              106\n",
       "2006              893\n",
       "2007             2269\n",
       "2008             6338\n",
       "2009             9841\n",
       "2010            18140\n",
       "2011            25346\n",
       "2012            26365\n",
       "2013            21671\n",
       "2014            19170\n",
       "2015            18525\n",
       "2016            24139\n",
       "2017            32370\n",
       "2018            39838\n",
       "2019            67668"
      ]
     },
     "execution_count": 68,
     "metadata": {},
     "output_type": "execute_result"
    }
   ],
   "source": [
    "test_comments_count = pd.DataFrame(test_comments['content'].groupby(test_comments.index.year).count(), columns=['content'])                     \n",
    "test_comments_count"
   ]
  },
  {
   "cell_type": "code",
   "execution_count": 69,
   "metadata": {
    "colab": {
     "base_uri": "https://localhost:8080/",
     "height": 585
    },
    "executionInfo": {
     "elapsed": 729,
     "status": "ok",
     "timestamp": 1647298889883,
     "user": {
      "displayName": "Shiba Mao",
      "photoUrl": "https://lh3.googleusercontent.com/a/default-user=s64",
      "userId": "16549320756357564965"
     },
     "user_tz": 300
    },
    "id": "bNAXqhCBwP1_",
    "outputId": "67042352-c775-4a13-f1a8-a60dfad0ce82"
   },
   "outputs": [
    {
     "data": {
      "image/png": "[encoded data removed]",
      "text/plain": [
       "<Figure size 864x648 with 1 Axes>"
      ]
     },
     "metadata": {
      "needs_background": "light"
     },
     "output_type": "display_data"
    }
   ],
   "source": [
    "# plot number of comments by year\n",
    "fig, ax = plt.subplots()\n",
    "fig.set_size_inches(12, 9)\n",
    "sns.barplot(data = test_comments_count,\n",
    "            x = test_comments_count.index,\n",
    "            y = 'content',\n",
    "            ax=ax,\n",
    "            label='Number of Comments'\n",
    "            ).set_title(\"Number of Comments(2005-2019) in Test Set\")\n",
    "plt.xticks(rotation=60)\n",
    "plt.ylabel('Number of Comments')\n",
    "plt.legend(loc = 'upper left');\n",
    "fig.savefig('/content/drive/MyDrive/Colab Notebooks/Content_analysis_final/vis/number of comments(2005-2019) in test set.png')"
   ]
  },
  {
   "cell_type": "markdown",
   "metadata": {
    "id": "itc3_RL5vweI"
   },
   "source": [
    "From the two figures, we can set 2005～2012 as time period 1, year 2018-2019 as time period2. We may train word2vec models with higher time granularity in future development."
   ]
  },
  {
   "cell_type": "code",
   "execution_count": 70,
   "metadata": {
    "executionInfo": {
     "elapsed": 509,
     "status": "ok",
     "timestamp": 1647298899609,
     "user": {
      "displayName": "Shiba Mao",
      "photoUrl": "https://lh3.googleusercontent.com/a/default-user=s64",
      "userId": "16549320756357564965"
     },
     "user_tz": 300
    },
    "id": "CEn9ODkMvvOa"
   },
   "outputs": [],
   "source": [
    "train_w2v_comments_1 = train_comments['01/01/2005':'12/31/2012']\n",
    "train_w2v_comments_2 = train_comments['01/01/2018':'12/31/2019']\n",
    "\n",
    "test_w2v_comments_1 = test_comments['01/01/2005':'12/31/2012']\n",
    "test_w2v_comments_2 = test_comments['01/01/2018':'12/31/2019']"
   ]
  },
  {
   "cell_type": "code",
   "execution_count": 72,
   "metadata": {
    "colab": {
     "base_uri": "https://localhost:8080/"
    },
    "executionInfo": {
     "elapsed": 80529,
     "status": "ok",
     "timestamp": 1647298990494,
     "user": {
      "displayName": "Shiba Mao",
      "photoUrl": "https://lh3.googleusercontent.com/a/default-user=s64",
      "userId": "16549320756357564965"
     },
     "user_tz": 300
    },
    "id": "6ss7O6MSy9-C",
    "outputId": "7dfabe4f-5a1d-4100-ce72-2b191f103418"
   },
   "outputs": [
    {
     "name": "stderr",
     "output_type": "stream",
     "text": [
      "208303it [00:24, 8372.90it/s]\n",
      "250182it [00:30, 8147.26it/s]\n",
      "89298it [00:10, 8118.31it/s]\n",
      "107506it [00:13, 8231.63it/s]\n"
     ]
    }
   ],
   "source": [
    "# save for future use\n",
    "train_w2v_comments_1 = train_w2v_comments_1.reset_index()   \n",
    "file_dir_1 = '/content/drive/MyDrive/Colab Notebooks/Content_analysis_final/w2v_data/train_w2v_comments_1.csv'\n",
    "write_csv(train_w2v_comments_1, file_dir_1)\n",
    "            \n",
    "train_w2v_comments_2 = train_w2v_comments_2.reset_index()   \n",
    "file_dir_2 = '/content/drive/MyDrive/Colab Notebooks/Content_analysis_final/w2v_data/train_w2v_comments_2.csv'\n",
    "write_csv(train_w2v_comments_2, file_dir_2)\n",
    "\n",
    "test_w2v_comments_1 = test_w2v_comments_1.reset_index()   \n",
    "file_dir_3 = '/content/drive/MyDrive/Colab Notebooks/Content_analysis_final/w2v_data/test_w2v_comments_1.csv'\n",
    "write_csv(test_w2v_comments_1, file_dir_3)\n",
    "\n",
    "test_w2v_comments_2 = test_w2v_comments_2.reset_index()   \n",
    "file_dir_4 = '/content/drive/MyDrive/Colab Notebooks/Content_analysis_final/w2v_data/test_w2v_comments_2.csv'\n",
    "write_csv(test_w2v_comments_2, file_dir_4)"
   ]
  },
  {
   "cell_type": "markdown",
   "metadata": {
    "id": "7fsUREay2FX2"
   },
   "source": [
    "#### Load Dataset and Train Word2Vec Models"
   ]
  },
  {
   "cell_type": "code",
   "execution_count": 76,
   "metadata": {
    "executionInfo": {
     "elapsed": 2361,
     "status": "ok",
     "timestamp": 1647299265228,
     "user": {
      "displayName": "Shiba Mao",
      "photoUrl": "https://lh3.googleusercontent.com/a/default-user=s64",
      "userId": "16549320756357564965"
     },
     "user_tz": 300
    },
    "id": "G9ADciZ76S_2"
   },
   "outputs": [],
   "source": [
    "train_w2v_comments_1 = pd.read_csv(file_dir_1, index_col='index')\n",
    "train_w2v_comments_2 = pd.read_csv(file_dir_2, index_col='index')\n",
    "test_w2v_comments_1 = pd.read_csv(file_dir_3, index_col='index')\n",
    "test_w2v_comments_2 = pd.read_csv(file_dir_4, index_col='index')"
   ]
  },
  {
   "cell_type": "code",
   "execution_count": 77,
   "metadata": {
    "colab": {
     "base_uri": "https://localhost:8080/",
     "height": 455
    },
    "executionInfo": {
     "elapsed": 12,
     "status": "ok",
     "timestamp": 1647299265229,
     "user": {
      "displayName": "Shiba Mao",
      "photoUrl": "https://lh3.googleusercontent.com/a/default-user=s64",
      "userId": "16549320756357564965"
     },
     "user_tz": 300
    },
    "id": "Ov1LdWBw60H2",
    "outputId": "424ed665-1efe-48d4-f70d-3414dcd7bc90"
   },
   "outputs": [
    {
     "data": {
      "text/html": [
       "\n",
       "  <div id=\"df-083dffaa-7e16-4802-ae3d-866ed70b2389\">\n",
       "    <div class=\"colab-df-container\">\n",
       "      <div>\n",
       "<style scoped>\n",
       "    .dataframe tbody tr th:only-of-type {\n",
       "        vertical-align: middle;\n",
       "    }\n",
       "\n",
       "    .dataframe tbody tr th {\n",
       "        vertical-align: top;\n",
       "    }\n",
       "\n",
       "    .dataframe thead th {\n",
       "        text-align: right;\n",
       "    }\n",
       "</style>\n",
       "<table border=\"1\" class=\"dataframe\">\n",
       "  <thead>\n",
       "    <tr style=\"text-align: right;\">\n",
       "      <th></th>\n",
       "      <th>comment_time</th>\n",
       "      <th>movie_id</th>\n",
       "      <th>rating</th>\n",
       "      <th>content</th>\n",
       "      <th>label</th>\n",
       "    </tr>\n",
       "    <tr>\n",
       "      <th>index</th>\n",
       "      <th></th>\n",
       "      <th></th>\n",
       "      <th></th>\n",
       "      <th></th>\n",
       "      <th></th>\n",
       "    </tr>\n",
       "  </thead>\n",
       "  <tbody>\n",
       "    <tr>\n",
       "      <th>0</th>\n",
       "      <td>2005-06-12 02:22:32</td>\n",
       "      <td>1297598</td>\n",
       "      <td>5.0</td>\n",
       "      <td>唯一的一部看完后马上重看一遍的电影</td>\n",
       "      <td>1</td>\n",
       "    </tr>\n",
       "    <tr>\n",
       "      <th>1</th>\n",
       "      <td>2005-06-16 10:46:09</td>\n",
       "      <td>1308858</td>\n",
       "      <td>3.0</td>\n",
       "      <td>看不懂啊……</td>\n",
       "      <td>0</td>\n",
       "    </tr>\n",
       "    <tr>\n",
       "      <th>2</th>\n",
       "      <td>2005-06-17 15:23:55</td>\n",
       "      <td>1299539</td>\n",
       "      <td>5.0</td>\n",
       "      <td>诗一般的气息</td>\n",
       "      <td>1</td>\n",
       "    </tr>\n",
       "    <tr>\n",
       "      <th>3</th>\n",
       "      <td>2005-06-23 16:49:32</td>\n",
       "      <td>1292061</td>\n",
       "      <td>5.0</td>\n",
       "      <td>过瘾</td>\n",
       "      <td>1</td>\n",
       "    </tr>\n",
       "    <tr>\n",
       "      <th>4</th>\n",
       "      <td>2005-07-03 05:31:46</td>\n",
       "      <td>1298197</td>\n",
       "      <td>5.0</td>\n",
       "      <td>（長片#07）\\n2004/09/16_19:20 @ BC Cinematheque\\n杜...</td>\n",
       "      <td>1</td>\n",
       "    </tr>\n",
       "    <tr>\n",
       "      <th>...</th>\n",
       "      <td>...</td>\n",
       "      <td>...</td>\n",
       "      <td>...</td>\n",
       "      <td>...</td>\n",
       "      <td>...</td>\n",
       "    </tr>\n",
       "    <tr>\n",
       "      <th>208298</th>\n",
       "      <td>2012-12-31 23:35:55</td>\n",
       "      <td>3294611</td>\n",
       "      <td>2.0</td>\n",
       "      <td>面对人生是一种责任,是这意思吧</td>\n",
       "      <td>0</td>\n",
       "    </tr>\n",
       "    <tr>\n",
       "      <th>208299</th>\n",
       "      <td>2012-12-31 23:46:01</td>\n",
       "      <td>6957293</td>\n",
       "      <td>4.0</td>\n",
       "      <td>Finale让人再无话可说，全清唱组合居然真的玩出了DJ采样的感觉。舞蹈什么的我都当没看见吧...</td>\n",
       "      <td>1</td>\n",
       "    </tr>\n",
       "    <tr>\n",
       "      <th>208300</th>\n",
       "      <td>2012-12-31 23:46:55</td>\n",
       "      <td>19998171</td>\n",
       "      <td>3.0</td>\n",
       "      <td>最后一个故事没看进去，但前面的特别是来世不动产碉堡了！！</td>\n",
       "      <td>0</td>\n",
       "    </tr>\n",
       "    <tr>\n",
       "      <th>208301</th>\n",
       "      <td>2012-12-31 23:51:08</td>\n",
       "      <td>1448703</td>\n",
       "      <td>3.0</td>\n",
       "      <td>為了看耀揚</td>\n",
       "      <td>0</td>\n",
       "    </tr>\n",
       "    <tr>\n",
       "      <th>208302</th>\n",
       "      <td>2012-12-31 23:54:34</td>\n",
       "      <td>5395262</td>\n",
       "      <td>3.0</td>\n",
       "      <td>rain还是继续耍帅搞怪，申世京呆板有余让人失望，特效不错场面也还算够大。</td>\n",
       "      <td>0</td>\n",
       "    </tr>\n",
       "  </tbody>\n",
       "</table>\n",
       "<p>208303 rows × 5 columns</p>\n",
       "</div>\n",
       "      <button class=\"colab-df-convert\" onclick=\"convertToInteractive('df-083dffaa-7e16-4802-ae3d-866ed70b2389')\"\n",
       "              title=\"Convert this dataframe to an interactive table.\"\n",
       "              style=\"display:none;\">\n",
       "        \n",
       "  <svg xmlns=\"http://www.w3.org/2000/svg\" height=\"24px\"viewBox=\"0 0 24 24\"\n",
       "       width=\"24px\">\n",
       "    <path d=\"M0 0h24v24H0V0z\" fill=\"none\"/>\n",
       "    <path d=\"M18.56 5.44l.94 2.06.94-2.06 2.06-.94-2.06-.94-.94-2.06-.94 2.06-2.06.94zm-11 1L8.5 8.5l.94-2.06 2.06-.94-2.06-.94L8.5 2.5l-.94 2.06-2.06.94zm10 10l.94 2.06.94-2.06 2.06-.94-2.06-.94-.94-2.06-.94 2.06-2.06.94z\"/><path d=\"M17.41 7.96l-1.37-1.37c-.4-.4-.92-.59-1.43-.59-.52 0-1.04.2-1.43.59L10.3 9.45l-7.72 7.72c-.78.78-.78 2.05 0 2.83L4 21.41c.39.39.9.59 1.41.59.51 0 1.02-.2 1.41-.59l7.78-7.78 2.81-2.81c.8-.78.8-2.07 0-2.86zM5.41 20L4 18.59l7.72-7.72 1.47 1.35L5.41 20z\"/>\n",
       "  </svg>\n",
       "      </button>\n",
       "      \n",
       "  <style>\n",
       "    .colab-df-container {\n",
       "      display:flex;\n",
       "      flex-wrap:wrap;\n",
       "      gap: 12px;\n",
       "    }\n",
       "\n",
       "    .colab-df-convert {\n",
       "      background-color: #E8F0FE;\n",
       "      border: none;\n",
       "      border-radius: 50%;\n",
       "      cursor: pointer;\n",
       "      display: none;\n",
       "      fill: #1967D2;\n",
       "      height: 32px;\n",
       "      padding: 0 0 0 0;\n",
       "      width: 32px;\n",
       "    }\n",
       "\n",
       "    .colab-df-convert:hover {\n",
       "      background-color: #E2EBFA;\n",
       "      box-shadow: 0px 1px 2px rgba(60, 64, 67, 0.3), 0px 1px 3px 1px rgba(60, 64, 67, 0.15);\n",
       "      fill: #174EA6;\n",
       "    }\n",
       "\n",
       "    [theme=dark] .colab-df-convert {\n",
       "      background-color: #3B4455;\n",
       "      fill: #D2E3FC;\n",
       "    }\n",
       "\n",
       "    [theme=dark] .colab-df-convert:hover {\n",
       "      background-color: #434B5C;\n",
       "      box-shadow: 0px 1px 3px 1px rgba(0, 0, 0, 0.15);\n",
       "      filter: drop-shadow(0px 1px 2px rgba(0, 0, 0, 0.3));\n",
       "      fill: #FFFFFF;\n",
       "    }\n",
       "  </style>\n",
       "\n",
       "      <script>\n",
       "        const buttonEl =\n",
       "          document.querySelector('#df-083dffaa-7e16-4802-ae3d-866ed70b2389 button.colab-df-convert');\n",
       "        buttonEl.style.display =\n",
       "          google.colab.kernel.accessAllowed ? 'block' : 'none';\n",
       "\n",
       "        async function convertToInteractive(key) {\n",
       "          const element = document.querySelector('#df-083dffaa-7e16-4802-ae3d-866ed70b2389');\n",
       "          const dataTable =\n",
       "            await google.colab.kernel.invokeFunction('convertToInteractive',\n",
       "                                                     [key], {});\n",
       "          if (!dataTable) return;\n",
       "\n",
       "          const docLinkHtml = 'Like what you see? Visit the ' +\n",
       "            '<a target=\"_blank\" href=https://colab.research.google.com/notebooks/data_table.ipynb>data table notebook</a>'\n",
       "            + ' to learn more about interactive tables.';\n",
       "          element.innerHTML = '';\n",
       "          dataTable['output_type'] = 'display_data';\n",
       "          await google.colab.output.renderOutput(dataTable, element);\n",
       "          const docLink = document.createElement('div');\n",
       "          docLink.innerHTML = docLinkHtml;\n",
       "          element.appendChild(docLink);\n",
       "        }\n",
       "      </script>\n",
       "    </div>\n",
       "  </div>\n",
       "  "
      ],
      "text/plain": [
       "               comment_time  movie_id  rating  \\\n",
       "index                                           \n",
       "0       2005-06-12 02:22:32   1297598     5.0   \n",
       "1       2005-06-16 10:46:09   1308858     3.0   \n",
       "2       2005-06-17 15:23:55   1299539     5.0   \n",
       "3       2005-06-23 16:49:32   1292061     5.0   \n",
       "4       2005-07-03 05:31:46   1298197     5.0   \n",
       "...                     ...       ...     ...   \n",
       "208298  2012-12-31 23:35:55   3294611     2.0   \n",
       "208299  2012-12-31 23:46:01   6957293     4.0   \n",
       "208300  2012-12-31 23:46:55  19998171     3.0   \n",
       "208301  2012-12-31 23:51:08   1448703     3.0   \n",
       "208302  2012-12-31 23:54:34   5395262     3.0   \n",
       "\n",
       "                                                  content  label  \n",
       "index                                                             \n",
       "0                                       唯一的一部看完后马上重看一遍的电影      1  \n",
       "1                                                  看不懂啊……      0  \n",
       "2                                                  诗一般的气息      1  \n",
       "3                                                      过瘾      1  \n",
       "4       （長片#07）\\n2004/09/16_19:20 @ BC Cinematheque\\n杜...      1  \n",
       "...                                                   ...    ...  \n",
       "208298                                    面对人生是一种责任,是这意思吧      0  \n",
       "208299  Finale让人再无话可说，全清唱组合居然真的玩出了DJ采样的感觉。舞蹈什么的我都当没看见吧...      1  \n",
       "208300                       最后一个故事没看进去，但前面的特别是来世不动产碉堡了！！      0  \n",
       "208301                                              為了看耀揚      0  \n",
       "208302              rain还是继续耍帅搞怪，申世京呆板有余让人失望，特效不错场面也还算够大。      0  \n",
       "\n",
       "[208303 rows x 5 columns]"
      ]
     },
     "execution_count": 77,
     "metadata": {},
     "output_type": "execute_result"
    }
   ],
   "source": [
    "train_w2v_comments_1"
   ]
  },
  {
   "cell_type": "code",
   "execution_count": 78,
   "metadata": {
    "executionInfo": {
     "elapsed": 2485,
     "status": "ok",
     "timestamp": 1647299282208,
     "user": {
      "displayName": "Shiba Mao",
      "photoUrl": "https://lh3.googleusercontent.com/a/default-user=s64",
      "userId": "16549320756357564965"
     },
     "user_tz": 300
    },
    "id": "xLwUYJnw7w2S"
   },
   "outputs": [],
   "source": [
    "# replace non-chinese tokens with whitespaces\n",
    "train_w2v_comments_1['content'].replace('[^\\u4e00-\\u9fa5A-Za-z0-9]+', ' ', regex = True, inplace=True)\n",
    "train_w2v_comments_2['content'].replace('[^\\u4e00-\\u9fa5A-Za-z0-9]+', ' ', regex = True, inplace=True)\n",
    "test_w2v_comments_1['content'].replace('[^\\u4e00-\\u9fa5A-Za-z0-9]+', ' ', regex = True, inplace=True)\n",
    "test_w2v_comments_2['content'].replace('[^\\u4e00-\\u9fa5A-Za-z0-9]+', ' ', regex = True, inplace=True)"
   ]
  },
  {
   "cell_type": "code",
   "execution_count": 80,
   "metadata": {
    "colab": {
     "base_uri": "https://localhost:8080/"
    },
    "executionInfo": {
     "elapsed": 161,
     "status": "ok",
     "timestamp": 1647299314071,
     "user": {
      "displayName": "Shiba Mao",
      "photoUrl": "https://lh3.googleusercontent.com/a/default-user=s64",
      "userId": "16549320756357564965"
     },
     "user_tz": 300
    },
    "id": "smh3XOLh2D9c",
    "outputId": "8b007101-e7e2-438f-d12e-755ab034ac27"
   },
   "outputs": [
    {
     "data": {
      "text/plain": [
       "['顺', '顺着', '首先', '！', '，', '：', '；', '？', ' ', '']"
      ]
     },
     "execution_count": 80,
     "metadata": {},
     "output_type": "execute_result"
    }
   ],
   "source": [
    "# adopted from source: https://github.com/goto456/stopwords/blob/master/cn_stopwords.txt\n",
    "stop_words = open(\"/content/drive/MyDrive/Colab Notebooks/cn_stopwords customized.txt\", 'r', encoding='utf-8').read()\n",
    "stop_words_lst = stop_words.split('\\n')\n",
    "stop_words_lst[-10:]"
   ]
  },
  {
   "cell_type": "code",
   "execution_count": 11,
   "metadata": {
    "executionInfo": {
     "elapsed": 599,
     "status": "ok",
     "timestamp": 1647299326802,
     "user": {
      "displayName": "Shiba Mao",
      "photoUrl": "https://lh3.googleusercontent.com/a/default-user=s64",
      "userId": "16549320756357564965"
     },
     "user_tz": 300
    },
    "id": "CkmNZhtH6_v2"
   },
   "outputs": [],
   "source": [
    "def cut_words(example_df, stop_words_lst):\n",
    "  '''\n",
    "  Tokenize Chinese using jieba \n",
    "  '''\n",
    "  tokenized = []\n",
    "  for _, comment in tqdm(example_df.iterrows()):\n",
    "    cut_words = [text for text in jieba.lcut(comment['content']) if text not in stop_words_lst]\n",
    "    tokenized.append(cut_words)\n",
    "  return tokenized"
   ]
  },
  {
   "cell_type": "code",
   "execution_count": 82,
   "metadata": {
    "colab": {
     "base_uri": "https://localhost:8080/"
    },
    "executionInfo": {
     "elapsed": 401456,
     "status": "ok",
     "timestamp": 1647299729759,
     "user": {
      "displayName": "Shiba Mao",
      "photoUrl": "https://lh3.googleusercontent.com/a/default-user=s64",
      "userId": "16549320756357564965"
     },
     "user_tz": 300
    },
    "id": "ZqCF0IxJ8xiY",
    "outputId": "2551ebe5-76c1-430c-e6b6-771a6b342de6"
   },
   "outputs": [
    {
     "name": "stderr",
     "output_type": "stream",
     "text": [
      "\r",
      "0it [00:00, ?it/s]Building prefix dict from the default dictionary ...\n",
      "Dumping model to file cache /tmp/jieba.cache\n",
      "Loading model cost 0.898 seconds.\n",
      "Prefix dict has been built successfully.\n",
      "208303it [01:56, 1792.59it/s]\n",
      "250182it [02:44, 1516.29it/s]\n",
      "89298it [00:48, 1828.96it/s]\n",
      "107506it [01:11, 1514.09it/s]\n"
     ]
    }
   ],
   "source": [
    "train_w2v_comments_1['tokenized'] = cut_words(train_w2v_comments_1, stop_words_lst)\n",
    "train_w2v_comments_2['tokenized'] = cut_words(train_w2v_comments_2, stop_words_lst)\n",
    "test_w2v_comments_1['tokenized'] = cut_words(test_w2v_comments_1, stop_words_lst)\n",
    "test_w2v_comments_2['tokenized'] = cut_words(test_w2v_comments_2, stop_words_lst)"
   ]
  },
  {
   "cell_type": "code",
   "execution_count": 83,
   "metadata": {
    "executionInfo": {
     "elapsed": 30950,
     "status": "ok",
     "timestamp": 1647299771279,
     "user": {
      "displayName": "Shiba Mao",
      "photoUrl": "https://lh3.googleusercontent.com/a/default-user=s64",
      "userId": "16549320756357564965"
     },
     "user_tz": 300
    },
    "id": "1lGLjD939bv5"
   },
   "outputs": [],
   "source": [
    "# check empty rows and drop\n",
    "empty_lst_1 = []\n",
    "for index, row in tqdm(train_w2v_comments_1.iterrows()):\n",
    "    if row['tokenized'] == []:\n",
    "        empty_lst_1.append(index)\n",
    "\n",
    "train_w2v_comments_1.drop(empty_lst_1, axis=0, inplace=True)\n",
    "\n",
    "empty_lst_2 = []\n",
    "for index, row in tqdm(train_w2v_comments_2.iterrows()):\n",
    "    if row['tokenized'] == []:\n",
    "        empty_lst_2.append(index)\n",
    "\n",
    "train_w2v_comments_2.drop(empty_lst_2, axis=0, inplace=True)"
   ]
  },
  {
   "cell_type": "code",
   "execution_count": 90,
   "metadata": {
    "colab": {
     "base_uri": "https://localhost:8080/"
    },
    "executionInfo": {
     "elapsed": 61372,
     "status": "ok",
     "timestamp": 1647300136617,
     "user": {
      "displayName": "Shiba Mao",
      "photoUrl": "https://lh3.googleusercontent.com/a/default-user=s64",
      "userId": "16549320756357564965"
     },
     "user_tz": 300
    },
    "id": "FvLBtl5S9WNd",
    "outputId": "156f92c8-affc-44dd-8344-0e390f5fdf59"
   },
   "outputs": [
    {
     "name": "stderr",
     "output_type": "stream",
     "text": [
      "/usr/local/lib/python3.7/dist-packages/gensim/utils.py:589: DeprecationWarning: Call to deprecated `cum_table` (Attribute will be removed in 4.0.0, use self.vocabulary.cum_table instead).\n",
      "  if hasattr(self, attrib):\n",
      "/usr/local/lib/python3.7/dist-packages/gensim/utils.py:590: DeprecationWarning: Call to deprecated `cum_table` (Attribute will be removed in 4.0.0, use self.vocabulary.cum_table instead).\n",
      "  asides[attrib] = getattr(self, attrib)\n",
      "/usr/local/lib/python3.7/dist-packages/gensim/utils.py:591: DeprecationWarning: Call to deprecated `cum_table` (Attribute will be removed in 4.0.0, use self.vocabulary.cum_table instead).\n",
      "  delattr(self, attrib)\n",
      "/usr/local/lib/python3.7/dist-packages/smart_open/smart_open_lib.py:494: DeprecationWarning: This function is deprecated.  See https://github.com/RaRe-Technologies/smart_open/blob/develop/MIGRATING_FROM_OLDER_VERSIONS.rst for more information\n",
      "  warnings.warn(message, category=DeprecationWarning)\n",
      "/usr/local/lib/python3.7/dist-packages/gensim/utils.py:546: DeprecationWarning: Call to deprecated `cum_table` (Attribute will be removed in 4.0.0, use self.vocabulary.cum_table instead).\n",
      "  setattr(obj, attrib, val)\n",
      "/usr/local/lib/python3.7/dist-packages/gensim/utils.py:589: DeprecationWarning: Call to deprecated `cum_table` (Attribute will be removed in 4.0.0, use self.vocabulary.cum_table instead).\n",
      "  if hasattr(self, attrib):\n",
      "/usr/local/lib/python3.7/dist-packages/gensim/utils.py:590: DeprecationWarning: Call to deprecated `cum_table` (Attribute will be removed in 4.0.0, use self.vocabulary.cum_table instead).\n",
      "  asides[attrib] = getattr(self, attrib)\n",
      "/usr/local/lib/python3.7/dist-packages/gensim/utils.py:591: DeprecationWarning: Call to deprecated `cum_table` (Attribute will be removed in 4.0.0, use self.vocabulary.cum_table instead).\n",
      "  delattr(self, attrib)\n",
      "/usr/local/lib/python3.7/dist-packages/smart_open/smart_open_lib.py:494: DeprecationWarning: This function is deprecated.  See https://github.com/RaRe-Technologies/smart_open/blob/develop/MIGRATING_FROM_OLDER_VERSIONS.rst for more information\n",
      "  warnings.warn(message, category=DeprecationWarning)\n",
      "/usr/local/lib/python3.7/dist-packages/gensim/utils.py:546: DeprecationWarning: Call to deprecated `cum_table` (Attribute will be removed in 4.0.0, use self.vocabulary.cum_table instead).\n",
      "  setattr(obj, attrib, val)\n"
     ]
    }
   ],
   "source": [
    "doubanW2V_1 = gensim.models.word2vec.Word2Vec(train_w2v_comments_1['tokenized'].to_list(), sg=0, hs=1, negative=0)\n",
    "doubanW2V_1.save(\"/content/drive/MyDrive/Colab Notebooks/Content_analysis_final/w2v_model/doubanW2V_1\")\n",
    "\n",
    "doubanW2V_2 = gensim.models.word2vec.Word2Vec(train_w2v_comments_2['tokenized'].to_list(), sg=0, hs=1, negative=0)\n",
    "doubanW2V_2.save(\"/content/drive/MyDrive/Colab Notebooks/Content_analysis_final/w2v_model/doubanW2V_2\")\n",
    "\n",
    "doubanW2V_1 = gensim.models.Word2Vec.load(\"/content/drive/MyDrive/Colab Notebooks/Content_analysis_final/w2v_model/doubanW2V_1\")\n",
    "doubanW2V_2 = gensim.models.Word2Vec.load(\"/content/drive/MyDrive/Colab Notebooks/Content_analysis_final/w2v_model/doubanW2V_2\")"
   ]
  },
  {
   "cell_type": "markdown",
   "metadata": {
    "id": "baB7NibOgf46"
   },
   "source": [
    "#### Get Likehoods to Cross-validate Sentiment Polarization"
   ]
  },
  {
   "cell_type": "code",
   "execution_count": 85,
   "metadata": {
    "executionInfo": {
     "elapsed": 190,
     "status": "ok",
     "timestamp": 1647299862676,
     "user": {
      "displayName": "Shiba Mao",
      "photoUrl": "https://lh3.googleusercontent.com/a/default-user=s64",
      "userId": "16549320756357564965"
     },
     "user_tz": 300
    },
    "id": "7EJSOu-CBwSq"
   },
   "outputs": [],
   "source": [
    "# from week7's notebook\n",
    "def adprob(ad, model):\n",
    "    sen_scores = model.score(ad, len(ad))\n",
    "    ad_score = sen_scores.mean()\n",
    "    return ad_score"
   ]
  },
  {
   "cell_type": "code",
   "execution_count": 92,
   "metadata": {
    "executionInfo": {
     "elapsed": 179,
     "status": "ok",
     "timestamp": 1647300269606,
     "user": {
      "displayName": "Shiba Mao",
      "photoUrl": "https://lh3.googleusercontent.com/a/default-user=s64",
      "userId": "16549320756357564965"
     },
     "user_tz": 300
    },
    "id": "8zPrEMwZ-zl8"
   },
   "outputs": [],
   "source": [
    "def cal_likelihood(example_df, W2V_model):\n",
    "  '''\n",
    "  Calculate the likelihood that comments from example_df belongs \n",
    "  to the W2V model\n",
    "  '''\n",
    "  likelihood_lst = []\n",
    "  for _, row in tqdm(example_df.iterrows()):\n",
    "    likelihood = adprob([row['tokenized']], W2V_model)\n",
    "    likelihood_lst.append(likelihood)\n",
    "  return likelihood_lst"
   ]
  },
  {
   "cell_type": "code",
   "execution_count": 93,
   "metadata": {
    "colab": {
     "base_uri": "https://localhost:8080/"
    },
    "executionInfo": {
     "elapsed": 253231,
     "status": "ok",
     "timestamp": 1647300524113,
     "user": {
      "displayName": "Shiba Mao",
      "photoUrl": "https://lh3.googleusercontent.com/a/default-user=s64",
      "userId": "16549320756357564965"
     },
     "user_tz": 300
    },
    "id": "Lityzd47Cux7",
    "outputId": "e51e7826-5d14-4bc2-cbde-eb0a8dc8bd2a"
   },
   "outputs": [
    {
     "name": "stderr",
     "output_type": "stream",
     "text": [
      "89298it [01:55, 775.08it/s]\n",
      "107506it [02:17, 781.22it/s]\n"
     ]
    }
   ],
   "source": [
    "test_w2v_comments_1['likelihood'] = cal_likelihood(test_w2v_comments_1, doubanW2V_2)\n",
    "test_w2v_comments_2['likelihood'] = cal_likelihood(test_w2v_comments_2, doubanW2V_1)"
   ]
  },
  {
   "cell_type": "markdown",
   "metadata": {
    "id": "ZfLWGJmPCKfM"
   },
   "source": [
    "Let's choose top 1000 most dissimilar comments from each time period.  "
   ]
  },
  {
   "cell_type": "code",
   "execution_count": 121,
   "metadata": {
    "executionInfo": {
     "elapsed": 172,
     "status": "ok",
     "timestamp": 1647304392489,
     "user": {
      "displayName": "Shiba Mao",
      "photoUrl": "https://lh3.googleusercontent.com/a/default-user=s64",
      "userId": "16549320756357564965"
     },
     "user_tz": 300
    },
    "id": "Q03zxXTDB9JB"
   },
   "outputs": [],
   "source": [
    "comments_from_1_different_from_2 = test_w2v_comments_1.sort_values(by = 'likelihood', ascending = True)['content'][:1000]\n",
    "comments_from_2_different_from_1 = test_w2v_comments_2.sort_values(by = 'likelihood', ascending = True)['content'][:1000]"
   ]
  },
  {
   "cell_type": "code",
   "execution_count": 122,
   "metadata": {
    "executionInfo": {
     "elapsed": 1,
     "status": "ok",
     "timestamp": 1647304393353,
     "user": {
      "displayName": "Shiba Mao",
      "photoUrl": "https://lh3.googleusercontent.com/a/default-user=s64",
      "userId": "16549320756357564965"
     },
     "user_tz": 300
    },
    "id": "mGFdnw5FENR2"
   },
   "outputs": [],
   "source": [
    "# create dataframes\n",
    "comments_from_1_different_from_2 = pd.DataFrame(comments_from_1_different_from_2, columns=['content'])\n",
    "comments_from_2_different_from_1 = pd.DataFrame(comments_from_2_different_from_1, columns=['content'])"
   ]
  },
  {
   "cell_type": "code",
   "execution_count": 123,
   "metadata": {
    "colab": {
     "base_uri": "https://localhost:8080/"
    },
    "executionInfo": {
     "elapsed": 482082,
     "status": "ok",
     "timestamp": 1647304875940,
     "user": {
      "displayName": "Shiba Mao",
      "photoUrl": "https://lh3.googleusercontent.com/a/default-user=s64",
      "userId": "16549320756357564965"
     },
     "user_tz": 300
    },
    "id": "c50BRPEKDu_l",
    "outputId": "3be90457-306e-4368-fff4-70bed8c52905"
   },
   "outputs": [
    {
     "name": "stderr",
     "output_type": "stream",
     "text": [
      "100%|██████████| 1000/1000 [02:48<00:00,  5.95it/s]\n",
      "100%|██████████| 1000/1000 [05:14<00:00,  3.18it/s]\n"
     ]
    }
   ],
   "source": [
    "y_label_1, scores_1 = sentiment_analysis(comments_from_1_different_from_2)\n",
    "y_label_2, scores_2 = sentiment_analysis(comments_from_2_different_from_1)"
   ]
  },
  {
   "cell_type": "code",
   "execution_count": 124,
   "metadata": {
    "executionInfo": {
     "elapsed": 17,
     "status": "ok",
     "timestamp": 1647304875941,
     "user": {
      "displayName": "Shiba Mao",
      "photoUrl": "https://lh3.googleusercontent.com/a/default-user=s64",
      "userId": "16549320756357564965"
     },
     "user_tz": 300
    },
    "id": "v-YZtM6xEm9H"
   },
   "outputs": [],
   "source": [
    "def get_statistics(y_label, scores):\n",
    "    '''\n",
    "    get number of positive comments, negative comments, ratio of \n",
    "    positve comments, average positive score, average negative score,\n",
    "    standard variance of postive score, standard vairance\n",
    "    '''\n",
    "    pos_lst = []\n",
    "    neg_lst = []\n",
    "\n",
    "    for label, score in tqdm(zip(y_label, scores)):\n",
    "        if label == 1:\n",
    "            pos_lst.append(score)\n",
    "        else:\n",
    "            neg_lst.append(score)\n",
    "    \n",
    "    pos_count = len(pos_lst)\n",
    "    neg_count = len(neg_lst)\n",
    "    pos_ratio = pos_count/(pos_count + neg_count)\n",
    "    \n",
    "    pos_avg = np.mean(np.array(pos_lst))\n",
    "    neg_avg = np.mean(np.array(neg_lst))\n",
    "    \n",
    "    pos_std = np.std(np.array(pos_lst))\n",
    "    neg_std = np.std(np.array(neg_lst))\n",
    "\n",
    "    return [pos_count, neg_count, pos_ratio, pos_avg, neg_avg, pos_std, neg_std]"
   ]
  },
  {
   "cell_type": "code",
   "execution_count": 125,
   "metadata": {
    "colab": {
     "base_uri": "https://localhost:8080/"
    },
    "executionInfo": {
     "elapsed": 16,
     "status": "ok",
     "timestamp": 1647304875941,
     "user": {
      "displayName": "Shiba Mao",
      "photoUrl": "https://lh3.googleusercontent.com/a/default-user=s64",
      "userId": "16549320756357564965"
     },
     "user_tz": 300
    },
    "id": "sJElIoIPE8zF",
    "outputId": "40300469-545c-4b7d-f7dc-2ffd2cbfddba"
   },
   "outputs": [
    {
     "name": "stderr",
     "output_type": "stream",
     "text": [
      "1000it [00:00, 1520226.17it/s]\n",
      "1000it [00:00, 1583353.72it/s]\n"
     ]
    }
   ],
   "source": [
    "statistics_1 = get_statistics(y_label_1, scores_1) # comments from time period 1 \n",
    "statistics_2 = get_statistics(y_label_2, scores_2) # comments from time period 2 "
   ]
  },
  {
   "cell_type": "code",
   "execution_count": 153,
   "metadata": {
    "executionInfo": {
     "elapsed": 156,
     "status": "ok",
     "timestamp": 1647307861849,
     "user": {
      "displayName": "Shiba Mao",
      "photoUrl": "https://lh3.googleusercontent.com/a/default-user=s64",
      "userId": "16549320756357564965"
     },
     "user_tz": 300
    },
    "id": "qzaOpmfMHGWM"
   },
   "outputs": [],
   "source": [
    "statistics_df = pd.DataFrame({'Comments_from_time_period_1': statistics_1,\n",
    "                              'Comments_from_time_period_2': statistics_2})"
   ]
  },
  {
   "cell_type": "code",
   "execution_count": 154,
   "metadata": {
    "colab": {
     "base_uri": "https://localhost:8080/",
     "height": 112
    },
    "executionInfo": {
     "elapsed": 4,
     "status": "ok",
     "timestamp": 1647307863309,
     "user": {
      "displayName": "Shiba Mao",
      "photoUrl": "https://lh3.googleusercontent.com/a/default-user=s64",
      "userId": "16549320756357564965"
     },
     "user_tz": 300
    },
    "id": "7hjoEdaLHsla",
    "outputId": "63bfc187-19af-45fa-81af-7f9790c9596b"
   },
   "outputs": [
    {
     "data": {
      "text/html": [
       "\n",
       "  <div id=\"df-f3585705-c4f0-4f34-b8d6-e282d1a3abc5\">\n",
       "    <div class=\"colab-df-container\">\n",
       "      <div>\n",
       "<style scoped>\n",
       "    .dataframe tbody tr th:only-of-type {\n",
       "        vertical-align: middle;\n",
       "    }\n",
       "\n",
       "    .dataframe tbody tr th {\n",
       "        vertical-align: top;\n",
       "    }\n",
       "\n",
       "    .dataframe thead th {\n",
       "        text-align: right;\n",
       "    }\n",
       "</style>\n",
       "<table border=\"1\" class=\"dataframe\">\n",
       "  <thead>\n",
       "    <tr style=\"text-align: right;\">\n",
       "      <th></th>\n",
       "      <th>positive_count</th>\n",
       "      <th>negative_count</th>\n",
       "      <th>positive_ratio</th>\n",
       "      <th>positive_avg_score</th>\n",
       "      <th>negative_avg_score</th>\n",
       "      <th>positive_std</th>\n",
       "      <th>negative_std</th>\n",
       "    </tr>\n",
       "  </thead>\n",
       "  <tbody>\n",
       "    <tr>\n",
       "      <th>Comments_from_time_period_1</th>\n",
       "      <td>680.0</td>\n",
       "      <td>320.0</td>\n",
       "      <td>0.680</td>\n",
       "      <td>0.779764</td>\n",
       "      <td>0.753744</td>\n",
       "      <td>0.134916</td>\n",
       "      <td>0.166126</td>\n",
       "    </tr>\n",
       "    <tr>\n",
       "      <th>Comments_from_time_period_2</th>\n",
       "      <td>699.0</td>\n",
       "      <td>301.0</td>\n",
       "      <td>0.699</td>\n",
       "      <td>0.793357</td>\n",
       "      <td>0.779548</td>\n",
       "      <td>0.140084</td>\n",
       "      <td>0.164323</td>\n",
       "    </tr>\n",
       "  </tbody>\n",
       "</table>\n",
       "</div>\n",
       "      <button class=\"colab-df-convert\" onclick=\"convertToInteractive('df-f3585705-c4f0-4f34-b8d6-e282d1a3abc5')\"\n",
       "              title=\"Convert this dataframe to an interactive table.\"\n",
       "              style=\"display:none;\">\n",
       "        \n",
       "  <svg xmlns=\"http://www.w3.org/2000/svg\" height=\"24px\"viewBox=\"0 0 24 24\"\n",
       "       width=\"24px\">\n",
       "    <path d=\"M0 0h24v24H0V0z\" fill=\"none\"/>\n",
       "    <path d=\"M18.56 5.44l.94 2.06.94-2.06 2.06-.94-2.06-.94-.94-2.06-.94 2.06-2.06.94zm-11 1L8.5 8.5l.94-2.06 2.06-.94-2.06-.94L8.5 2.5l-.94 2.06-2.06.94zm10 10l.94 2.06.94-2.06 2.06-.94-2.06-.94-.94-2.06-.94 2.06-2.06.94z\"/><path d=\"M17.41 7.96l-1.37-1.37c-.4-.4-.92-.59-1.43-.59-.52 0-1.04.2-1.43.59L10.3 9.45l-7.72 7.72c-.78.78-.78 2.05 0 2.83L4 21.41c.39.39.9.59 1.41.59.51 0 1.02-.2 1.41-.59l7.78-7.78 2.81-2.81c.8-.78.8-2.07 0-2.86zM5.41 20L4 18.59l7.72-7.72 1.47 1.35L5.41 20z\"/>\n",
       "  </svg>\n",
       "      </button>\n",
       "      \n",
       "  <style>\n",
       "    .colab-df-container {\n",
       "      display:flex;\n",
       "      flex-wrap:wrap;\n",
       "      gap: 12px;\n",
       "    }\n",
       "\n",
       "    .colab-df-convert {\n",
       "      background-color: #E8F0FE;\n",
       "      border: none;\n",
       "      border-radius: 50%;\n",
       "      cursor: pointer;\n",
       "      display: none;\n",
       "      fill: #1967D2;\n",
       "      height: 32px;\n",
       "      padding: 0 0 0 0;\n",
       "      width: 32px;\n",
       "    }\n",
       "\n",
       "    .colab-df-convert:hover {\n",
       "      background-color: #E2EBFA;\n",
       "      box-shadow: 0px 1px 2px rgba(60, 64, 67, 0.3), 0px 1px 3px 1px rgba(60, 64, 67, 0.15);\n",
       "      fill: #174EA6;\n",
       "    }\n",
       "\n",
       "    [theme=dark] .colab-df-convert {\n",
       "      background-color: #3B4455;\n",
       "      fill: #D2E3FC;\n",
       "    }\n",
       "\n",
       "    [theme=dark] .colab-df-convert:hover {\n",
       "      background-color: #434B5C;\n",
       "      box-shadow: 0px 1px 3px 1px rgba(0, 0, 0, 0.15);\n",
       "      filter: drop-shadow(0px 1px 2px rgba(0, 0, 0, 0.3));\n",
       "      fill: #FFFFFF;\n",
       "    }\n",
       "  </style>\n",
       "\n",
       "      <script>\n",
       "        const buttonEl =\n",
       "          document.querySelector('#df-f3585705-c4f0-4f34-b8d6-e282d1a3abc5 button.colab-df-convert');\n",
       "        buttonEl.style.display =\n",
       "          google.colab.kernel.accessAllowed ? 'block' : 'none';\n",
       "\n",
       "        async function convertToInteractive(key) {\n",
       "          const element = document.querySelector('#df-f3585705-c4f0-4f34-b8d6-e282d1a3abc5');\n",
       "          const dataTable =\n",
       "            await google.colab.kernel.invokeFunction('convertToInteractive',\n",
       "                                                     [key], {});\n",
       "          if (!dataTable) return;\n",
       "\n",
       "          const docLinkHtml = 'Like what you see? Visit the ' +\n",
       "            '<a target=\"_blank\" href=https://colab.research.google.com/notebooks/data_table.ipynb>data table notebook</a>'\n",
       "            + ' to learn more about interactive tables.';\n",
       "          element.innerHTML = '';\n",
       "          dataTable['output_type'] = 'display_data';\n",
       "          await google.colab.output.renderOutput(dataTable, element);\n",
       "          const docLink = document.createElement('div');\n",
       "          docLink.innerHTML = docLinkHtml;\n",
       "          element.appendChild(docLink);\n",
       "        }\n",
       "      </script>\n",
       "    </div>\n",
       "  </div>\n",
       "  "
      ],
      "text/plain": [
       "                             positive_count  negative_count  positive_ratio  \\\n",
       "Comments_from_time_period_1           680.0           320.0           0.680   \n",
       "Comments_from_time_period_2           699.0           301.0           0.699   \n",
       "\n",
       "                             positive_avg_score  negative_avg_score  \\\n",
       "Comments_from_time_period_1            0.779764            0.753744   \n",
       "Comments_from_time_period_2            0.793357            0.779548   \n",
       "\n",
       "                             positive_std  negative_std  \n",
       "Comments_from_time_period_1      0.134916      0.166126  \n",
       "Comments_from_time_period_2      0.140084      0.164323  "
      ]
     },
     "execution_count": 154,
     "metadata": {},
     "output_type": "execute_result"
    }
   ],
   "source": [
    "statistics_df = statistics_df.stack().unstack(0)\n",
    "statistics_df.columns = ['positive_count', 'negative_count', 'positive_ratio', \n",
    "                         'positive_avg_score', 'negative_avg_score',\n",
    "                         'positive_std', 'negative_std']\n",
    "statistics_df"
   ]
  },
  {
   "cell_type": "code",
   "execution_count": 158,
   "metadata": {
    "colab": {
     "base_uri": "https://localhost:8080/",
     "height": 391
    },
    "executionInfo": {
     "elapsed": 1001,
     "status": "ok",
     "timestamp": 1647307987100,
     "user": {
      "displayName": "Shiba Mao",
      "photoUrl": "https://lh3.googleusercontent.com/a/default-user=s64",
      "userId": "16549320756357564965"
     },
     "user_tz": 300
    },
    "id": "-U97FfAeIQZM",
    "outputId": "aa31d91c-f636-49a2-e462-515e6400378a"
   },
   "outputs": [
    {
     "data": {
      "image/png": "[encoded data removed]",
      "text/plain": [
       "<Figure size 648x432 with 1 Axes>"
      ]
     },
     "metadata": {
      "needs_background": "light"
     },
     "output_type": "display_data"
    }
   ],
   "source": [
    "fig, ax = plt.subplots(figsize=(9,6))\n",
    "ax.plot(statistics_df.index, statistics_df.positive_avg_score,\n",
    "             color='tab:red', label='Average Positive Score')\n",
    "sns.scatterplot(statistics_df.index, statistics_df.positive_avg_score,\n",
    "             color='tab:red', s=50)\n",
    "ax.plot(statistics_df.index, statistics_df.negative_avg_score, \n",
    "             color='tab:blue', label='Average Negative Score')\n",
    "sns.scatterplot(statistics_df.index, statistics_df.negative_avg_score,\n",
    "             color='tab:blue', s=50)\n",
    "plt.title(\"Sentiment Score Comparison(2005-2012 vs. 2018-2019)\")\n",
    "plt.ylabel('Sentiment Score')\n",
    "plt.legend(loc = 'upper left')\n",
    "fig.savefig('/content/drive/MyDrive/Colab Notebooks/Content_analysis_final/vis/Sentiment Score Comparison.png')"
   ]
  },
  {
   "cell_type": "markdown",
   "metadata": {
    "id": "1AyTZ9J3NI8d"
   },
   "source": [
    "So although word2vec models are not trained for sentiment analysis, they also detected the polarization of sentiment. What's more, it told us that though the average positve sentiment score of all comments didn't change much overtime. Those most distinctive postive comments became polarized. Considering word2vec is a static wordembedding model and the usage of language don't change much during this two time periods, it suggested that users of douban tend to use more polarized words in thier movie comments."
   ]
  },
  {
   "cell_type": "markdown",
   "metadata": {
    "id": "0Mo4VG0NLxER"
   },
   "source": [
    "## Sentiment Polarization and Stereotypes in Gender-related Comments\n"
   ]
  },
  {
   "cell_type": "markdown",
   "metadata": {
    "id": "D5HTrWj1NSud"
   },
   "source": [
    "### Extract Gender-related Comments\n",
    "\n",
    "Here we use key words search to extract comments that explicitly mention gender."
   ]
  },
  {
   "cell_type": "code",
   "execution_count": 12,
   "metadata": {
    "executionInfo": {
     "elapsed": 522,
     "status": "ok",
     "timestamp": 1647308711770,
     "user": {
      "displayName": "Shiba Mao",
      "photoUrl": "https://lh3.googleusercontent.com/a/default-user=s64",
      "userId": "16549320756357564965"
     },
     "user_tz": 300
    },
    "id": "ggcVF5u_REWO"
   },
   "outputs": [],
   "source": [
    "# define gender-related words.\n",
    "male_related = set(['男', '他', '他的'])\n",
    "female_related = set(['女', '她'])\n",
    "# these words mention 'he' but are not gender-related\n",
    "# noise_words = set(['其他', '他人', '他者', '顾左右而言他', '无他', '他们', '他奶奶的', '他妈的', '他娘的', '他大爷的'])\n",
    "\n",
    "def extract_gender_related_comments(example_df, male_related, female_related):\n",
    "  '''\n",
    "  Extract gender related comments\n",
    "  '''\n",
    "  idx_male_set = set()\n",
    "  idx_female_set = set()\n",
    "  for idx, row in tqdm(example_df.iterrows()):\n",
    "    # check if male related\n",
    "    for male_word in male_related:\n",
    "      if male_word == '他' or  male_word == '他的':\n",
    "        if male_word in row['tokenized']:\n",
    "          idx_male_set.add(idx)\n",
    "          break\n",
    "      else:\n",
    "        if male_word in row['content']:\n",
    "          idx_male_set.add(idx)\n",
    "    # check if female-related\n",
    "    for female_word in female_related:\n",
    "      if female_word in row['content']: \n",
    "        idx_female_set.add(idx)\n",
    "\n",
    "  intersection = idx_male_set & idx_female_set\n",
    "  idx_male_set = idx_male_set - intersection\n",
    "  idx_female_set = idx_female_set - intersection\n",
    "\n",
    "  return idx_male_set, idx_female_set\n"
   ]
  },
  {
   "cell_type": "code",
   "execution_count": 161,
   "metadata": {
    "colab": {
     "base_uri": "https://localhost:8080/"
    },
    "executionInfo": {
     "elapsed": 231122,
     "status": "ok",
     "timestamp": 1647308996711,
     "user": {
      "displayName": "Shiba Mao",
      "photoUrl": "https://lh3.googleusercontent.com/a/default-user=s64",
      "userId": "16549320756357564965"
     },
     "user_tz": 300
    },
    "id": "SYvZNSUwNKKF",
    "outputId": "a5cd5b17-2c06-4678-da3d-6b2d5cfe1584"
   },
   "outputs": [
    {
     "name": "stderr",
     "output_type": "stream",
     "text": [
      "312679it [03:17, 1582.99it/s]\n",
      "312679it [00:32, 9523.40it/s] \n"
     ]
    }
   ],
   "source": [
    "test_comments = test_comments.reset_index()\n",
    "test_comments['tokenized'] = cut_words(test_comments, stop_words_lst)\n",
    "idx_male_set_test, idx_female_set_test = extract_gender_related_comments(test_comments, \n",
    "                                                                         male_related, \n",
    "                                                                         female_related)"
   ]
  },
  {
   "cell_type": "code",
   "execution_count": 163,
   "metadata": {
    "executionInfo": {
     "elapsed": 588,
     "status": "ok",
     "timestamp": 1647309099001,
     "user": {
      "displayName": "Shiba Mao",
      "photoUrl": "https://lh3.googleusercontent.com/a/default-user=s64",
      "userId": "16549320756357564965"
     },
     "user_tz": 300
    },
    "id": "bWzukEQ7QOq6"
   },
   "outputs": [],
   "source": [
    "male_related_from_test = test_comments.iloc[list(idx_male_set_test), :]\n",
    "female_related_from_test = test_comments.iloc[list(idx_female_set_test), :]"
   ]
  },
  {
   "cell_type": "code",
   "execution_count": 166,
   "metadata": {
    "colab": {
     "base_uri": "https://localhost:8080/",
     "height": 641
    },
    "executionInfo": {
     "elapsed": 232,
     "status": "ok",
     "timestamp": 1647309164374,
     "user": {
      "displayName": "Shiba Mao",
      "photoUrl": "https://lh3.googleusercontent.com/a/default-user=s64",
      "userId": "16549320756357564965"
     },
     "user_tz": 300
    },
    "id": "QsvY_fSaRi35",
    "outputId": "beaed604-557a-4fd0-ab62-7cf94b64ee9a"
   },
   "outputs": [
    {
     "data": {
      "text/html": [
       "\n",
       "  <div id=\"df-f6c54634-20d9-4065-b7a6-4078670c8e72\">\n",
       "    <div class=\"colab-df-container\">\n",
       "      <div>\n",
       "<style scoped>\n",
       "    .dataframe tbody tr th:only-of-type {\n",
       "        vertical-align: middle;\n",
       "    }\n",
       "\n",
       "    .dataframe tbody tr th {\n",
       "        vertical-align: top;\n",
       "    }\n",
       "\n",
       "    .dataframe thead th {\n",
       "        text-align: right;\n",
       "    }\n",
       "</style>\n",
       "<table border=\"1\" class=\"dataframe\">\n",
       "  <thead>\n",
       "    <tr style=\"text-align: right;\">\n",
       "      <th></th>\n",
       "      <th>comment_time</th>\n",
       "      <th>movie_id</th>\n",
       "      <th>rating</th>\n",
       "      <th>content</th>\n",
       "      <th>label</th>\n",
       "      <th>tokenized</th>\n",
       "    </tr>\n",
       "  </thead>\n",
       "  <tbody>\n",
       "    <tr>\n",
       "      <th>196608</th>\n",
       "      <td>2017-09-25 14:27:22</td>\n",
       "      <td>1303964</td>\n",
       "      <td>3.0</td>\n",
       "      <td>有点意外评分为什么这么低，其实是蛮有意思的一部电影，恶搞香港漫画，稍微了解一点港漫应该都会觉...</td>\n",
       "      <td>0</td>\n",
       "      <td>[有点, 意外, 评分, 低, 其实, 蛮有意思, 一部, 电影, 恶搞, 香港, 漫画, ...</td>\n",
       "    </tr>\n",
       "    <tr>\n",
       "      <th>1</th>\n",
       "      <td>2005-07-03 05:45:10</td>\n",
       "      <td>1297046</td>\n",
       "      <td>3.0</td>\n",
       "      <td>（長片#04）\\n另一齣早期黑白片。研究巴爾扎克的大學教授。嘉芙蓮丹露早夭的姊姊（抑或妹妹）...</td>\n",
       "      <td>0</td>\n",
       "      <td>[（, 長, 片, #, 04, ）, \\n, 齣, 早期, 黑白片, 研究, 巴爾, 扎克...</td>\n",
       "    </tr>\n",
       "    <tr>\n",
       "      <th>98304</th>\n",
       "      <td>2013-06-02 14:39:23</td>\n",
       "      <td>2148243</td>\n",
       "      <td>2.0</td>\n",
       "      <td>我是真的不直答最后他选择了什么。</td>\n",
       "      <td>0</td>\n",
       "      <td>[我, 真的, 不直, 答, 最后, 他, 选择]</td>\n",
       "    </tr>\n",
       "    <tr>\n",
       "      <th>65541</th>\n",
       "      <td>2012-02-02 14:47:45</td>\n",
       "      <td>4312236</td>\n",
       "      <td>2.0</td>\n",
       "      <td>这一瞬，或许就在于车祸刹那，他转身保护着他直至死亡；那一瞬，又或许是真相大白后心灵对话，难忘...</td>\n",
       "      <td>0</td>\n",
       "      <td>[一瞬, 或许, 车祸, 刹那, 他, 转身, 保护, 他, 直至, 死亡, 一瞬, 或许,...</td>\n",
       "    </tr>\n",
       "    <tr>\n",
       "      <th>131079</th>\n",
       "      <td>2015-01-18 21:34:18</td>\n",
       "      <td>5111994</td>\n",
       "      <td>4.0</td>\n",
       "      <td>涅瓦河畔果然出盡魑魅魍魎的映像作品。本片是導演繼《契卡》之後的作品，以粉紅電影的相似時長演繹...</td>\n",
       "      <td>1</td>\n",
       "      <td>[涅瓦河, 畔, 出盡, 魑魅, 魍, 魎, 映像, 作品, 本片, 導演繼, 契卡, 後,...</td>\n",
       "    </tr>\n",
       "    <tr>\n",
       "      <th>...</th>\n",
       "      <td>...</td>\n",
       "      <td>...</td>\n",
       "      <td>...</td>\n",
       "      <td>...</td>\n",
       "      <td>...</td>\n",
       "      <td>...</td>\n",
       "    </tr>\n",
       "    <tr>\n",
       "      <th>262136</th>\n",
       "      <td>2019-04-11 11:40:33</td>\n",
       "      <td>1300552</td>\n",
       "      <td>4.0</td>\n",
       "      <td>超现实视角下的俯瞰，还原了恬淡的乡村生活。散文化处理消磨了冲突，无疾而终的生活由三位老人反复...</td>\n",
       "      <td>1</td>\n",
       "      <td>[超现实, 视角, 俯瞰, 还原, 恬淡, 乡村, 生活, 散文化, 处理, 消磨, 冲突,...</td>\n",
       "    </tr>\n",
       "    <tr>\n",
       "      <th>163834</th>\n",
       "      <td>2016-08-24 21:22:57</td>\n",
       "      <td>1440030</td>\n",
       "      <td>4.0</td>\n",
       "      <td>加一星，男主格外迷人</td>\n",
       "      <td>1</td>\n",
       "      <td>[加一星, 男主, 格外, 迷人]</td>\n",
       "    </tr>\n",
       "    <tr>\n",
       "      <th>131069</th>\n",
       "      <td>2015-01-18 19:37:37</td>\n",
       "      <td>6887029</td>\n",
       "      <td>5.0</td>\n",
       "      <td>#794 摄影真心美，全程柔光，心都化着。套上了好听的民谣，底子依然是科恩兄弟突破常规失控的...</td>\n",
       "      <td>1</td>\n",
       "      <td>[#, 794, 摄影, 真心, 美, 全程, 柔光, 心都化, 套, 好听, 民谣, 底子...</td>\n",
       "    </tr>\n",
       "    <tr>\n",
       "      <th>196606</th>\n",
       "      <td>2017-09-25 13:42:55</td>\n",
       "      <td>1299793</td>\n",
       "      <td>4.0</td>\n",
       "      <td>很好的电影，有些事情就是命中注定，比如咪咪的克星：脸上有三颗星的男人。很好的暗讽了当时的社会...</td>\n",
       "      <td>1</td>\n",
       "      <td>[电影, 事情, 命中注定, 咪咪, 克星, 脸上, 三颗, 星, 男人, 暗讽, 当时, ...</td>\n",
       "    </tr>\n",
       "    <tr>\n",
       "      <th>65535</th>\n",
       "      <td>2012-02-02 12:22:54</td>\n",
       "      <td>7065352</td>\n",
       "      <td>3.0</td>\n",
       "      <td>为了那小男孩加一星</td>\n",
       "      <td>0</td>\n",
       "      <td>[小男孩, 加一星]</td>\n",
       "    </tr>\n",
       "  </tbody>\n",
       "</table>\n",
       "<p>17457 rows × 6 columns</p>\n",
       "</div>\n",
       "      <button class=\"colab-df-convert\" onclick=\"convertToInteractive('df-f6c54634-20d9-4065-b7a6-4078670c8e72')\"\n",
       "              title=\"Convert this dataframe to an interactive table.\"\n",
       "              style=\"display:none;\">\n",
       "        \n",
       "  <svg xmlns=\"http://www.w3.org/2000/svg\" height=\"24px\"viewBox=\"0 0 24 24\"\n",
       "       width=\"24px\">\n",
       "    <path d=\"M0 0h24v24H0V0z\" fill=\"none\"/>\n",
       "    <path d=\"M18.56 5.44l.94 2.06.94-2.06 2.06-.94-2.06-.94-.94-2.06-.94 2.06-2.06.94zm-11 1L8.5 8.5l.94-2.06 2.06-.94-2.06-.94L8.5 2.5l-.94 2.06-2.06.94zm10 10l.94 2.06.94-2.06 2.06-.94-2.06-.94-.94-2.06-.94 2.06-2.06.94z\"/><path d=\"M17.41 7.96l-1.37-1.37c-.4-.4-.92-.59-1.43-.59-.52 0-1.04.2-1.43.59L10.3 9.45l-7.72 7.72c-.78.78-.78 2.05 0 2.83L4 21.41c.39.39.9.59 1.41.59.51 0 1.02-.2 1.41-.59l7.78-7.78 2.81-2.81c.8-.78.8-2.07 0-2.86zM5.41 20L4 18.59l7.72-7.72 1.47 1.35L5.41 20z\"/>\n",
       "  </svg>\n",
       "      </button>\n",
       "      \n",
       "  <style>\n",
       "    .colab-df-container {\n",
       "      display:flex;\n",
       "      flex-wrap:wrap;\n",
       "      gap: 12px;\n",
       "    }\n",
       "\n",
       "    .colab-df-convert {\n",
       "      background-color: #E8F0FE;\n",
       "      border: none;\n",
       "      border-radius: 50%;\n",
       "      cursor: pointer;\n",
       "      display: none;\n",
       "      fill: #1967D2;\n",
       "      height: 32px;\n",
       "      padding: 0 0 0 0;\n",
       "      width: 32px;\n",
       "    }\n",
       "\n",
       "    .colab-df-convert:hover {\n",
       "      background-color: #E2EBFA;\n",
       "      box-shadow: 0px 1px 2px rgba(60, 64, 67, 0.3), 0px 1px 3px 1px rgba(60, 64, 67, 0.15);\n",
       "      fill: #174EA6;\n",
       "    }\n",
       "\n",
       "    [theme=dark] .colab-df-convert {\n",
       "      background-color: #3B4455;\n",
       "      fill: #D2E3FC;\n",
       "    }\n",
       "\n",
       "    [theme=dark] .colab-df-convert:hover {\n",
       "      background-color: #434B5C;\n",
       "      box-shadow: 0px 1px 3px 1px rgba(0, 0, 0, 0.15);\n",
       "      filter: drop-shadow(0px 1px 2px rgba(0, 0, 0, 0.3));\n",
       "      fill: #FFFFFF;\n",
       "    }\n",
       "  </style>\n",
       "\n",
       "      <script>\n",
       "        const buttonEl =\n",
       "          document.querySelector('#df-f6c54634-20d9-4065-b7a6-4078670c8e72 button.colab-df-convert');\n",
       "        buttonEl.style.display =\n",
       "          google.colab.kernel.accessAllowed ? 'block' : 'none';\n",
       "\n",
       "        async function convertToInteractive(key) {\n",
       "          const element = document.querySelector('#df-f6c54634-20d9-4065-b7a6-4078670c8e72');\n",
       "          const dataTable =\n",
       "            await google.colab.kernel.invokeFunction('convertToInteractive',\n",
       "                                                     [key], {});\n",
       "          if (!dataTable) return;\n",
       "\n",
       "          const docLinkHtml = 'Like what you see? Visit the ' +\n",
       "            '<a target=\"_blank\" href=https://colab.research.google.com/notebooks/data_table.ipynb>data table notebook</a>'\n",
       "            + ' to learn more about interactive tables.';\n",
       "          element.innerHTML = '';\n",
       "          dataTable['output_type'] = 'display_data';\n",
       "          await google.colab.output.renderOutput(dataTable, element);\n",
       "          const docLink = document.createElement('div');\n",
       "          docLink.innerHTML = docLinkHtml;\n",
       "          element.appendChild(docLink);\n",
       "        }\n",
       "      </script>\n",
       "    </div>\n",
       "  </div>\n",
       "  "
      ],
      "text/plain": [
       "              comment_time  movie_id  rating  \\\n",
       "196608 2017-09-25 14:27:22   1303964     3.0   \n",
       "1      2005-07-03 05:45:10   1297046     3.0   \n",
       "98304  2013-06-02 14:39:23   2148243     2.0   \n",
       "65541  2012-02-02 14:47:45   4312236     2.0   \n",
       "131079 2015-01-18 21:34:18   5111994     4.0   \n",
       "...                    ...       ...     ...   \n",
       "262136 2019-04-11 11:40:33   1300552     4.0   \n",
       "163834 2016-08-24 21:22:57   1440030     4.0   \n",
       "131069 2015-01-18 19:37:37   6887029     5.0   \n",
       "196606 2017-09-25 13:42:55   1299793     4.0   \n",
       "65535  2012-02-02 12:22:54   7065352     3.0   \n",
       "\n",
       "                                                  content  label  \\\n",
       "196608  有点意外评分为什么这么低，其实是蛮有意思的一部电影，恶搞香港漫画，稍微了解一点港漫应该都会觉...      0   \n",
       "1       （長片#04）\\n另一齣早期黑白片。研究巴爾扎克的大學教授。嘉芙蓮丹露早夭的姊姊（抑或妹妹）...      0   \n",
       "98304                                    我是真的不直答最后他选择了什么。      0   \n",
       "65541   这一瞬，或许就在于车祸刹那，他转身保护着他直至死亡；那一瞬，又或许是真相大白后心灵对话，难忘...      0   \n",
       "131079  涅瓦河畔果然出盡魑魅魍魎的映像作品。本片是導演繼《契卡》之後的作品，以粉紅電影的相似時長演繹...      1   \n",
       "...                                                   ...    ...   \n",
       "262136  超现实视角下的俯瞰，还原了恬淡的乡村生活。散文化处理消磨了冲突，无疾而终的生活由三位老人反复...      1   \n",
       "163834                                         加一星，男主格外迷人      1   \n",
       "131069  #794 摄影真心美，全程柔光，心都化着。套上了好听的民谣，底子依然是科恩兄弟突破常规失控的...      1   \n",
       "196606  很好的电影，有些事情就是命中注定，比如咪咪的克星：脸上有三颗星的男人。很好的暗讽了当时的社会...      1   \n",
       "65535                                           为了那小男孩加一星      0   \n",
       "\n",
       "                                                tokenized  \n",
       "196608  [有点, 意外, 评分, 低, 其实, 蛮有意思, 一部, 电影, 恶搞, 香港, 漫画, ...  \n",
       "1       [（, 長, 片, #, 04, ）, \\n, 齣, 早期, 黑白片, 研究, 巴爾, 扎克...  \n",
       "98304                           [我, 真的, 不直, 答, 最后, 他, 选择]  \n",
       "65541   [一瞬, 或许, 车祸, 刹那, 他, 转身, 保护, 他, 直至, 死亡, 一瞬, 或许,...  \n",
       "131079  [涅瓦河, 畔, 出盡, 魑魅, 魍, 魎, 映像, 作品, 本片, 導演繼, 契卡, 後,...  \n",
       "...                                                   ...  \n",
       "262136  [超现实, 视角, 俯瞰, 还原, 恬淡, 乡村, 生活, 散文化, 处理, 消磨, 冲突,...  \n",
       "163834                                  [加一星, 男主, 格外, 迷人]  \n",
       "131069  [#, 794, 摄影, 真心, 美, 全程, 柔光, 心都化, 套, 好听, 民谣, 底子...  \n",
       "196606  [电影, 事情, 命中注定, 咪咪, 克星, 脸上, 三颗, 星, 男人, 暗讽, 当时, ...  \n",
       "65535                                          [小男孩, 加一星]  \n",
       "\n",
       "[17457 rows x 6 columns]"
      ]
     },
     "execution_count": 166,
     "metadata": {},
     "output_type": "execute_result"
    }
   ],
   "source": [
    "male_related_from_test"
   ]
  },
  {
   "cell_type": "code",
   "execution_count": 167,
   "metadata": {
    "colab": {
     "base_uri": "https://localhost:8080/",
     "height": 624
    },
    "executionInfo": {
     "elapsed": 190,
     "status": "ok",
     "timestamp": 1647309181361,
     "user": {
      "displayName": "Shiba Mao",
      "photoUrl": "https://lh3.googleusercontent.com/a/default-user=s64",
      "userId": "16549320756357564965"
     },
     "user_tz": 300
    },
    "id": "UcXSoLqWR0ke",
    "outputId": "729c5e59-ccfc-4d9c-a225-14c8b35cc55f"
   },
   "outputs": [
    {
     "data": {
      "text/html": [
       "\n",
       "  <div id=\"df-bf7496f2-63f0-4429-9dda-3a6f2aa3ae68\">\n",
       "    <div class=\"colab-df-container\">\n",
       "      <div>\n",
       "<style scoped>\n",
       "    .dataframe tbody tr th:only-of-type {\n",
       "        vertical-align: middle;\n",
       "    }\n",
       "\n",
       "    .dataframe tbody tr th {\n",
       "        vertical-align: top;\n",
       "    }\n",
       "\n",
       "    .dataframe thead th {\n",
       "        text-align: right;\n",
       "    }\n",
       "</style>\n",
       "<table border=\"1\" class=\"dataframe\">\n",
       "  <thead>\n",
       "    <tr style=\"text-align: right;\">\n",
       "      <th></th>\n",
       "      <th>comment_time</th>\n",
       "      <th>movie_id</th>\n",
       "      <th>rating</th>\n",
       "      <th>content</th>\n",
       "      <th>label</th>\n",
       "      <th>tokenized</th>\n",
       "    </tr>\n",
       "  </thead>\n",
       "  <tbody>\n",
       "    <tr>\n",
       "      <th>131072</th>\n",
       "      <td>2015-01-18 19:48:53</td>\n",
       "      <td>1292479</td>\n",
       "      <td>3.0</td>\n",
       "      <td>时尚冒险娱乐闹剧  卡通童话式\\n角色为主 黑白角分明 绅士与伪君子 怪杰与骗子 女性牵线 ...</td>\n",
       "      <td>0</td>\n",
       "      <td>[时尚, 冒险, 娱乐, 闹剧, 卡通, 童话, 式, \\n, 角色, 为主, 黑白, 角,...</td>\n",
       "    </tr>\n",
       "    <tr>\n",
       "      <th>262148</th>\n",
       "      <td>2019-04-11 13:37:41</td>\n",
       "      <td>1304723</td>\n",
       "      <td>4.0</td>\n",
       "      <td>女主真的不好看，但是她真的演得很好。。电影结束时，新的冒险即将展开</td>\n",
       "      <td>1</td>\n",
       "      <td>[女主, 真的, 好看, 她, 真的, 演得, 电影, 结束, 时, 新, 冒险, 即将, 展开]</td>\n",
       "    </tr>\n",
       "    <tr>\n",
       "      <th>262156</th>\n",
       "      <td>2019-04-11 15:02:52</td>\n",
       "      <td>27666591</td>\n",
       "      <td>4.0</td>\n",
       "      <td>坦白讲这是一部需要静下心来看的电影，陆小雅导演作为第四代，在艺术上的表现力和镜头深度功力尽显...</td>\n",
       "      <td>1</td>\n",
       "      <td>[坦白讲, 这是, 一部, 需要, 静下心来, 电影, 陆, 小雅, 导演, 第四代, 艺术...</td>\n",
       "    </tr>\n",
       "    <tr>\n",
       "      <th>262158</th>\n",
       "      <td>2019-04-11 15:29:16</td>\n",
       "      <td>30228425</td>\n",
       "      <td>4.0</td>\n",
       "      <td>top50后平台直接托管，深度学习的素材集够了，后面算法就能基于足够的数据创造出虚拟影像，没...</td>\n",
       "      <td>1</td>\n",
       "      <td>[top50, 平台, 直接, 托管, 深度, 学习, 素材, 集够, 后面, 算法, 足够...</td>\n",
       "    </tr>\n",
       "    <tr>\n",
       "      <th>131089</th>\n",
       "      <td>2015-01-18 22:35:19</td>\n",
       "      <td>1297227</td>\n",
       "      <td>5.0</td>\n",
       "      <td>这就是为什么我不想生女儿，of which 好的那个早早没了，坏的那个一路和至亲过不去。真正...</td>\n",
       "      <td>1</td>\n",
       "      <td>[我, 不想, 生, 女儿, of, which, 早早, 没, 坏, 一路, 至亲, 过不...</td>\n",
       "    </tr>\n",
       "    <tr>\n",
       "      <th>...</th>\n",
       "      <td>...</td>\n",
       "      <td>...</td>\n",
       "      <td>...</td>\n",
       "      <td>...</td>\n",
       "      <td>...</td>\n",
       "      <td>...</td>\n",
       "    </tr>\n",
       "    <tr>\n",
       "      <th>262092</th>\n",
       "      <td>2019-04-11 00:12:57</td>\n",
       "      <td>27622757</td>\n",
       "      <td>3.0</td>\n",
       "      <td>胶片拍摄带来的质感和色调是非常漂亮的，四个看似独立的故事，年轻演员隆胸的渴求、新移民女人的精...</td>\n",
       "      <td>0</td>\n",
       "      <td>[胶片, 拍摄, 带来, 质感, 色调, 非常, 漂亮, 四个, 看似, 独立, 故事, 年...</td>\n",
       "    </tr>\n",
       "    <tr>\n",
       "      <th>262108</th>\n",
       "      <td>2019-04-11 02:00:18</td>\n",
       "      <td>30174107</td>\n",
       "      <td>4.0</td>\n",
       "      <td>第一部贾法·帕纳西，游刃有余的小电影。师父阿巴斯拍《十段生命的律动》，徒弟拍《出租车》，两个...</td>\n",
       "      <td>1</td>\n",
       "      <td>[第一部, 贾法, ·, 帕, 纳西, 游刃有余, 电影, 师父, 阿巴斯, 拍, 十段, ...</td>\n",
       "    </tr>\n",
       "    <tr>\n",
       "      <th>131044</th>\n",
       "      <td>2015-01-18 09:54:58</td>\n",
       "      <td>25722123</td>\n",
       "      <td>3.0</td>\n",
       "      <td>看似强硬的女人背后总会有内心的脆弱..😌</td>\n",
       "      <td>0</td>\n",
       "      <td>[看似, 强硬, 女人, 背后, 总会, 内心, 脆弱, .., 😌]</td>\n",
       "    </tr>\n",
       "    <tr>\n",
       "      <th>131047</th>\n",
       "      <td>2015-01-18 13:29:46</td>\n",
       "      <td>25872968</td>\n",
       "      <td>4.0</td>\n",
       "      <td>喜欢杨子珊这样的女生，从长相都性格都是可爱的。当然也很喜欢郑恺啦。</td>\n",
       "      <td>1</td>\n",
       "      <td>[喜欢, 杨子, 珊, 女生, 长相, 性格, 可爱, 喜欢, 郑恺]</td>\n",
       "    </tr>\n",
       "    <tr>\n",
       "      <th>262135</th>\n",
       "      <td>2019-04-11 11:39:54</td>\n",
       "      <td>30268948</td>\n",
       "      <td>3.0</td>\n",
       "      <td>1分给个辛苦分，以及2分给女主</td>\n",
       "      <td>0</td>\n",
       "      <td>[分给, 辛苦, 分, 分给, 女主]</td>\n",
       "    </tr>\n",
       "  </tbody>\n",
       "</table>\n",
       "<p>23720 rows × 6 columns</p>\n",
       "</div>\n",
       "      <button class=\"colab-df-convert\" onclick=\"convertToInteractive('df-bf7496f2-63f0-4429-9dda-3a6f2aa3ae68')\"\n",
       "              title=\"Convert this dataframe to an interactive table.\"\n",
       "              style=\"display:none;\">\n",
       "        \n",
       "  <svg xmlns=\"http://www.w3.org/2000/svg\" height=\"24px\"viewBox=\"0 0 24 24\"\n",
       "       width=\"24px\">\n",
       "    <path d=\"M0 0h24v24H0V0z\" fill=\"none\"/>\n",
       "    <path d=\"M18.56 5.44l.94 2.06.94-2.06 2.06-.94-2.06-.94-.94-2.06-.94 2.06-2.06.94zm-11 1L8.5 8.5l.94-2.06 2.06-.94-2.06-.94L8.5 2.5l-.94 2.06-2.06.94zm10 10l.94 2.06.94-2.06 2.06-.94-2.06-.94-.94-2.06-.94 2.06-2.06.94z\"/><path d=\"M17.41 7.96l-1.37-1.37c-.4-.4-.92-.59-1.43-.59-.52 0-1.04.2-1.43.59L10.3 9.45l-7.72 7.72c-.78.78-.78 2.05 0 2.83L4 21.41c.39.39.9.59 1.41.59.51 0 1.02-.2 1.41-.59l7.78-7.78 2.81-2.81c.8-.78.8-2.07 0-2.86zM5.41 20L4 18.59l7.72-7.72 1.47 1.35L5.41 20z\"/>\n",
       "  </svg>\n",
       "      </button>\n",
       "      \n",
       "  <style>\n",
       "    .colab-df-container {\n",
       "      display:flex;\n",
       "      flex-wrap:wrap;\n",
       "      gap: 12px;\n",
       "    }\n",
       "\n",
       "    .colab-df-convert {\n",
       "      background-color: #E8F0FE;\n",
       "      border: none;\n",
       "      border-radius: 50%;\n",
       "      cursor: pointer;\n",
       "      display: none;\n",
       "      fill: #1967D2;\n",
       "      height: 32px;\n",
       "      padding: 0 0 0 0;\n",
       "      width: 32px;\n",
       "    }\n",
       "\n",
       "    .colab-df-convert:hover {\n",
       "      background-color: #E2EBFA;\n",
       "      box-shadow: 0px 1px 2px rgba(60, 64, 67, 0.3), 0px 1px 3px 1px rgba(60, 64, 67, 0.15);\n",
       "      fill: #174EA6;\n",
       "    }\n",
       "\n",
       "    [theme=dark] .colab-df-convert {\n",
       "      background-color: #3B4455;\n",
       "      fill: #D2E3FC;\n",
       "    }\n",
       "\n",
       "    [theme=dark] .colab-df-convert:hover {\n",
       "      background-color: #434B5C;\n",
       "      box-shadow: 0px 1px 3px 1px rgba(0, 0, 0, 0.15);\n",
       "      filter: drop-shadow(0px 1px 2px rgba(0, 0, 0, 0.3));\n",
       "      fill: #FFFFFF;\n",
       "    }\n",
       "  </style>\n",
       "\n",
       "      <script>\n",
       "        const buttonEl =\n",
       "          document.querySelector('#df-bf7496f2-63f0-4429-9dda-3a6f2aa3ae68 button.colab-df-convert');\n",
       "        buttonEl.style.display =\n",
       "          google.colab.kernel.accessAllowed ? 'block' : 'none';\n",
       "\n",
       "        async function convertToInteractive(key) {\n",
       "          const element = document.querySelector('#df-bf7496f2-63f0-4429-9dda-3a6f2aa3ae68');\n",
       "          const dataTable =\n",
       "            await google.colab.kernel.invokeFunction('convertToInteractive',\n",
       "                                                     [key], {});\n",
       "          if (!dataTable) return;\n",
       "\n",
       "          const docLinkHtml = 'Like what you see? Visit the ' +\n",
       "            '<a target=\"_blank\" href=https://colab.research.google.com/notebooks/data_table.ipynb>data table notebook</a>'\n",
       "            + ' to learn more about interactive tables.';\n",
       "          element.innerHTML = '';\n",
       "          dataTable['output_type'] = 'display_data';\n",
       "          await google.colab.output.renderOutput(dataTable, element);\n",
       "          const docLink = document.createElement('div');\n",
       "          docLink.innerHTML = docLinkHtml;\n",
       "          element.appendChild(docLink);\n",
       "        }\n",
       "      </script>\n",
       "    </div>\n",
       "  </div>\n",
       "  "
      ],
      "text/plain": [
       "              comment_time  movie_id  rating  \\\n",
       "131072 2015-01-18 19:48:53   1292479     3.0   \n",
       "262148 2019-04-11 13:37:41   1304723     4.0   \n",
       "262156 2019-04-11 15:02:52  27666591     4.0   \n",
       "262158 2019-04-11 15:29:16  30228425     4.0   \n",
       "131089 2015-01-18 22:35:19   1297227     5.0   \n",
       "...                    ...       ...     ...   \n",
       "262092 2019-04-11 00:12:57  27622757     3.0   \n",
       "262108 2019-04-11 02:00:18  30174107     4.0   \n",
       "131044 2015-01-18 09:54:58  25722123     3.0   \n",
       "131047 2015-01-18 13:29:46  25872968     4.0   \n",
       "262135 2019-04-11 11:39:54  30268948     3.0   \n",
       "\n",
       "                                                  content  label  \\\n",
       "131072  时尚冒险娱乐闹剧  卡通童话式\\n角色为主 黑白角分明 绅士与伪君子 怪杰与骗子 女性牵线 ...      0   \n",
       "262148                  女主真的不好看，但是她真的演得很好。。电影结束时，新的冒险即将展开      1   \n",
       "262156  坦白讲这是一部需要静下心来看的电影，陆小雅导演作为第四代，在艺术上的表现力和镜头深度功力尽显...      1   \n",
       "262158  top50后平台直接托管，深度学习的素材集够了，后面算法就能基于足够的数据创造出虚拟影像，没...      1   \n",
       "131089  这就是为什么我不想生女儿，of which 好的那个早早没了，坏的那个一路和至亲过不去。真正...      1   \n",
       "...                                                   ...    ...   \n",
       "262092  胶片拍摄带来的质感和色调是非常漂亮的，四个看似独立的故事，年轻演员隆胸的渴求、新移民女人的精...      0   \n",
       "262108  第一部贾法·帕纳西，游刃有余的小电影。师父阿巴斯拍《十段生命的律动》，徒弟拍《出租车》，两个...      1   \n",
       "131044                               看似强硬的女人背后总会有内心的脆弱..😌      0   \n",
       "131047                  喜欢杨子珊这样的女生，从长相都性格都是可爱的。当然也很喜欢郑恺啦。      1   \n",
       "262135                                    1分给个辛苦分，以及2分给女主      0   \n",
       "\n",
       "                                                tokenized  \n",
       "131072  [时尚, 冒险, 娱乐, 闹剧, 卡通, 童话, 式, \\n, 角色, 为主, 黑白, 角,...  \n",
       "262148  [女主, 真的, 好看, 她, 真的, 演得, 电影, 结束, 时, 新, 冒险, 即将, 展开]  \n",
       "262156  [坦白讲, 这是, 一部, 需要, 静下心来, 电影, 陆, 小雅, 导演, 第四代, 艺术...  \n",
       "262158  [top50, 平台, 直接, 托管, 深度, 学习, 素材, 集够, 后面, 算法, 足够...  \n",
       "131089  [我, 不想, 生, 女儿, of, which, 早早, 没, 坏, 一路, 至亲, 过不...  \n",
       "...                                                   ...  \n",
       "262092  [胶片, 拍摄, 带来, 质感, 色调, 非常, 漂亮, 四个, 看似, 独立, 故事, 年...  \n",
       "262108  [第一部, 贾法, ·, 帕, 纳西, 游刃有余, 电影, 师父, 阿巴斯, 拍, 十段, ...  \n",
       "131044                [看似, 强硬, 女人, 背后, 总会, 内心, 脆弱, .., 😌]  \n",
       "131047                [喜欢, 杨子, 珊, 女生, 长相, 性格, 可爱, 喜欢, 郑恺]  \n",
       "262135                                [分给, 辛苦, 分, 分给, 女主]  \n",
       "\n",
       "[23720 rows x 6 columns]"
      ]
     },
     "execution_count": 167,
     "metadata": {},
     "output_type": "execute_result"
    }
   ],
   "source": [
    "female_related_from_test"
   ]
  },
  {
   "cell_type": "markdown",
   "metadata": {
    "id": "ydIvIpuDR2Vt"
   },
   "source": [
    "Female-related comments is around 40% more than male-related."
   ]
  },
  {
   "cell_type": "markdown",
   "metadata": {
    "id": "UKZg4wkqfzMq"
   },
   "source": [
    "### Test Gender-related Comments using BERT"
   ]
  },
  {
   "cell_type": "markdown",
   "metadata": {
    "id": "OH_6WCd_UrH4"
   },
   "source": [
    "#### Sentiment Trend of Male-related Comments"
   ]
  },
  {
   "cell_type": "code",
   "execution_count": 168,
   "metadata": {
    "colab": {
     "base_uri": "https://localhost:8080/"
    },
    "executionInfo": {
     "elapsed": 666,
     "status": "ok",
     "timestamp": 1647309544635,
     "user": {
      "displayName": "Shiba Mao",
      "photoUrl": "https://lh3.googleusercontent.com/a/default-user=s64",
      "userId": "16549320756357564965"
     },
     "user_tz": 300
    },
    "id": "lz2y92iqTJ79",
    "outputId": "5bfec727-6bf4-4b7a-81e8-a83a025f790f"
   },
   "outputs": [
    {
     "data": {
      "text/plain": [
       "comment_time\n",
       "2005       3\n",
       "2006      41\n",
       "2007     111\n",
       "2008     266\n",
       "2009     441\n",
       "2010     948\n",
       "2011    1374\n",
       "2012    1492\n",
       "2013    1201\n",
       "2014    1119\n",
       "2015    1095\n",
       "2016    1432\n",
       "2017    1886\n",
       "2018    2328\n",
       "2019    3720\n",
       "Name: content, dtype: int64"
      ]
     },
     "execution_count": 168,
     "metadata": {},
     "output_type": "execute_result"
    }
   ],
   "source": [
    "male_related_from_test = male_related_from_test.set_index('comment_time').sort_index()\n",
    "male_related_from_test_count = male_related_from_test['content'].groupby(male_related_from_test.index.year)\\\n",
    "                                              .count()\n",
    "male_related_from_test_count"
   ]
  },
  {
   "cell_type": "code",
   "execution_count": 172,
   "metadata": {
    "colab": {
     "base_uri": "https://localhost:8080/"
    },
    "executionInfo": {
     "elapsed": 1971652,
     "status": "ok",
     "timestamp": 1647311949430,
     "user": {
      "displayName": "Shiba Mao",
      "photoUrl": "https://lh3.googleusercontent.com/a/default-user=s64",
      "userId": "16549320756357564965"
     },
     "user_tz": 300
    },
    "id": "qqJXN1J7T1oG",
    "outputId": "979742d5-2139-4488-e3ca-3e33be7e336b"
   },
   "outputs": [
    {
     "name": "stderr",
     "output_type": "stream",
     "text": [
      "100%|██████████| 17457/17457 [32:51<00:00,  8.85it/s]\n"
     ]
    }
   ],
   "source": [
    "y_label_male, scores_male = sentiment_analysis(male_related_from_test)"
   ]
  },
  {
   "cell_type": "code",
   "execution_count": 173,
   "metadata": {
    "colab": {
     "base_uri": "https://localhost:8080/"
    },
    "executionInfo": {
     "elapsed": 574,
     "status": "ok",
     "timestamp": 1647311949960,
     "user": {
      "displayName": "Shiba Mao",
      "photoUrl": "https://lh3.googleusercontent.com/a/default-user=s64",
      "userId": "16549320756357564965"
     },
     "user_tz": 300
    },
    "id": "pDsk82qgescU",
    "outputId": "aa7ffc58-ab8c-4b0d-b447-ea71ea52d288"
   },
   "outputs": [
    {
     "name": "stderr",
     "output_type": "stream",
     "text": [
      "111it [00:00, 443820.54it/s]\n",
      "266it [00:00, 870948.37it/s]\n",
      "441it [00:00, 887992.35it/s]\n",
      "948it [00:00, 1023474.95it/s]\n",
      "1374it [00:00, 1185309.28it/s]\n",
      "1492it [00:00, 1752422.73it/s]\n",
      "1201it [00:00, 1746051.68it/s]\n",
      "1119it [00:00, 1108508.78it/s]\n",
      "1095it [00:00, 1310346.04it/s]\n",
      "1432it [00:00, 1187239.24it/s]\n",
      "1886it [00:00, 1908894.15it/s]\n",
      "2328it [00:00, 1580245.95it/s]\n",
      "3720it [00:00, 2248891.74it/s]\n"
     ]
    }
   ],
   "source": [
    "# we don't have many commetns the first two years, so skip \n",
    "# start\n",
    "cur = 44\n",
    "year = 2007\n",
    "dic = {}\n",
    "male_related_from_test_count = male_related_from_test_count.to_list()\n",
    "for year_num in male_related_from_test_count[2:]:\n",
    "    dic[year] = get_year_statistics(y_label_male, scores_male, cur, year_num)\n",
    "    year += 1\n",
    "    cur += year_num"
   ]
  },
  {
   "cell_type": "code",
   "execution_count": 180,
   "metadata": {
    "executionInfo": {
     "elapsed": 233,
     "status": "ok",
     "timestamp": 1647312517469,
     "user": {
      "displayName": "Shiba Mao",
      "photoUrl": "https://lh3.googleusercontent.com/a/default-user=s64",
      "userId": "16549320756357564965"
     },
     "user_tz": 300
    },
    "id": "tAjtLNq3U6mj"
   },
   "outputs": [],
   "source": [
    "df2 = pd.DataFrame(dic)\n",
    "trend2 = df2.stack().unstack(0)"
   ]
  },
  {
   "cell_type": "code",
   "execution_count": 181,
   "metadata": {
    "executionInfo": {
     "elapsed": 2,
     "status": "ok",
     "timestamp": 1647312518718,
     "user": {
      "displayName": "Shiba Mao",
      "photoUrl": "https://lh3.googleusercontent.com/a/default-user=s64",
      "userId": "16549320756357564965"
     },
     "user_tz": 300
    },
    "id": "ptysdK47VL-y"
   },
   "outputs": [],
   "source": [
    "trend2.columns = ['positive_count', 'negative_count', 'positive_ratio', \n",
    "                 'positive_avg_score', 'negative_avg_score',\n",
    "                 'positive_std', 'negative_std']"
   ]
  },
  {
   "cell_type": "code",
   "execution_count": 207,
   "metadata": {
    "colab": {
     "base_uri": "https://localhost:8080/",
     "height": 457
    },
    "executionInfo": {
     "elapsed": 299,
     "status": "ok",
     "timestamp": 1647316023176,
     "user": {
      "displayName": "Shiba Mao",
      "photoUrl": "https://lh3.googleusercontent.com/a/default-user=s64",
      "userId": "16549320756357564965"
     },
     "user_tz": 300
    },
    "id": "Jd0YN3okr6Yy",
    "outputId": "e87ee54a-4fd7-448d-e508-a45a9a62a932"
   },
   "outputs": [
    {
     "data": {
      "text/html": [
       "\n",
       "  <div id=\"df-e427449f-78c2-440f-96c4-af2483f17de4\">\n",
       "    <div class=\"colab-df-container\">\n",
       "      <div>\n",
       "<style scoped>\n",
       "    .dataframe tbody tr th:only-of-type {\n",
       "        vertical-align: middle;\n",
       "    }\n",
       "\n",
       "    .dataframe tbody tr th {\n",
       "        vertical-align: top;\n",
       "    }\n",
       "\n",
       "    .dataframe thead th {\n",
       "        text-align: right;\n",
       "    }\n",
       "</style>\n",
       "<table border=\"1\" class=\"dataframe\">\n",
       "  <thead>\n",
       "    <tr style=\"text-align: right;\">\n",
       "      <th></th>\n",
       "      <th>positive_count</th>\n",
       "      <th>negative_count</th>\n",
       "      <th>positive_ratio</th>\n",
       "      <th>positive_avg_score</th>\n",
       "      <th>negative_avg_score</th>\n",
       "      <th>positive_std</th>\n",
       "      <th>negative_std</th>\n",
       "    </tr>\n",
       "  </thead>\n",
       "  <tbody>\n",
       "    <tr>\n",
       "      <th>2007</th>\n",
       "      <td>74.0</td>\n",
       "      <td>37.0</td>\n",
       "      <td>0.666667</td>\n",
       "      <td>0.738426</td>\n",
       "      <td>0.754154</td>\n",
       "      <td>0.136698</td>\n",
       "      <td>0.167333</td>\n",
       "    </tr>\n",
       "    <tr>\n",
       "      <th>2008</th>\n",
       "      <td>146.0</td>\n",
       "      <td>120.0</td>\n",
       "      <td>0.548872</td>\n",
       "      <td>0.734219</td>\n",
       "      <td>0.739608</td>\n",
       "      <td>0.138608</td>\n",
       "      <td>0.162789</td>\n",
       "    </tr>\n",
       "    <tr>\n",
       "      <th>2009</th>\n",
       "      <td>255.0</td>\n",
       "      <td>186.0</td>\n",
       "      <td>0.578231</td>\n",
       "      <td>0.732771</td>\n",
       "      <td>0.758863</td>\n",
       "      <td>0.133873</td>\n",
       "      <td>0.161449</td>\n",
       "    </tr>\n",
       "    <tr>\n",
       "      <th>2010</th>\n",
       "      <td>512.0</td>\n",
       "      <td>436.0</td>\n",
       "      <td>0.540084</td>\n",
       "      <td>0.737967</td>\n",
       "      <td>0.756965</td>\n",
       "      <td>0.140862</td>\n",
       "      <td>0.157884</td>\n",
       "    </tr>\n",
       "    <tr>\n",
       "      <th>2011</th>\n",
       "      <td>774.0</td>\n",
       "      <td>600.0</td>\n",
       "      <td>0.563319</td>\n",
       "      <td>0.749525</td>\n",
       "      <td>0.767546</td>\n",
       "      <td>0.146013</td>\n",
       "      <td>0.162071</td>\n",
       "    </tr>\n",
       "    <tr>\n",
       "      <th>2012</th>\n",
       "      <td>792.0</td>\n",
       "      <td>700.0</td>\n",
       "      <td>0.530831</td>\n",
       "      <td>0.753470</td>\n",
       "      <td>0.778678</td>\n",
       "      <td>0.141656</td>\n",
       "      <td>0.159156</td>\n",
       "    </tr>\n",
       "    <tr>\n",
       "      <th>2013</th>\n",
       "      <td>648.0</td>\n",
       "      <td>553.0</td>\n",
       "      <td>0.539550</td>\n",
       "      <td>0.752443</td>\n",
       "      <td>0.790678</td>\n",
       "      <td>0.140096</td>\n",
       "      <td>0.158277</td>\n",
       "    </tr>\n",
       "    <tr>\n",
       "      <th>2014</th>\n",
       "      <td>598.0</td>\n",
       "      <td>521.0</td>\n",
       "      <td>0.534406</td>\n",
       "      <td>0.765919</td>\n",
       "      <td>0.801224</td>\n",
       "      <td>0.144604</td>\n",
       "      <td>0.162562</td>\n",
       "    </tr>\n",
       "    <tr>\n",
       "      <th>2015</th>\n",
       "      <td>538.0</td>\n",
       "      <td>557.0</td>\n",
       "      <td>0.491324</td>\n",
       "      <td>0.754771</td>\n",
       "      <td>0.794618</td>\n",
       "      <td>0.146196</td>\n",
       "      <td>0.159965</td>\n",
       "    </tr>\n",
       "    <tr>\n",
       "      <th>2016</th>\n",
       "      <td>718.0</td>\n",
       "      <td>714.0</td>\n",
       "      <td>0.501397</td>\n",
       "      <td>0.745877</td>\n",
       "      <td>0.799416</td>\n",
       "      <td>0.142160</td>\n",
       "      <td>0.157063</td>\n",
       "    </tr>\n",
       "    <tr>\n",
       "      <th>2017</th>\n",
       "      <td>967.0</td>\n",
       "      <td>919.0</td>\n",
       "      <td>0.512725</td>\n",
       "      <td>0.757619</td>\n",
       "      <td>0.796062</td>\n",
       "      <td>0.143221</td>\n",
       "      <td>0.162813</td>\n",
       "    </tr>\n",
       "    <tr>\n",
       "      <th>2018</th>\n",
       "      <td>1222.0</td>\n",
       "      <td>1106.0</td>\n",
       "      <td>0.524914</td>\n",
       "      <td>0.757616</td>\n",
       "      <td>0.786385</td>\n",
       "      <td>0.141584</td>\n",
       "      <td>0.163742</td>\n",
       "    </tr>\n",
       "    <tr>\n",
       "      <th>2019</th>\n",
       "      <td>2140.0</td>\n",
       "      <td>1580.0</td>\n",
       "      <td>0.575269</td>\n",
       "      <td>0.762623</td>\n",
       "      <td>0.782681</td>\n",
       "      <td>0.141495</td>\n",
       "      <td>0.159895</td>\n",
       "    </tr>\n",
       "  </tbody>\n",
       "</table>\n",
       "</div>\n",
       "      <button class=\"colab-df-convert\" onclick=\"convertToInteractive('df-e427449f-78c2-440f-96c4-af2483f17de4')\"\n",
       "              title=\"Convert this dataframe to an interactive table.\"\n",
       "              style=\"display:none;\">\n",
       "        \n",
       "  <svg xmlns=\"http://www.w3.org/2000/svg\" height=\"24px\"viewBox=\"0 0 24 24\"\n",
       "       width=\"24px\">\n",
       "    <path d=\"M0 0h24v24H0V0z\" fill=\"none\"/>\n",
       "    <path d=\"M18.56 5.44l.94 2.06.94-2.06 2.06-.94-2.06-.94-.94-2.06-.94 2.06-2.06.94zm-11 1L8.5 8.5l.94-2.06 2.06-.94-2.06-.94L8.5 2.5l-.94 2.06-2.06.94zm10 10l.94 2.06.94-2.06 2.06-.94-2.06-.94-.94-2.06-.94 2.06-2.06.94z\"/><path d=\"M17.41 7.96l-1.37-1.37c-.4-.4-.92-.59-1.43-.59-.52 0-1.04.2-1.43.59L10.3 9.45l-7.72 7.72c-.78.78-.78 2.05 0 2.83L4 21.41c.39.39.9.59 1.41.59.51 0 1.02-.2 1.41-.59l7.78-7.78 2.81-2.81c.8-.78.8-2.07 0-2.86zM5.41 20L4 18.59l7.72-7.72 1.47 1.35L5.41 20z\"/>\n",
       "  </svg>\n",
       "      </button>\n",
       "      \n",
       "  <style>\n",
       "    .colab-df-container {\n",
       "      display:flex;\n",
       "      flex-wrap:wrap;\n",
       "      gap: 12px;\n",
       "    }\n",
       "\n",
       "    .colab-df-convert {\n",
       "      background-color: #E8F0FE;\n",
       "      border: none;\n",
       "      border-radius: 50%;\n",
       "      cursor: pointer;\n",
       "      display: none;\n",
       "      fill: #1967D2;\n",
       "      height: 32px;\n",
       "      padding: 0 0 0 0;\n",
       "      width: 32px;\n",
       "    }\n",
       "\n",
       "    .colab-df-convert:hover {\n",
       "      background-color: #E2EBFA;\n",
       "      box-shadow: 0px 1px 2px rgba(60, 64, 67, 0.3), 0px 1px 3px 1px rgba(60, 64, 67, 0.15);\n",
       "      fill: #174EA6;\n",
       "    }\n",
       "\n",
       "    [theme=dark] .colab-df-convert {\n",
       "      background-color: #3B4455;\n",
       "      fill: #D2E3FC;\n",
       "    }\n",
       "\n",
       "    [theme=dark] .colab-df-convert:hover {\n",
       "      background-color: #434B5C;\n",
       "      box-shadow: 0px 1px 3px 1px rgba(0, 0, 0, 0.15);\n",
       "      filter: drop-shadow(0px 1px 2px rgba(0, 0, 0, 0.3));\n",
       "      fill: #FFFFFF;\n",
       "    }\n",
       "  </style>\n",
       "\n",
       "      <script>\n",
       "        const buttonEl =\n",
       "          document.querySelector('#df-e427449f-78c2-440f-96c4-af2483f17de4 button.colab-df-convert');\n",
       "        buttonEl.style.display =\n",
       "          google.colab.kernel.accessAllowed ? 'block' : 'none';\n",
       "\n",
       "        async function convertToInteractive(key) {\n",
       "          const element = document.querySelector('#df-e427449f-78c2-440f-96c4-af2483f17de4');\n",
       "          const dataTable =\n",
       "            await google.colab.kernel.invokeFunction('convertToInteractive',\n",
       "                                                     [key], {});\n",
       "          if (!dataTable) return;\n",
       "\n",
       "          const docLinkHtml = 'Like what you see? Visit the ' +\n",
       "            '<a target=\"_blank\" href=https://colab.research.google.com/notebooks/data_table.ipynb>data table notebook</a>'\n",
       "            + ' to learn more about interactive tables.';\n",
       "          element.innerHTML = '';\n",
       "          dataTable['output_type'] = 'display_data';\n",
       "          await google.colab.output.renderOutput(dataTable, element);\n",
       "          const docLink = document.createElement('div');\n",
       "          docLink.innerHTML = docLinkHtml;\n",
       "          element.appendChild(docLink);\n",
       "        }\n",
       "      </script>\n",
       "    </div>\n",
       "  </div>\n",
       "  "
      ],
      "text/plain": [
       "      positive_count  negative_count  positive_ratio  positive_avg_score  \\\n",
       "2007            74.0            37.0        0.666667            0.738426   \n",
       "2008           146.0           120.0        0.548872            0.734219   \n",
       "2009           255.0           186.0        0.578231            0.732771   \n",
       "2010           512.0           436.0        0.540084            0.737967   \n",
       "2011           774.0           600.0        0.563319            0.749525   \n",
       "2012           792.0           700.0        0.530831            0.753470   \n",
       "2013           648.0           553.0        0.539550            0.752443   \n",
       "2014           598.0           521.0        0.534406            0.765919   \n",
       "2015           538.0           557.0        0.491324            0.754771   \n",
       "2016           718.0           714.0        0.501397            0.745877   \n",
       "2017           967.0           919.0        0.512725            0.757619   \n",
       "2018          1222.0          1106.0        0.524914            0.757616   \n",
       "2019          2140.0          1580.0        0.575269            0.762623   \n",
       "\n",
       "      negative_avg_score  positive_std  negative_std  \n",
       "2007            0.754154      0.136698      0.167333  \n",
       "2008            0.739608      0.138608      0.162789  \n",
       "2009            0.758863      0.133873      0.161449  \n",
       "2010            0.756965      0.140862      0.157884  \n",
       "2011            0.767546      0.146013      0.162071  \n",
       "2012            0.778678      0.141656      0.159156  \n",
       "2013            0.790678      0.140096      0.158277  \n",
       "2014            0.801224      0.144604      0.162562  \n",
       "2015            0.794618      0.146196      0.159965  \n",
       "2016            0.799416      0.142160      0.157063  \n",
       "2017            0.796062      0.143221      0.162813  \n",
       "2018            0.786385      0.141584      0.163742  \n",
       "2019            0.782681      0.141495      0.159895  "
      ]
     },
     "execution_count": 207,
     "metadata": {},
     "output_type": "execute_result"
    }
   ],
   "source": [
    "trend2"
   ]
  },
  {
   "cell_type": "code",
   "execution_count": 183,
   "metadata": {
    "colab": {
     "base_uri": "https://localhost:8080/",
     "height": 382
    },
    "executionInfo": {
     "elapsed": 493,
     "status": "ok",
     "timestamp": 1647312545100,
     "user": {
      "displayName": "Shiba Mao",
      "photoUrl": "https://lh3.googleusercontent.com/a/default-user=s64",
      "userId": "16549320756357564965"
     },
     "user_tz": 300
    },
    "id": "2zzHQ-XvZm5H",
    "outputId": "92d376e0-7614-4117-aa96-fa39fa1917c7"
   },
   "outputs": [
    {
     "data": {
      "image/png": "[encoded data removed]",
      "text/plain": [
       "<Figure size 360x360 with 1 Axes>"
      ]
     },
     "metadata": {
      "needs_background": "light"
     },
     "output_type": "display_data"
    }
   ],
   "source": [
    "title_name = \"Positive Proportion for Male-related Comments(2007-2019)\"\n",
    "plot_pos_ratio(trend2, title_name)"
   ]
  },
  {
   "cell_type": "code",
   "execution_count": 185,
   "metadata": {
    "colab": {
     "base_uri": "https://localhost:8080/",
     "height": 350
    },
    "executionInfo": {
     "elapsed": 607,
     "status": "ok",
     "timestamp": 1647312735012,
     "user": {
      "displayName": "Shiba Mao",
      "photoUrl": "https://lh3.googleusercontent.com/a/default-user=s64",
      "userId": "16549320756357564965"
     },
     "user_tz": 300
    },
    "id": "Qw5tR_FEVTIR",
    "outputId": "514da194-9219-488b-c7de-bdc82df263d9"
   },
   "outputs": [
    {
     "data": {
      "image/png": "[encoded data removed]",
      "text/plain": [
       "<Figure size 648x360 with 1 Axes>"
      ]
     },
     "metadata": {
      "needs_background": "light"
     },
     "output_type": "display_data"
    }
   ],
   "source": [
    "title_name = \"Mean and Variance of Positive Score of Male-related Comments(2007-2019)\"\n",
    "store_name = \"/content/drive/MyDrive/Colab Notebooks/Content_analysis_final/vis/male_positive_avg_std_.png\"\n",
    "plot_positive_avg_std(trend2, title_name, store_name)"
   ]
  },
  {
   "cell_type": "code",
   "execution_count": 186,
   "metadata": {
    "colab": {
     "base_uri": "https://localhost:8080/",
     "height": 350
    },
    "executionInfo": {
     "elapsed": 862,
     "status": "ok",
     "timestamp": 1647312815766,
     "user": {
      "displayName": "Shiba Mao",
      "photoUrl": "https://lh3.googleusercontent.com/a/default-user=s64",
      "userId": "16549320756357564965"
     },
     "user_tz": 300
    },
    "id": "fk-3ziclVTLD",
    "outputId": "8a938313-2089-4b6c-84cf-9cb68e2f61cb"
   },
   "outputs": [
    {
     "data": {
      "image/png": "[encoded data removed]",
      "text/plain": [
       "<Figure size 648x360 with 1 Axes>"
      ]
     },
     "metadata": {
      "needs_background": "light"
     },
     "output_type": "display_data"
    }
   ],
   "source": [
    "title_name = \"Mean and Variance of Negative Score of Male-related Comments(2007-2019)\"\n",
    "store_name = \"/content/drive/MyDrive/Colab Notebooks/Content_analysis_final/vis/male_negative_avg_std_.png\"\n",
    "plot_negative_avg_std(trend2, title_name, store_name)"
   ]
  },
  {
   "cell_type": "markdown",
   "metadata": {
    "id": "eP9FlZDkhcI2"
   },
   "source": [
    "#### Sentiment Trend of Female-related Comments"
   ]
  },
  {
   "cell_type": "code",
   "execution_count": 193,
   "metadata": {
    "colab": {
     "base_uri": "https://localhost:8080/"
    },
    "executionInfo": {
     "elapsed": 338,
     "status": "ok",
     "timestamp": 1647313310842,
     "user": {
      "displayName": "Shiba Mao",
      "photoUrl": "https://lh3.googleusercontent.com/a/default-user=s64",
      "userId": "16549320756357564965"
     },
     "user_tz": 300
    },
    "id": "FZ5a5u90hcI9",
    "outputId": "3118f9f9-2ad4-4f00-97a5-d0854406d399"
   },
   "outputs": [
    {
     "data": {
      "text/plain": [
       "comment_time\n",
       "2005       8\n",
       "2006      56\n",
       "2007     139\n",
       "2008     334\n",
       "2009     587\n",
       "2010    1097\n",
       "2011    1725\n",
       "2012    1940\n",
       "2013    1741\n",
       "2014    1512\n",
       "2015    1493\n",
       "2016    1998\n",
       "2017    2729\n",
       "2018    3338\n",
       "2019    5023\n",
       "Name: content, dtype: int64"
      ]
     },
     "execution_count": 193,
     "metadata": {},
     "output_type": "execute_result"
    }
   ],
   "source": [
    "female_related_from_test = female_related_from_test.set_index('comment_time').sort_index()\n",
    "female_related_from_test_count = female_related_from_test['content'].groupby(female_related_from_test.index.year)\\\n",
    "                                              .count()\n",
    "female_related_from_test_count"
   ]
  },
  {
   "cell_type": "code",
   "execution_count": 194,
   "metadata": {
    "colab": {
     "base_uri": "https://localhost:8080/"
    },
    "executionInfo": {
     "elapsed": 2317747,
     "status": "ok",
     "timestamp": 1647315664477,
     "user": {
      "displayName": "Shiba Mao",
      "photoUrl": "https://lh3.googleusercontent.com/a/default-user=s64",
      "userId": "16549320756357564965"
     },
     "user_tz": 300
    },
    "id": "Qm9zXnYrhcI9",
    "outputId": "6d7b4fca-d1c6-4954-c5cd-110cbabfaab7"
   },
   "outputs": [
    {
     "name": "stderr",
     "output_type": "stream",
     "text": [
      "100%|██████████| 23720/23720 [38:37<00:00, 10.23it/s]\n"
     ]
    }
   ],
   "source": [
    "y_label_female, scores_female = sentiment_analysis(female_related_from_test)"
   ]
  },
  {
   "cell_type": "code",
   "execution_count": 200,
   "metadata": {
    "colab": {
     "base_uri": "https://localhost:8080/"
    },
    "executionInfo": {
     "elapsed": 176,
     "status": "ok",
     "timestamp": 1647315740798,
     "user": {
      "displayName": "Shiba Mao",
      "photoUrl": "https://lh3.googleusercontent.com/a/default-user=s64",
      "userId": "16549320756357564965"
     },
     "user_tz": 300
    },
    "id": "ePzeEDwXhcI9",
    "outputId": "e1b77ed9-1ce3-4a65-e6ef-23d84d549b89"
   },
   "outputs": [
    {
     "name": "stderr",
     "output_type": "stream",
     "text": [
      "139it [00:00, 528087.19it/s]\n",
      "334it [00:00, 1306807.40it/s]\n",
      "587it [00:00, 1686340.03it/s]\n",
      "1097it [00:00, 1817200.43it/s]\n",
      "1725it [00:00, 1957039.33it/s]\n",
      "1940it [00:00, 1392359.64it/s]\n",
      "1741it [00:00, 1903619.20it/s]\n",
      "1512it [00:00, 1550938.53it/s]\n",
      "1493it [00:00, 1309240.20it/s]\n",
      "1998it [00:00, 1635164.76it/s]\n",
      "2729it [00:00, 1632613.84it/s]\n",
      "3338it [00:00, 1603549.05it/s]\n",
      "5023it [00:00, 1652002.59it/s]\n"
     ]
    }
   ],
   "source": [
    "# we don't have many commetns the first two years, so skip \n",
    "# start\n",
    "cur = 64\n",
    "year = 2007\n",
    "dic = {}\n",
    "female_related_from_test_count = female_related_from_test_count.to_list()\n",
    "for year_num in female_related_from_test_count[2:]:\n",
    "    dic[year] = get_year_statistics(y_label_female, scores_female, cur, year_num)\n",
    "    year += 1\n",
    "    cur += year_num"
   ]
  },
  {
   "cell_type": "code",
   "execution_count": 201,
   "metadata": {
    "executionInfo": {
     "elapsed": 523,
     "status": "ok",
     "timestamp": 1647315744919,
     "user": {
      "displayName": "Shiba Mao",
      "photoUrl": "https://lh3.googleusercontent.com/a/default-user=s64",
      "userId": "16549320756357564965"
     },
     "user_tz": 300
    },
    "id": "duNOZHMAhcI-"
   },
   "outputs": [],
   "source": [
    "df3 = pd.DataFrame(dic)\n",
    "trend3 = df3.stack().unstack(0)"
   ]
  },
  {
   "cell_type": "code",
   "execution_count": 202,
   "metadata": {
    "executionInfo": {
     "elapsed": 4,
     "status": "ok",
     "timestamp": 1647315745268,
     "user": {
      "displayName": "Shiba Mao",
      "photoUrl": "https://lh3.googleusercontent.com/a/default-user=s64",
      "userId": "16549320756357564965"
     },
     "user_tz": 300
    },
    "id": "5f0W5UEbhcI-"
   },
   "outputs": [],
   "source": [
    "trend3.columns = ['positive_count', 'negative_count', 'positive_ratio', \n",
    "                 'positive_avg_score', 'negative_avg_score',\n",
    "                 'positive_std', 'negative_std']"
   ]
  },
  {
   "cell_type": "code",
   "execution_count": 208,
   "metadata": {
    "colab": {
     "base_uri": "https://localhost:8080/",
     "height": 457
    },
    "executionInfo": {
     "elapsed": 511,
     "status": "ok",
     "timestamp": 1647316067983,
     "user": {
      "displayName": "Shiba Mao",
      "photoUrl": "https://lh3.googleusercontent.com/a/default-user=s64",
      "userId": "16549320756357564965"
     },
     "user_tz": 300
    },
    "id": "fbpXHa31sFS-",
    "outputId": "0ca89bbd-0cd9-4b55-ebf3-3d0e9d6c6a5f"
   },
   "outputs": [
    {
     "data": {
      "text/html": [
       "\n",
       "  <div id=\"df-e1110f40-5160-4f77-840a-1b99819022a0\">\n",
       "    <div class=\"colab-df-container\">\n",
       "      <div>\n",
       "<style scoped>\n",
       "    .dataframe tbody tr th:only-of-type {\n",
       "        vertical-align: middle;\n",
       "    }\n",
       "\n",
       "    .dataframe tbody tr th {\n",
       "        vertical-align: top;\n",
       "    }\n",
       "\n",
       "    .dataframe thead th {\n",
       "        text-align: right;\n",
       "    }\n",
       "</style>\n",
       "<table border=\"1\" class=\"dataframe\">\n",
       "  <thead>\n",
       "    <tr style=\"text-align: right;\">\n",
       "      <th></th>\n",
       "      <th>positive_count</th>\n",
       "      <th>negative_count</th>\n",
       "      <th>positive_ratio</th>\n",
       "      <th>positive_avg_score</th>\n",
       "      <th>negative_avg_score</th>\n",
       "      <th>positive_std</th>\n",
       "      <th>negative_std</th>\n",
       "    </tr>\n",
       "  </thead>\n",
       "  <tbody>\n",
       "    <tr>\n",
       "      <th>2007</th>\n",
       "      <td>81.0</td>\n",
       "      <td>58.0</td>\n",
       "      <td>0.582734</td>\n",
       "      <td>0.738928</td>\n",
       "      <td>0.712430</td>\n",
       "      <td>0.144899</td>\n",
       "      <td>0.155238</td>\n",
       "    </tr>\n",
       "    <tr>\n",
       "      <th>2008</th>\n",
       "      <td>184.0</td>\n",
       "      <td>150.0</td>\n",
       "      <td>0.550898</td>\n",
       "      <td>0.711922</td>\n",
       "      <td>0.751092</td>\n",
       "      <td>0.139632</td>\n",
       "      <td>0.157352</td>\n",
       "    </tr>\n",
       "    <tr>\n",
       "      <th>2009</th>\n",
       "      <td>307.0</td>\n",
       "      <td>280.0</td>\n",
       "      <td>0.522998</td>\n",
       "      <td>0.725520</td>\n",
       "      <td>0.766826</td>\n",
       "      <td>0.143232</td>\n",
       "      <td>0.159460</td>\n",
       "    </tr>\n",
       "    <tr>\n",
       "      <th>2010</th>\n",
       "      <td>547.0</td>\n",
       "      <td>550.0</td>\n",
       "      <td>0.498633</td>\n",
       "      <td>0.728793</td>\n",
       "      <td>0.752946</td>\n",
       "      <td>0.140112</td>\n",
       "      <td>0.167515</td>\n",
       "    </tr>\n",
       "    <tr>\n",
       "      <th>2011</th>\n",
       "      <td>792.0</td>\n",
       "      <td>933.0</td>\n",
       "      <td>0.459130</td>\n",
       "      <td>0.737768</td>\n",
       "      <td>0.777222</td>\n",
       "      <td>0.143519</td>\n",
       "      <td>0.161692</td>\n",
       "    </tr>\n",
       "    <tr>\n",
       "      <th>2012</th>\n",
       "      <td>902.0</td>\n",
       "      <td>1038.0</td>\n",
       "      <td>0.464948</td>\n",
       "      <td>0.735786</td>\n",
       "      <td>0.785213</td>\n",
       "      <td>0.141147</td>\n",
       "      <td>0.160430</td>\n",
       "    </tr>\n",
       "    <tr>\n",
       "      <th>2013</th>\n",
       "      <td>763.0</td>\n",
       "      <td>978.0</td>\n",
       "      <td>0.438254</td>\n",
       "      <td>0.734471</td>\n",
       "      <td>0.793519</td>\n",
       "      <td>0.146816</td>\n",
       "      <td>0.160869</td>\n",
       "    </tr>\n",
       "    <tr>\n",
       "      <th>2014</th>\n",
       "      <td>629.0</td>\n",
       "      <td>883.0</td>\n",
       "      <td>0.416005</td>\n",
       "      <td>0.736311</td>\n",
       "      <td>0.786025</td>\n",
       "      <td>0.149891</td>\n",
       "      <td>0.168377</td>\n",
       "    </tr>\n",
       "    <tr>\n",
       "      <th>2015</th>\n",
       "      <td>640.0</td>\n",
       "      <td>853.0</td>\n",
       "      <td>0.428667</td>\n",
       "      <td>0.735428</td>\n",
       "      <td>0.799336</td>\n",
       "      <td>0.148225</td>\n",
       "      <td>0.158572</td>\n",
       "    </tr>\n",
       "    <tr>\n",
       "      <th>2016</th>\n",
       "      <td>903.0</td>\n",
       "      <td>1095.0</td>\n",
       "      <td>0.451952</td>\n",
       "      <td>0.731712</td>\n",
       "      <td>0.793488</td>\n",
       "      <td>0.147244</td>\n",
       "      <td>0.162843</td>\n",
       "    </tr>\n",
       "    <tr>\n",
       "      <th>2017</th>\n",
       "      <td>1264.0</td>\n",
       "      <td>1465.0</td>\n",
       "      <td>0.463173</td>\n",
       "      <td>0.739406</td>\n",
       "      <td>0.798497</td>\n",
       "      <td>0.145384</td>\n",
       "      <td>0.161011</td>\n",
       "    </tr>\n",
       "    <tr>\n",
       "      <th>2018</th>\n",
       "      <td>1532.0</td>\n",
       "      <td>1806.0</td>\n",
       "      <td>0.458957</td>\n",
       "      <td>0.737221</td>\n",
       "      <td>0.794239</td>\n",
       "      <td>0.145105</td>\n",
       "      <td>0.163563</td>\n",
       "    </tr>\n",
       "    <tr>\n",
       "      <th>2019</th>\n",
       "      <td>2500.0</td>\n",
       "      <td>2523.0</td>\n",
       "      <td>0.497711</td>\n",
       "      <td>0.738211</td>\n",
       "      <td>0.785696</td>\n",
       "      <td>0.142342</td>\n",
       "      <td>0.164147</td>\n",
       "    </tr>\n",
       "  </tbody>\n",
       "</table>\n",
       "</div>\n",
       "      <button class=\"colab-df-convert\" onclick=\"convertToInteractive('df-e1110f40-5160-4f77-840a-1b99819022a0')\"\n",
       "              title=\"Convert this dataframe to an interactive table.\"\n",
       "              style=\"display:none;\">\n",
       "        \n",
       "  <svg xmlns=\"http://www.w3.org/2000/svg\" height=\"24px\"viewBox=\"0 0 24 24\"\n",
       "       width=\"24px\">\n",
       "    <path d=\"M0 0h24v24H0V0z\" fill=\"none\"/>\n",
       "    <path d=\"M18.56 5.44l.94 2.06.94-2.06 2.06-.94-2.06-.94-.94-2.06-.94 2.06-2.06.94zm-11 1L8.5 8.5l.94-2.06 2.06-.94-2.06-.94L8.5 2.5l-.94 2.06-2.06.94zm10 10l.94 2.06.94-2.06 2.06-.94-2.06-.94-.94-2.06-.94 2.06-2.06.94z\"/><path d=\"M17.41 7.96l-1.37-1.37c-.4-.4-.92-.59-1.43-.59-.52 0-1.04.2-1.43.59L10.3 9.45l-7.72 7.72c-.78.78-.78 2.05 0 2.83L4 21.41c.39.39.9.59 1.41.59.51 0 1.02-.2 1.41-.59l7.78-7.78 2.81-2.81c.8-.78.8-2.07 0-2.86zM5.41 20L4 18.59l7.72-7.72 1.47 1.35L5.41 20z\"/>\n",
       "  </svg>\n",
       "      </button>\n",
       "      \n",
       "  <style>\n",
       "    .colab-df-container {\n",
       "      display:flex;\n",
       "      flex-wrap:wrap;\n",
       "      gap: 12px;\n",
       "    }\n",
       "\n",
       "    .colab-df-convert {\n",
       "      background-color: #E8F0FE;\n",
       "      border: none;\n",
       "      border-radius: 50%;\n",
       "      cursor: pointer;\n",
       "      display: none;\n",
       "      fill: #1967D2;\n",
       "      height: 32px;\n",
       "      padding: 0 0 0 0;\n",
       "      width: 32px;\n",
       "    }\n",
       "\n",
       "    .colab-df-convert:hover {\n",
       "      background-color: #E2EBFA;\n",
       "      box-shadow: 0px 1px 2px rgba(60, 64, 67, 0.3), 0px 1px 3px 1px rgba(60, 64, 67, 0.15);\n",
       "      fill: #174EA6;\n",
       "    }\n",
       "\n",
       "    [theme=dark] .colab-df-convert {\n",
       "      background-color: #3B4455;\n",
       "      fill: #D2E3FC;\n",
       "    }\n",
       "\n",
       "    [theme=dark] .colab-df-convert:hover {\n",
       "      background-color: #434B5C;\n",
       "      box-shadow: 0px 1px 3px 1px rgba(0, 0, 0, 0.15);\n",
       "      filter: drop-shadow(0px 1px 2px rgba(0, 0, 0, 0.3));\n",
       "      fill: #FFFFFF;\n",
       "    }\n",
       "  </style>\n",
       "\n",
       "      <script>\n",
       "        const buttonEl =\n",
       "          document.querySelector('#df-e1110f40-5160-4f77-840a-1b99819022a0 button.colab-df-convert');\n",
       "        buttonEl.style.display =\n",
       "          google.colab.kernel.accessAllowed ? 'block' : 'none';\n",
       "\n",
       "        async function convertToInteractive(key) {\n",
       "          const element = document.querySelector('#df-e1110f40-5160-4f77-840a-1b99819022a0');\n",
       "          const dataTable =\n",
       "            await google.colab.kernel.invokeFunction('convertToInteractive',\n",
       "                                                     [key], {});\n",
       "          if (!dataTable) return;\n",
       "\n",
       "          const docLinkHtml = 'Like what you see? Visit the ' +\n",
       "            '<a target=\"_blank\" href=https://colab.research.google.com/notebooks/data_table.ipynb>data table notebook</a>'\n",
       "            + ' to learn more about interactive tables.';\n",
       "          element.innerHTML = '';\n",
       "          dataTable['output_type'] = 'display_data';\n",
       "          await google.colab.output.renderOutput(dataTable, element);\n",
       "          const docLink = document.createElement('div');\n",
       "          docLink.innerHTML = docLinkHtml;\n",
       "          element.appendChild(docLink);\n",
       "        }\n",
       "      </script>\n",
       "    </div>\n",
       "  </div>\n",
       "  "
      ],
      "text/plain": [
       "      positive_count  negative_count  positive_ratio  positive_avg_score  \\\n",
       "2007            81.0            58.0        0.582734            0.738928   \n",
       "2008           184.0           150.0        0.550898            0.711922   \n",
       "2009           307.0           280.0        0.522998            0.725520   \n",
       "2010           547.0           550.0        0.498633            0.728793   \n",
       "2011           792.0           933.0        0.459130            0.737768   \n",
       "2012           902.0          1038.0        0.464948            0.735786   \n",
       "2013           763.0           978.0        0.438254            0.734471   \n",
       "2014           629.0           883.0        0.416005            0.736311   \n",
       "2015           640.0           853.0        0.428667            0.735428   \n",
       "2016           903.0          1095.0        0.451952            0.731712   \n",
       "2017          1264.0          1465.0        0.463173            0.739406   \n",
       "2018          1532.0          1806.0        0.458957            0.737221   \n",
       "2019          2500.0          2523.0        0.497711            0.738211   \n",
       "\n",
       "      negative_avg_score  positive_std  negative_std  \n",
       "2007            0.712430      0.144899      0.155238  \n",
       "2008            0.751092      0.139632      0.157352  \n",
       "2009            0.766826      0.143232      0.159460  \n",
       "2010            0.752946      0.140112      0.167515  \n",
       "2011            0.777222      0.143519      0.161692  \n",
       "2012            0.785213      0.141147      0.160430  \n",
       "2013            0.793519      0.146816      0.160869  \n",
       "2014            0.786025      0.149891      0.168377  \n",
       "2015            0.799336      0.148225      0.158572  \n",
       "2016            0.793488      0.147244      0.162843  \n",
       "2017            0.798497      0.145384      0.161011  \n",
       "2018            0.794239      0.145105      0.163563  \n",
       "2019            0.785696      0.142342      0.164147  "
      ]
     },
     "execution_count": 208,
     "metadata": {},
     "output_type": "execute_result"
    }
   ],
   "source": [
    "trend3"
   ]
  },
  {
   "cell_type": "code",
   "execution_count": 204,
   "metadata": {
    "colab": {
     "base_uri": "https://localhost:8080/",
     "height": 385
    },
    "executionInfo": {
     "elapsed": 831,
     "status": "ok",
     "timestamp": 1647315818742,
     "user": {
      "displayName": "Shiba Mao",
      "photoUrl": "https://lh3.googleusercontent.com/a/default-user=s64",
      "userId": "16549320756357564965"
     },
     "user_tz": 300
    },
    "id": "3XIBSOb6hcI-",
    "outputId": "acaee311-7308-490c-f672-06ea5a398d91"
   },
   "outputs": [
    {
     "data": {
      "image/png": "[encoded data removed]",
      "text/plain": [
       "<Figure size 360x360 with 1 Axes>"
      ]
     },
     "metadata": {
      "needs_background": "light"
     },
     "output_type": "display_data"
    }
   ],
   "source": [
    "title_name = \"Positive Proportion for Female-related Comments(2007-2019)\"\n",
    "plot_pos_ratio(trend3, title_name)"
   ]
  },
  {
   "cell_type": "code",
   "execution_count": 205,
   "metadata": {
    "colab": {
     "base_uri": "https://localhost:8080/",
     "height": 350
    },
    "executionInfo": {
     "elapsed": 502,
     "status": "ok",
     "timestamp": 1647315909511,
     "user": {
      "displayName": "Shiba Mao",
      "photoUrl": "https://lh3.googleusercontent.com/a/default-user=s64",
      "userId": "16549320756357564965"
     },
     "user_tz": 300
    },
    "id": "zvmSPPqehcI-",
    "outputId": "43765000-180e-4295-b1a8-505e338d0bc1"
   },
   "outputs": [
    {
     "data": {
      "image/png": "[encoded data removed]",
      "text/plain": [
       "<Figure size 648x360 with 1 Axes>"
      ]
     },
     "metadata": {
      "needs_background": "light"
     },
     "output_type": "display_data"
    }
   ],
   "source": [
    "title_name = \"Mean and Variance of Positive Score of Female-related Comments(2007-2019)\"\n",
    "store_name = \"/content/drive/MyDrive/Colab Notebooks/Content_analysis_final/vis/female_positive_avg_std_.png\"\n",
    "plot_positive_avg_std(trend3, title_name, store_name)"
   ]
  },
  {
   "cell_type": "code",
   "execution_count": 206,
   "metadata": {
    "colab": {
     "base_uri": "https://localhost:8080/",
     "height": 350
    },
    "executionInfo": {
     "elapsed": 459,
     "status": "ok",
     "timestamp": 1647315915892,
     "user": {
      "displayName": "Shiba Mao",
      "photoUrl": "https://lh3.googleusercontent.com/a/default-user=s64",
      "userId": "16549320756357564965"
     },
     "user_tz": 300
    },
    "id": "55Jj38x-hcI-",
    "outputId": "1c559a2e-f955-4f4e-b8fc-f1e4f31c3a2e"
   },
   "outputs": [
    {
     "data": {
      "image/png": "[encoded data removed]",
      "text/plain": [
       "<Figure size 648x360 with 1 Axes>"
      ]
     },
     "metadata": {
      "needs_background": "light"
     },
     "output_type": "display_data"
    }
   ],
   "source": [
    "title_name = \"Mean and Variance of Negative Score of Female-related Comments(2007-2019)\"\n",
    "store_name = \"/content/drive/MyDrive/Colab Notebooks/Content_analysis_final/vis/female_negative_avg_std_.png\"\n",
    "plot_negative_avg_std(trend3, title_name, store_name)"
   ]
  },
  {
   "cell_type": "markdown",
   "metadata": {
    "id": "V9B06Rdbtn6x"
   },
   "source": [
    "#### Compare the Sentiment Trend of All Comments, Male-related Comments, and Female-related Comments"
   ]
  },
  {
   "cell_type": "code",
   "execution_count": 211,
   "metadata": {
    "executionInfo": {
     "elapsed": 537,
     "status": "ok",
     "timestamp": 1647316889681,
     "user": {
      "displayName": "Shiba Mao",
      "photoUrl": "https://lh3.googleusercontent.com/a/default-user=s64",
      "userId": "16549320756357564965"
     },
     "user_tz": 300
    },
    "id": "JMmKhZ34u1HB"
   },
   "outputs": [],
   "source": [
    "x = trend.index[2:]"
   ]
  },
  {
   "cell_type": "code",
   "execution_count": 42,
   "metadata": {},
   "outputs": [
    {
     "data": {
      "image/png": "[encoded data removed]",
      "text/plain": [
       "<Figure size 648x432 with 1 Axes>"
      ]
     },
     "metadata": {
      "needs_background": "light"
     },
     "output_type": "display_data"
    }
   ],
   "source": [
    "fig, ax = plt.subplots(figsize=(9,6))\n",
    "ax.plot(x, trend2.positive_ratio,\n",
    "        color='#87CEEB', label='Male-related Comments')\n",
    "ax.plot(x, trend3.positive_ratio,\n",
    "        color='#D8BFD8', label='Female-related Comments')\n",
    "plt.title(\"Positive Comments Proportion Comparison(2007-2019)\")\n",
    "plt.ylabel('Positive Comments Proportion')\n",
    "plt.legend(loc = 'upper right')\n",
    "fig.savefig('/content/drive/MyDrive/Colab Notebooks/Content_analysis_final/vis/Comparison_Potivie_proportion_male_female.png')"
   ]
  },
  {
   "cell_type": "code",
   "execution_count": 225,
   "metadata": {
    "colab": {
     "base_uri": "https://localhost:8080/",
     "height": 390
    },
    "executionInfo": {
     "elapsed": 605,
     "status": "ok",
     "timestamp": 1647318154455,
     "user": {
      "displayName": "Shiba Mao",
      "photoUrl": "https://lh3.googleusercontent.com/a/default-user=s64",
      "userId": "16549320756357564965"
     },
     "user_tz": 300
    },
    "id": "1fDfQNCttnLo",
    "outputId": "5a8994ea-0422-4552-8302-cafcb24a840f"
   },
   "outputs": [
    {
     "data": {
      "image/png": "[encoded data removed]",
      "text/plain": [
       "<Figure size 648x432 with 1 Axes>"
      ]
     },
     "metadata": {
      "needs_background": "light"
     },
     "output_type": "display_data"
    }
   ],
   "source": [
    "fig, ax = plt.subplots(figsize=(9,6))\n",
    "ax.plot(x, trend.positive_avg_score[2:],\n",
    "        color='#FF0000', label='Overall Trend')\n",
    "ax.plot(x, trend2.positive_avg_score,\n",
    "        color='#87CEEB', label='Trend of Male-related Comments')\n",
    "ax.plot(x, trend3.positive_avg_score,\n",
    "        color='#D8BFD8', label='Trend of Female-related Comments')\n",
    "plt.title(\"Positive Sentiment Score Comparison(2007-2019)\")\n",
    "plt.ylabel('Mean Sentiment Score')\n",
    "plt.legend(loc = 'upper left')\n",
    "fig.savefig('/content/drive/MyDrive/Colab Notebooks/Content_analysis_final/vis/Comparison_Potivie_all_male_female.png')"
   ]
  },
  {
   "cell_type": "markdown",
   "metadata": {
    "id": "y80RhyiJ4XYu"
   },
   "source": [
    "So the average positve score of male-related comments is always higher than the overall trend, while the average of positve score of female-related comments is always lower than the overall trend."
   ]
  },
  {
   "cell_type": "code",
   "execution_count": 226,
   "metadata": {
    "colab": {
     "base_uri": "https://localhost:8080/",
     "height": 390
    },
    "executionInfo": {
     "elapsed": 992,
     "status": "ok",
     "timestamp": 1647318237649,
     "user": {
      "displayName": "Shiba Mao",
      "photoUrl": "https://lh3.googleusercontent.com/a/default-user=s64",
      "userId": "16549320756357564965"
     },
     "user_tz": 300
    },
    "id": "Do0vwyk20G98",
    "outputId": "784a358e-9143-44ac-9317-fe5d3b99693f"
   },
   "outputs": [
    {
     "data": {
      "image/png": "[encoded data removed]",
      "text/plain": [
       "<Figure size 648x432 with 1 Axes>"
      ]
     },
     "metadata": {
      "needs_background": "light"
     },
     "output_type": "display_data"
    }
   ],
   "source": [
    "fig, ax = plt.subplots(figsize=(9,6))\n",
    "ax.plot(x, trend.negative_avg_score[2:],\n",
    "        color='#FF0000', label='Overall Trend')\n",
    "ax.plot(x, trend2.negative_avg_score,\n",
    "        color='#87CEEB', label='Trend of Male-related Comments')\n",
    "ax.plot(x, trend3.negative_avg_score,\n",
    "        color='#D8BFD8', label='Trend of Female-related Comments')\n",
    "plt.title(\"Negative Sentiment Score Comparison(2007-2019)\")\n",
    "plt.ylabel('Mean Sentiment Score')\n",
    "plt.legend(loc = 'upper left')\n",
    "fig.savefig('/content/drive/MyDrive/Colab Notebooks/Content_analysis_final/vis/Comparison_Negative_all_male_female.png')"
   ]
  },
  {
   "cell_type": "markdown",
   "metadata": {
    "id": "UW640BgegTB-"
   },
   "source": [
    "### Dynamic Topic Modeling of Female-related Comments"
   ]
  },
  {
   "cell_type": "code",
   "execution_count": 14,
   "metadata": {
    "id": "YOwZBS4Mg4nE"
   },
   "outputs": [],
   "source": [
    "comments = comments.reset_index()"
   ]
  },
  {
   "cell_type": "code",
   "execution_count": 13,
   "metadata": {},
   "outputs": [],
   "source": [
    "# adopted from source: https://github.com/goto456/stopwords/blob/master/cn_stopwords.txt\n",
    "stop_words = open(\"cn_stopwords customized.txt\", 'r', encoding='utf-8').read()\n",
    "stop_words_lst = stop_words.split('\\n')"
   ]
  },
  {
   "cell_type": "code",
   "execution_count": 15,
   "metadata": {},
   "outputs": [
    {
     "data": {
      "text/html": [
       "<div>\n",
       "<style scoped>\n",
       "    .dataframe tbody tr th:only-of-type {\n",
       "        vertical-align: middle;\n",
       "    }\n",
       "\n",
       "    .dataframe tbody tr th {\n",
       "        vertical-align: top;\n",
       "    }\n",
       "\n",
       "    .dataframe thead th {\n",
       "        text-align: right;\n",
       "    }\n",
       "</style>\n",
       "<table border=\"1\" class=\"dataframe\">\n",
       "  <thead>\n",
       "    <tr style=\"text-align: right;\">\n",
       "      <th></th>\n",
       "      <th>comment_time</th>\n",
       "      <th>movie_id</th>\n",
       "      <th>rating</th>\n",
       "      <th>content</th>\n",
       "    </tr>\n",
       "  </thead>\n",
       "  <tbody>\n",
       "    <tr>\n",
       "      <th>0</th>\n",
       "      <td>2005-06-12 02:22:09</td>\n",
       "      <td>1292210</td>\n",
       "      <td>4.0</td>\n",
       "      <td>重看依然很喜欢很喜欢</td>\n",
       "    </tr>\n",
       "    <tr>\n",
       "      <th>1</th>\n",
       "      <td>2005-06-12 02:22:32</td>\n",
       "      <td>1297598</td>\n",
       "      <td>5.0</td>\n",
       "      <td>唯一的一部看完后马上重看一遍的电影</td>\n",
       "    </tr>\n",
       "    <tr>\n",
       "      <th>2</th>\n",
       "      <td>2005-06-16 10:46:09</td>\n",
       "      <td>1308858</td>\n",
       "      <td>3.0</td>\n",
       "      <td>看不懂啊……</td>\n",
       "    </tr>\n",
       "    <tr>\n",
       "      <th>3</th>\n",
       "      <td>2005-06-17 15:23:55</td>\n",
       "      <td>1299539</td>\n",
       "      <td>5.0</td>\n",
       "      <td>诗一般的气息</td>\n",
       "    </tr>\n",
       "    <tr>\n",
       "      <th>4</th>\n",
       "      <td>2005-06-23 16:49:32</td>\n",
       "      <td>1292061</td>\n",
       "      <td>5.0</td>\n",
       "      <td>过瘾</td>\n",
       "    </tr>\n",
       "    <tr>\n",
       "      <th>...</th>\n",
       "      <td>...</td>\n",
       "      <td>...</td>\n",
       "      <td>...</td>\n",
       "      <td>...</td>\n",
       "    </tr>\n",
       "    <tr>\n",
       "      <th>1107109</th>\n",
       "      <td>2019-09-07 15:37:40</td>\n",
       "      <td>1291869</td>\n",
       "      <td>3.0</td>\n",
       "      <td>很黄很暴力，可是好没意思啊。</td>\n",
       "    </tr>\n",
       "    <tr>\n",
       "      <th>1107110</th>\n",
       "      <td>2019-09-07 15:41:38</td>\n",
       "      <td>4176542</td>\n",
       "      <td>4.0</td>\n",
       "      <td>值得被多重阐释的作品，就是好的作品。异类从古至今都是被诟病和排斥的。绝大多数就是对的吗？只不...</td>\n",
       "    </tr>\n",
       "    <tr>\n",
       "      <th>1107111</th>\n",
       "      <td>2019-09-07 15:46:44</td>\n",
       "      <td>1301173</td>\n",
       "      <td>3.0</td>\n",
       "      <td>不太喜欢女主的长相吧。</td>\n",
       "    </tr>\n",
       "    <tr>\n",
       "      <th>1107112</th>\n",
       "      <td>2019-09-07 15:54:04</td>\n",
       "      <td>3771562</td>\n",
       "      <td>2.0</td>\n",
       "      <td>哈？好恶心哦！</td>\n",
       "    </tr>\n",
       "    <tr>\n",
       "      <th>1107113</th>\n",
       "      <td>2019-09-07 15:56:05</td>\n",
       "      <td>3011997</td>\n",
       "      <td>3.0</td>\n",
       "      <td>压抑至极 难受至极 不想花时间找难受的劝你还是别看为好</td>\n",
       "    </tr>\n",
       "  </tbody>\n",
       "</table>\n",
       "<p>1107114 rows × 4 columns</p>\n",
       "</div>"
      ],
      "text/plain": [
       "               comment_time  movie_id  rating  \\\n",
       "0       2005-06-12 02:22:09   1292210     4.0   \n",
       "1       2005-06-12 02:22:32   1297598     5.0   \n",
       "2       2005-06-16 10:46:09   1308858     3.0   \n",
       "3       2005-06-17 15:23:55   1299539     5.0   \n",
       "4       2005-06-23 16:49:32   1292061     5.0   \n",
       "...                     ...       ...     ...   \n",
       "1107109 2019-09-07 15:37:40   1291869     3.0   \n",
       "1107110 2019-09-07 15:41:38   4176542     4.0   \n",
       "1107111 2019-09-07 15:46:44   1301173     3.0   \n",
       "1107112 2019-09-07 15:54:04   3771562     2.0   \n",
       "1107113 2019-09-07 15:56:05   3011997     3.0   \n",
       "\n",
       "                                                   content  \n",
       "0                                               重看依然很喜欢很喜欢  \n",
       "1                                        唯一的一部看完后马上重看一遍的电影  \n",
       "2                                                   看不懂啊……  \n",
       "3                                                   诗一般的气息  \n",
       "4                                                       过瘾  \n",
       "...                                                    ...  \n",
       "1107109                                     很黄很暴力，可是好没意思啊。  \n",
       "1107110  值得被多重阐释的作品，就是好的作品。异类从古至今都是被诟病和排斥的。绝大多数就是对的吗？只不...  \n",
       "1107111                                        不太喜欢女主的长相吧。  \n",
       "1107112                                            哈？好恶心哦！  \n",
       "1107113                        压抑至极 难受至极 不想花时间找难受的劝你还是别看为好  \n",
       "\n",
       "[1107114 rows x 4 columns]"
      ]
     },
     "execution_count": 15,
     "metadata": {},
     "output_type": "execute_result"
    }
   ],
   "source": [
    "comments"
   ]
  },
  {
   "cell_type": "code",
   "execution_count": 17,
   "metadata": {},
   "outputs": [
    {
     "name": "stderr",
     "output_type": "stream",
     "text": [
      "1107114it [07:55, 2329.33it/s]\n",
      "1107114it [00:59, 18525.95it/s]\n"
     ]
    }
   ],
   "source": [
    "comments['content'].replace('[^\\u4e00-\\u9fa5A-Za-z0-9]+', ' ', regex = True, inplace=True)\n",
    "comments['tokenized'] = cut_words(comments, stop_words_lst)\n",
    "_, idx_female_set_all = extract_gender_related_comments(comments, \n",
    "                                                        male_related, \n",
    "                                                        female_related)"
   ]
  },
  {
   "cell_type": "code",
   "execution_count": 21,
   "metadata": {},
   "outputs": [
    {
     "data": {
      "text/html": [
       "<div>\n",
       "<style scoped>\n",
       "    .dataframe tbody tr th:only-of-type {\n",
       "        vertical-align: middle;\n",
       "    }\n",
       "\n",
       "    .dataframe tbody tr th {\n",
       "        vertical-align: top;\n",
       "    }\n",
       "\n",
       "    .dataframe thead th {\n",
       "        text-align: right;\n",
       "    }\n",
       "</style>\n",
       "<table border=\"1\" class=\"dataframe\">\n",
       "  <thead>\n",
       "    <tr style=\"text-align: right;\">\n",
       "      <th></th>\n",
       "      <th>movie_id</th>\n",
       "      <th>rating</th>\n",
       "      <th>content</th>\n",
       "      <th>tokenized</th>\n",
       "    </tr>\n",
       "    <tr>\n",
       "      <th>comment_time</th>\n",
       "      <th></th>\n",
       "      <th></th>\n",
       "      <th></th>\n",
       "      <th></th>\n",
       "    </tr>\n",
       "  </thead>\n",
       "  <tbody>\n",
       "    <tr>\n",
       "      <th>2005-07-07 20:31:13</th>\n",
       "      <td>1291879</td>\n",
       "      <td>3.0</td>\n",
       "      <td>看不下去啊看不下去啊女主角太丑</td>\n",
       "      <td>[看不下去, 看不下去, 女主角, 太丑]</td>\n",
       "    </tr>\n",
       "    <tr>\n",
       "      <th>2005-07-12 13:16:21</th>\n",
       "      <td>1306397</td>\n",
       "      <td>5.0</td>\n",
       "      <td>朱的推介 女孩可愛得叫人心也融化 看她哭我便要哭了</td>\n",
       "      <td>[朱, 推介, 女孩, 可愛得, 人心, 融化, 她, 哭, 我, 便, 哭]</td>\n",
       "    </tr>\n",
       "    <tr>\n",
       "      <th>2005-07-12 22:17:04</th>\n",
       "      <td>1300031</td>\n",
       "      <td>3.0</td>\n",
       "      <td>年青的 淡淡的 最後女主角帶著一疊書離開一幕很深刻</td>\n",
       "      <td>[年青, 淡淡的, 後, 女主角, 帶著, 一疊書, 離開, 一幕, 深刻]</td>\n",
       "    </tr>\n",
       "    <tr>\n",
       "      <th>2005-07-12 23:48:22</th>\n",
       "      <td>1301692</td>\n",
       "      <td>5.0</td>\n",
       "      <td>Helena Bonham Carter最美的時候 她是英國古裝電影的代表人物</td>\n",
       "      <td>[Helena, Bonham, Carter, 最美, 時候, 她, 英國, 古裝, 電影...</td>\n",
       "    </tr>\n",
       "    <tr>\n",
       "      <th>2005-07-13 11:01:21</th>\n",
       "      <td>1299655</td>\n",
       "      <td>2.0</td>\n",
       "      <td>真係 有時d野唔係靚仔靚女做真係唔好睇架</td>\n",
       "      <td>[真, 係, 有時, d, 野, 唔, 係, 靚, 仔靚, 女, 做, 真, 係, 唔, 睇...</td>\n",
       "    </tr>\n",
       "    <tr>\n",
       "      <th>...</th>\n",
       "      <td>...</td>\n",
       "      <td>...</td>\n",
       "      <td>...</td>\n",
       "      <td>...</td>\n",
       "    </tr>\n",
       "    <tr>\n",
       "      <th>2019-09-07 14:57:53</th>\n",
       "      <td>27063867</td>\n",
       "      <td>1.0</td>\n",
       "      <td>一星给死库水 女主好丑啊 不要再消费熊了</td>\n",
       "      <td>[一星, 死, 库水, 女主, 好丑, 不要, 消费, 熊]</td>\n",
       "    </tr>\n",
       "    <tr>\n",
       "      <th>2019-09-07 15:09:20</th>\n",
       "      <td>26667010</td>\n",
       "      <td>4.0</td>\n",
       "      <td>不仅要设法掌控日益增长 极不稳定的力量 更要与自己内心的恶魔抗争 她的失控让整个X战警大家庭...</td>\n",
       "      <td>[设法, 掌控, 日益增长, 极, 稳定, 力量, 更要, 自己, 内心, 恶魔, 抗争, ...</td>\n",
       "    </tr>\n",
       "    <tr>\n",
       "      <th>2019-09-07 15:16:51</th>\n",
       "      <td>26667010</td>\n",
       "      <td>3.0</td>\n",
       "      <td>大家好 她是琴 灭霸都是弟弟</td>\n",
       "      <td>[大家, 她, 琴, 灭霸, 弟弟]</td>\n",
       "    </tr>\n",
       "    <tr>\n",
       "      <th>2019-09-07 15:19:20</th>\n",
       "      <td>26277182</td>\n",
       "      <td>4.0</td>\n",
       "      <td>女儿真是太暖心了</td>\n",
       "      <td>[女儿, 真是太, 暖心]</td>\n",
       "    </tr>\n",
       "    <tr>\n",
       "      <th>2019-09-07 15:46:44</th>\n",
       "      <td>1301173</td>\n",
       "      <td>3.0</td>\n",
       "      <td>不太喜欢女主的长相吧</td>\n",
       "      <td>[不太, 喜欢, 女主, 长相]</td>\n",
       "    </tr>\n",
       "  </tbody>\n",
       "</table>\n",
       "<p>83420 rows × 4 columns</p>\n",
       "</div>"
      ],
      "text/plain": [
       "                     movie_id  rating  \\\n",
       "comment_time                            \n",
       "2005-07-07 20:31:13   1291879     3.0   \n",
       "2005-07-12 13:16:21   1306397     5.0   \n",
       "2005-07-12 22:17:04   1300031     3.0   \n",
       "2005-07-12 23:48:22   1301692     5.0   \n",
       "2005-07-13 11:01:21   1299655     2.0   \n",
       "...                       ...     ...   \n",
       "2019-09-07 14:57:53  27063867     1.0   \n",
       "2019-09-07 15:09:20  26667010     4.0   \n",
       "2019-09-07 15:16:51  26667010     3.0   \n",
       "2019-09-07 15:19:20  26277182     4.0   \n",
       "2019-09-07 15:46:44   1301173     3.0   \n",
       "\n",
       "                                                               content  \\\n",
       "comment_time                                                             \n",
       "2005-07-07 20:31:13                                   看不下去啊看不下去啊女主角太丑    \n",
       "2005-07-12 13:16:21                          朱的推介 女孩可愛得叫人心也融化 看她哭我便要哭了   \n",
       "2005-07-12 22:17:04                          年青的 淡淡的 最後女主角帶著一疊書離開一幕很深刻   \n",
       "2005-07-12 23:48:22            Helena Bonham Carter最美的時候 她是英國古裝電影的代表人物   \n",
       "2005-07-13 11:01:21                              真係 有時d野唔係靚仔靚女做真係唔好睇架    \n",
       "...                                                                ...   \n",
       "2019-09-07 14:57:53                               一星给死库水 女主好丑啊 不要再消费熊了   \n",
       "2019-09-07 15:09:20  不仅要设法掌控日益增长 极不稳定的力量 更要与自己内心的恶魔抗争 她的失控让整个X战警大家庭...   \n",
       "2019-09-07 15:16:51                                     大家好 她是琴 灭霸都是弟弟   \n",
       "2019-09-07 15:19:20                                           女儿真是太暖心了   \n",
       "2019-09-07 15:46:44                                        不太喜欢女主的长相吧    \n",
       "\n",
       "                                                             tokenized  \n",
       "comment_time                                                            \n",
       "2005-07-07 20:31:13                              [看不下去, 看不下去, 女主角, 太丑]  \n",
       "2005-07-12 13:16:21            [朱, 推介, 女孩, 可愛得, 人心, 融化, 她, 哭, 我, 便, 哭]  \n",
       "2005-07-12 22:17:04             [年青, 淡淡的, 後, 女主角, 帶著, 一疊書, 離開, 一幕, 深刻]  \n",
       "2005-07-12 23:48:22  [Helena, Bonham, Carter, 最美, 時候, 她, 英國, 古裝, 電影...  \n",
       "2005-07-13 11:01:21  [真, 係, 有時, d, 野, 唔, 係, 靚, 仔靚, 女, 做, 真, 係, 唔, 睇...  \n",
       "...                                                                ...  \n",
       "2019-09-07 14:57:53                     [一星, 死, 库水, 女主, 好丑, 不要, 消费, 熊]  \n",
       "2019-09-07 15:09:20  [设法, 掌控, 日益增长, 极, 稳定, 力量, 更要, 自己, 内心, 恶魔, 抗争, ...  \n",
       "2019-09-07 15:16:51                                 [大家, 她, 琴, 灭霸, 弟弟]  \n",
       "2019-09-07 15:19:20                                      [女儿, 真是太, 暖心]  \n",
       "2019-09-07 15:46:44                                   [不太, 喜欢, 女主, 长相]  \n",
       "\n",
       "[83420 rows x 4 columns]"
      ]
     },
     "execution_count": 21,
     "metadata": {},
     "output_type": "execute_result"
    }
   ],
   "source": [
    "female_related_all =comments.iloc[list(idx_female_set_all), :]\n",
    "female_related_all =female_related_all.set_index('comment_time').sort_index()\n",
    "female_related_all"
   ]
  },
  {
   "cell_type": "code",
   "execution_count": 22,
   "metadata": {},
   "outputs": [
    {
     "data": {
      "text/plain": [
       "[]"
      ]
     },
     "execution_count": 22,
     "metadata": {},
     "output_type": "execute_result"
    }
   ],
   "source": [
    "# drop empty rows for the training process\n",
    "empty_lst_all = []\n",
    "for index, row in female_related_all.iterrows():\n",
    "    if row['tokenized'] == []:\n",
    "        empty_lst_all.append(index)\n",
    "empty_lst_all"
   ]
  },
  {
   "cell_type": "code",
   "execution_count": 23,
   "metadata": {},
   "outputs": [
    {
     "data": {
      "text/html": [
       "<div>\n",
       "<style scoped>\n",
       "    .dataframe tbody tr th:only-of-type {\n",
       "        vertical-align: middle;\n",
       "    }\n",
       "\n",
       "    .dataframe tbody tr th {\n",
       "        vertical-align: top;\n",
       "    }\n",
       "\n",
       "    .dataframe thead th {\n",
       "        text-align: right;\n",
       "    }\n",
       "</style>\n",
       "<table border=\"1\" class=\"dataframe\">\n",
       "  <thead>\n",
       "    <tr style=\"text-align: right;\">\n",
       "      <th></th>\n",
       "      <th>movie_id</th>\n",
       "      <th>rating</th>\n",
       "      <th>content</th>\n",
       "      <th>tokenized</th>\n",
       "    </tr>\n",
       "    <tr>\n",
       "      <th>comment_time</th>\n",
       "      <th></th>\n",
       "      <th></th>\n",
       "      <th></th>\n",
       "      <th></th>\n",
       "    </tr>\n",
       "  </thead>\n",
       "  <tbody>\n",
       "    <tr>\n",
       "      <th>2005-07-07 20:31:13</th>\n",
       "      <td>1291879</td>\n",
       "      <td>3.0</td>\n",
       "      <td>看不下去啊看不下去啊女主角太丑</td>\n",
       "      <td>[看不下去, 看不下去, 女主角, 太丑]</td>\n",
       "    </tr>\n",
       "    <tr>\n",
       "      <th>2005-07-12 13:16:21</th>\n",
       "      <td>1306397</td>\n",
       "      <td>5.0</td>\n",
       "      <td>朱的推介 女孩可愛得叫人心也融化 看她哭我便要哭了</td>\n",
       "      <td>[朱, 推介, 女孩, 可愛得, 人心, 融化, 她, 哭, 我, 便, 哭]</td>\n",
       "    </tr>\n",
       "    <tr>\n",
       "      <th>2005-07-12 22:17:04</th>\n",
       "      <td>1300031</td>\n",
       "      <td>3.0</td>\n",
       "      <td>年青的 淡淡的 最後女主角帶著一疊書離開一幕很深刻</td>\n",
       "      <td>[年青, 淡淡的, 後, 女主角, 帶著, 一疊書, 離開, 一幕, 深刻]</td>\n",
       "    </tr>\n",
       "    <tr>\n",
       "      <th>2005-07-12 23:48:22</th>\n",
       "      <td>1301692</td>\n",
       "      <td>5.0</td>\n",
       "      <td>Helena Bonham Carter最美的時候 她是英國古裝電影的代表人物</td>\n",
       "      <td>[Helena, Bonham, Carter, 最美, 時候, 她, 英國, 古裝, 電影...</td>\n",
       "    </tr>\n",
       "    <tr>\n",
       "      <th>2005-07-13 11:01:21</th>\n",
       "      <td>1299655</td>\n",
       "      <td>2.0</td>\n",
       "      <td>真係 有時d野唔係靚仔靚女做真係唔好睇架</td>\n",
       "      <td>[真, 係, 有時, d, 野, 唔, 係, 靚, 仔靚, 女, 做, 真, 係, 唔, 睇...</td>\n",
       "    </tr>\n",
       "    <tr>\n",
       "      <th>...</th>\n",
       "      <td>...</td>\n",
       "      <td>...</td>\n",
       "      <td>...</td>\n",
       "      <td>...</td>\n",
       "    </tr>\n",
       "    <tr>\n",
       "      <th>2019-09-07 14:57:53</th>\n",
       "      <td>27063867</td>\n",
       "      <td>1.0</td>\n",
       "      <td>一星给死库水 女主好丑啊 不要再消费熊了</td>\n",
       "      <td>[一星, 死, 库水, 女主, 好丑, 不要, 消费, 熊]</td>\n",
       "    </tr>\n",
       "    <tr>\n",
       "      <th>2019-09-07 15:09:20</th>\n",
       "      <td>26667010</td>\n",
       "      <td>4.0</td>\n",
       "      <td>不仅要设法掌控日益增长 极不稳定的力量 更要与自己内心的恶魔抗争 她的失控让整个X战警大家庭...</td>\n",
       "      <td>[设法, 掌控, 日益增长, 极, 稳定, 力量, 更要, 自己, 内心, 恶魔, 抗争, ...</td>\n",
       "    </tr>\n",
       "    <tr>\n",
       "      <th>2019-09-07 15:16:51</th>\n",
       "      <td>26667010</td>\n",
       "      <td>3.0</td>\n",
       "      <td>大家好 她是琴 灭霸都是弟弟</td>\n",
       "      <td>[大家, 她, 琴, 灭霸, 弟弟]</td>\n",
       "    </tr>\n",
       "    <tr>\n",
       "      <th>2019-09-07 15:19:20</th>\n",
       "      <td>26277182</td>\n",
       "      <td>4.0</td>\n",
       "      <td>女儿真是太暖心了</td>\n",
       "      <td>[女儿, 真是太, 暖心]</td>\n",
       "    </tr>\n",
       "    <tr>\n",
       "      <th>2019-09-07 15:46:44</th>\n",
       "      <td>1301173</td>\n",
       "      <td>3.0</td>\n",
       "      <td>不太喜欢女主的长相吧</td>\n",
       "      <td>[不太, 喜欢, 女主, 长相]</td>\n",
       "    </tr>\n",
       "  </tbody>\n",
       "</table>\n",
       "<p>83420 rows × 4 columns</p>\n",
       "</div>"
      ],
      "text/plain": [
       "                     movie_id  rating  \\\n",
       "comment_time                            \n",
       "2005-07-07 20:31:13   1291879     3.0   \n",
       "2005-07-12 13:16:21   1306397     5.0   \n",
       "2005-07-12 22:17:04   1300031     3.0   \n",
       "2005-07-12 23:48:22   1301692     5.0   \n",
       "2005-07-13 11:01:21   1299655     2.0   \n",
       "...                       ...     ...   \n",
       "2019-09-07 14:57:53  27063867     1.0   \n",
       "2019-09-07 15:09:20  26667010     4.0   \n",
       "2019-09-07 15:16:51  26667010     3.0   \n",
       "2019-09-07 15:19:20  26277182     4.0   \n",
       "2019-09-07 15:46:44   1301173     3.0   \n",
       "\n",
       "                                                               content  \\\n",
       "comment_time                                                             \n",
       "2005-07-07 20:31:13                                   看不下去啊看不下去啊女主角太丑    \n",
       "2005-07-12 13:16:21                          朱的推介 女孩可愛得叫人心也融化 看她哭我便要哭了   \n",
       "2005-07-12 22:17:04                          年青的 淡淡的 最後女主角帶著一疊書離開一幕很深刻   \n",
       "2005-07-12 23:48:22            Helena Bonham Carter最美的時候 她是英國古裝電影的代表人物   \n",
       "2005-07-13 11:01:21                              真係 有時d野唔係靚仔靚女做真係唔好睇架    \n",
       "...                                                                ...   \n",
       "2019-09-07 14:57:53                               一星给死库水 女主好丑啊 不要再消费熊了   \n",
       "2019-09-07 15:09:20  不仅要设法掌控日益增长 极不稳定的力量 更要与自己内心的恶魔抗争 她的失控让整个X战警大家庭...   \n",
       "2019-09-07 15:16:51                                     大家好 她是琴 灭霸都是弟弟   \n",
       "2019-09-07 15:19:20                                           女儿真是太暖心了   \n",
       "2019-09-07 15:46:44                                        不太喜欢女主的长相吧    \n",
       "\n",
       "                                                             tokenized  \n",
       "comment_time                                                            \n",
       "2005-07-07 20:31:13                              [看不下去, 看不下去, 女主角, 太丑]  \n",
       "2005-07-12 13:16:21            [朱, 推介, 女孩, 可愛得, 人心, 融化, 她, 哭, 我, 便, 哭]  \n",
       "2005-07-12 22:17:04             [年青, 淡淡的, 後, 女主角, 帶著, 一疊書, 離開, 一幕, 深刻]  \n",
       "2005-07-12 23:48:22  [Helena, Bonham, Carter, 最美, 時候, 她, 英國, 古裝, 電影...  \n",
       "2005-07-13 11:01:21  [真, 係, 有時, d, 野, 唔, 係, 靚, 仔靚, 女, 做, 真, 係, 唔, 睇...  \n",
       "...                                                                ...  \n",
       "2019-09-07 14:57:53                     [一星, 死, 库水, 女主, 好丑, 不要, 消费, 熊]  \n",
       "2019-09-07 15:09:20  [设法, 掌控, 日益增长, 极, 稳定, 力量, 更要, 自己, 内心, 恶魔, 抗争, ...  \n",
       "2019-09-07 15:16:51                                 [大家, 她, 琴, 灭霸, 弟弟]  \n",
       "2019-09-07 15:19:20                                      [女儿, 真是太, 暖心]  \n",
       "2019-09-07 15:46:44                                   [不太, 喜欢, 女主, 长相]  \n",
       "\n",
       "[83420 rows x 4 columns]"
      ]
     },
     "execution_count": 23,
     "metadata": {},
     "output_type": "execute_result"
    }
   ],
   "source": [
    "female_related_all.drop(empty_lst_all, axis=0, inplace=True)\n",
    "female_related_all"
   ]
  },
  {
   "cell_type": "code",
   "execution_count": 26,
   "metadata": {},
   "outputs": [],
   "source": [
    "female_related_all_count = female_related_all['content'].groupby(female_related_all.index.year)\\\n",
    "                                              .count()\n",
    "female_related_all_count = pd.DataFrame(female_related_all_count, columns=['content'])"
   ]
  },
  {
   "cell_type": "code",
   "execution_count": 27,
   "metadata": {},
   "outputs": [
    {
     "data": {
      "image/png": "[encoded data removed]",
      "text/plain": [
       "<Figure size 864x648 with 1 Axes>"
      ]
     },
     "metadata": {
      "needs_background": "light"
     },
     "output_type": "display_data"
    }
   ],
   "source": [
    "# plot number of female-related comments by year\n",
    "fig, ax = plt.subplots()\n",
    "fig.set_size_inches(12, 9)\n",
    "sns.barplot(data = female_related_all_count,\n",
    "            x = female_related_all_count.index,\n",
    "            y = 'content',\n",
    "            ax=ax,\n",
    "            label='Number of Comments'\n",
    "            ).set_title(\"Number of Female-related Comments(2005-2019)\")\n",
    "plt.xticks(rotation=60)\n",
    "plt.ylabel('Number of Comments')\n",
    "plt.legend(loc = 'upper left');\n",
    "fig.savefig('Number of Female-related Comments(2005-2019).png')"
   ]
  },
  {
   "cell_type": "code",
   "execution_count": 30,
   "metadata": {},
   "outputs": [
    {
     "name": "stdout",
     "output_type": "stream",
     "text": [
      "time_slice0: 3997\n",
      "time_slice1: 4103\n",
      "time_slice2: 6059\n",
      "time_slice3: 6850\n",
      "time_slice4: 6181\n",
      "time_slice5: 5214\n",
      "time_slice6: 5619\n",
      "time_slice7: 7082\n",
      "time_slice8: 9160\n",
      "time_slice9: 11751\n",
      "time_slice10: 17404\n"
     ]
    }
   ],
   "source": [
    "# get time slices \n",
    "time_slice_0 = female_related_all['01/01/2005':'12/31/2009']['tokenized']\\\n",
    "                                           .groupby(female_related_all['01/01/2005':'12/31/2009'].index.year)\\\n",
    "                                           .count()\\\n",
    "                                           .sum()\n",
    "\n",
    "time_slice_rest = female_related_all['01/01/2010':'12/31/2019']['tokenized']\\\n",
    "                                           .groupby(female_related_all['01/01/2010':'12/31/2019'].index.year)\\\n",
    "                                           .count()\\\n",
    "                                           .to_list()\n",
    "\n",
    "time_slices = [time_slice_0] + time_slice_rest\n",
    "for idx, time_slice in enumerate(time_slices):\n",
    "    print('time_slice{}: {}'.format(idx, time_slice))"
   ]
  },
  {
   "cell_type": "code",
   "execution_count": 32,
   "metadata": {},
   "outputs": [
    {
     "data": {
      "text/plain": [
       "True"
      ]
     },
     "execution_count": 32,
     "metadata": {},
     "output_type": "execute_result"
    }
   ],
   "source": [
    "# prepare corpus\n",
    "corpus = list(female_related_all['tokenized'].values)\n",
    "dictionary = gensim.corpora.Dictionary(corpus)\n",
    "bow_corpus = [dictionary.doc2bow(text) for text in corpus]\n",
    "\n",
    "# check length\n",
    "sum(time_slices) == len(corpus)"
   ]
  },
  {
   "cell_type": "markdown",
   "metadata": {},
   "source": [
    "Apart from codes from week3 topic modeling notebook, some of the following parts of codes(mainly pyLDAvis visualization, and some lines codes in the get_coherence_socre function) are adapted from codes distributed by Professor Clindaniel (MACSS staff, The University of Chicago) in his MACS 30124 class. Thanks!"
   ]
  },
  {
   "cell_type": "code",
   "execution_count": null,
   "metadata": {
    "scrolled": true
   },
   "outputs": [],
   "source": [
    "# In this case, the total training process is more than 72 hours...\n",
    "# don't have to re-run this again. \n",
    "\n",
    "from tqdm import tqdm\n",
    "\n",
    "def get_coherence_score(bow_corpus, dictionary, time_slices,\n",
    "                        start_topic_num=2, end_topic_num=20, step=2):\n",
    "    '''\n",
    "    Finging suitable number of topics using coherence socre(criteria: u_mass)\n",
    "    attention: every round of training would take more than 2 hours! \n",
    "    \n",
    "    Inputs:\n",
    "      bow_corpus: gensim bow_corpus generated by using doc2bow\n",
    "      dictionary: gensim dictionary\n",
    "      time_slices: a list where every element is the number of comments in each time slice  \n",
    "      start_topic_num: start topics number \n",
    "      end_topic_num: end topics number \n",
    "      step: step for changing number of topics\n",
    "      \n",
    "    Outputs:\n",
    "      coherence_score_lst: a list of average coherence socres. \n",
    "    '''\n",
    "    coherence_score_lst = []\n",
    "    for num_topics in tqdm(range(start_topic_num, end_topic_num, step)):\n",
    "        # training \n",
    "        ldaseq = LdaSeqModel(corpus=bow_corpus, \n",
    "                             id2word=dictionary, \n",
    "                             time_slice=time_slices, \n",
    "                             num_topics=num_topics)\n",
    "        ldaseq.save(\"lda_models/ldaseq_top{}.model\".format(num_topics))\n",
    "        loaded_models = LdaSeqModel.load(\"lda_models/ldaseq_top{}.model\".format(num_topics))\n",
    "        \n",
    "        # get coherence socre\n",
    "        avg_coherence_score = 0\n",
    "        for t in range(len(time_slices)):      \n",
    "            topics_dtm = loaded_models.dtm_coherence(t)\n",
    "            cm_DTM = CoherenceModel(topics=topics_dtm,\n",
    "                                    corpus=bow_corpus,\n",
    "                                    dictionary=dictionary,\n",
    "                                    coherence='u_mass')\n",
    "            avg_coherence_score += cm_DTM.get_coherence()\n",
    "        avg_coherence_score = avg_coherence_score/len(time_slices)\n",
    "        coherence_score_lst.append(avg_coherence_score)\n",
    "    return coherence_score_lst\n",
    "\n",
    "\n",
    "coherence_score_lst = get_coherence_score(bow_corpus=bow_corpus, \n",
    "                                          dictionary=dictionary, \n",
    "                                          time_slices=time_slices,\n",
    "                                          start_topic_num=2, \n",
    "                                          end_topic_num=16, \n",
    "                                          step=2)"
   ]
  },
  {
   "cell_type": "code",
   "execution_count": 36,
   "metadata": {},
   "outputs": [],
   "source": [
    "coherence_score_lst = []\n",
    "for i in range(2, 16, 2):\n",
    "    loaded_models = LdaSeqModel.load(\"lda_models/ldaseq_top{}.model\".format(i))\n",
    "    \n",
    "    # get coherence socre\n",
    "    avg_coherence_score = 0\n",
    "    for t in range(len(time_slices)):      \n",
    "        topics_dtm = loaded_models.dtm_coherence(t)\n",
    "        cm_DTM = CoherenceModel(topics=topics_dtm,\n",
    "                                corpus=bow_corpus,\n",
    "                                dictionary=dictionary,\n",
    "                                coherence='u_mass')\n",
    "        avg_coherence_score += cm_DTM.get_coherence()\n",
    "    avg_coherence_score = avg_coherence_score/len(time_slices)\n",
    "    coherence_score_lst.append(avg_coherence_score)"
   ]
  },
  {
   "cell_type": "code",
   "execution_count": 37,
   "metadata": {},
   "outputs": [
    {
     "data": {
      "image/png": "[encoded data removed]",
      "text/plain": [
       "<Figure size 432x288 with 1 Axes>"
      ]
     },
     "metadata": {
      "needs_background": "light"
     },
     "output_type": "display_data"
    }
   ],
   "source": [
    "# plot coherence score\n",
    "plt.plot(range(2, 16, 2), coherence_score_lst)\n",
    "plt.xlabel(\"Number of Topics\")\n",
    "plt.ylabel(\"Coherence score\")\n",
    "plt.title(\"Coherence score(u_mass)\");\n",
    "plt.savefig(\"coherence_score_for_dynamic_topic_modeling.png\")"
   ]
  },
  {
   "cell_type": "code",
   "execution_count": 38,
   "metadata": {},
   "outputs": [],
   "source": [
    "num_topics = 4\n",
    "loaded_models = LdaSeqModel.load(\"lda_models/ldaseq_top{}.model\".format(num_topics))"
   ]
  },
  {
   "cell_type": "code",
   "execution_count": 40,
   "metadata": {},
   "outputs": [
    {
     "name": "stderr",
     "output_type": "stream",
     "text": [
      "/Users/mao_shiba/opt/anaconda3/lib/python3.8/site-packages/ipykernel/pylab/backend_inline.py:11: DeprecationWarning: `ipykernel.pylab.backend_inline` is deprecated, directly use `matplotlib_inline.backend_inline`\n",
      "  warnings.warn(\n"
     ]
    },
    {
     "data": {
      "application/vnd.jupyter.widget-view+json": {
       "model_id": "ecc8d4a426a540e98c4d9abf77bf44bc",
       "version_major": 2,
       "version_minor": 0
      },
      "text/plain": [
       "interactive(children=(Dropdown(description='dates', options=('2005~2009', '2010', '2011', '2012', '2013', '201…"
      ]
     },
     "metadata": {},
     "output_type": "display_data"
    }
   ],
   "source": [
    "# Create pyLDAvis visualization\n",
    "pyLDAvis.enable_notebook()\n",
    "\n",
    "vis = {}\n",
    "dates = pd.Series(['2005~2009', '2010', '2011', '2012', '2013',\n",
    "                   '2014', '2015', '2016', '2017', '2018', '2019'])\n",
    "for i in range(len(dates)):\n",
    "    doc_topic, topic_term, doc_lengths, term_frequency, vocab = loaded_models.dtm_vis(time=i, corpus=bow_corpus)\n",
    "    vis[dates[i]] = pyLDAvis.prepare(topic_term_dists=topic_term,\n",
    "                                     doc_topic_dists=doc_topic,\n",
    "                                     doc_lengths=doc_lengths,\n",
    "                                     vocab=vocab,\n",
    "                                     term_frequency=term_frequency)\n",
    "\n",
    "# Make an interactive plot\n",
    "@interact(dates=dates)\n",
    "def f(dates):\n",
    "    return vis[dates]\n",
    "\n",
    "for i, date in enumerate(dates):\n",
    "   pyLDAvis.save_html(vis[dates[i]], 'lda_vis/time_slice{}_date_{}.html'.format(i, date))"
   ]
  },
  {
   "cell_type": "markdown",
   "metadata": {
    "id": "A_z-6E19g5-O"
   },
   "source": [
    "# Conclusion"
   ]
  },
  {
   "cell_type": "markdown",
   "metadata": {
    "id": "hEbBh0mW43S6"
   },
   "source": [
    "Our two hypotheses are largely correct. But there're also some disagreements. Evidence from over one million movie commemnts on Douban support the the claim that the overall trend of sentiment polarization. This polarization is temporal polarization but not geographical polarization. Not users are divided into two parts, but all the users tend to expresess more extreme feelings in movie comments. And this overall trend is validated by 2 Word2Vec models. We also found the biases in gender-related comments. We found a consistent pattern of higher proportion of positive comments and also average positive score in male-related comments compared to female-related comments. Finally, we conducted dynamic topic modelling on female-related comments. Though the performance is not good, the results from dynamic topic modelling may suggest that we tend to foucus less on the appearance of actresses, but more on the quality of movies where those actresses were in."
   ]
  },
  {
   "cell_type": "code",
   "execution_count": null,
   "metadata": {},
   "outputs": [],
   "source": []
  }
 ],
 "metadata": {
  "accelerator": "GPU",
  "colab": {
   "authorship_tag": "ABX9TyNCGpcpku/R25rPF5Lk1aT4",
   "background_execution": "on",
   "collapsed_sections": [],
   "machine_shape": "hm",
   "mount_file_id": "15ZXQvCGegHh0_x7VK9W9oZTlwcrdM2ns",
   "name": "Douban_final.ipynb",
   "provenance": [],
   "toc_visible": true
  },
  "kernelspec": {
   "display_name": "Python 3 (ipykernel)",
   "language": "python",
   "name": "python3"
  },
  "language_info": {
   "codemirror_mode": {
    "name": "ipython",
    "version": 3
   },
   "file_extension": ".py",
   "mimetype": "text/x-python",
   "name": "python",
   "nbconvert_exporter": "python",
   "pygments_lexer": "ipython3",
   "version": "3.8.5"
  },
  "widgets": {
   "application/vnd.jupyter.widget-state+json": {
    "0255df710cc048408a73d76dc8095872": {
     "model_module": "@jupyter-widgets/base",
     "model_module_version": "1.2.0",
     "model_name": "LayoutModel",
     "state": {
      "_model_module": "@jupyter-widgets/base",
      "_model_module_version": "1.2.0",
      "_model_name": "LayoutModel",
      "_view_count": null,
      "_view_module": "@jupyter-widgets/base",
      "_view_module_version": "1.2.0",
      "_view_name": "LayoutView",
      "align_content": null,
      "align_items": null,
      "align_self": null,
      "border": null,
      "bottom": null,
      "display": null,
      "flex": null,
      "flex_flow": null,
      "grid_area": null,
      "grid_auto_columns": null,
      "grid_auto_flow": null,
      "grid_auto_rows": null,
      "grid_column": null,
      "grid_gap": null,
      "grid_row": null,
      "grid_template_areas": null,
      "grid_template_columns": null,
      "grid_template_rows": null,
      "height": null,
      "justify_content": null,
      "justify_items": null,
      "left": null,
      "margin": null,
      "max_height": null,
      "max_width": null,
      "min_height": null,
      "min_width": null,
      "object_fit": null,
      "object_position": null,
      "order": null,
      "overflow": null,
      "overflow_x": null,
      "overflow_y": null,
      "padding": null,
      "right": null,
      "top": null,
      "visibility": null,
      "width": null
     }
    },
    "04e1c69bf46b48b0bbc342c8e383ee2f": {
     "model_module": "@jupyter-widgets/base",
     "model_module_version": "1.2.0",
     "model_name": "LayoutModel",
     "state": {
      "_model_module": "@jupyter-widgets/base",
      "_model_module_version": "1.2.0",
      "_model_name": "LayoutModel",
      "_view_count": null,
      "_view_module": "@jupyter-widgets/base",
      "_view_module_version": "1.2.0",
      "_view_name": "LayoutView",
      "align_content": null,
      "align_items": null,
      "align_self": null,
      "border": null,
      "bottom": null,
      "display": null,
      "flex": null,
      "flex_flow": null,
      "grid_area": null,
      "grid_auto_columns": null,
      "grid_auto_flow": null,
      "grid_auto_rows": null,
      "grid_column": null,
      "grid_gap": null,
      "grid_row": null,
      "grid_template_areas": null,
      "grid_template_columns": null,
      "grid_template_rows": null,
      "height": null,
      "justify_content": null,
      "justify_items": null,
      "left": null,
      "margin": null,
      "max_height": null,
      "max_width": null,
      "min_height": null,
      "min_width": null,
      "object_fit": null,
      "object_position": null,
      "order": null,
      "overflow": null,
      "overflow_x": null,
      "overflow_y": null,
      "padding": null,
      "right": null,
      "top": null,
      "visibility": null,
      "width": null
     }
    },
    "05889318bd12464e8c73ba32579bc309": {
     "model_module": "@jupyter-widgets/controls",
     "model_module_version": "1.5.0",
     "model_name": "FloatProgressModel",
     "state": {
      "_dom_classes": [],
      "_model_module": "@jupyter-widgets/controls",
      "_model_module_version": "1.5.0",
      "_model_name": "FloatProgressModel",
      "_view_count": null,
      "_view_module": "@jupyter-widgets/controls",
      "_view_module_version": "1.5.0",
      "_view_name": "ProgressView",
      "bar_style": "success",
      "description": "",
      "description_tooltip": null,
      "layout": "IPY_MODEL_04e1c69bf46b48b0bbc342c8e383ee2f",
      "max": 219,
      "min": 0,
      "orientation": "horizontal",
      "style": "IPY_MODEL_2270111ab3cb4c11a853b2417ae3f80d",
      "value": 219
     }
    },
    "0783ec9a6766454fb90e5b1bc58bf841": {
     "model_module": "@jupyter-widgets/controls",
     "model_module_version": "1.5.0",
     "model_name": "DescriptionStyleModel",
     "state": {
      "_model_module": "@jupyter-widgets/controls",
      "_model_module_version": "1.5.0",
      "_model_name": "DescriptionStyleModel",
      "_view_count": null,
      "_view_module": "@jupyter-widgets/base",
      "_view_module_version": "1.2.0",
      "_view_name": "StyleView",
      "description_width": ""
     }
    },
    "0b863bba773649f29b656aa913251286": {
     "model_module": "@jupyter-widgets/base",
     "model_module_version": "1.2.0",
     "model_name": "LayoutModel",
     "state": {
      "_model_module": "@jupyter-widgets/base",
      "_model_module_version": "1.2.0",
      "_model_name": "LayoutModel",
      "_view_count": null,
      "_view_module": "@jupyter-widgets/base",
      "_view_module_version": "1.2.0",
      "_view_name": "LayoutView",
      "align_content": null,
      "align_items": null,
      "align_self": null,
      "border": null,
      "bottom": null,
      "display": null,
      "flex": null,
      "flex_flow": null,
      "grid_area": null,
      "grid_auto_columns": null,
      "grid_auto_flow": null,
      "grid_auto_rows": null,
      "grid_column": null,
      "grid_gap": null,
      "grid_row": null,
      "grid_template_areas": null,
      "grid_template_columns": null,
      "grid_template_rows": null,
      "height": null,
      "justify_content": null,
      "justify_items": null,
      "left": null,
      "margin": null,
      "max_height": null,
      "max_width": null,
      "min_height": null,
      "min_width": null,
      "object_fit": null,
      "object_position": null,
      "order": null,
      "overflow": null,
      "overflow_x": null,
      "overflow_y": null,
      "padding": null,
      "right": null,
      "top": null,
      "visibility": null,
      "width": null
     }
    },
    "0e855a5afa00477293e388462bca30b6": {
     "model_module": "@jupyter-widgets/base",
     "model_module_version": "1.2.0",
     "model_name": "LayoutModel",
     "state": {
      "_model_module": "@jupyter-widgets/base",
      "_model_module_version": "1.2.0",
      "_model_name": "LayoutModel",
      "_view_count": null,
      "_view_module": "@jupyter-widgets/base",
      "_view_module_version": "1.2.0",
      "_view_name": "LayoutView",
      "align_content": null,
      "align_items": null,
      "align_self": null,
      "border": null,
      "bottom": null,
      "display": null,
      "flex": null,
      "flex_flow": null,
      "grid_area": null,
      "grid_auto_columns": null,
      "grid_auto_flow": null,
      "grid_auto_rows": null,
      "grid_column": null,
      "grid_gap": null,
      "grid_row": null,
      "grid_template_areas": null,
      "grid_template_columns": null,
      "grid_template_rows": null,
      "height": null,
      "justify_content": null,
      "justify_items": null,
      "left": null,
      "margin": null,
      "max_height": null,
      "max_width": null,
      "min_height": null,
      "min_width": null,
      "object_fit": null,
      "object_position": null,
      "order": null,
      "overflow": null,
      "overflow_x": null,
      "overflow_y": null,
      "padding": null,
      "right": null,
      "top": null,
      "visibility": null,
      "width": null
     }
    },
    "0f9b84071a404127b344dd1365046155": {
     "model_module": "@jupyter-widgets/controls",
     "model_module_version": "1.5.0",
     "model_name": "ProgressStyleModel",
     "state": {
      "_model_module": "@jupyter-widgets/controls",
      "_model_module_version": "1.5.0",
      "_model_name": "ProgressStyleModel",
      "_view_count": null,
      "_view_module": "@jupyter-widgets/base",
      "_view_module_version": "1.2.0",
      "_view_name": "StyleView",
      "bar_color": null,
      "description_width": ""
     }
    },
    "1103c4c13d044d42ba5dabbdbc62d904": {
     "model_module": "@jupyter-widgets/controls",
     "model_module_version": "1.5.0",
     "model_name": "ProgressStyleModel",
     "state": {
      "_model_module": "@jupyter-widgets/controls",
      "_model_module_version": "1.5.0",
      "_model_name": "ProgressStyleModel",
      "_view_count": null,
      "_view_module": "@jupyter-widgets/base",
      "_view_module_version": "1.2.0",
      "_view_name": "StyleView",
      "bar_color": null,
      "description_width": ""
     }
    },
    "1178870423474f6cbbb77244c11d914b": {
     "model_module": "@jupyter-widgets/base",
     "model_module_version": "1.2.0",
     "model_name": "LayoutModel",
     "state": {
      "_model_module": "@jupyter-widgets/base",
      "_model_module_version": "1.2.0",
      "_model_name": "LayoutModel",
      "_view_count": null,
      "_view_module": "@jupyter-widgets/base",
      "_view_module_version": "1.2.0",
      "_view_name": "LayoutView",
      "align_content": null,
      "align_items": null,
      "align_self": null,
      "border": null,
      "bottom": null,
      "display": null,
      "flex": null,
      "flex_flow": null,
      "grid_area": null,
      "grid_auto_columns": null,
      "grid_auto_flow": null,
      "grid_auto_rows": null,
      "grid_column": null,
      "grid_gap": null,
      "grid_row": null,
      "grid_template_areas": null,
      "grid_template_columns": null,
      "grid_template_rows": null,
      "height": null,
      "justify_content": null,
      "justify_items": null,
      "left": null,
      "margin": null,
      "max_height": null,
      "max_width": null,
      "min_height": null,
      "min_width": null,
      "object_fit": null,
      "object_position": null,
      "order": null,
      "overflow": null,
      "overflow_x": null,
      "overflow_y": null,
      "padding": null,
      "right": null,
      "top": null,
      "visibility": null,
      "width": null
     }
    },
    "150c9c9a26a046adac191365e483c56c": {
     "model_module": "@jupyter-widgets/controls",
     "model_module_version": "1.5.0",
     "model_name": "DescriptionStyleModel",
     "state": {
      "_model_module": "@jupyter-widgets/controls",
      "_model_module_version": "1.5.0",
      "_model_name": "DescriptionStyleModel",
      "_view_count": null,
      "_view_module": "@jupyter-widgets/base",
      "_view_module_version": "1.2.0",
      "_view_name": "StyleView",
      "description_width": ""
     }
    },
    "1512f29e2cf0480ca609650c22c89017": {
     "model_module": "@jupyter-widgets/base",
     "model_module_version": "1.2.0",
     "model_name": "LayoutModel",
     "state": {
      "_model_module": "@jupyter-widgets/base",
      "_model_module_version": "1.2.0",
      "_model_name": "LayoutModel",
      "_view_count": null,
      "_view_module": "@jupyter-widgets/base",
      "_view_module_version": "1.2.0",
      "_view_name": "LayoutView",
      "align_content": null,
      "align_items": null,
      "align_self": null,
      "border": null,
      "bottom": null,
      "display": null,
      "flex": null,
      "flex_flow": null,
      "grid_area": null,
      "grid_auto_columns": null,
      "grid_auto_flow": null,
      "grid_auto_rows": null,
      "grid_column": null,
      "grid_gap": null,
      "grid_row": null,
      "grid_template_areas": null,
      "grid_template_columns": null,
      "grid_template_rows": null,
      "height": null,
      "justify_content": null,
      "justify_items": null,
      "left": null,
      "margin": null,
      "max_height": null,
      "max_width": null,
      "min_height": null,
      "min_width": null,
      "object_fit": null,
      "object_position": null,
      "order": null,
      "overflow": null,
      "overflow_x": null,
      "overflow_y": null,
      "padding": null,
      "right": null,
      "top": null,
      "visibility": null,
      "width": null
     }
    },
    "1793a4d56acf4b41adfc61d4e9511358": {
     "model_module": "@jupyter-widgets/base",
     "model_module_version": "1.2.0",
     "model_name": "LayoutModel",
     "state": {
      "_model_module": "@jupyter-widgets/base",
      "_model_module_version": "1.2.0",
      "_model_name": "LayoutModel",
      "_view_count": null,
      "_view_module": "@jupyter-widgets/base",
      "_view_module_version": "1.2.0",
      "_view_name": "LayoutView",
      "align_content": null,
      "align_items": null,
      "align_self": null,
      "border": null,
      "bottom": null,
      "display": null,
      "flex": null,
      "flex_flow": null,
      "grid_area": null,
      "grid_auto_columns": null,
      "grid_auto_flow": null,
      "grid_auto_rows": null,
      "grid_column": null,
      "grid_gap": null,
      "grid_row": null,
      "grid_template_areas": null,
      "grid_template_columns": null,
      "grid_template_rows": null,
      "height": null,
      "justify_content": null,
      "justify_items": null,
      "left": null,
      "margin": null,
      "max_height": null,
      "max_width": null,
      "min_height": null,
      "min_width": null,
      "object_fit": null,
      "object_position": null,
      "order": null,
      "overflow": null,
      "overflow_x": null,
      "overflow_y": null,
      "padding": null,
      "right": null,
      "top": null,
      "visibility": null,
      "width": null
     }
    },
    "18db1e6551654388ac7ac91a15fa1aa7": {
     "model_module": "@jupyter-widgets/controls",
     "model_module_version": "1.5.0",
     "model_name": "FloatProgressModel",
     "state": {
      "_dom_classes": [],
      "_model_module": "@jupyter-widgets/controls",
      "_model_module_version": "1.5.0",
      "_model_name": "FloatProgressModel",
      "_view_count": null,
      "_view_module": "@jupyter-widgets/controls",
      "_view_module_version": "1.5.0",
      "_view_name": "ProgressView",
      "bar_style": "success",
      "description": "",
      "description_tooltip": null,
      "layout": "IPY_MODEL_3489cfbd8bce491d8ebab40d1ab26448",
      "max": 2,
      "min": 0,
      "orientation": "horizontal",
      "style": "IPY_MODEL_759329296a854d1e93b7ff71d46e2c3b",
      "value": 2
     }
    },
    "1b39da323b4e4ec9b8346405057bdde3": {
     "model_module": "@jupyter-widgets/controls",
     "model_module_version": "1.5.0",
     "model_name": "HBoxModel",
     "state": {
      "_dom_classes": [],
      "_model_module": "@jupyter-widgets/controls",
      "_model_module_version": "1.5.0",
      "_model_name": "HBoxModel",
      "_view_count": null,
      "_view_module": "@jupyter-widgets/controls",
      "_view_module_version": "1.5.0",
      "_view_name": "HBoxView",
      "box_style": "",
      "children": [
       "IPY_MODEL_b3b705a2e5334209b49399223cc2ab1b",
       "IPY_MODEL_9cea07c2d7bc46248eae3606a9ebad3a",
       "IPY_MODEL_92c55393ba724d1d99f8e1b1fb710dc9"
      ],
      "layout": "IPY_MODEL_b87ba0a893da4f2199f82c363dccba54"
     }
    },
    "1b784fcd4d6340d4bcdd4996c1ee81e6": {
     "model_module": "@jupyter-widgets/controls",
     "model_module_version": "1.5.0",
     "model_name": "DescriptionStyleModel",
     "state": {
      "_model_module": "@jupyter-widgets/controls",
      "_model_module_version": "1.5.0",
      "_model_name": "DescriptionStyleModel",
      "_view_count": null,
      "_view_module": "@jupyter-widgets/base",
      "_view_module_version": "1.2.0",
      "_view_name": "StyleView",
      "description_width": ""
     }
    },
    "2270111ab3cb4c11a853b2417ae3f80d": {
     "model_module": "@jupyter-widgets/controls",
     "model_module_version": "1.5.0",
     "model_name": "ProgressStyleModel",
     "state": {
      "_model_module": "@jupyter-widgets/controls",
      "_model_module_version": "1.5.0",
      "_model_name": "ProgressStyleModel",
      "_view_count": null,
      "_view_module": "@jupyter-widgets/base",
      "_view_module_version": "1.2.0",
      "_view_name": "StyleView",
      "bar_color": null,
      "description_width": ""
     }
    },
    "233ac6c9206e44498c3d50e125ef53a6": {
     "model_module": "@jupyter-widgets/controls",
     "model_module_version": "1.5.0",
     "model_name": "DescriptionStyleModel",
     "state": {
      "_model_module": "@jupyter-widgets/controls",
      "_model_module_version": "1.5.0",
      "_model_name": "DescriptionStyleModel",
      "_view_count": null,
      "_view_module": "@jupyter-widgets/base",
      "_view_module_version": "1.2.0",
      "_view_name": "StyleView",
      "description_width": ""
     }
    },
    "23656327af3c41d3a3a2f76ed4f5abb2": {
     "model_module": "@jupyter-widgets/base",
     "model_module_version": "1.2.0",
     "model_name": "LayoutModel",
     "state": {
      "_model_module": "@jupyter-widgets/base",
      "_model_module_version": "1.2.0",
      "_model_name": "LayoutModel",
      "_view_count": null,
      "_view_module": "@jupyter-widgets/base",
      "_view_module_version": "1.2.0",
      "_view_name": "LayoutView",
      "align_content": null,
      "align_items": null,
      "align_self": null,
      "border": null,
      "bottom": null,
      "display": null,
      "flex": null,
      "flex_flow": null,
      "grid_area": null,
      "grid_auto_columns": null,
      "grid_auto_flow": null,
      "grid_auto_rows": null,
      "grid_column": null,
      "grid_gap": null,
      "grid_row": null,
      "grid_template_areas": null,
      "grid_template_columns": null,
      "grid_template_rows": null,
      "height": null,
      "justify_content": null,
      "justify_items": null,
      "left": null,
      "margin": null,
      "max_height": null,
      "max_width": null,
      "min_height": null,
      "min_width": null,
      "object_fit": null,
      "object_position": null,
      "order": null,
      "overflow": null,
      "overflow_x": null,
      "overflow_y": null,
      "padding": null,
      "right": null,
      "top": null,
      "visibility": null,
      "width": null
     }
    },
    "262d31e650ea439cab4a6832b0f169fd": {
     "model_module": "@jupyter-widgets/controls",
     "model_module_version": "1.5.0",
     "model_name": "ProgressStyleModel",
     "state": {
      "_model_module": "@jupyter-widgets/controls",
      "_model_module_version": "1.5.0",
      "_model_name": "ProgressStyleModel",
      "_view_count": null,
      "_view_module": "@jupyter-widgets/base",
      "_view_module_version": "1.2.0",
      "_view_name": "StyleView",
      "bar_color": null,
      "description_width": ""
     }
    },
    "28fcfcf32d1642aa8c46d5acacc2b79b": {
     "model_module": "@jupyter-widgets/controls",
     "model_module_version": "1.5.0",
     "model_name": "HTMLModel",
     "state": {
      "_dom_classes": [],
      "_model_module": "@jupyter-widgets/controls",
      "_model_module_version": "1.5.0",
      "_model_name": "HTMLModel",
      "_view_count": null,
      "_view_module": "@jupyter-widgets/controls",
      "_view_module_version": "1.5.0",
      "_view_name": "HTMLView",
      "description": "",
      "description_tooltip": null,
      "layout": "IPY_MODEL_8b21bf0dc15f4553a653debd6de2c67b",
      "placeholder": "​",
      "style": "IPY_MODEL_887bb6ef9a4e46a29985eb9eaf88f5b0",
      "value": "Downloading: 100%"
     }
    },
    "292648bd7cb14399a005574b2de6a917": {
     "model_module": "@jupyter-widgets/controls",
     "model_module_version": "1.5.0",
     "model_name": "FloatProgressModel",
     "state": {
      "_dom_classes": [],
      "_model_module": "@jupyter-widgets/controls",
      "_model_module_version": "1.5.0",
      "_model_name": "FloatProgressModel",
      "_view_count": null,
      "_view_module": "@jupyter-widgets/controls",
      "_view_module_version": "1.5.0",
      "_view_name": "ProgressView",
      "bar_style": "success",
      "description": "",
      "description_tooltip": null,
      "layout": "IPY_MODEL_23656327af3c41d3a3a2f76ed4f5abb2",
      "max": 411577189,
      "min": 0,
      "orientation": "horizontal",
      "style": "IPY_MODEL_82f656781b464b759d3655b16340a232",
      "value": 411577189
     }
    },
    "2b7e2e9872c04667ad8750df1b6f5a25": {
     "model_module": "@jupyter-widgets/controls",
     "model_module_version": "1.5.0",
     "model_name": "HBoxModel",
     "state": {
      "_dom_classes": [],
      "_model_module": "@jupyter-widgets/controls",
      "_model_module_version": "1.5.0",
      "_model_name": "HBoxModel",
      "_view_count": null,
      "_view_module": "@jupyter-widgets/controls",
      "_view_module_version": "1.5.0",
      "_view_name": "HBoxView",
      "box_style": "",
      "children": [
       "IPY_MODEL_f053b87067b84ef39ddeb489666ad38e",
       "IPY_MODEL_05889318bd12464e8c73ba32579bc309",
       "IPY_MODEL_82a48d53edf444f0911e4122d2576ac0"
      ],
      "layout": "IPY_MODEL_a519bf7694f747d98bbb9dc690df8be0"
     }
    },
    "3298a51b62f54d1ea5545e94c34e10cd": {
     "model_module": "@jupyter-widgets/controls",
     "model_module_version": "1.5.0",
     "model_name": "HTMLModel",
     "state": {
      "_dom_classes": [],
      "_model_module": "@jupyter-widgets/controls",
      "_model_module_version": "1.5.0",
      "_model_name": "HTMLModel",
      "_view_count": null,
      "_view_module": "@jupyter-widgets/controls",
      "_view_module_version": "1.5.0",
      "_view_name": "HTMLView",
      "description": "",
      "description_tooltip": null,
      "layout": "IPY_MODEL_5ff14393857e48559bafc230c91f006a",
      "placeholder": "​",
      "style": "IPY_MODEL_bc8786905100487f8387bc1d7b7ac084",
      "value": " 107k/107k [00:00&lt;00:00, 229kB/s]"
     }
    },
    "3489cfbd8bce491d8ebab40d1ab26448": {
     "model_module": "@jupyter-widgets/base",
     "model_module_version": "1.2.0",
     "model_name": "LayoutModel",
     "state": {
      "_model_module": "@jupyter-widgets/base",
      "_model_module_version": "1.2.0",
      "_model_name": "LayoutModel",
      "_view_count": null,
      "_view_module": "@jupyter-widgets/base",
      "_view_module_version": "1.2.0",
      "_view_name": "LayoutView",
      "align_content": null,
      "align_items": null,
      "align_self": null,
      "border": null,
      "bottom": null,
      "display": null,
      "flex": null,
      "flex_flow": null,
      "grid_area": null,
      "grid_auto_columns": null,
      "grid_auto_flow": null,
      "grid_auto_rows": null,
      "grid_column": null,
      "grid_gap": null,
      "grid_row": null,
      "grid_template_areas": null,
      "grid_template_columns": null,
      "grid_template_rows": null,
      "height": null,
      "justify_content": null,
      "justify_items": null,
      "left": null,
      "margin": null,
      "max_height": null,
      "max_width": null,
      "min_height": null,
      "min_width": null,
      "object_fit": null,
      "object_position": null,
      "order": null,
      "overflow": null,
      "overflow_x": null,
      "overflow_y": null,
      "padding": null,
      "right": null,
      "top": null,
      "visibility": null,
      "width": null
     }
    },
    "36704fa3b8b740e8a0f3612836d1424f": {
     "model_module": "@jupyter-widgets/controls",
     "model_module_version": "1.5.0",
     "model_name": "FloatProgressModel",
     "state": {
      "_dom_classes": [],
      "_model_module": "@jupyter-widgets/controls",
      "_model_module_version": "1.5.0",
      "_model_name": "FloatProgressModel",
      "_view_count": null,
      "_view_module": "@jupyter-widgets/controls",
      "_view_module_version": "1.5.0",
      "_view_name": "ProgressView",
      "bar_style": "success",
      "description": "",
      "description_tooltip": null,
      "layout": "IPY_MODEL_e56f5e4db0c045cf892e3c59244780d1",
      "max": 624,
      "min": 0,
      "orientation": "horizontal",
      "style": "IPY_MODEL_262d31e650ea439cab4a6832b0f169fd",
      "value": 624
     }
    },
    "385b5b7ad9d645feb591a851094dc781": {
     "model_module": "@jupyter-widgets/base",
     "model_module_version": "1.2.0",
     "model_name": "LayoutModel",
     "state": {
      "_model_module": "@jupyter-widgets/base",
      "_model_module_version": "1.2.0",
      "_model_name": "LayoutModel",
      "_view_count": null,
      "_view_module": "@jupyter-widgets/base",
      "_view_module_version": "1.2.0",
      "_view_name": "LayoutView",
      "align_content": null,
      "align_items": null,
      "align_self": null,
      "border": null,
      "bottom": null,
      "display": null,
      "flex": null,
      "flex_flow": null,
      "grid_area": null,
      "grid_auto_columns": null,
      "grid_auto_flow": null,
      "grid_auto_rows": null,
      "grid_column": null,
      "grid_gap": null,
      "grid_row": null,
      "grid_template_areas": null,
      "grid_template_columns": null,
      "grid_template_rows": null,
      "height": null,
      "justify_content": null,
      "justify_items": null,
      "left": null,
      "margin": null,
      "max_height": null,
      "max_width": null,
      "min_height": null,
      "min_width": null,
      "object_fit": null,
      "object_position": null,
      "order": null,
      "overflow": null,
      "overflow_x": null,
      "overflow_y": null,
      "padding": null,
      "right": null,
      "top": null,
      "visibility": null,
      "width": null
     }
    },
    "385fc34c21064029b92fc33e252e6277": {
     "model_module": "@jupyter-widgets/base",
     "model_module_version": "1.2.0",
     "model_name": "LayoutModel",
     "state": {
      "_model_module": "@jupyter-widgets/base",
      "_model_module_version": "1.2.0",
      "_model_name": "LayoutModel",
      "_view_count": null,
      "_view_module": "@jupyter-widgets/base",
      "_view_module_version": "1.2.0",
      "_view_name": "LayoutView",
      "align_content": null,
      "align_items": null,
      "align_self": null,
      "border": null,
      "bottom": null,
      "display": null,
      "flex": null,
      "flex_flow": null,
      "grid_area": null,
      "grid_auto_columns": null,
      "grid_auto_flow": null,
      "grid_auto_rows": null,
      "grid_column": null,
      "grid_gap": null,
      "grid_row": null,
      "grid_template_areas": null,
      "grid_template_columns": null,
      "grid_template_rows": null,
      "height": null,
      "justify_content": null,
      "justify_items": null,
      "left": null,
      "margin": null,
      "max_height": null,
      "max_width": null,
      "min_height": null,
      "min_width": null,
      "object_fit": null,
      "object_position": null,
      "order": null,
      "overflow": null,
      "overflow_x": null,
      "overflow_y": null,
      "padding": null,
      "right": null,
      "top": null,
      "visibility": null,
      "width": null
     }
    },
    "3a09d485f38a44049bcaf96c8554ac0c": {
     "model_module": "@jupyter-widgets/controls",
     "model_module_version": "1.5.0",
     "model_name": "ProgressStyleModel",
     "state": {
      "_model_module": "@jupyter-widgets/controls",
      "_model_module_version": "1.5.0",
      "_model_name": "ProgressStyleModel",
      "_view_count": null,
      "_view_module": "@jupyter-widgets/base",
      "_view_module_version": "1.2.0",
      "_view_name": "StyleView",
      "bar_color": null,
      "description_width": ""
     }
    },
    "3cbbd3a6dc0346f691791eea5090bbe6": {
     "model_module": "@jupyter-widgets/controls",
     "model_module_version": "1.5.0",
     "model_name": "HTMLModel",
     "state": {
      "_dom_classes": [],
      "_model_module": "@jupyter-widgets/controls",
      "_model_module_version": "1.5.0",
      "_model_name": "HTMLModel",
      "_view_count": null,
      "_view_module": "@jupyter-widgets/controls",
      "_view_module_version": "1.5.0",
      "_view_name": "HTMLView",
      "description": "",
      "description_tooltip": null,
      "layout": "IPY_MODEL_385b5b7ad9d645feb591a851094dc781",
      "placeholder": "​",
      "style": "IPY_MODEL_75c3063bd2684269a3e23ca3810e9bed",
      "value": " 263k/263k [00:00&lt;00:00, 632kB/s]"
     }
    },
    "4384f62d76984272b600a1bbc2d7ec0e": {
     "model_module": "@jupyter-widgets/base",
     "model_module_version": "1.2.0",
     "model_name": "LayoutModel",
     "state": {
      "_model_module": "@jupyter-widgets/base",
      "_model_module_version": "1.2.0",
      "_model_name": "LayoutModel",
      "_view_count": null,
      "_view_module": "@jupyter-widgets/base",
      "_view_module_version": "1.2.0",
      "_view_name": "LayoutView",
      "align_content": null,
      "align_items": null,
      "align_self": null,
      "border": null,
      "bottom": null,
      "display": null,
      "flex": null,
      "flex_flow": null,
      "grid_area": null,
      "grid_auto_columns": null,
      "grid_auto_flow": null,
      "grid_auto_rows": null,
      "grid_column": null,
      "grid_gap": null,
      "grid_row": null,
      "grid_template_areas": null,
      "grid_template_columns": null,
      "grid_template_rows": null,
      "height": null,
      "justify_content": null,
      "justify_items": null,
      "left": null,
      "margin": null,
      "max_height": null,
      "max_width": null,
      "min_height": null,
      "min_width": null,
      "object_fit": null,
      "object_position": null,
      "order": null,
      "overflow": null,
      "overflow_x": null,
      "overflow_y": null,
      "padding": null,
      "right": null,
      "top": null,
      "visibility": null,
      "width": null
     }
    },
    "48762b2b2cce4526bff81578c0d52ec3": {
     "model_module": "@jupyter-widgets/controls",
     "model_module_version": "1.5.0",
     "model_name": "HBoxModel",
     "state": {
      "_dom_classes": [],
      "_model_module": "@jupyter-widgets/controls",
      "_model_module_version": "1.5.0",
      "_model_name": "HBoxModel",
      "_view_count": null,
      "_view_module": "@jupyter-widgets/controls",
      "_view_module_version": "1.5.0",
      "_view_name": "HBoxView",
      "box_style": "",
      "children": [
       "IPY_MODEL_8c2a989e923a4cb78f73b3e324d8dfab",
       "IPY_MODEL_765a1fecbfbf42aea0951bb0e6f915b4",
       "IPY_MODEL_4d397a8e23e54437957624aa3fb99993"
      ],
      "layout": "IPY_MODEL_9f6a55327e2246069e694fe52ecf64d5"
     }
    },
    "4891bd604be547628e18d230e5c34771": {
     "model_module": "@jupyter-widgets/base",
     "model_module_version": "1.2.0",
     "model_name": "LayoutModel",
     "state": {
      "_model_module": "@jupyter-widgets/base",
      "_model_module_version": "1.2.0",
      "_model_name": "LayoutModel",
      "_view_count": null,
      "_view_module": "@jupyter-widgets/base",
      "_view_module_version": "1.2.0",
      "_view_name": "LayoutView",
      "align_content": null,
      "align_items": null,
      "align_self": null,
      "border": null,
      "bottom": null,
      "display": null,
      "flex": null,
      "flex_flow": null,
      "grid_area": null,
      "grid_auto_columns": null,
      "grid_auto_flow": null,
      "grid_auto_rows": null,
      "grid_column": null,
      "grid_gap": null,
      "grid_row": null,
      "grid_template_areas": null,
      "grid_template_columns": null,
      "grid_template_rows": null,
      "height": null,
      "justify_content": null,
      "justify_items": null,
      "left": null,
      "margin": null,
      "max_height": null,
      "max_width": null,
      "min_height": null,
      "min_width": null,
      "object_fit": null,
      "object_position": null,
      "order": null,
      "overflow": null,
      "overflow_x": null,
      "overflow_y": null,
      "padding": null,
      "right": null,
      "top": null,
      "visibility": null,
      "width": null
     }
    },
    "4a3c8506b5b74e03a65a4719bb72a15b": {
     "model_module": "@jupyter-widgets/controls",
     "model_module_version": "1.5.0",
     "model_name": "HBoxModel",
     "state": {
      "_dom_classes": [],
      "_model_module": "@jupyter-widgets/controls",
      "_model_module_version": "1.5.0",
      "_model_name": "HBoxModel",
      "_view_count": null,
      "_view_module": "@jupyter-widgets/controls",
      "_view_module_version": "1.5.0",
      "_view_name": "HBoxView",
      "box_style": "",
      "children": [
       "IPY_MODEL_28fcfcf32d1642aa8c46d5acacc2b79b",
       "IPY_MODEL_c9d9cf41b46c4ed9988aab11522cec61",
       "IPY_MODEL_3cbbd3a6dc0346f691791eea5090bbe6"
      ],
      "layout": "IPY_MODEL_0255df710cc048408a73d76dc8095872"
     }
    },
    "4a9d0e71d2b54672ad9ed0a6d771c18f": {
     "model_module": "@jupyter-widgets/controls",
     "model_module_version": "1.5.0",
     "model_name": "HTMLModel",
     "state": {
      "_dom_classes": [],
      "_model_module": "@jupyter-widgets/controls",
      "_model_module_version": "1.5.0",
      "_model_name": "HTMLModel",
      "_view_count": null,
      "_view_module": "@jupyter-widgets/controls",
      "_view_module_version": "1.5.0",
      "_view_name": "HTMLView",
      "description": "",
      "description_tooltip": null,
      "layout": "IPY_MODEL_1178870423474f6cbbb77244c11d914b",
      "placeholder": "​",
      "style": "IPY_MODEL_b09ec28ec195463db78c3073a8605725",
      "value": " 29.0/29.0 [00:00&lt;00:00, 829B/s]"
     }
    },
    "4d397a8e23e54437957624aa3fb99993": {
     "model_module": "@jupyter-widgets/controls",
     "model_module_version": "1.5.0",
     "model_name": "HTMLModel",
     "state": {
      "_dom_classes": [],
      "_model_module": "@jupyter-widgets/controls",
      "_model_module_version": "1.5.0",
      "_model_name": "HTMLModel",
      "_view_count": null,
      "_view_module": "@jupyter-widgets/controls",
      "_view_module_version": "1.5.0",
      "_view_name": "HTMLView",
      "description": "",
      "description_tooltip": null,
      "layout": "IPY_MODEL_56fa00e26729470aa6fb6dd620d39439",
      "placeholder": "​",
      "style": "IPY_MODEL_0783ec9a6766454fb90e5b1bc58bf841",
      "value": " 5.27k/? [00:00&lt;00:00, 164kB/s]"
     }
    },
    "4db9cda1850d4df2a92f74f1c21e52de": {
     "model_module": "@jupyter-widgets/controls",
     "model_module_version": "1.5.0",
     "model_name": "DescriptionStyleModel",
     "state": {
      "_model_module": "@jupyter-widgets/controls",
      "_model_module_version": "1.5.0",
      "_model_name": "DescriptionStyleModel",
      "_view_count": null,
      "_view_module": "@jupyter-widgets/base",
      "_view_module_version": "1.2.0",
      "_view_name": "StyleView",
      "description_width": ""
     }
    },
    "517c3c4bd1734a199292abca4b127839": {
     "model_module": "@jupyter-widgets/base",
     "model_module_version": "1.2.0",
     "model_name": "LayoutModel",
     "state": {
      "_model_module": "@jupyter-widgets/base",
      "_model_module_version": "1.2.0",
      "_model_name": "LayoutModel",
      "_view_count": null,
      "_view_module": "@jupyter-widgets/base",
      "_view_module_version": "1.2.0",
      "_view_name": "LayoutView",
      "align_content": null,
      "align_items": null,
      "align_self": null,
      "border": null,
      "bottom": null,
      "display": null,
      "flex": null,
      "flex_flow": null,
      "grid_area": null,
      "grid_auto_columns": null,
      "grid_auto_flow": null,
      "grid_auto_rows": null,
      "grid_column": null,
      "grid_gap": null,
      "grid_row": null,
      "grid_template_areas": null,
      "grid_template_columns": null,
      "grid_template_rows": null,
      "height": null,
      "justify_content": null,
      "justify_items": null,
      "left": null,
      "margin": null,
      "max_height": null,
      "max_width": null,
      "min_height": null,
      "min_width": null,
      "object_fit": null,
      "object_position": null,
      "order": null,
      "overflow": null,
      "overflow_x": null,
      "overflow_y": null,
      "padding": null,
      "right": null,
      "top": null,
      "visibility": null,
      "width": null
     }
    },
    "56fa00e26729470aa6fb6dd620d39439": {
     "model_module": "@jupyter-widgets/base",
     "model_module_version": "1.2.0",
     "model_name": "LayoutModel",
     "state": {
      "_model_module": "@jupyter-widgets/base",
      "_model_module_version": "1.2.0",
      "_model_name": "LayoutModel",
      "_view_count": null,
      "_view_module": "@jupyter-widgets/base",
      "_view_module_version": "1.2.0",
      "_view_name": "LayoutView",
      "align_content": null,
      "align_items": null,
      "align_self": null,
      "border": null,
      "bottom": null,
      "display": null,
      "flex": null,
      "flex_flow": null,
      "grid_area": null,
      "grid_auto_columns": null,
      "grid_auto_flow": null,
      "grid_auto_rows": null,
      "grid_column": null,
      "grid_gap": null,
      "grid_row": null,
      "grid_template_areas": null,
      "grid_template_columns": null,
      "grid_template_rows": null,
      "height": null,
      "justify_content": null,
      "justify_items": null,
      "left": null,
      "margin": null,
      "max_height": null,
      "max_width": null,
      "min_height": null,
      "min_width": null,
      "object_fit": null,
      "object_position": null,
      "order": null,
      "overflow": null,
      "overflow_x": null,
      "overflow_y": null,
      "padding": null,
      "right": null,
      "top": null,
      "visibility": null,
      "width": null
     }
    },
    "58d7b20657954b44a55c679bbd290621": {
     "model_module": "@jupyter-widgets/controls",
     "model_module_version": "1.5.0",
     "model_name": "HBoxModel",
     "state": {
      "_dom_classes": [],
      "_model_module": "@jupyter-widgets/controls",
      "_model_module_version": "1.5.0",
      "_model_name": "HBoxModel",
      "_view_count": null,
      "_view_module": "@jupyter-widgets/controls",
      "_view_module_version": "1.5.0",
      "_view_name": "HBoxView",
      "box_style": "",
      "children": [
       "IPY_MODEL_901320252d0540f8a404254d23ffae35",
       "IPY_MODEL_292648bd7cb14399a005574b2de6a917",
       "IPY_MODEL_6da927e8916c48b28bc103bae9565d98"
      ],
      "layout": "IPY_MODEL_1512f29e2cf0480ca609650c22c89017"
     }
    },
    "59ff505b235c4c2f9cb5c8d3aa78dca3": {
     "model_module": "@jupyter-widgets/controls",
     "model_module_version": "1.5.0",
     "model_name": "HBoxModel",
     "state": {
      "_dom_classes": [],
      "_model_module": "@jupyter-widgets/controls",
      "_model_module_version": "1.5.0",
      "_model_name": "HBoxModel",
      "_view_count": null,
      "_view_module": "@jupyter-widgets/controls",
      "_view_module_version": "1.5.0",
      "_view_name": "HBoxView",
      "box_style": "",
      "children": [
       "IPY_MODEL_daf1a62df7464fcc9721f717141b9afb",
       "IPY_MODEL_8ae99b17088a4140b18bff4078ffa3eb",
       "IPY_MODEL_3298a51b62f54d1ea5545e94c34e10cd"
      ],
      "layout": "IPY_MODEL_92f27ba462e24f6ea398a1be287dfb0d"
     }
    },
    "5acb63f82a954c8b8969d6e56b8d8a5b": {
     "model_module": "@jupyter-widgets/base",
     "model_module_version": "1.2.0",
     "model_name": "LayoutModel",
     "state": {
      "_model_module": "@jupyter-widgets/base",
      "_model_module_version": "1.2.0",
      "_model_name": "LayoutModel",
      "_view_count": null,
      "_view_module": "@jupyter-widgets/base",
      "_view_module_version": "1.2.0",
      "_view_name": "LayoutView",
      "align_content": null,
      "align_items": null,
      "align_self": null,
      "border": null,
      "bottom": null,
      "display": null,
      "flex": null,
      "flex_flow": null,
      "grid_area": null,
      "grid_auto_columns": null,
      "grid_auto_flow": null,
      "grid_auto_rows": null,
      "grid_column": null,
      "grid_gap": null,
      "grid_row": null,
      "grid_template_areas": null,
      "grid_template_columns": null,
      "grid_template_rows": null,
      "height": null,
      "justify_content": null,
      "justify_items": null,
      "left": null,
      "margin": null,
      "max_height": null,
      "max_width": null,
      "min_height": null,
      "min_width": null,
      "object_fit": null,
      "object_position": null,
      "order": null,
      "overflow": null,
      "overflow_x": null,
      "overflow_y": null,
      "padding": null,
      "right": null,
      "top": null,
      "visibility": null,
      "width": null
     }
    },
    "5ff14393857e48559bafc230c91f006a": {
     "model_module": "@jupyter-widgets/base",
     "model_module_version": "1.2.0",
     "model_name": "LayoutModel",
     "state": {
      "_model_module": "@jupyter-widgets/base",
      "_model_module_version": "1.2.0",
      "_model_name": "LayoutModel",
      "_view_count": null,
      "_view_module": "@jupyter-widgets/base",
      "_view_module_version": "1.2.0",
      "_view_name": "LayoutView",
      "align_content": null,
      "align_items": null,
      "align_self": null,
      "border": null,
      "bottom": null,
      "display": null,
      "flex": null,
      "flex_flow": null,
      "grid_area": null,
      "grid_auto_columns": null,
      "grid_auto_flow": null,
      "grid_auto_rows": null,
      "grid_column": null,
      "grid_gap": null,
      "grid_row": null,
      "grid_template_areas": null,
      "grid_template_columns": null,
      "grid_template_rows": null,
      "height": null,
      "justify_content": null,
      "justify_items": null,
      "left": null,
      "margin": null,
      "max_height": null,
      "max_width": null,
      "min_height": null,
      "min_width": null,
      "object_fit": null,
      "object_position": null,
      "order": null,
      "overflow": null,
      "overflow_x": null,
      "overflow_y": null,
      "padding": null,
      "right": null,
      "top": null,
      "visibility": null,
      "width": null
     }
    },
    "67232f219c2a45718706d43104f6daf5": {
     "model_module": "@jupyter-widgets/controls",
     "model_module_version": "1.5.0",
     "model_name": "HTMLModel",
     "state": {
      "_dom_classes": [],
      "_model_module": "@jupyter-widgets/controls",
      "_model_module_version": "1.5.0",
      "_model_name": "HTMLModel",
      "_view_count": null,
      "_view_module": "@jupyter-widgets/controls",
      "_view_module_version": "1.5.0",
      "_view_name": "HTMLView",
      "description": "",
      "description_tooltip": null,
      "layout": "IPY_MODEL_ba82d61d2a9d4efb90004091c58f6fd8",
      "placeholder": "​",
      "style": "IPY_MODEL_86a0229f37b44d77adec63dc3c7a8e61",
      "value": "100%"
     }
    },
    "6da927e8916c48b28bc103bae9565d98": {
     "model_module": "@jupyter-widgets/controls",
     "model_module_version": "1.5.0",
     "model_name": "HTMLModel",
     "state": {
      "_dom_classes": [],
      "_model_module": "@jupyter-widgets/controls",
      "_model_module_version": "1.5.0",
      "_model_name": "HTMLModel",
      "_view_count": null,
      "_view_module": "@jupyter-widgets/controls",
      "_view_module_version": "1.5.0",
      "_view_name": "HTMLView",
      "description": "",
      "description_tooltip": null,
      "layout": "IPY_MODEL_4384f62d76984272b600a1bbc2d7ec0e",
      "placeholder": "​",
      "style": "IPY_MODEL_f03775335a694a78b630f1e700aa4d3e",
      "value": " 393M/393M [00:09&lt;00:00, 42.1MB/s]"
     }
    },
    "759329296a854d1e93b7ff71d46e2c3b": {
     "model_module": "@jupyter-widgets/controls",
     "model_module_version": "1.5.0",
     "model_name": "ProgressStyleModel",
     "state": {
      "_model_module": "@jupyter-widgets/controls",
      "_model_module_version": "1.5.0",
      "_model_name": "ProgressStyleModel",
      "_view_count": null,
      "_view_module": "@jupyter-widgets/base",
      "_view_module_version": "1.2.0",
      "_view_name": "StyleView",
      "bar_color": null,
      "description_width": ""
     }
    },
    "75c3063bd2684269a3e23ca3810e9bed": {
     "model_module": "@jupyter-widgets/controls",
     "model_module_version": "1.5.0",
     "model_name": "DescriptionStyleModel",
     "state": {
      "_model_module": "@jupyter-widgets/controls",
      "_model_module_version": "1.5.0",
      "_model_name": "DescriptionStyleModel",
      "_view_count": null,
      "_view_module": "@jupyter-widgets/base",
      "_view_module_version": "1.2.0",
      "_view_name": "StyleView",
      "description_width": ""
     }
    },
    "765a1fecbfbf42aea0951bb0e6f915b4": {
     "model_module": "@jupyter-widgets/controls",
     "model_module_version": "1.5.0",
     "model_name": "FloatProgressModel",
     "state": {
      "_dom_classes": [],
      "_model_module": "@jupyter-widgets/controls",
      "_model_module_version": "1.5.0",
      "_model_name": "FloatProgressModel",
      "_view_count": null,
      "_view_module": "@jupyter-widgets/controls",
      "_view_module_version": "1.5.0",
      "_view_name": "ProgressView",
      "bar_style": "success",
      "description": "",
      "description_tooltip": null,
      "layout": "IPY_MODEL_e7e151c939d04089ab86d364a48360de",
      "max": 2059,
      "min": 0,
      "orientation": "horizontal",
      "style": "IPY_MODEL_bd1e44865b0c4826875f1f1a533a29a4",
      "value": 2059
     }
    },
    "775def5085d74ba6957715475815149b": {
     "model_module": "@jupyter-widgets/base",
     "model_module_version": "1.2.0",
     "model_name": "LayoutModel",
     "state": {
      "_model_module": "@jupyter-widgets/base",
      "_model_module_version": "1.2.0",
      "_model_name": "LayoutModel",
      "_view_count": null,
      "_view_module": "@jupyter-widgets/base",
      "_view_module_version": "1.2.0",
      "_view_name": "LayoutView",
      "align_content": null,
      "align_items": null,
      "align_self": null,
      "border": null,
      "bottom": null,
      "display": null,
      "flex": null,
      "flex_flow": null,
      "grid_area": null,
      "grid_auto_columns": null,
      "grid_auto_flow": null,
      "grid_auto_rows": null,
      "grid_column": null,
      "grid_gap": null,
      "grid_row": null,
      "grid_template_areas": null,
      "grid_template_columns": null,
      "grid_template_rows": null,
      "height": null,
      "justify_content": null,
      "justify_items": null,
      "left": null,
      "margin": null,
      "max_height": null,
      "max_width": null,
      "min_height": null,
      "min_width": null,
      "object_fit": null,
      "object_position": null,
      "order": null,
      "overflow": null,
      "overflow_x": null,
      "overflow_y": null,
      "padding": null,
      "right": null,
      "top": null,
      "visibility": null,
      "width": null
     }
    },
    "813ca6065c1c4c67a5bf243afce85c41": {
     "model_module": "@jupyter-widgets/base",
     "model_module_version": "1.2.0",
     "model_name": "LayoutModel",
     "state": {
      "_model_module": "@jupyter-widgets/base",
      "_model_module_version": "1.2.0",
      "_model_name": "LayoutModel",
      "_view_count": null,
      "_view_module": "@jupyter-widgets/base",
      "_view_module_version": "1.2.0",
      "_view_name": "LayoutView",
      "align_content": null,
      "align_items": null,
      "align_self": null,
      "border": null,
      "bottom": null,
      "display": null,
      "flex": null,
      "flex_flow": null,
      "grid_area": null,
      "grid_auto_columns": null,
      "grid_auto_flow": null,
      "grid_auto_rows": null,
      "grid_column": null,
      "grid_gap": null,
      "grid_row": null,
      "grid_template_areas": null,
      "grid_template_columns": null,
      "grid_template_rows": null,
      "height": null,
      "justify_content": null,
      "justify_items": null,
      "left": null,
      "margin": null,
      "max_height": null,
      "max_width": null,
      "min_height": null,
      "min_width": null,
      "object_fit": null,
      "object_position": null,
      "order": null,
      "overflow": null,
      "overflow_x": null,
      "overflow_y": null,
      "padding": null,
      "right": null,
      "top": null,
      "visibility": null,
      "width": null
     }
    },
    "827604d6854b4564ae1f2ead042a5aa2": {
     "model_module": "@jupyter-widgets/controls",
     "model_module_version": "1.5.0",
     "model_name": "HBoxModel",
     "state": {
      "_dom_classes": [],
      "_model_module": "@jupyter-widgets/controls",
      "_model_module_version": "1.5.0",
      "_model_name": "HBoxModel",
      "_view_count": null,
      "_view_module": "@jupyter-widgets/controls",
      "_view_module_version": "1.5.0",
      "_view_name": "HBoxView",
      "box_style": "",
      "children": [
       "IPY_MODEL_ce27371c75ae4e3d9f0468e83fc695fb",
       "IPY_MODEL_9cd451cd462d48bfad7346296f094e02",
       "IPY_MODEL_4a9d0e71d2b54672ad9ed0a6d771c18f"
      ],
      "layout": "IPY_MODEL_ee2030b716444cfbba435f5db8e23484"
     }
    },
    "827d3317a7e8405a950f5175688a5bbd": {
     "model_module": "@jupyter-widgets/controls",
     "model_module_version": "1.5.0",
     "model_name": "HTMLModel",
     "state": {
      "_dom_classes": [],
      "_model_module": "@jupyter-widgets/controls",
      "_model_module_version": "1.5.0",
      "_model_name": "HTMLModel",
      "_view_count": null,
      "_view_module": "@jupyter-widgets/controls",
      "_view_module_version": "1.5.0",
      "_view_name": "HTMLView",
      "description": "",
      "description_tooltip": null,
      "layout": "IPY_MODEL_517c3c4bd1734a199292abca4b127839",
      "placeholder": "​",
      "style": "IPY_MODEL_ca0350e41abf442986304635902e67c4",
      "value": " 2/2 [00:00&lt;00:00, 32.09it/s]"
     }
    },
    "82a48d53edf444f0911e4122d2576ac0": {
     "model_module": "@jupyter-widgets/controls",
     "model_module_version": "1.5.0",
     "model_name": "HTMLModel",
     "state": {
      "_dom_classes": [],
      "_model_module": "@jupyter-widgets/controls",
      "_model_module_version": "1.5.0",
      "_model_name": "HTMLModel",
      "_view_count": null,
      "_view_module": "@jupyter-widgets/controls",
      "_view_module_version": "1.5.0",
      "_view_name": "HTMLView",
      "description": "",
      "description_tooltip": null,
      "layout": "IPY_MODEL_c3f96c2752624a7180641a29d4ce2d8c",
      "placeholder": "​",
      "style": "IPY_MODEL_bf6fc07689e5442b9eb63c285f69a120",
      "value": " 219/219 [00:18&lt;00:00, 12.68ba/s]"
     }
    },
    "82f656781b464b759d3655b16340a232": {
     "model_module": "@jupyter-widgets/controls",
     "model_module_version": "1.5.0",
     "model_name": "ProgressStyleModel",
     "state": {
      "_model_module": "@jupyter-widgets/controls",
      "_model_module_version": "1.5.0",
      "_model_name": "ProgressStyleModel",
      "_view_count": null,
      "_view_module": "@jupyter-widgets/base",
      "_view_module_version": "1.2.0",
      "_view_name": "StyleView",
      "bar_color": null,
      "description_width": ""
     }
    },
    "86a0229f37b44d77adec63dc3c7a8e61": {
     "model_module": "@jupyter-widgets/controls",
     "model_module_version": "1.5.0",
     "model_name": "DescriptionStyleModel",
     "state": {
      "_model_module": "@jupyter-widgets/controls",
      "_model_module_version": "1.5.0",
      "_model_name": "DescriptionStyleModel",
      "_view_count": null,
      "_view_module": "@jupyter-widgets/base",
      "_view_module_version": "1.2.0",
      "_view_name": "StyleView",
      "description_width": ""
     }
    },
    "86b2e1d2a51e42308156c5552454f01b": {
     "model_module": "@jupyter-widgets/controls",
     "model_module_version": "1.5.0",
     "model_name": "HTMLModel",
     "state": {
      "_dom_classes": [],
      "_model_module": "@jupyter-widgets/controls",
      "_model_module_version": "1.5.0",
      "_model_name": "HTMLModel",
      "_view_count": null,
      "_view_module": "@jupyter-widgets/controls",
      "_view_module_version": "1.5.0",
      "_view_name": "HTMLView",
      "description": "",
      "description_tooltip": null,
      "layout": "IPY_MODEL_f221403c50ef47d4951b54169b74e957",
      "placeholder": "​",
      "style": "IPY_MODEL_9969f8b9d7a048919bb0789789155cd3",
      "value": " 2/2 [00:00&lt;00:00, 71.06it/s]"
     }
    },
    "887bb6ef9a4e46a29985eb9eaf88f5b0": {
     "model_module": "@jupyter-widgets/controls",
     "model_module_version": "1.5.0",
     "model_name": "DescriptionStyleModel",
     "state": {
      "_model_module": "@jupyter-widgets/controls",
      "_model_module_version": "1.5.0",
      "_model_name": "DescriptionStyleModel",
      "_view_count": null,
      "_view_module": "@jupyter-widgets/base",
      "_view_module_version": "1.2.0",
      "_view_name": "StyleView",
      "description_width": ""
     }
    },
    "88d0a9cc27a04fd88afd5aafc872e306": {
     "model_module": "@jupyter-widgets/base",
     "model_module_version": "1.2.0",
     "model_name": "LayoutModel",
     "state": {
      "_model_module": "@jupyter-widgets/base",
      "_model_module_version": "1.2.0",
      "_model_name": "LayoutModel",
      "_view_count": null,
      "_view_module": "@jupyter-widgets/base",
      "_view_module_version": "1.2.0",
      "_view_name": "LayoutView",
      "align_content": null,
      "align_items": null,
      "align_self": null,
      "border": null,
      "bottom": null,
      "display": null,
      "flex": null,
      "flex_flow": null,
      "grid_area": null,
      "grid_auto_columns": null,
      "grid_auto_flow": null,
      "grid_auto_rows": null,
      "grid_column": null,
      "grid_gap": null,
      "grid_row": null,
      "grid_template_areas": null,
      "grid_template_columns": null,
      "grid_template_rows": null,
      "height": null,
      "justify_content": null,
      "justify_items": null,
      "left": null,
      "margin": null,
      "max_height": null,
      "max_width": null,
      "min_height": null,
      "min_width": null,
      "object_fit": null,
      "object_position": null,
      "order": null,
      "overflow": null,
      "overflow_x": null,
      "overflow_y": null,
      "padding": null,
      "right": null,
      "top": null,
      "visibility": null,
      "width": null
     }
    },
    "8ae99b17088a4140b18bff4078ffa3eb": {
     "model_module": "@jupyter-widgets/controls",
     "model_module_version": "1.5.0",
     "model_name": "FloatProgressModel",
     "state": {
      "_dom_classes": [],
      "_model_module": "@jupyter-widgets/controls",
      "_model_module_version": "1.5.0",
      "_model_name": "FloatProgressModel",
      "_view_count": null,
      "_view_module": "@jupyter-widgets/controls",
      "_view_module_version": "1.5.0",
      "_view_name": "ProgressView",
      "bar_style": "success",
      "description": "",
      "description_tooltip": null,
      "layout": "IPY_MODEL_b3afad30ab2b46a898d4526fa3e5d36e",
      "max": 109540,
      "min": 0,
      "orientation": "horizontal",
      "style": "IPY_MODEL_ec032b2ede3b4d6db5269d9495a769ef",
      "value": 109540
     }
    },
    "8b21bf0dc15f4553a653debd6de2c67b": {
     "model_module": "@jupyter-widgets/base",
     "model_module_version": "1.2.0",
     "model_name": "LayoutModel",
     "state": {
      "_model_module": "@jupyter-widgets/base",
      "_model_module_version": "1.2.0",
      "_model_name": "LayoutModel",
      "_view_count": null,
      "_view_module": "@jupyter-widgets/base",
      "_view_module_version": "1.2.0",
      "_view_name": "LayoutView",
      "align_content": null,
      "align_items": null,
      "align_self": null,
      "border": null,
      "bottom": null,
      "display": null,
      "flex": null,
      "flex_flow": null,
      "grid_area": null,
      "grid_auto_columns": null,
      "grid_auto_flow": null,
      "grid_auto_rows": null,
      "grid_column": null,
      "grid_gap": null,
      "grid_row": null,
      "grid_template_areas": null,
      "grid_template_columns": null,
      "grid_template_rows": null,
      "height": null,
      "justify_content": null,
      "justify_items": null,
      "left": null,
      "margin": null,
      "max_height": null,
      "max_width": null,
      "min_height": null,
      "min_width": null,
      "object_fit": null,
      "object_position": null,
      "order": null,
      "overflow": null,
      "overflow_x": null,
      "overflow_y": null,
      "padding": null,
      "right": null,
      "top": null,
      "visibility": null,
      "width": null
     }
    },
    "8b416aa7356344e6be9846b390316421": {
     "model_module": "@jupyter-widgets/controls",
     "model_module_version": "1.5.0",
     "model_name": "DescriptionStyleModel",
     "state": {
      "_model_module": "@jupyter-widgets/controls",
      "_model_module_version": "1.5.0",
      "_model_name": "DescriptionStyleModel",
      "_view_count": null,
      "_view_module": "@jupyter-widgets/base",
      "_view_module_version": "1.2.0",
      "_view_name": "StyleView",
      "description_width": ""
     }
    },
    "8c2a989e923a4cb78f73b3e324d8dfab": {
     "model_module": "@jupyter-widgets/controls",
     "model_module_version": "1.5.0",
     "model_name": "HTMLModel",
     "state": {
      "_dom_classes": [],
      "_model_module": "@jupyter-widgets/controls",
      "_model_module_version": "1.5.0",
      "_model_name": "HTMLModel",
      "_view_count": null,
      "_view_module": "@jupyter-widgets/controls",
      "_view_module_version": "1.5.0",
      "_view_name": "HTMLView",
      "description": "",
      "description_tooltip": null,
      "layout": "IPY_MODEL_d0768fb3bad7457ba8f12496c869bcbd",
      "placeholder": "​",
      "style": "IPY_MODEL_233ac6c9206e44498c3d50e125ef53a6",
      "value": "Downloading: "
     }
    },
    "8e056d0d2fb94db3ad2f99eb384455d6": {
     "model_module": "@jupyter-widgets/base",
     "model_module_version": "1.2.0",
     "model_name": "LayoutModel",
     "state": {
      "_model_module": "@jupyter-widgets/base",
      "_model_module_version": "1.2.0",
      "_model_name": "LayoutModel",
      "_view_count": null,
      "_view_module": "@jupyter-widgets/base",
      "_view_module_version": "1.2.0",
      "_view_name": "LayoutView",
      "align_content": null,
      "align_items": null,
      "align_self": null,
      "border": null,
      "bottom": null,
      "display": null,
      "flex": null,
      "flex_flow": null,
      "grid_area": null,
      "grid_auto_columns": null,
      "grid_auto_flow": null,
      "grid_auto_rows": null,
      "grid_column": null,
      "grid_gap": null,
      "grid_row": null,
      "grid_template_areas": null,
      "grid_template_columns": null,
      "grid_template_rows": null,
      "height": null,
      "justify_content": null,
      "justify_items": null,
      "left": null,
      "margin": null,
      "max_height": null,
      "max_width": null,
      "min_height": null,
      "min_width": null,
      "object_fit": null,
      "object_position": null,
      "order": null,
      "overflow": null,
      "overflow_x": null,
      "overflow_y": null,
      "padding": null,
      "right": null,
      "top": null,
      "visibility": null,
      "width": null
     }
    },
    "901320252d0540f8a404254d23ffae35": {
     "model_module": "@jupyter-widgets/controls",
     "model_module_version": "1.5.0",
     "model_name": "HTMLModel",
     "state": {
      "_dom_classes": [],
      "_model_module": "@jupyter-widgets/controls",
      "_model_module_version": "1.5.0",
      "_model_name": "HTMLModel",
      "_view_count": null,
      "_view_module": "@jupyter-widgets/controls",
      "_view_module_version": "1.5.0",
      "_view_name": "HTMLView",
      "description": "",
      "description_tooltip": null,
      "layout": "IPY_MODEL_a8df7982b53b4f31a85ae5beb1f48e6a",
      "placeholder": "​",
      "style": "IPY_MODEL_a70ae78cf00c464eb75cf6b64aeab0b3",
      "value": "Downloading: 100%"
     }
    },
    "90d104f68da8422e9640c4c98165149a": {
     "model_module": "@jupyter-widgets/base",
     "model_module_version": "1.2.0",
     "model_name": "LayoutModel",
     "state": {
      "_model_module": "@jupyter-widgets/base",
      "_model_module_version": "1.2.0",
      "_model_name": "LayoutModel",
      "_view_count": null,
      "_view_module": "@jupyter-widgets/base",
      "_view_module_version": "1.2.0",
      "_view_name": "LayoutView",
      "align_content": null,
      "align_items": null,
      "align_self": null,
      "border": null,
      "bottom": null,
      "display": null,
      "flex": null,
      "flex_flow": null,
      "grid_area": null,
      "grid_auto_columns": null,
      "grid_auto_flow": null,
      "grid_auto_rows": null,
      "grid_column": null,
      "grid_gap": null,
      "grid_row": null,
      "grid_template_areas": null,
      "grid_template_columns": null,
      "grid_template_rows": null,
      "height": null,
      "justify_content": null,
      "justify_items": null,
      "left": null,
      "margin": null,
      "max_height": null,
      "max_width": null,
      "min_height": null,
      "min_width": null,
      "object_fit": null,
      "object_position": null,
      "order": null,
      "overflow": null,
      "overflow_x": null,
      "overflow_y": null,
      "padding": null,
      "right": null,
      "top": null,
      "visibility": null,
      "width": null
     }
    },
    "913a64b834cc4ae0ae571a95c6db5aaa": {
     "model_module": "@jupyter-widgets/controls",
     "model_module_version": "1.5.0",
     "model_name": "FloatProgressModel",
     "state": {
      "_dom_classes": [],
      "_model_module": "@jupyter-widgets/controls",
      "_model_module_version": "1.5.0",
      "_model_name": "FloatProgressModel",
      "_view_count": null,
      "_view_module": "@jupyter-widgets/controls",
      "_view_module_version": "1.5.0",
      "_view_name": "ProgressView",
      "bar_style": "success",
      "description": "",
      "description_tooltip": null,
      "layout": "IPY_MODEL_8e056d0d2fb94db3ad2f99eb384455d6",
      "max": 2,
      "min": 0,
      "orientation": "horizontal",
      "style": "IPY_MODEL_0f9b84071a404127b344dd1365046155",
      "value": 2
     }
    },
    "92c55393ba724d1d99f8e1b1fb710dc9": {
     "model_module": "@jupyter-widgets/controls",
     "model_module_version": "1.5.0",
     "model_name": "HTMLModel",
     "state": {
      "_dom_classes": [],
      "_model_module": "@jupyter-widgets/controls",
      "_model_module_version": "1.5.0",
      "_model_name": "HTMLModel",
      "_view_count": null,
      "_view_module": "@jupyter-widgets/controls",
      "_view_module_version": "1.5.0",
      "_view_name": "HTMLView",
      "description": "",
      "description_tooltip": null,
      "layout": "IPY_MODEL_88d0a9cc27a04fd88afd5aafc872e306",
      "placeholder": "​",
      "style": "IPY_MODEL_ef69d502d140433db3deb1604dabd49a",
      "value": " 511/511 [00:43&lt;00:00, 11.12ba/s]"
     }
    },
    "92f27ba462e24f6ea398a1be287dfb0d": {
     "model_module": "@jupyter-widgets/base",
     "model_module_version": "1.2.0",
     "model_name": "LayoutModel",
     "state": {
      "_model_module": "@jupyter-widgets/base",
      "_model_module_version": "1.2.0",
      "_model_name": "LayoutModel",
      "_view_count": null,
      "_view_module": "@jupyter-widgets/base",
      "_view_module_version": "1.2.0",
      "_view_name": "LayoutView",
      "align_content": null,
      "align_items": null,
      "align_self": null,
      "border": null,
      "bottom": null,
      "display": null,
      "flex": null,
      "flex_flow": null,
      "grid_area": null,
      "grid_auto_columns": null,
      "grid_auto_flow": null,
      "grid_auto_rows": null,
      "grid_column": null,
      "grid_gap": null,
      "grid_row": null,
      "grid_template_areas": null,
      "grid_template_columns": null,
      "grid_template_rows": null,
      "height": null,
      "justify_content": null,
      "justify_items": null,
      "left": null,
      "margin": null,
      "max_height": null,
      "max_width": null,
      "min_height": null,
      "min_width": null,
      "object_fit": null,
      "object_position": null,
      "order": null,
      "overflow": null,
      "overflow_x": null,
      "overflow_y": null,
      "padding": null,
      "right": null,
      "top": null,
      "visibility": null,
      "width": null
     }
    },
    "944ff5d5fbf84186baedeffd29a76d33": {
     "model_module": "@jupyter-widgets/controls",
     "model_module_version": "1.5.0",
     "model_name": "HTMLModel",
     "state": {
      "_dom_classes": [],
      "_model_module": "@jupyter-widgets/controls",
      "_model_module_version": "1.5.0",
      "_model_name": "HTMLModel",
      "_view_count": null,
      "_view_module": "@jupyter-widgets/controls",
      "_view_module_version": "1.5.0",
      "_view_name": "HTMLView",
      "description": "",
      "description_tooltip": null,
      "layout": "IPY_MODEL_0b863bba773649f29b656aa913251286",
      "placeholder": "​",
      "style": "IPY_MODEL_a69655e1c2cf49a9b363637cdd37fa0a",
      "value": " 2/2 [00:00&lt;00:00, 55.17it/s]"
     }
    },
    "95307834740342afbd2e2f92d9d35135": {
     "model_module": "@jupyter-widgets/controls",
     "model_module_version": "1.5.0",
     "model_name": "DescriptionStyleModel",
     "state": {
      "_model_module": "@jupyter-widgets/controls",
      "_model_module_version": "1.5.0",
      "_model_name": "DescriptionStyleModel",
      "_view_count": null,
      "_view_module": "@jupyter-widgets/base",
      "_view_module_version": "1.2.0",
      "_view_name": "StyleView",
      "description_width": ""
     }
    },
    "970bf792487e425db927afac8070f128": {
     "model_module": "@jupyter-widgets/base",
     "model_module_version": "1.2.0",
     "model_name": "LayoutModel",
     "state": {
      "_model_module": "@jupyter-widgets/base",
      "_model_module_version": "1.2.0",
      "_model_name": "LayoutModel",
      "_view_count": null,
      "_view_module": "@jupyter-widgets/base",
      "_view_module_version": "1.2.0",
      "_view_name": "LayoutView",
      "align_content": null,
      "align_items": null,
      "align_self": null,
      "border": null,
      "bottom": null,
      "display": null,
      "flex": null,
      "flex_flow": null,
      "grid_area": null,
      "grid_auto_columns": null,
      "grid_auto_flow": null,
      "grid_auto_rows": null,
      "grid_column": null,
      "grid_gap": null,
      "grid_row": null,
      "grid_template_areas": null,
      "grid_template_columns": null,
      "grid_template_rows": null,
      "height": null,
      "justify_content": null,
      "justify_items": null,
      "left": null,
      "margin": null,
      "max_height": null,
      "max_width": null,
      "min_height": null,
      "min_width": null,
      "object_fit": null,
      "object_position": null,
      "order": null,
      "overflow": null,
      "overflow_x": null,
      "overflow_y": null,
      "padding": null,
      "right": null,
      "top": null,
      "visibility": null,
      "width": null
     }
    },
    "9969f8b9d7a048919bb0789789155cd3": {
     "model_module": "@jupyter-widgets/controls",
     "model_module_version": "1.5.0",
     "model_name": "DescriptionStyleModel",
     "state": {
      "_model_module": "@jupyter-widgets/controls",
      "_model_module_version": "1.5.0",
      "_model_name": "DescriptionStyleModel",
      "_view_count": null,
      "_view_module": "@jupyter-widgets/base",
      "_view_module_version": "1.2.0",
      "_view_name": "StyleView",
      "description_width": ""
     }
    },
    "9c4ef5f282c84ae8bdc0a9eb50556437": {
     "model_module": "@jupyter-widgets/controls",
     "model_module_version": "1.5.0",
     "model_name": "HTMLModel",
     "state": {
      "_dom_classes": [],
      "_model_module": "@jupyter-widgets/controls",
      "_model_module_version": "1.5.0",
      "_model_name": "HTMLModel",
      "_view_count": null,
      "_view_module": "@jupyter-widgets/controls",
      "_view_module_version": "1.5.0",
      "_view_name": "HTMLView",
      "description": "",
      "description_tooltip": null,
      "layout": "IPY_MODEL_813ca6065c1c4c67a5bf243afce85c41",
      "placeholder": "​",
      "style": "IPY_MODEL_a50f3e5ae8254abead297ca8807b21ae",
      "value": " 624/624 [00:00&lt;00:00, 18.2kB/s]"
     }
    },
    "9c6e8711c7214bbb88ff5f7291755fc8": {
     "model_module": "@jupyter-widgets/controls",
     "model_module_version": "1.5.0",
     "model_name": "HBoxModel",
     "state": {
      "_dom_classes": [],
      "_model_module": "@jupyter-widgets/controls",
      "_model_module_version": "1.5.0",
      "_model_name": "HBoxModel",
      "_view_count": null,
      "_view_module": "@jupyter-widgets/controls",
      "_view_module_version": "1.5.0",
      "_view_name": "HBoxView",
      "box_style": "",
      "children": [
       "IPY_MODEL_67232f219c2a45718706d43104f6daf5",
       "IPY_MODEL_913a64b834cc4ae0ae571a95c6db5aaa",
       "IPY_MODEL_827d3317a7e8405a950f5175688a5bbd"
      ],
      "layout": "IPY_MODEL_ebb8d74ecdd84bdf9ee38ce0103f18fa"
     }
    },
    "9cd451cd462d48bfad7346296f094e02": {
     "model_module": "@jupyter-widgets/controls",
     "model_module_version": "1.5.0",
     "model_name": "FloatProgressModel",
     "state": {
      "_dom_classes": [],
      "_model_module": "@jupyter-widgets/controls",
      "_model_module_version": "1.5.0",
      "_model_name": "FloatProgressModel",
      "_view_count": null,
      "_view_module": "@jupyter-widgets/controls",
      "_view_module_version": "1.5.0",
      "_view_name": "ProgressView",
      "bar_style": "success",
      "description": "",
      "description_tooltip": null,
      "layout": "IPY_MODEL_b8d470f0576d405b9bb9e5b8ed780f5e",
      "max": 29,
      "min": 0,
      "orientation": "horizontal",
      "style": "IPY_MODEL_1103c4c13d044d42ba5dabbdbc62d904",
      "value": 29
     }
    },
    "9cea07c2d7bc46248eae3606a9ebad3a": {
     "model_module": "@jupyter-widgets/controls",
     "model_module_version": "1.5.0",
     "model_name": "FloatProgressModel",
     "state": {
      "_dom_classes": [],
      "_model_module": "@jupyter-widgets/controls",
      "_model_module_version": "1.5.0",
      "_model_name": "FloatProgressModel",
      "_view_count": null,
      "_view_module": "@jupyter-widgets/controls",
      "_view_module_version": "1.5.0",
      "_view_name": "ProgressView",
      "bar_style": "success",
      "description": "",
      "description_tooltip": null,
      "layout": "IPY_MODEL_0e855a5afa00477293e388462bca30b6",
      "max": 511,
      "min": 0,
      "orientation": "horizontal",
      "style": "IPY_MODEL_f3bdf0bac92e46409de706128ac62533",
      "value": 511
     }
    },
    "9dac458c5dbd4af7a93136e15edc7e86": {
     "model_module": "@jupyter-widgets/controls",
     "model_module_version": "1.5.0",
     "model_name": "DescriptionStyleModel",
     "state": {
      "_model_module": "@jupyter-widgets/controls",
      "_model_module_version": "1.5.0",
      "_model_name": "DescriptionStyleModel",
      "_view_count": null,
      "_view_module": "@jupyter-widgets/base",
      "_view_module_version": "1.2.0",
      "_view_name": "StyleView",
      "description_width": ""
     }
    },
    "9f6a55327e2246069e694fe52ecf64d5": {
     "model_module": "@jupyter-widgets/base",
     "model_module_version": "1.2.0",
     "model_name": "LayoutModel",
     "state": {
      "_model_module": "@jupyter-widgets/base",
      "_model_module_version": "1.2.0",
      "_model_name": "LayoutModel",
      "_view_count": null,
      "_view_module": "@jupyter-widgets/base",
      "_view_module_version": "1.2.0",
      "_view_name": "LayoutView",
      "align_content": null,
      "align_items": null,
      "align_self": null,
      "border": null,
      "bottom": null,
      "display": null,
      "flex": null,
      "flex_flow": null,
      "grid_area": null,
      "grid_auto_columns": null,
      "grid_auto_flow": null,
      "grid_auto_rows": null,
      "grid_column": null,
      "grid_gap": null,
      "grid_row": null,
      "grid_template_areas": null,
      "grid_template_columns": null,
      "grid_template_rows": null,
      "height": null,
      "justify_content": null,
      "justify_items": null,
      "left": null,
      "margin": null,
      "max_height": null,
      "max_width": null,
      "min_height": null,
      "min_width": null,
      "object_fit": null,
      "object_position": null,
      "order": null,
      "overflow": null,
      "overflow_x": null,
      "overflow_y": null,
      "padding": null,
      "right": null,
      "top": null,
      "visibility": null,
      "width": null
     }
    },
    "a4af9726992e4062b376d16a7ee82d06": {
     "model_module": "@jupyter-widgets/controls",
     "model_module_version": "1.5.0",
     "model_name": "HTMLModel",
     "state": {
      "_dom_classes": [],
      "_model_module": "@jupyter-widgets/controls",
      "_model_module_version": "1.5.0",
      "_model_name": "HTMLModel",
      "_view_count": null,
      "_view_module": "@jupyter-widgets/controls",
      "_view_module_version": "1.5.0",
      "_view_name": "HTMLView",
      "description": "",
      "description_tooltip": null,
      "layout": "IPY_MODEL_385fc34c21064029b92fc33e252e6277",
      "placeholder": "​",
      "style": "IPY_MODEL_95307834740342afbd2e2f92d9d35135",
      "value": "100%"
     }
    },
    "a50f3e5ae8254abead297ca8807b21ae": {
     "model_module": "@jupyter-widgets/controls",
     "model_module_version": "1.5.0",
     "model_name": "DescriptionStyleModel",
     "state": {
      "_model_module": "@jupyter-widgets/controls",
      "_model_module_version": "1.5.0",
      "_model_name": "DescriptionStyleModel",
      "_view_count": null,
      "_view_module": "@jupyter-widgets/base",
      "_view_module_version": "1.2.0",
      "_view_name": "StyleView",
      "description_width": ""
     }
    },
    "a519bf7694f747d98bbb9dc690df8be0": {
     "model_module": "@jupyter-widgets/base",
     "model_module_version": "1.2.0",
     "model_name": "LayoutModel",
     "state": {
      "_model_module": "@jupyter-widgets/base",
      "_model_module_version": "1.2.0",
      "_model_name": "LayoutModel",
      "_view_count": null,
      "_view_module": "@jupyter-widgets/base",
      "_view_module_version": "1.2.0",
      "_view_name": "LayoutView",
      "align_content": null,
      "align_items": null,
      "align_self": null,
      "border": null,
      "bottom": null,
      "display": null,
      "flex": null,
      "flex_flow": null,
      "grid_area": null,
      "grid_auto_columns": null,
      "grid_auto_flow": null,
      "grid_auto_rows": null,
      "grid_column": null,
      "grid_gap": null,
      "grid_row": null,
      "grid_template_areas": null,
      "grid_template_columns": null,
      "grid_template_rows": null,
      "height": null,
      "justify_content": null,
      "justify_items": null,
      "left": null,
      "margin": null,
      "max_height": null,
      "max_width": null,
      "min_height": null,
      "min_width": null,
      "object_fit": null,
      "object_position": null,
      "order": null,
      "overflow": null,
      "overflow_x": null,
      "overflow_y": null,
      "padding": null,
      "right": null,
      "top": null,
      "visibility": null,
      "width": null
     }
    },
    "a6838fd0ee444732a94b4bcdc2dae52a": {
     "model_module": "@jupyter-widgets/base",
     "model_module_version": "1.2.0",
     "model_name": "LayoutModel",
     "state": {
      "_model_module": "@jupyter-widgets/base",
      "_model_module_version": "1.2.0",
      "_model_name": "LayoutModel",
      "_view_count": null,
      "_view_module": "@jupyter-widgets/base",
      "_view_module_version": "1.2.0",
      "_view_name": "LayoutView",
      "align_content": null,
      "align_items": null,
      "align_self": null,
      "border": null,
      "bottom": null,
      "display": null,
      "flex": null,
      "flex_flow": null,
      "grid_area": null,
      "grid_auto_columns": null,
      "grid_auto_flow": null,
      "grid_auto_rows": null,
      "grid_column": null,
      "grid_gap": null,
      "grid_row": null,
      "grid_template_areas": null,
      "grid_template_columns": null,
      "grid_template_rows": null,
      "height": null,
      "justify_content": null,
      "justify_items": null,
      "left": null,
      "margin": null,
      "max_height": null,
      "max_width": null,
      "min_height": null,
      "min_width": null,
      "object_fit": null,
      "object_position": null,
      "order": null,
      "overflow": null,
      "overflow_x": null,
      "overflow_y": null,
      "padding": null,
      "right": null,
      "top": null,
      "visibility": null,
      "width": null
     }
    },
    "a69655e1c2cf49a9b363637cdd37fa0a": {
     "model_module": "@jupyter-widgets/controls",
     "model_module_version": "1.5.0",
     "model_name": "DescriptionStyleModel",
     "state": {
      "_model_module": "@jupyter-widgets/controls",
      "_model_module_version": "1.5.0",
      "_model_name": "DescriptionStyleModel",
      "_view_count": null,
      "_view_module": "@jupyter-widgets/base",
      "_view_module_version": "1.2.0",
      "_view_name": "StyleView",
      "description_width": ""
     }
    },
    "a70ae78cf00c464eb75cf6b64aeab0b3": {
     "model_module": "@jupyter-widgets/controls",
     "model_module_version": "1.5.0",
     "model_name": "DescriptionStyleModel",
     "state": {
      "_model_module": "@jupyter-widgets/controls",
      "_model_module_version": "1.5.0",
      "_model_name": "DescriptionStyleModel",
      "_view_count": null,
      "_view_module": "@jupyter-widgets/base",
      "_view_module_version": "1.2.0",
      "_view_name": "StyleView",
      "description_width": ""
     }
    },
    "a76c68b3a52d4652ba7005f89bdd70d0": {
     "model_module": "@jupyter-widgets/controls",
     "model_module_version": "1.5.0",
     "model_name": "HBoxModel",
     "state": {
      "_dom_classes": [],
      "_model_module": "@jupyter-widgets/controls",
      "_model_module_version": "1.5.0",
      "_model_name": "HBoxModel",
      "_view_count": null,
      "_view_module": "@jupyter-widgets/controls",
      "_view_module_version": "1.5.0",
      "_view_name": "HBoxView",
      "box_style": "",
      "children": [
       "IPY_MODEL_b6c4452dfe8d4690a06460932fc27dc0",
       "IPY_MODEL_bb75d8e331cc45c3b47a01ba055fff77",
       "IPY_MODEL_86b2e1d2a51e42308156c5552454f01b"
      ],
      "layout": "IPY_MODEL_c68abbaa2cc0419eb88efdb1218d2df3"
     }
    },
    "a8df7982b53b4f31a85ae5beb1f48e6a": {
     "model_module": "@jupyter-widgets/base",
     "model_module_version": "1.2.0",
     "model_name": "LayoutModel",
     "state": {
      "_model_module": "@jupyter-widgets/base",
      "_model_module_version": "1.2.0",
      "_model_name": "LayoutModel",
      "_view_count": null,
      "_view_module": "@jupyter-widgets/base",
      "_view_module_version": "1.2.0",
      "_view_name": "LayoutView",
      "align_content": null,
      "align_items": null,
      "align_self": null,
      "border": null,
      "bottom": null,
      "display": null,
      "flex": null,
      "flex_flow": null,
      "grid_area": null,
      "grid_auto_columns": null,
      "grid_auto_flow": null,
      "grid_auto_rows": null,
      "grid_column": null,
      "grid_gap": null,
      "grid_row": null,
      "grid_template_areas": null,
      "grid_template_columns": null,
      "grid_template_rows": null,
      "height": null,
      "justify_content": null,
      "justify_items": null,
      "left": null,
      "margin": null,
      "max_height": null,
      "max_width": null,
      "min_height": null,
      "min_width": null,
      "object_fit": null,
      "object_position": null,
      "order": null,
      "overflow": null,
      "overflow_x": null,
      "overflow_y": null,
      "padding": null,
      "right": null,
      "top": null,
      "visibility": null,
      "width": null
     }
    },
    "a933c1a4a37b4c679f6c5d869a206ff4": {
     "model_module": "@jupyter-widgets/base",
     "model_module_version": "1.2.0",
     "model_name": "LayoutModel",
     "state": {
      "_model_module": "@jupyter-widgets/base",
      "_model_module_version": "1.2.0",
      "_model_name": "LayoutModel",
      "_view_count": null,
      "_view_module": "@jupyter-widgets/base",
      "_view_module_version": "1.2.0",
      "_view_name": "LayoutView",
      "align_content": null,
      "align_items": null,
      "align_self": null,
      "border": null,
      "bottom": null,
      "display": null,
      "flex": null,
      "flex_flow": null,
      "grid_area": null,
      "grid_auto_columns": null,
      "grid_auto_flow": null,
      "grid_auto_rows": null,
      "grid_column": null,
      "grid_gap": null,
      "grid_row": null,
      "grid_template_areas": null,
      "grid_template_columns": null,
      "grid_template_rows": null,
      "height": null,
      "justify_content": null,
      "justify_items": null,
      "left": null,
      "margin": null,
      "max_height": null,
      "max_width": null,
      "min_height": null,
      "min_width": null,
      "object_fit": null,
      "object_position": null,
      "order": null,
      "overflow": null,
      "overflow_x": null,
      "overflow_y": null,
      "padding": null,
      "right": null,
      "top": null,
      "visibility": null,
      "width": null
     }
    },
    "adf91316e76f4afe8857a24c01068a53": {
     "model_module": "@jupyter-widgets/base",
     "model_module_version": "1.2.0",
     "model_name": "LayoutModel",
     "state": {
      "_model_module": "@jupyter-widgets/base",
      "_model_module_version": "1.2.0",
      "_model_name": "LayoutModel",
      "_view_count": null,
      "_view_module": "@jupyter-widgets/base",
      "_view_module_version": "1.2.0",
      "_view_name": "LayoutView",
      "align_content": null,
      "align_items": null,
      "align_self": null,
      "border": null,
      "bottom": null,
      "display": null,
      "flex": null,
      "flex_flow": null,
      "grid_area": null,
      "grid_auto_columns": null,
      "grid_auto_flow": null,
      "grid_auto_rows": null,
      "grid_column": null,
      "grid_gap": null,
      "grid_row": null,
      "grid_template_areas": null,
      "grid_template_columns": null,
      "grid_template_rows": null,
      "height": null,
      "justify_content": null,
      "justify_items": null,
      "left": null,
      "margin": null,
      "max_height": null,
      "max_width": null,
      "min_height": null,
      "min_width": null,
      "object_fit": null,
      "object_position": null,
      "order": null,
      "overflow": null,
      "overflow_x": null,
      "overflow_y": null,
      "padding": null,
      "right": null,
      "top": null,
      "visibility": null,
      "width": null
     }
    },
    "af510048212945c580ef361cb0eff110": {
     "model_module": "@jupyter-widgets/controls",
     "model_module_version": "1.5.0",
     "model_name": "HTMLModel",
     "state": {
      "_dom_classes": [],
      "_model_module": "@jupyter-widgets/controls",
      "_model_module_version": "1.5.0",
      "_model_name": "HTMLModel",
      "_view_count": null,
      "_view_module": "@jupyter-widgets/controls",
      "_view_module_version": "1.5.0",
      "_view_name": "HTMLView",
      "description": "",
      "description_tooltip": null,
      "layout": "IPY_MODEL_adf91316e76f4afe8857a24c01068a53",
      "placeholder": "​",
      "style": "IPY_MODEL_8b416aa7356344e6be9846b390316421",
      "value": "Downloading: 100%"
     }
    },
    "b09ec28ec195463db78c3073a8605725": {
     "model_module": "@jupyter-widgets/controls",
     "model_module_version": "1.5.0",
     "model_name": "DescriptionStyleModel",
     "state": {
      "_model_module": "@jupyter-widgets/controls",
      "_model_module_version": "1.5.0",
      "_model_name": "DescriptionStyleModel",
      "_view_count": null,
      "_view_module": "@jupyter-widgets/base",
      "_view_module_version": "1.2.0",
      "_view_name": "StyleView",
      "description_width": ""
     }
    },
    "b3afad30ab2b46a898d4526fa3e5d36e": {
     "model_module": "@jupyter-widgets/base",
     "model_module_version": "1.2.0",
     "model_name": "LayoutModel",
     "state": {
      "_model_module": "@jupyter-widgets/base",
      "_model_module_version": "1.2.0",
      "_model_name": "LayoutModel",
      "_view_count": null,
      "_view_module": "@jupyter-widgets/base",
      "_view_module_version": "1.2.0",
      "_view_name": "LayoutView",
      "align_content": null,
      "align_items": null,
      "align_self": null,
      "border": null,
      "bottom": null,
      "display": null,
      "flex": null,
      "flex_flow": null,
      "grid_area": null,
      "grid_auto_columns": null,
      "grid_auto_flow": null,
      "grid_auto_rows": null,
      "grid_column": null,
      "grid_gap": null,
      "grid_row": null,
      "grid_template_areas": null,
      "grid_template_columns": null,
      "grid_template_rows": null,
      "height": null,
      "justify_content": null,
      "justify_items": null,
      "left": null,
      "margin": null,
      "max_height": null,
      "max_width": null,
      "min_height": null,
      "min_width": null,
      "object_fit": null,
      "object_position": null,
      "order": null,
      "overflow": null,
      "overflow_x": null,
      "overflow_y": null,
      "padding": null,
      "right": null,
      "top": null,
      "visibility": null,
      "width": null
     }
    },
    "b3b705a2e5334209b49399223cc2ab1b": {
     "model_module": "@jupyter-widgets/controls",
     "model_module_version": "1.5.0",
     "model_name": "HTMLModel",
     "state": {
      "_dom_classes": [],
      "_model_module": "@jupyter-widgets/controls",
      "_model_module_version": "1.5.0",
      "_model_name": "HTMLModel",
      "_view_count": null,
      "_view_module": "@jupyter-widgets/controls",
      "_view_module_version": "1.5.0",
      "_view_name": "HTMLView",
      "description": "",
      "description_tooltip": null,
      "layout": "IPY_MODEL_90d104f68da8422e9640c4c98165149a",
      "placeholder": "​",
      "style": "IPY_MODEL_1b784fcd4d6340d4bcdd4996c1ee81e6",
      "value": "100%"
     }
    },
    "b6c4452dfe8d4690a06460932fc27dc0": {
     "model_module": "@jupyter-widgets/controls",
     "model_module_version": "1.5.0",
     "model_name": "HTMLModel",
     "state": {
      "_dom_classes": [],
      "_model_module": "@jupyter-widgets/controls",
      "_model_module_version": "1.5.0",
      "_model_name": "HTMLModel",
      "_view_count": null,
      "_view_module": "@jupyter-widgets/controls",
      "_view_module_version": "1.5.0",
      "_view_name": "HTMLView",
      "description": "",
      "description_tooltip": null,
      "layout": "IPY_MODEL_970bf792487e425db927afac8070f128",
      "placeholder": "​",
      "style": "IPY_MODEL_9dac458c5dbd4af7a93136e15edc7e86",
      "value": "100%"
     }
    },
    "b87ba0a893da4f2199f82c363dccba54": {
     "model_module": "@jupyter-widgets/base",
     "model_module_version": "1.2.0",
     "model_name": "LayoutModel",
     "state": {
      "_model_module": "@jupyter-widgets/base",
      "_model_module_version": "1.2.0",
      "_model_name": "LayoutModel",
      "_view_count": null,
      "_view_module": "@jupyter-widgets/base",
      "_view_module_version": "1.2.0",
      "_view_name": "LayoutView",
      "align_content": null,
      "align_items": null,
      "align_self": null,
      "border": null,
      "bottom": null,
      "display": null,
      "flex": null,
      "flex_flow": null,
      "grid_area": null,
      "grid_auto_columns": null,
      "grid_auto_flow": null,
      "grid_auto_rows": null,
      "grid_column": null,
      "grid_gap": null,
      "grid_row": null,
      "grid_template_areas": null,
      "grid_template_columns": null,
      "grid_template_rows": null,
      "height": null,
      "justify_content": null,
      "justify_items": null,
      "left": null,
      "margin": null,
      "max_height": null,
      "max_width": null,
      "min_height": null,
      "min_width": null,
      "object_fit": null,
      "object_position": null,
      "order": null,
      "overflow": null,
      "overflow_x": null,
      "overflow_y": null,
      "padding": null,
      "right": null,
      "top": null,
      "visibility": null,
      "width": null
     }
    },
    "b8d470f0576d405b9bb9e5b8ed780f5e": {
     "model_module": "@jupyter-widgets/base",
     "model_module_version": "1.2.0",
     "model_name": "LayoutModel",
     "state": {
      "_model_module": "@jupyter-widgets/base",
      "_model_module_version": "1.2.0",
      "_model_name": "LayoutModel",
      "_view_count": null,
      "_view_module": "@jupyter-widgets/base",
      "_view_module_version": "1.2.0",
      "_view_name": "LayoutView",
      "align_content": null,
      "align_items": null,
      "align_self": null,
      "border": null,
      "bottom": null,
      "display": null,
      "flex": null,
      "flex_flow": null,
      "grid_area": null,
      "grid_auto_columns": null,
      "grid_auto_flow": null,
      "grid_auto_rows": null,
      "grid_column": null,
      "grid_gap": null,
      "grid_row": null,
      "grid_template_areas": null,
      "grid_template_columns": null,
      "grid_template_rows": null,
      "height": null,
      "justify_content": null,
      "justify_items": null,
      "left": null,
      "margin": null,
      "max_height": null,
      "max_width": null,
      "min_height": null,
      "min_width": null,
      "object_fit": null,
      "object_position": null,
      "order": null,
      "overflow": null,
      "overflow_x": null,
      "overflow_y": null,
      "padding": null,
      "right": null,
      "top": null,
      "visibility": null,
      "width": null
     }
    },
    "ba82d61d2a9d4efb90004091c58f6fd8": {
     "model_module": "@jupyter-widgets/base",
     "model_module_version": "1.2.0",
     "model_name": "LayoutModel",
     "state": {
      "_model_module": "@jupyter-widgets/base",
      "_model_module_version": "1.2.0",
      "_model_name": "LayoutModel",
      "_view_count": null,
      "_view_module": "@jupyter-widgets/base",
      "_view_module_version": "1.2.0",
      "_view_name": "LayoutView",
      "align_content": null,
      "align_items": null,
      "align_self": null,
      "border": null,
      "bottom": null,
      "display": null,
      "flex": null,
      "flex_flow": null,
      "grid_area": null,
      "grid_auto_columns": null,
      "grid_auto_flow": null,
      "grid_auto_rows": null,
      "grid_column": null,
      "grid_gap": null,
      "grid_row": null,
      "grid_template_areas": null,
      "grid_template_columns": null,
      "grid_template_rows": null,
      "height": null,
      "justify_content": null,
      "justify_items": null,
      "left": null,
      "margin": null,
      "max_height": null,
      "max_width": null,
      "min_height": null,
      "min_width": null,
      "object_fit": null,
      "object_position": null,
      "order": null,
      "overflow": null,
      "overflow_x": null,
      "overflow_y": null,
      "padding": null,
      "right": null,
      "top": null,
      "visibility": null,
      "width": null
     }
    },
    "bb75d8e331cc45c3b47a01ba055fff77": {
     "model_module": "@jupyter-widgets/controls",
     "model_module_version": "1.5.0",
     "model_name": "FloatProgressModel",
     "state": {
      "_dom_classes": [],
      "_model_module": "@jupyter-widgets/controls",
      "_model_module_version": "1.5.0",
      "_model_name": "FloatProgressModel",
      "_view_count": null,
      "_view_module": "@jupyter-widgets/controls",
      "_view_module_version": "1.5.0",
      "_view_name": "ProgressView",
      "bar_style": "success",
      "description": "",
      "description_tooltip": null,
      "layout": "IPY_MODEL_775def5085d74ba6957715475815149b",
      "max": 2,
      "min": 0,
      "orientation": "horizontal",
      "style": "IPY_MODEL_c84ad3e2865c44de8bab7b4b34dc0565",
      "value": 2
     }
    },
    "bc8786905100487f8387bc1d7b7ac084": {
     "model_module": "@jupyter-widgets/controls",
     "model_module_version": "1.5.0",
     "model_name": "DescriptionStyleModel",
     "state": {
      "_model_module": "@jupyter-widgets/controls",
      "_model_module_version": "1.5.0",
      "_model_name": "DescriptionStyleModel",
      "_view_count": null,
      "_view_module": "@jupyter-widgets/base",
      "_view_module_version": "1.2.0",
      "_view_name": "StyleView",
      "description_width": ""
     }
    },
    "bd1e44865b0c4826875f1f1a533a29a4": {
     "model_module": "@jupyter-widgets/controls",
     "model_module_version": "1.5.0",
     "model_name": "ProgressStyleModel",
     "state": {
      "_model_module": "@jupyter-widgets/controls",
      "_model_module_version": "1.5.0",
      "_model_name": "ProgressStyleModel",
      "_view_count": null,
      "_view_module": "@jupyter-widgets/base",
      "_view_module_version": "1.2.0",
      "_view_name": "StyleView",
      "bar_color": null,
      "description_width": ""
     }
    },
    "bf6fc07689e5442b9eb63c285f69a120": {
     "model_module": "@jupyter-widgets/controls",
     "model_module_version": "1.5.0",
     "model_name": "DescriptionStyleModel",
     "state": {
      "_model_module": "@jupyter-widgets/controls",
      "_model_module_version": "1.5.0",
      "_model_name": "DescriptionStyleModel",
      "_view_count": null,
      "_view_module": "@jupyter-widgets/base",
      "_view_module_version": "1.2.0",
      "_view_name": "StyleView",
      "description_width": ""
     }
    },
    "c3f96c2752624a7180641a29d4ce2d8c": {
     "model_module": "@jupyter-widgets/base",
     "model_module_version": "1.2.0",
     "model_name": "LayoutModel",
     "state": {
      "_model_module": "@jupyter-widgets/base",
      "_model_module_version": "1.2.0",
      "_model_name": "LayoutModel",
      "_view_count": null,
      "_view_module": "@jupyter-widgets/base",
      "_view_module_version": "1.2.0",
      "_view_name": "LayoutView",
      "align_content": null,
      "align_items": null,
      "align_self": null,
      "border": null,
      "bottom": null,
      "display": null,
      "flex": null,
      "flex_flow": null,
      "grid_area": null,
      "grid_auto_columns": null,
      "grid_auto_flow": null,
      "grid_auto_rows": null,
      "grid_column": null,
      "grid_gap": null,
      "grid_row": null,
      "grid_template_areas": null,
      "grid_template_columns": null,
      "grid_template_rows": null,
      "height": null,
      "justify_content": null,
      "justify_items": null,
      "left": null,
      "margin": null,
      "max_height": null,
      "max_width": null,
      "min_height": null,
      "min_width": null,
      "object_fit": null,
      "object_position": null,
      "order": null,
      "overflow": null,
      "overflow_x": null,
      "overflow_y": null,
      "padding": null,
      "right": null,
      "top": null,
      "visibility": null,
      "width": null
     }
    },
    "c5928044b2f3495bb2c2b747a618be82": {
     "model_module": "@jupyter-widgets/base",
     "model_module_version": "1.2.0",
     "model_name": "LayoutModel",
     "state": {
      "_model_module": "@jupyter-widgets/base",
      "_model_module_version": "1.2.0",
      "_model_name": "LayoutModel",
      "_view_count": null,
      "_view_module": "@jupyter-widgets/base",
      "_view_module_version": "1.2.0",
      "_view_name": "LayoutView",
      "align_content": null,
      "align_items": null,
      "align_self": null,
      "border": null,
      "bottom": null,
      "display": null,
      "flex": null,
      "flex_flow": null,
      "grid_area": null,
      "grid_auto_columns": null,
      "grid_auto_flow": null,
      "grid_auto_rows": null,
      "grid_column": null,
      "grid_gap": null,
      "grid_row": null,
      "grid_template_areas": null,
      "grid_template_columns": null,
      "grid_template_rows": null,
      "height": null,
      "justify_content": null,
      "justify_items": null,
      "left": null,
      "margin": null,
      "max_height": null,
      "max_width": null,
      "min_height": null,
      "min_width": null,
      "object_fit": null,
      "object_position": null,
      "order": null,
      "overflow": null,
      "overflow_x": null,
      "overflow_y": null,
      "padding": null,
      "right": null,
      "top": null,
      "visibility": null,
      "width": null
     }
    },
    "c68abbaa2cc0419eb88efdb1218d2df3": {
     "model_module": "@jupyter-widgets/base",
     "model_module_version": "1.2.0",
     "model_name": "LayoutModel",
     "state": {
      "_model_module": "@jupyter-widgets/base",
      "_model_module_version": "1.2.0",
      "_model_name": "LayoutModel",
      "_view_count": null,
      "_view_module": "@jupyter-widgets/base",
      "_view_module_version": "1.2.0",
      "_view_name": "LayoutView",
      "align_content": null,
      "align_items": null,
      "align_self": null,
      "border": null,
      "bottom": null,
      "display": null,
      "flex": null,
      "flex_flow": null,
      "grid_area": null,
      "grid_auto_columns": null,
      "grid_auto_flow": null,
      "grid_auto_rows": null,
      "grid_column": null,
      "grid_gap": null,
      "grid_row": null,
      "grid_template_areas": null,
      "grid_template_columns": null,
      "grid_template_rows": null,
      "height": null,
      "justify_content": null,
      "justify_items": null,
      "left": null,
      "margin": null,
      "max_height": null,
      "max_width": null,
      "min_height": null,
      "min_width": null,
      "object_fit": null,
      "object_position": null,
      "order": null,
      "overflow": null,
      "overflow_x": null,
      "overflow_y": null,
      "padding": null,
      "right": null,
      "top": null,
      "visibility": null,
      "width": null
     }
    },
    "c84ad3e2865c44de8bab7b4b34dc0565": {
     "model_module": "@jupyter-widgets/controls",
     "model_module_version": "1.5.0",
     "model_name": "ProgressStyleModel",
     "state": {
      "_model_module": "@jupyter-widgets/controls",
      "_model_module_version": "1.5.0",
      "_model_name": "ProgressStyleModel",
      "_view_count": null,
      "_view_module": "@jupyter-widgets/base",
      "_view_module_version": "1.2.0",
      "_view_name": "StyleView",
      "bar_color": null,
      "description_width": ""
     }
    },
    "c9d9cf41b46c4ed9988aab11522cec61": {
     "model_module": "@jupyter-widgets/controls",
     "model_module_version": "1.5.0",
     "model_name": "FloatProgressModel",
     "state": {
      "_dom_classes": [],
      "_model_module": "@jupyter-widgets/controls",
      "_model_module_version": "1.5.0",
      "_model_name": "FloatProgressModel",
      "_view_count": null,
      "_view_module": "@jupyter-widgets/controls",
      "_view_module_version": "1.5.0",
      "_view_name": "ProgressView",
      "bar_style": "success",
      "description": "",
      "description_tooltip": null,
      "layout": "IPY_MODEL_5acb63f82a954c8b8969d6e56b8d8a5b",
      "max": 268943,
      "min": 0,
      "orientation": "horizontal",
      "style": "IPY_MODEL_3a09d485f38a44049bcaf96c8554ac0c",
      "value": 268943
     }
    },
    "ca0350e41abf442986304635902e67c4": {
     "model_module": "@jupyter-widgets/controls",
     "model_module_version": "1.5.0",
     "model_name": "DescriptionStyleModel",
     "state": {
      "_model_module": "@jupyter-widgets/controls",
      "_model_module_version": "1.5.0",
      "_model_name": "DescriptionStyleModel",
      "_view_count": null,
      "_view_module": "@jupyter-widgets/base",
      "_view_module_version": "1.2.0",
      "_view_name": "StyleView",
      "description_width": ""
     }
    },
    "ce27371c75ae4e3d9f0468e83fc695fb": {
     "model_module": "@jupyter-widgets/controls",
     "model_module_version": "1.5.0",
     "model_name": "HTMLModel",
     "state": {
      "_dom_classes": [],
      "_model_module": "@jupyter-widgets/controls",
      "_model_module_version": "1.5.0",
      "_model_name": "HTMLModel",
      "_view_count": null,
      "_view_module": "@jupyter-widgets/controls",
      "_view_module_version": "1.5.0",
      "_view_name": "HTMLView",
      "description": "",
      "description_tooltip": null,
      "layout": "IPY_MODEL_a933c1a4a37b4c679f6c5d869a206ff4",
      "placeholder": "​",
      "style": "IPY_MODEL_150c9c9a26a046adac191365e483c56c",
      "value": "Downloading: 100%"
     }
    },
    "d0768fb3bad7457ba8f12496c869bcbd": {
     "model_module": "@jupyter-widgets/base",
     "model_module_version": "1.2.0",
     "model_name": "LayoutModel",
     "state": {
      "_model_module": "@jupyter-widgets/base",
      "_model_module_version": "1.2.0",
      "_model_name": "LayoutModel",
      "_view_count": null,
      "_view_module": "@jupyter-widgets/base",
      "_view_module_version": "1.2.0",
      "_view_name": "LayoutView",
      "align_content": null,
      "align_items": null,
      "align_self": null,
      "border": null,
      "bottom": null,
      "display": null,
      "flex": null,
      "flex_flow": null,
      "grid_area": null,
      "grid_auto_columns": null,
      "grid_auto_flow": null,
      "grid_auto_rows": null,
      "grid_column": null,
      "grid_gap": null,
      "grid_row": null,
      "grid_template_areas": null,
      "grid_template_columns": null,
      "grid_template_rows": null,
      "height": null,
      "justify_content": null,
      "justify_items": null,
      "left": null,
      "margin": null,
      "max_height": null,
      "max_width": null,
      "min_height": null,
      "min_width": null,
      "object_fit": null,
      "object_position": null,
      "order": null,
      "overflow": null,
      "overflow_x": null,
      "overflow_y": null,
      "padding": null,
      "right": null,
      "top": null,
      "visibility": null,
      "width": null
     }
    },
    "d189bd9b0464403f900b0ab223d0251b": {
     "model_module": "@jupyter-widgets/controls",
     "model_module_version": "1.5.0",
     "model_name": "DescriptionStyleModel",
     "state": {
      "_model_module": "@jupyter-widgets/controls",
      "_model_module_version": "1.5.0",
      "_model_name": "DescriptionStyleModel",
      "_view_count": null,
      "_view_module": "@jupyter-widgets/base",
      "_view_module_version": "1.2.0",
      "_view_name": "StyleView",
      "description_width": ""
     }
    },
    "daf1a62df7464fcc9721f717141b9afb": {
     "model_module": "@jupyter-widgets/controls",
     "model_module_version": "1.5.0",
     "model_name": "HTMLModel",
     "state": {
      "_dom_classes": [],
      "_model_module": "@jupyter-widgets/controls",
      "_model_module_version": "1.5.0",
      "_model_name": "HTMLModel",
      "_view_count": null,
      "_view_module": "@jupyter-widgets/controls",
      "_view_module_version": "1.5.0",
      "_view_name": "HTMLView",
      "description": "",
      "description_tooltip": null,
      "layout": "IPY_MODEL_c5928044b2f3495bb2c2b747a618be82",
      "placeholder": "​",
      "style": "IPY_MODEL_4db9cda1850d4df2a92f74f1c21e52de",
      "value": "Downloading: 100%"
     }
    },
    "e56f5e4db0c045cf892e3c59244780d1": {
     "model_module": "@jupyter-widgets/base",
     "model_module_version": "1.2.0",
     "model_name": "LayoutModel",
     "state": {
      "_model_module": "@jupyter-widgets/base",
      "_model_module_version": "1.2.0",
      "_model_name": "LayoutModel",
      "_view_count": null,
      "_view_module": "@jupyter-widgets/base",
      "_view_module_version": "1.2.0",
      "_view_name": "LayoutView",
      "align_content": null,
      "align_items": null,
      "align_self": null,
      "border": null,
      "bottom": null,
      "display": null,
      "flex": null,
      "flex_flow": null,
      "grid_area": null,
      "grid_auto_columns": null,
      "grid_auto_flow": null,
      "grid_auto_rows": null,
      "grid_column": null,
      "grid_gap": null,
      "grid_row": null,
      "grid_template_areas": null,
      "grid_template_columns": null,
      "grid_template_rows": null,
      "height": null,
      "justify_content": null,
      "justify_items": null,
      "left": null,
      "margin": null,
      "max_height": null,
      "max_width": null,
      "min_height": null,
      "min_width": null,
      "object_fit": null,
      "object_position": null,
      "order": null,
      "overflow": null,
      "overflow_x": null,
      "overflow_y": null,
      "padding": null,
      "right": null,
      "top": null,
      "visibility": null,
      "width": null
     }
    },
    "e7e151c939d04089ab86d364a48360de": {
     "model_module": "@jupyter-widgets/base",
     "model_module_version": "1.2.0",
     "model_name": "LayoutModel",
     "state": {
      "_model_module": "@jupyter-widgets/base",
      "_model_module_version": "1.2.0",
      "_model_name": "LayoutModel",
      "_view_count": null,
      "_view_module": "@jupyter-widgets/base",
      "_view_module_version": "1.2.0",
      "_view_name": "LayoutView",
      "align_content": null,
      "align_items": null,
      "align_self": null,
      "border": null,
      "bottom": null,
      "display": null,
      "flex": null,
      "flex_flow": null,
      "grid_area": null,
      "grid_auto_columns": null,
      "grid_auto_flow": null,
      "grid_auto_rows": null,
      "grid_column": null,
      "grid_gap": null,
      "grid_row": null,
      "grid_template_areas": null,
      "grid_template_columns": null,
      "grid_template_rows": null,
      "height": null,
      "justify_content": null,
      "justify_items": null,
      "left": null,
      "margin": null,
      "max_height": null,
      "max_width": null,
      "min_height": null,
      "min_width": null,
      "object_fit": null,
      "object_position": null,
      "order": null,
      "overflow": null,
      "overflow_x": null,
      "overflow_y": null,
      "padding": null,
      "right": null,
      "top": null,
      "visibility": null,
      "width": null
     }
    },
    "ebb8d74ecdd84bdf9ee38ce0103f18fa": {
     "model_module": "@jupyter-widgets/base",
     "model_module_version": "1.2.0",
     "model_name": "LayoutModel",
     "state": {
      "_model_module": "@jupyter-widgets/base",
      "_model_module_version": "1.2.0",
      "_model_name": "LayoutModel",
      "_view_count": null,
      "_view_module": "@jupyter-widgets/base",
      "_view_module_version": "1.2.0",
      "_view_name": "LayoutView",
      "align_content": null,
      "align_items": null,
      "align_self": null,
      "border": null,
      "bottom": null,
      "display": null,
      "flex": null,
      "flex_flow": null,
      "grid_area": null,
      "grid_auto_columns": null,
      "grid_auto_flow": null,
      "grid_auto_rows": null,
      "grid_column": null,
      "grid_gap": null,
      "grid_row": null,
      "grid_template_areas": null,
      "grid_template_columns": null,
      "grid_template_rows": null,
      "height": null,
      "justify_content": null,
      "justify_items": null,
      "left": null,
      "margin": null,
      "max_height": null,
      "max_width": null,
      "min_height": null,
      "min_width": null,
      "object_fit": null,
      "object_position": null,
      "order": null,
      "overflow": null,
      "overflow_x": null,
      "overflow_y": null,
      "padding": null,
      "right": null,
      "top": null,
      "visibility": null,
      "width": null
     }
    },
    "ec032b2ede3b4d6db5269d9495a769ef": {
     "model_module": "@jupyter-widgets/controls",
     "model_module_version": "1.5.0",
     "model_name": "ProgressStyleModel",
     "state": {
      "_model_module": "@jupyter-widgets/controls",
      "_model_module_version": "1.5.0",
      "_model_name": "ProgressStyleModel",
      "_view_count": null,
      "_view_module": "@jupyter-widgets/base",
      "_view_module_version": "1.2.0",
      "_view_name": "StyleView",
      "bar_color": null,
      "description_width": ""
     }
    },
    "ec88a0d6b1df4f6d8a5fdb37e7cb4247": {
     "model_module": "@jupyter-widgets/controls",
     "model_module_version": "1.5.0",
     "model_name": "HBoxModel",
     "state": {
      "_dom_classes": [],
      "_model_module": "@jupyter-widgets/controls",
      "_model_module_version": "1.5.0",
      "_model_name": "HBoxModel",
      "_view_count": null,
      "_view_module": "@jupyter-widgets/controls",
      "_view_module_version": "1.5.0",
      "_view_name": "HBoxView",
      "box_style": "",
      "children": [
       "IPY_MODEL_a4af9726992e4062b376d16a7ee82d06",
       "IPY_MODEL_18db1e6551654388ac7ac91a15fa1aa7",
       "IPY_MODEL_944ff5d5fbf84186baedeffd29a76d33"
      ],
      "layout": "IPY_MODEL_4891bd604be547628e18d230e5c34771"
     }
    },
    "ee2030b716444cfbba435f5db8e23484": {
     "model_module": "@jupyter-widgets/base",
     "model_module_version": "1.2.0",
     "model_name": "LayoutModel",
     "state": {
      "_model_module": "@jupyter-widgets/base",
      "_model_module_version": "1.2.0",
      "_model_name": "LayoutModel",
      "_view_count": null,
      "_view_module": "@jupyter-widgets/base",
      "_view_module_version": "1.2.0",
      "_view_name": "LayoutView",
      "align_content": null,
      "align_items": null,
      "align_self": null,
      "border": null,
      "bottom": null,
      "display": null,
      "flex": null,
      "flex_flow": null,
      "grid_area": null,
      "grid_auto_columns": null,
      "grid_auto_flow": null,
      "grid_auto_rows": null,
      "grid_column": null,
      "grid_gap": null,
      "grid_row": null,
      "grid_template_areas": null,
      "grid_template_columns": null,
      "grid_template_rows": null,
      "height": null,
      "justify_content": null,
      "justify_items": null,
      "left": null,
      "margin": null,
      "max_height": null,
      "max_width": null,
      "min_height": null,
      "min_width": null,
      "object_fit": null,
      "object_position": null,
      "order": null,
      "overflow": null,
      "overflow_x": null,
      "overflow_y": null,
      "padding": null,
      "right": null,
      "top": null,
      "visibility": null,
      "width": null
     }
    },
    "ef69d502d140433db3deb1604dabd49a": {
     "model_module": "@jupyter-widgets/controls",
     "model_module_version": "1.5.0",
     "model_name": "DescriptionStyleModel",
     "state": {
      "_model_module": "@jupyter-widgets/controls",
      "_model_module_version": "1.5.0",
      "_model_name": "DescriptionStyleModel",
      "_view_count": null,
      "_view_module": "@jupyter-widgets/base",
      "_view_module_version": "1.2.0",
      "_view_name": "StyleView",
      "description_width": ""
     }
    },
    "f03775335a694a78b630f1e700aa4d3e": {
     "model_module": "@jupyter-widgets/controls",
     "model_module_version": "1.5.0",
     "model_name": "DescriptionStyleModel",
     "state": {
      "_model_module": "@jupyter-widgets/controls",
      "_model_module_version": "1.5.0",
      "_model_name": "DescriptionStyleModel",
      "_view_count": null,
      "_view_module": "@jupyter-widgets/base",
      "_view_module_version": "1.2.0",
      "_view_name": "StyleView",
      "description_width": ""
     }
    },
    "f053b87067b84ef39ddeb489666ad38e": {
     "model_module": "@jupyter-widgets/controls",
     "model_module_version": "1.5.0",
     "model_name": "HTMLModel",
     "state": {
      "_dom_classes": [],
      "_model_module": "@jupyter-widgets/controls",
      "_model_module_version": "1.5.0",
      "_model_name": "HTMLModel",
      "_view_count": null,
      "_view_module": "@jupyter-widgets/controls",
      "_view_module_version": "1.5.0",
      "_view_name": "HTMLView",
      "description": "",
      "description_tooltip": null,
      "layout": "IPY_MODEL_a6838fd0ee444732a94b4bcdc2dae52a",
      "placeholder": "​",
      "style": "IPY_MODEL_d189bd9b0464403f900b0ab223d0251b",
      "value": "100%"
     }
    },
    "f1c1f4d0f0714b1c84ffdb8155f82328": {
     "model_module": "@jupyter-widgets/controls",
     "model_module_version": "1.5.0",
     "model_name": "HBoxModel",
     "state": {
      "_dom_classes": [],
      "_model_module": "@jupyter-widgets/controls",
      "_model_module_version": "1.5.0",
      "_model_name": "HBoxModel",
      "_view_count": null,
      "_view_module": "@jupyter-widgets/controls",
      "_view_module_version": "1.5.0",
      "_view_name": "HBoxView",
      "box_style": "",
      "children": [
       "IPY_MODEL_af510048212945c580ef361cb0eff110",
       "IPY_MODEL_36704fa3b8b740e8a0f3612836d1424f",
       "IPY_MODEL_9c4ef5f282c84ae8bdc0a9eb50556437"
      ],
      "layout": "IPY_MODEL_1793a4d56acf4b41adfc61d4e9511358"
     }
    },
    "f221403c50ef47d4951b54169b74e957": {
     "model_module": "@jupyter-widgets/base",
     "model_module_version": "1.2.0",
     "model_name": "LayoutModel",
     "state": {
      "_model_module": "@jupyter-widgets/base",
      "_model_module_version": "1.2.0",
      "_model_name": "LayoutModel",
      "_view_count": null,
      "_view_module": "@jupyter-widgets/base",
      "_view_module_version": "1.2.0",
      "_view_name": "LayoutView",
      "align_content": null,
      "align_items": null,
      "align_self": null,
      "border": null,
      "bottom": null,
      "display": null,
      "flex": null,
      "flex_flow": null,
      "grid_area": null,
      "grid_auto_columns": null,
      "grid_auto_flow": null,
      "grid_auto_rows": null,
      "grid_column": null,
      "grid_gap": null,
      "grid_row": null,
      "grid_template_areas": null,
      "grid_template_columns": null,
      "grid_template_rows": null,
      "height": null,
      "justify_content": null,
      "justify_items": null,
      "left": null,
      "margin": null,
      "max_height": null,
      "max_width": null,
      "min_height": null,
      "min_width": null,
      "object_fit": null,
      "object_position": null,
      "order": null,
      "overflow": null,
      "overflow_x": null,
      "overflow_y": null,
      "padding": null,
      "right": null,
      "top": null,
      "visibility": null,
      "width": null
     }
    },
    "f3bdf0bac92e46409de706128ac62533": {
     "model_module": "@jupyter-widgets/controls",
     "model_module_version": "1.5.0",
     "model_name": "ProgressStyleModel",
     "state": {
      "_model_module": "@jupyter-widgets/controls",
      "_model_module_version": "1.5.0",
      "_model_name": "ProgressStyleModel",
      "_view_count": null,
      "_view_module": "@jupyter-widgets/base",
      "_view_module_version": "1.2.0",
      "_view_name": "StyleView",
      "bar_color": null,
      "description_width": ""
     }
    }
   }
  }
 },
 "nbformat": 4,
 "nbformat_minor": 1
}
